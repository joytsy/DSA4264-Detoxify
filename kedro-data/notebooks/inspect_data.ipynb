{
 "cells": [
  {
   "cell_type": "code",
   "execution_count": 1,
   "metadata": {},
   "outputs": [],
   "source": [
    "import pandas as pd"
   ]
  },
  {
   "cell_type": "code",
   "execution_count": 2,
   "metadata": {},
   "outputs": [],
   "source": [
    "def load_csv(filepath: str) -> pd.DataFrame:\n",
    "    \"\"\"\n",
    "    Loads the given CSV file into a DataFrame.\n",
    "\n",
    "    Args:\n",
    "        filepath (str): Path to the CSV file.\n",
    "\n",
    "    Returns:\n",
    "        pd.DataFrame: Loaded DataFrame.\n",
    "    \"\"\"\n",
    "    try:\n",
    "        data = pd.read_csv(filepath, engine=\"python\")\n",
    "        print(f\"Data successfully loaded from {filepath}\")\n",
    "        return data\n",
    "    except Exception as e:\n",
    "        print(f\"Error while reading the CSV file: {e}\")\n",
    "        return None"
   ]
  },
  {
   "cell_type": "code",
   "execution_count": 3,
   "metadata": {},
   "outputs": [
    {
     "name": "stdout",
     "output_type": "stream",
     "text": [
      "Data successfully loaded from C:/Users/richm/OneDrive/Desktop/DSA4264/DSA4264-Detoxify/kedro-data/data/01_raw/Reddit-Threads_2020-2021.csv\n"
     ]
    }
   ],
   "source": [
    "filepath = \"C:/Users/richm/OneDrive/Desktop/DSA4264/DSA4264-Detoxify/kedro-data/data/01_raw/Reddit-Threads_2020-2021.csv\"  # Replace with your CSV file path\n",
    "data = load_csv(filepath)"
   ]
  },
  {
   "cell_type": "code",
   "execution_count": 4,
   "metadata": {},
   "outputs": [
    {
     "name": "stdout",
     "output_type": "stream",
     "text": [
      "Data successfully loaded from C:/Users/richm/OneDrive/Desktop/DSA4264/DSA4264-Detoxify/kedro-data/data/02_intermediate/removed_deleted_comments_data.csv/2024-10-03T03.55.53.397Z/removed_deleted_comments_data.csv\n"
     ]
    }
   ],
   "source": [
    "filepath1 = \"C:/Users/richm/OneDrive/Desktop/DSA4264/DSA4264-Detoxify/kedro-data/data/02_intermediate/removed_deleted_comments_data.csv/2024-10-03T03.55.53.397Z/removed_deleted_comments_data.csv\"  # Replace with your CSV file path\n",
    "data_removed = load_csv(filepath1)"
   ]
  },
  {
   "cell_type": "code",
   "execution_count": 5,
   "metadata": {},
   "outputs": [
    {
     "name": "stdout",
     "output_type": "stream",
     "text": [
      "Data successfully loaded from C:/Users/richm/OneDrive/Desktop/DSA4264/DSA4264-Detoxify/kedro-data/data/02_intermediate/removed_nan_comments_data.csv/2024-10-03T03.55.53.397Z/removed_nan_comments_data.csv\n"
     ]
    }
   ],
   "source": [
    "filepath2 = \"C:/Users/richm/OneDrive/Desktop/DSA4264/DSA4264-Detoxify/kedro-data/data/02_intermediate/removed_nan_comments_data.csv/2024-10-03T03.55.53.397Z/removed_nan_comments_data.csv\"  # Replace with your CSV file path\n",
    "data_nan = load_csv(filepath2)"
   ]
  },
  {
   "cell_type": "code",
   "execution_count": 6,
   "metadata": {},
   "outputs": [],
   "source": [
    "def inspect_csv(data: pd.DataFrame):\n",
    "    \"\"\"\n",
    "    Inspects the given DataFrame by displaying basic information.\n",
    "\n",
    "    Args:\n",
    "        data (pd.DataFrame): DataFrame to inspect.\n",
    "\n",
    "    Returns:\n",
    "        None\n",
    "    \"\"\"\n",
    "    if data is None:\n",
    "        print(\"No data to inspect.\")\n",
    "        return\n",
    "\n",
    "    # Display basic information about the data\n",
    "    print(\"\\n--- Basic Information ---\")\n",
    "    print(data.info())\n",
    "\n",
    "    # Display the first 5 rows of the CSV file\n",
    "    print(\"\\n--- First 5 Rows ---\")\n",
    "    print(data.head())\n",
    "\n",
    "    # Display the column names\n",
    "    print(\"\\n--- Column Names ---\")\n",
    "    print(data.columns)\n",
    "\n",
    "    # Check for missing values\n",
    "    print(\"\\n--- Missing Values ---\")\n",
    "    print(data.isnull().sum())\n",
    "\n",
    "    # Check for duplicates\n",
    "    print(\"\\n--- Duplicates ---\")\n",
    "    duplicates = data.duplicated().sum()\n",
    "    print(f\"Number of duplicate rows: {duplicates}\")\n",
    "\n",
    "    # Display basic statistics for numerical columns\n",
    "    print(\"\\n--- Basic Statistics ---\")\n",
    "    print(data.describe())"
   ]
  },
  {
   "cell_type": "code",
   "execution_count": 7,
   "metadata": {},
   "outputs": [
    {
     "name": "stdout",
     "output_type": "stream",
     "text": [
      "\n",
      "--- Basic Information ---\n",
      "<class 'pandas.core.frame.DataFrame'>\n",
      "RangeIndex: 2949420 entries, 0 to 2949419\n",
      "Data columns (total 9 columns):\n",
      " #   Column        Dtype \n",
      "---  ------        ----- \n",
      " 0   text          object\n",
      " 1   timestamp     object\n",
      " 2   username      object\n",
      " 3   link          object\n",
      " 4   link_id       object\n",
      " 5   parent_id     object\n",
      " 6   id            object\n",
      " 7   subreddit_id  object\n",
      " 8   moderation    object\n",
      "dtypes: object(9)\n",
      "memory usage: 202.5+ MB\n",
      "None\n",
      "\n",
      "--- First 5 Rows ---\n",
      "                                                text            timestamp  \\\n",
      "0                                      STI chiong ah  2020-05-14 12:35:30   \n",
      "1  Look on the bright side - you'll never make th...  2020-02-09 17:23:24   \n",
      "2  For posts flaired as such (by OP), we will be ...  2021-04-06 18:08:59   \n",
      "3  sounds q fucked up if no concern for each othe...  2021-01-22 14:22:42   \n",
      "4  Chinese media reported a while ago: https://ww...  2020-03-26 04:51:22   \n",
      "\n",
      "         username                                               link  \\\n",
      "0       iamabear1  /r/singapore/comments/gjjem5/covid19_8663_busi...   \n",
      "1          lkc159  /r/singapore/comments/f15aks/did_i_just_get_sc...   \n",
      "2   AutoModerator  /r/singapore/comments/maajuo/a_compilation_of_...   \n",
      "3       [deleted]  /r/singapore/comments/l28wfr/rsingapore_random...   \n",
      "4  localinfluenza  /r/singapore/comments/fp5hgu/pcf_cluster_anoth...   \n",
      "\n",
      "     link_id   parent_id       id subreddit_id  \\\n",
      "0  t3_gjjem5   t3_gjjem5  fqljinp     t5_2qh8c   \n",
      "1  t3_f15aks   t3_f15aks  fh3hl0g     t5_2qh8c   \n",
      "2  t3_maajuo   t3_maajuo  gtlh5uf     t5_2qh8c   \n",
      "3  t3_l28wfr  t1_gk6fcys  gk6gc0y     t5_2qh8c   \n",
      "4  t3_fp5hgu   t3_fp5hgu  flj42mf     t5_2qh8c   \n",
      "\n",
      "                                          moderation  \n",
      "0  {'removal_reason': None, 'collapsed': False, '...  \n",
      "1  {'removal_reason': None, 'collapsed': False, '...  \n",
      "2  {'collapsed_reason': None, 'author_is_blocked'...  \n",
      "3  {'removal_reason': None, 'collapsed': False, '...  \n",
      "4  {'removal_reason': None, 'collapsed': False, '...  \n",
      "\n",
      "--- Column Names ---\n",
      "Index(['text', 'timestamp', 'username', 'link', 'link_id', 'parent_id', 'id',\n",
      "       'subreddit_id', 'moderation'],\n",
      "      dtype='object')\n",
      "\n",
      "--- Missing Values ---\n",
      "text            31\n",
      "timestamp        1\n",
      "username         1\n",
      "link             1\n",
      "link_id          1\n",
      "parent_id        1\n",
      "id               1\n",
      "subreddit_id     1\n",
      "moderation       1\n",
      "dtype: int64\n",
      "\n",
      "--- Duplicates ---\n",
      "Number of duplicate rows: 0\n",
      "\n",
      "--- Basic Statistics ---\n",
      "             text            timestamp   username  \\\n",
      "count     2949389              2949419    2949419   \n",
      "unique    2573176              2851554      65748   \n",
      "top     [deleted]  2020-07-10 19:36:40  [deleted]   \n",
      "freq       226645                    7     373702   \n",
      "\n",
      "                                                     link    link_id  \\\n",
      "count                                             2949419    2949419   \n",
      "unique                                            2949419      65368   \n",
      "top     /r/singapore/comments/hadwp0/rsingapore_random...  t3_homxdq   \n",
      "freq                                                    1      10905   \n",
      "\n",
      "        parent_id       id subreddit_id  \\\n",
      "count     2949419  2949419      2949419   \n",
      "unique    1384622  2949419            2   \n",
      "top     t3_homxdq  fv3xj7m     t5_2qh8c   \n",
      "freq         5067        1      2867222   \n",
      "\n",
      "                                               moderation  \n",
      "count                                             2949419  \n",
      "unique                                                 23  \n",
      "top     {'removal_reason': None, 'collapsed': False, '...  \n",
      "freq                                              1333328  \n"
     ]
    }
   ],
   "source": [
    "inspect_csv(data)"
   ]
  },
  {
   "cell_type": "code",
   "execution_count": 8,
   "metadata": {},
   "outputs": [
    {
     "name": "stdout",
     "output_type": "stream",
     "text": [
      "\n",
      "--- Basic Information ---\n",
      "<class 'pandas.core.frame.DataFrame'>\n",
      "RangeIndex: 2663811 entries, 0 to 2663810\n",
      "Data columns (total 9 columns):\n",
      " #   Column        Dtype \n",
      "---  ------        ----- \n",
      " 0   text          object\n",
      " 1   timestamp     object\n",
      " 2   username      object\n",
      " 3   link          object\n",
      " 4   link_id       object\n",
      " 5   parent_id     object\n",
      " 6   id            object\n",
      " 7   subreddit_id  object\n",
      " 8   moderation    object\n",
      "dtypes: object(9)\n",
      "memory usage: 182.9+ MB\n",
      "None\n",
      "\n",
      "--- First 5 Rows ---\n",
      "                                                text            timestamp  \\\n",
      "0                                      STI chiong ah  2020-05-14 12:35:30   \n",
      "1  Look on the bright side - you'll never make th...  2020-02-09 17:23:24   \n",
      "2  For posts flaired as such (by OP), we will be ...  2021-04-06 18:08:59   \n",
      "3  sounds q fucked up if no concern for each othe...  2021-01-22 14:22:42   \n",
      "4  Chinese media reported a while ago: https://ww...  2020-03-26 04:51:22   \n",
      "\n",
      "         username                                               link  \\\n",
      "0       iamabear1  /r/singapore/comments/gjjem5/covid19_8663_busi...   \n",
      "1          lkc159  /r/singapore/comments/f15aks/did_i_just_get_sc...   \n",
      "2   AutoModerator  /r/singapore/comments/maajuo/a_compilation_of_...   \n",
      "3       [deleted]  /r/singapore/comments/l28wfr/rsingapore_random...   \n",
      "4  localinfluenza  /r/singapore/comments/fp5hgu/pcf_cluster_anoth...   \n",
      "\n",
      "     link_id   parent_id       id subreddit_id  \\\n",
      "0  t3_gjjem5   t3_gjjem5  fqljinp     t5_2qh8c   \n",
      "1  t3_f15aks   t3_f15aks  fh3hl0g     t5_2qh8c   \n",
      "2  t3_maajuo   t3_maajuo  gtlh5uf     t5_2qh8c   \n",
      "3  t3_l28wfr  t1_gk6fcys  gk6gc0y     t5_2qh8c   \n",
      "4  t3_fp5hgu   t3_fp5hgu  flj42mf     t5_2qh8c   \n",
      "\n",
      "                                          moderation  \n",
      "0  {'removal_reason': None, 'collapsed': False, '...  \n",
      "1  {'removal_reason': None, 'collapsed': False, '...  \n",
      "2  {'collapsed_reason': None, 'author_is_blocked'...  \n",
      "3  {'removal_reason': None, 'collapsed': False, '...  \n",
      "4  {'removal_reason': None, 'collapsed': False, '...  \n",
      "\n",
      "--- Column Names ---\n",
      "Index(['text', 'timestamp', 'username', 'link', 'link_id', 'parent_id', 'id',\n",
      "       'subreddit_id', 'moderation'],\n",
      "      dtype='object')\n",
      "\n",
      "--- Missing Values ---\n",
      "text            31\n",
      "timestamp        1\n",
      "username         1\n",
      "link             1\n",
      "link_id          1\n",
      "parent_id        1\n",
      "id               1\n",
      "subreddit_id     1\n",
      "moderation       1\n",
      "dtype: int64\n",
      "\n",
      "--- Duplicates ---\n",
      "Number of duplicate rows: 0\n",
      "\n",
      "--- Basic Statistics ---\n",
      "             text            timestamp   username  \\\n",
      "count     2663780              2663810    2663810   \n",
      "unique    2573174              2584491      65747   \n",
      "top     !addflair  2020-07-10 19:36:40  [deleted]   \n",
      "freq         2401                    7      88117   \n",
      "\n",
      "                                                     link    link_id  \\\n",
      "count                                             2663810    2663810   \n",
      "unique                                            2663810      64100   \n",
      "top     /r/singapore/comments/hadwp0/rsingapore_random...  t3_homxdq   \n",
      "freq                                                    1       9806   \n",
      "\n",
      "        parent_id       id subreddit_id  \\\n",
      "count     2663810  2663810      2663810   \n",
      "unique    1299056  2663810            2   \n",
      "top     t3_homxdq  fv3xj7m     t5_2qh8c   \n",
      "freq         4566        1      2590200   \n",
      "\n",
      "                                               moderation  \n",
      "count                                             2663810  \n",
      "unique                                                 19  \n",
      "top     {'removal_reason': None, 'collapsed': False, '...  \n",
      "freq                                              1333069  \n"
     ]
    }
   ],
   "source": [
    "inspect_csv(data_removed)"
   ]
  },
  {
   "cell_type": "code",
   "execution_count": 9,
   "metadata": {},
   "outputs": [
    {
     "name": "stdout",
     "output_type": "stream",
     "text": [
      "\n",
      "--- Basic Information ---\n",
      "<class 'pandas.core.frame.DataFrame'>\n",
      "RangeIndex: 2663779 entries, 0 to 2663778\n",
      "Data columns (total 9 columns):\n",
      " #   Column        Dtype \n",
      "---  ------        ----- \n",
      " 0   text          object\n",
      " 1   timestamp     object\n",
      " 2   username      object\n",
      " 3   link          object\n",
      " 4   link_id       object\n",
      " 5   parent_id     object\n",
      " 6   id            object\n",
      " 7   subreddit_id  object\n",
      " 8   moderation    object\n",
      "dtypes: object(9)\n",
      "memory usage: 182.9+ MB\n",
      "None\n",
      "\n",
      "--- First 5 Rows ---\n",
      "                                                text            timestamp  \\\n",
      "0                                      STI chiong ah  2020-05-14 12:35:30   \n",
      "1  Look on the bright side - you'll never make th...  2020-02-09 17:23:24   \n",
      "2  For posts flaired as such (by OP), we will be ...  2021-04-06 18:08:59   \n",
      "3  sounds q fucked up if no concern for each othe...  2021-01-22 14:22:42   \n",
      "4  Chinese media reported a while ago: https://ww...  2020-03-26 04:51:22   \n",
      "\n",
      "         username                                               link  \\\n",
      "0       iamabear1  /r/singapore/comments/gjjem5/covid19_8663_busi...   \n",
      "1          lkc159  /r/singapore/comments/f15aks/did_i_just_get_sc...   \n",
      "2   AutoModerator  /r/singapore/comments/maajuo/a_compilation_of_...   \n",
      "3       [deleted]  /r/singapore/comments/l28wfr/rsingapore_random...   \n",
      "4  localinfluenza  /r/singapore/comments/fp5hgu/pcf_cluster_anoth...   \n",
      "\n",
      "     link_id   parent_id       id subreddit_id  \\\n",
      "0  t3_gjjem5   t3_gjjem5  fqljinp     t5_2qh8c   \n",
      "1  t3_f15aks   t3_f15aks  fh3hl0g     t5_2qh8c   \n",
      "2  t3_maajuo   t3_maajuo  gtlh5uf     t5_2qh8c   \n",
      "3  t3_l28wfr  t1_gk6fcys  gk6gc0y     t5_2qh8c   \n",
      "4  t3_fp5hgu   t3_fp5hgu  flj42mf     t5_2qh8c   \n",
      "\n",
      "                                          moderation  \n",
      "0  {'removal_reason': None, 'collapsed': False, '...  \n",
      "1  {'removal_reason': None, 'collapsed': False, '...  \n",
      "2  {'collapsed_reason': None, 'author_is_blocked'...  \n",
      "3  {'removal_reason': None, 'collapsed': False, '...  \n",
      "4  {'removal_reason': None, 'collapsed': False, '...  \n",
      "\n",
      "--- Column Names ---\n",
      "Index(['text', 'timestamp', 'username', 'link', 'link_id', 'parent_id', 'id',\n",
      "       'subreddit_id', 'moderation'],\n",
      "      dtype='object')\n",
      "\n",
      "--- Missing Values ---\n",
      "text            0\n",
      "timestamp       0\n",
      "username        0\n",
      "link            0\n",
      "link_id         0\n",
      "parent_id       0\n",
      "id              0\n",
      "subreddit_id    0\n",
      "moderation      0\n",
      "dtype: int64\n",
      "\n",
      "--- Duplicates ---\n",
      "Number of duplicate rows: 0\n",
      "\n",
      "--- Basic Statistics ---\n",
      "             text            timestamp   username  \\\n",
      "count     2663779              2663779    2663779   \n",
      "unique    2573173              2584461      65747   \n",
      "top     !addflair  2020-07-10 19:36:40  [deleted]   \n",
      "freq         2401                    7      88116   \n",
      "\n",
      "                                                     link    link_id  \\\n",
      "count                                             2663779    2663779   \n",
      "unique                                            2663779      64099   \n",
      "top     /r/singapore/comments/hadwp0/rsingapore_random...  t3_homxdq   \n",
      "freq                                                    1       9806   \n",
      "\n",
      "        parent_id       id subreddit_id  \\\n",
      "count     2663779  2663779      2663779   \n",
      "unique    1299051  2663779            2   \n",
      "top     t3_homxdq  fv3xj7m     t5_2qh8c   \n",
      "freq         4566        1      2590169   \n",
      "\n",
      "                                               moderation  \n",
      "count                                             2663779  \n",
      "unique                                                 19  \n",
      "top     {'removal_reason': None, 'collapsed': False, '...  \n",
      "freq                                              1333052  \n"
     ]
    }
   ],
   "source": [
    "inspect_csv(data_nan)"
   ]
  },
  {
   "cell_type": "code",
   "execution_count": 10,
   "metadata": {},
   "outputs": [
    {
     "data": {
      "text/plain": [
       "text                                                    [removed]\n",
       "timestamp                                     2020-11-11 02:00:20\n",
       "username                                                [deleted]\n",
       "link              /r/singapore/comments/jrlfml/honeycomb/gbw6lao/\n",
       "link_id                                                 t3_jrlfml\n",
       "parent_id                                               t3_jrlfml\n",
       "id                                                        gbw6lao\n",
       "subreddit_id                                             t5_2qh8c\n",
       "moderation      {'removal_reason': None, 'collapsed': True, 'c...\n",
       "Name: 10, dtype: object"
      ]
     },
     "execution_count": 10,
     "metadata": {},
     "output_type": "execute_result"
    }
   ],
   "source": [
    "data.loc[10]"
   ]
  },
  {
   "cell_type": "code",
   "execution_count": 11,
   "metadata": {},
   "outputs": [
    {
     "data": {
      "text/plain": [
       "text            Wow that's really great of him! And brave of y...\n",
       "timestamp                                     2020-08-05 08:58:27\n",
       "username                                               Nephthys88\n",
       "link            /r/singapore/comments/i3y4l1/youngsters_who_ha...\n",
       "link_id                                                 t3_i3y4l1\n",
       "parent_id                                              t1_g0f7sax\n",
       "id                                                        g0fc7zc\n",
       "subreddit_id                                             t5_2qh8c\n",
       "moderation      {'removal_reason': None, 'collapsed': False, '...\n",
       "Name: 10, dtype: object"
      ]
     },
     "execution_count": 11,
     "metadata": {},
     "output_type": "execute_result"
    }
   ],
   "source": [
    "data_removed.loc[10]"
   ]
  }
 ],
 "metadata": {
  "kernelspec": {
   "display_name": "penv",
   "language": "python",
   "name": "python3"
  },
  "language_info": {
   "codemirror_mode": {
    "name": "ipython",
    "version": 3
   },
   "file_extension": ".py",
   "mimetype": "text/x-python",
   "name": "python",
   "nbconvert_exporter": "python",
   "pygments_lexer": "ipython3",
   "version": "3.12.7"
  }
 },
 "nbformat": 4,
 "nbformat_minor": 2
}
