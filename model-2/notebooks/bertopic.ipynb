{
 "cells": [
  {
   "cell_type": "code",
   "execution_count": null,
   "metadata": {},
   "outputs": [],
   "source": [
    "import os\n",
    "import re\n",
    "\n",
    "import certifi\n",
    "import nltk\n",
    "import pandas as pd\n",
    "from bertopic import BERTopic\n",
    "from bertopic.representation import KeyBERTInspired\n",
    "from nltk.corpus import stopwords\n",
    "from scipy.cluster import hierarchy as sch\n",
    "from sentence_transformers import SentenceTransformer\n",
    "from sklearn.feature_extraction.text import CountVectorizer"
   ]
  },
  {
   "cell_type": "code",
   "execution_count": 1,
   "metadata": {},
   "outputs": [
    {
     "name": "stdout",
     "output_type": "stream",
     "text": [
      "REQUESTS_CA_BUNDLE: /Users/sarahSTACS/DSA4264-Detoxify/penv/lib/python3.12/site-packages/certifi/cacert.pem\n",
      "SSL_CERT_FILE: /Users/sarahSTACS/DSA4264-Detoxify/penv/lib/python3.12/site-packages/certifi/cacert.pem\n"
     ]
    }
   ],
   "source": [
    "# Set the environment variables within your Python script\n",
    "os.environ[\"REQUESTS_CA_BUNDLE\"] = certifi.where()\n",
    "os.environ[\"SSL_CERT_FILE\"] = certifi.where()\n",
    "\n",
    "print(\"REQUESTS_CA_BUNDLE:\", os.environ.get(\"REQUESTS_CA_BUNDLE\"))\n",
    "print(\"SSL_CERT_FILE:\", os.environ.get(\"SSL_CERT_FILE\"))\n",
    "\n",
    "## was gna kill myself over this ERROR BRUH"
   ]
  },
  {
   "cell_type": "markdown",
   "metadata": {},
   "source": [
    "Separate data by years"
   ]
  },
  {
   "cell_type": "code",
   "execution_count": 91,
   "metadata": {},
   "outputs": [
    {
     "name": "stdout",
     "output_type": "stream",
     "text": [
      "Index(['text', 'timestamp', 'username', 'link', 'link_id', 'parent_id', 'id',\n",
      "       'subreddit_id', 'moderation', 'year', 'word_count', 'Sensitive Group',\n",
      "       'Classification'],\n",
      "      dtype='object')\n"
     ]
    }
   ],
   "source": [
    "data_path2 = \"/Users/sarahSTACS/Downloads/final_data.csv\"\n",
    "df = pd.read_csv(data_path2)\n",
    "print(df.columns)\n",
    "# filtered_df = df[[\"text\", \"gold_label\"]][df[\"year\"] == 2023]\n",
    "# filtered_df.shape[0]"
   ]
  },
  {
   "cell_type": "markdown",
   "metadata": {},
   "source": [
    "get count of each unique value of classification "
   ]
  },
  {
   "cell_type": "code",
   "execution_count": 3,
   "metadata": {},
   "outputs": [
    {
     "name": "stdout",
     "output_type": "stream",
     "text": [
      "Classification\n",
      "No Hate/Toxic    355079\n",
      "Hate 1            22641\n",
      "Toxic 1           15097\n",
      "Toxic 2            5563\n",
      "Hate 2              967\n",
      "Toxic 3             432\n",
      "Hate 3              221\n",
      "Name: count, dtype: int64\n"
     ]
    }
   ],
   "source": [
    "classification_counts = df[\"Classification\"].value_counts()\n",
    "print(classification_counts)"
   ]
  },
  {
   "cell_type": "markdown",
   "metadata": {},
   "source": [
    "clean data which might not be needed anymore"
   ]
  },
  {
   "cell_type": "code",
   "execution_count": 4,
   "metadata": {},
   "outputs": [
    {
     "data": {
      "text/plain": [
       "44921"
      ]
     },
     "execution_count": 4,
     "metadata": {},
     "output_type": "execute_result"
    }
   ],
   "source": [
    "filtered_df = df[df[\"Classification\"] != \"No Hate/Toxic\"]\n",
    "text = filtered_df[\"text\"].tolist()\n",
    "len(text)"
   ]
  },
  {
   "cell_type": "code",
   "execution_count": 5,
   "metadata": {},
   "outputs": [
    {
     "name": "stdout",
     "output_type": "stream",
     "text": [
      "                                                 text  \\\n",
      "15                                Tell The F Mon G3rs   \n",
      "29  Don't ask so many questions, if not PAP arrest...   \n",
      "45  It's a claim that is well supported by various...   \n",
      "50  Why come all the way here and complain dipshit...   \n",
      "74  I can understand giving exemptions for people ...   \n",
      "\n",
      "                                           clean_text  \n",
      "15                                    tell f mon g3rs  \n",
      "29  dont ask many questions pap arrest seditious s...  \n",
      "45  claim well supported various studies blm hand ...  \n",
      "50  come way complain dipshit pajeet ape enjoy lif...  \n",
      "74  understand giving exemptions people cannot vac...  \n"
     ]
    },
    {
     "name": "stderr",
     "output_type": "stream",
     "text": [
      "/var/folders/nh/xyplbgbn1wlc853r_mjxqg8h0000gq/T/ipykernel_11723/725180145.py:68: SettingWithCopyWarning: \n",
      "A value is trying to be set on a copy of a slice from a DataFrame.\n",
      "Try using .loc[row_indexer,col_indexer] = value instead\n",
      "\n",
      "See the caveats in the documentation: https://pandas.pydata.org/pandas-docs/stable/user_guide/indexing.html#returning-a-view-versus-a-copy\n",
      "  filtered_df[\"clean_text\"] = filtered_df[\"text\"].apply(clean_singlish)\n"
     ]
    }
   ],
   "source": [
    "# Custom dictionary for translating Singlish terms to standard English\n",
    "singlish_dict = {\n",
    "    \"lah\": \"\",\n",
    "    \"lor\": \"\",\n",
    "    \"sia\": \"\",\n",
    "    \"leh\": \"\",\n",
    "    \"fuck\": \"\",\n",
    "    \"shit\": \"\",\n",
    "    \"fucker\": \"\",\n",
    "    \"bitch\": \"\",\n",
    "    \"fuk\": \"\",\n",
    "    \"cunt\" \"fucking\": \"\",\n",
    "    \"sian\": \"bored\",\n",
    "    \"lepak\": \"relax\",\n",
    "    \"shiok\": \"great\",\n",
    "    \"kiasu\": \"fear of missing out\",\n",
    "    \"fomo\": \"fear of missing out\",\n",
    "    \"kopi\": \"coffee\",\n",
    "    \"yaya papaya\": \"arrogant person\",\n",
    "    \"cheem\": \"complex\",\n",
    "    \"aiyo\": \"oh no\",\n",
    "    \"dabao\": \"takeaway\",\n",
    "    \"paiseh\": \"embarrassed\",\n",
    "    \"koped\": \"stolen\",\n",
    "    \"gahmen\": \"government\",\n",
    "    \"gahment\": \"government\",\n",
    "    \"liao\": \"already\",\n",
    "    \"siao\": \"crazy\",\n",
    "}\n",
    "\n",
    "# Get the default NLTK English stop words\n",
    "nltk_stop_words = stopwords.words(\"english\")\n",
    "custom_stop_words = [\"hes\", \"shes\"]  # Add any additional custom stop words\n",
    "\n",
    "# Combine NLTK stop words with custom stop words\n",
    "combined_stop_words = set(nltk_stop_words + custom_stop_words)\n",
    "\n",
    "\n",
    "def clean_singlish(text):\n",
    "    # Convert text to lowercase\n",
    "    text = text.lower()\n",
    "\n",
    "    # Remove extra spaces and special characters\n",
    "    text = re.sub(r\"[^\\w\\s]\", \"\", text)\n",
    "\n",
    "    # Tokenize the sentence into words\n",
    "    words = text.split()\n",
    "\n",
    "    # Translate Singlish words to Standard English\n",
    "    cleaned_words = [singlish_dict.get(word, word) for word in words]\n",
    "\n",
    "    # Remove stop words\n",
    "    cleaned_words = [word for word in cleaned_words if word not in combined_stop_words]\n",
    "\n",
    "    # Join the words back into a cleaned sentence\n",
    "    cleaned_text = \" \".join(cleaned_words)\n",
    "\n",
    "    # Remove any leftover empty phrases\n",
    "    cleaned_text = re.sub(r\"\\s+\", \" \", cleaned_text).strip()\n",
    "\n",
    "    return cleaned_text\n",
    "\n",
    "\n",
    "filtered_df[\"clean_text\"] = filtered_df[\"text\"].apply(clean_singlish)\n",
    "print(filtered_df[[\"text\", \"clean_text\"]].head())\n",
    "filtered_df.shape\n",
    "filtered_df.head()\n",
    "text = filtered_df[\"clean_text\"].tolist()"
   ]
  },
  {
   "cell_type": "markdown",
   "metadata": {},
   "source": [
    "TOPIC MODEL CUSTOM"
   ]
  },
  {
   "cell_type": "code",
   "execution_count": 8,
   "metadata": {},
   "outputs": [
    {
     "name": "stderr",
     "output_type": "stream",
     "text": [
      "OMP: Info #276: omp_set_nested routine deprecated, please use omp_set_max_active_levels instead.\n",
      "huggingface/tokenizers: The current process just got forked, after parallelism has already been used. Disabling parallelism to avoid deadlocks...\n",
      "To disable this warning, you can either:\n",
      "\t- Avoid using `tokenizers` before the fork if possible\n",
      "\t- Explicitly set the environment variable TOKENIZERS_PARALLELISM=(true | false)\n",
      "huggingface/tokenizers: The current process just got forked, after parallelism has already been used. Disabling parallelism to avoid deadlocks...\n",
      "To disable this warning, you can either:\n",
      "\t- Avoid using `tokenizers` before the fork if possible\n",
      "\t- Explicitly set the environment variable TOKENIZERS_PARALLELISM=(true | false)\n",
      "huggingface/tokenizers: The current process just got forked, after parallelism has already been used. Disabling parallelism to avoid deadlocks...\n",
      "To disable this warning, you can either:\n",
      "\t- Avoid using `tokenizers` before the fork if possible\n",
      "\t- Explicitly set the environment variable TOKENIZERS_PARALLELISM=(true | false)\n",
      "huggingface/tokenizers: The current process just got forked, after parallelism has already been used. Disabling parallelism to avoid deadlocks...\n",
      "To disable this warning, you can either:\n",
      "\t- Avoid using `tokenizers` before the fork if possible\n",
      "\t- Explicitly set the environment variable TOKENIZERS_PARALLELISM=(true | false)\n",
      "huggingface/tokenizers: The current process just got forked, after parallelism has already been used. Disabling parallelism to avoid deadlocks...\n",
      "To disable this warning, you can either:\n",
      "\t- Avoid using `tokenizers` before the fork if possible\n",
      "\t- Explicitly set the environment variable TOKENIZERS_PARALLELISM=(true | false)\n"
     ]
    }
   ],
   "source": [
    "from bertopic import BERTopic\n",
    "from bertopic.representation import KeyBERTInspired\n",
    "from hdbscan import HDBSCAN\n",
    "from sentence_transformers import SentenceTransformer\n",
    "from transformers import AutoModelForMaskedLM, AutoTokenizer\n",
    "from umap import UMAP\n",
    "\n",
    "# Initialize models for BERTopic\n",
    "sentence_model = SentenceTransformer(\"distiluse-base-multilingual-cased-v1\")\n",
    "umap_model = UMAP(\n",
    "    n_neighbors=30, n_components=3, min_dist=0.11, metric=\"cosine\", random_state=42\n",
    ")\n",
    "hdbscan_model = HDBSCAN(\n",
    "    min_cluster_size=25,\n",
    "    min_samples=1,\n",
    "    metric=\"euclidean\",\n",
    "    cluster_selection_method=\"eom\",\n",
    "    prediction_data=True,\n",
    ")\n",
    "representation_model = KeyBERTInspired()\n",
    "\n",
    "# Train the BERTopic model\n",
    "topic_model_custom = BERTopic(\n",
    "    embedding_model=sentence_model,\n",
    "    umap_model=umap_model,\n",
    "    hdbscan_model=hdbscan_model,\n",
    "    representation_model=representation_model,\n",
    ")\n",
    "\n",
    "# Assuming 'text' is a pre-defined list of documents\n",
    "topics, probs = topic_model_custom.fit_transform(text)"
   ]
  },
  {
   "cell_type": "code",
   "execution_count": 64,
   "metadata": {},
   "outputs": [
    {
     "name": "stderr",
     "output_type": "stream",
     "text": [
      "100%|██████████| 360/360 [01:22<00:00,  4.38it/s]\n"
     ]
    },
    {
     "data": {
      "application/vnd.plotly.v1+json": {
       "config": {
        "plotlyServerURL": "https://plot.ly"
       },
       "data": [
        {
         "hoverinfo": "text",
         "marker": {
          "color": "rgb(61,153,112)"
         },
         "mode": "lines",
         "text": [
          "prostitute_prostitutes_prostitution_nothing_hookers",
          "",
          "",
          "girl_girls_prostitute_girlfriends_whore"
         ],
         "type": "scatter",
         "x": [
          0,
          0.8262746540526125,
          0.8262746540526125,
          0
         ],
         "xaxis": "x",
         "y": [
          -5,
          -5,
          -15,
          -15
         ],
         "yaxis": "y"
        },
        {
         "hoverinfo": "text",
         "marker": {
          "color": "rgb(61,153,112)"
         },
         "mode": "lines",
         "text": [
          "girls_gf_girl_ugly_guys",
          "",
          "",
          "girls_tinder_chicks_girl_dating"
         ],
         "type": "scatter",
         "x": [
          0,
          0.5657447980695236,
          0.5657447980695236,
          0
         ],
         "xaxis": "x",
         "y": [
          -35,
          -35,
          -45,
          -45
         ],
         "yaxis": "y"
        },
        {
         "hoverinfo": "text",
         "marker": {
          "color": "rgb(61,153,112)"
         },
         "mode": "lines",
         "text": [
          "girl_girly_girls_boy_girl²",
          "",
          "",
          "girls_tinder_chicks_girl_dating"
         ],
         "type": "scatter",
         "x": [
          0,
          0.6702935789770481,
          0.6702935789770481,
          0.5657447980695236
         ],
         "xaxis": "x",
         "y": [
          -25,
          -25,
          -40,
          -40
         ],
         "yaxis": "y"
        },
        {
         "hoverinfo": "text",
         "marker": {
          "color": "rgb(61,153,112)"
         },
         "mode": "lines",
         "text": [
          "girl_girly_girls_boy_girl²",
          "",
          "",
          "girls_tinder_chicks_girl_dating"
         ],
         "type": "scatter",
         "x": [
          0.8262746540526125,
          0.970398774127666,
          0.970398774127666,
          0.6702935789770481
         ],
         "xaxis": "x",
         "y": [
          -10,
          -10,
          -32.5,
          -32.5
         ],
         "yaxis": "y"
        },
        {
         "hoverinfo": "text",
         "marker": {
          "color": "rgb(255,65,54)"
         },
         "mode": "lines",
         "text": [
          "females_women_girls_dating_female",
          "",
          "",
          "female_gender_females_girls_masculine"
         ],
         "type": "scatter",
         "x": [
          0,
          0.8505403536774648,
          0.8505403536774648,
          0
         ],
         "xaxis": "x",
         "y": [
          -55,
          -55,
          -65,
          -65
         ],
         "yaxis": "y"
        },
        {
         "hoverinfo": "text",
         "marker": {
          "color": "rgb(255,65,54)"
         },
         "mode": "lines",
         "text": [
          "female_woman_females_women_ladies",
          "",
          "",
          "sexist_female_women_womens_woman"
         ],
         "type": "scatter",
         "x": [
          0,
          0.6964800656707769,
          0.6964800656707769,
          0
         ],
         "xaxis": "x",
         "y": [
          -75,
          -75,
          -85,
          -85
         ],
         "yaxis": "y"
        },
        {
         "hoverinfo": "text",
         "marker": {
          "color": "rgb(255,65,54)"
         },
         "mode": "lines",
         "text": [
          "feminism_sexism_feminists_feminist_sexist",
          "",
          "",
          "singaporeans_singapores_singaporean_singapore_feminists"
         ],
         "type": "scatter",
         "x": [
          0,
          0.48821370726962965,
          0.48821370726962965,
          0
         ],
         "xaxis": "x",
         "y": [
          -95,
          -95,
          -105,
          -105
         ],
         "yaxis": "y"
        },
        {
         "hoverinfo": "text",
         "marker": {
          "color": "rgb(255,65,54)"
         },
         "mode": "lines",
         "text": [
          "feminism_sexism_feminists_feminist_sexist",
          "",
          "",
          "singaporeans_singapores_singaporean_singapore_feminists"
         ],
         "type": "scatter",
         "x": [
          0.6964800656707769,
          0.7812005415944177,
          0.7812005415944177,
          0.48821370726962965
         ],
         "xaxis": "x",
         "y": [
          -80,
          -80,
          -100,
          -100
         ],
         "yaxis": "y"
        },
        {
         "hoverinfo": "text",
         "marker": {
          "color": "rgb(255,65,54)"
         },
         "mode": "lines",
         "text": [
          "feminism_sexism_feminists_feminist_sexist",
          "",
          "",
          "misogyny_women_females_polygamy_ladies"
         ],
         "type": "scatter",
         "x": [
          0.7812005415944177,
          0.8700672260517718,
          0.8700672260517718,
          0
         ],
         "xaxis": "x",
         "y": [
          -90,
          -90,
          -115,
          -115
         ],
         "yaxis": "y"
        },
        {
         "hoverinfo": "text",
         "marker": {
          "color": "rgb(255,65,54)"
         },
         "mode": "lines",
         "text": [
          "feminism_sexism_feminists_feminist_sexist",
          "",
          "",
          "misogyny_women_females_polygamy_ladies"
         ],
         "type": "scatter",
         "x": [
          0.8505403536774648,
          0.881088744920434,
          0.881088744920434,
          0.8700672260517718
         ],
         "xaxis": "x",
         "y": [
          -60,
          -60,
          -102.5,
          -102.5
         ],
         "yaxis": "y"
        },
        {
         "hoverinfo": "text",
         "marker": {
          "color": "rgb(0,116,217)"
         },
         "mode": "lines",
         "text": [
          "feminism_sexism_feminists_feminist_sexist",
          "",
          "",
          "misogyny_women_females_polygamy_ladies"
         ],
         "type": "scatter",
         "x": [
          0.970398774127666,
          1.3282098745984232,
          1.3282098745984232,
          0.881088744920434
         ],
         "xaxis": "x",
         "y": [
          -21.25,
          -21.25,
          -81.25,
          -81.25
         ],
         "yaxis": "y"
        },
        {
         "hoverinfo": "text",
         "marker": {
          "color": "rgb(35,205,205)"
         },
         "mode": "lines",
         "text": [
          "singaporeans_cars_singaporean_drivers_singapore",
          "",
          "",
          "driver_drivers_chauffeur_driving_taxis"
         ],
         "type": "scatter",
         "x": [
          0,
          0.4616661829047012,
          0.4616661829047012,
          0
         ],
         "xaxis": "x",
         "y": [
          -135,
          -135,
          -145,
          -145
         ],
         "yaxis": "y"
        },
        {
         "hoverinfo": "text",
         "marker": {
          "color": "rgb(35,205,205)"
         },
         "mode": "lines",
         "text": [
          "singaporeans_cars_singaporean_drivers_singapore",
          "",
          "",
          "cyclists_cyclist_cycling_bicycles_motorcyclists"
         ],
         "type": "scatter",
         "x": [
          0.4616661829047012,
          0.9045105118837318,
          0.9045105118837318,
          0
         ],
         "xaxis": "x",
         "y": [
          -140,
          -140,
          -155,
          -155
         ],
         "yaxis": "y"
        },
        {
         "hoverinfo": "text",
         "marker": {
          "color": "rgb(35,205,205)"
         },
         "mode": "lines",
         "text": [
          "bus_buses_busesmrts_minibus_busses",
          "",
          "",
          "cyclists_cyclist_cycling_bicycles_motorcyclists"
         ],
         "type": "scatter",
         "x": [
          0,
          0.9161649305044094,
          0.9161649305044094,
          0.9045105118837318
         ],
         "xaxis": "x",
         "y": [
          -125,
          -125,
          -147.5,
          -147.5
         ],
         "yaxis": "y"
        },
        {
         "hoverinfo": "text",
         "marker": {
          "color": "rgb(133,20,75)"
         },
         "mode": "lines",
         "text": [
          "dbs_dbspb_dbst_shittybank_hsbcs",
          "",
          "",
          "banking_bank_banks_dbs_untrustworthy"
         ],
         "type": "scatter",
         "x": [
          0,
          0.7932473898519381,
          0.7932473898519381,
          0
         ],
         "xaxis": "x",
         "y": [
          -165,
          -165,
          -175,
          -175
         ],
         "yaxis": "y"
        },
        {
         "hoverinfo": "text",
         "marker": {
          "color": "rgb(133,20,75)"
         },
         "mode": "lines",
         "text": [
          "bill_rude_starhub_whymobile_fee",
          "",
          "",
          "customer_clientele_customers_client_httpswwwredditcomrsingaporecommentsmoo8bifoodpanda_support_allegedly_tells_customer_thatgu5ln8l"
         ],
         "type": "scatter",
         "x": [
          0,
          0.8684860157816088,
          0.8684860157816088,
          0
         ],
         "xaxis": "x",
         "y": [
          -185,
          -185,
          -195,
          -195
         ],
         "yaxis": "y"
        },
        {
         "hoverinfo": "text",
         "marker": {
          "color": "rgb(133,20,75)"
         },
         "mode": "lines",
         "text": [
          "bill_rude_starhub_whymobile_fee",
          "",
          "",
          "peasantssilly_peasants_peasant_farmers_farmer"
         ],
         "type": "scatter",
         "x": [
          0.8684860157816088,
          0.9473521064524391,
          0.9473521064524391,
          0
         ],
         "xaxis": "x",
         "y": [
          -190,
          -190,
          -205,
          -205
         ],
         "yaxis": "y"
        },
        {
         "hoverinfo": "text",
         "marker": {
          "color": "rgb(133,20,75)"
         },
         "mode": "lines",
         "text": [
          "bill_rude_starhub_whymobile_fee",
          "",
          "",
          "peasantssilly_peasants_peasant_farmers_farmer"
         ],
         "type": "scatter",
         "x": [
          0.7932473898519381,
          0.9783644116465773,
          0.9783644116465773,
          0.9473521064524391
         ],
         "xaxis": "x",
         "y": [
          -170,
          -170,
          -197.5,
          -197.5
         ],
         "yaxis": "y"
        },
        {
         "hoverinfo": "text",
         "marker": {
          "color": "rgb(255,220,0)"
         },
         "mode": "lines",
         "text": [
          "stalked_tricky_poorly_employers_employer",
          "",
          "",
          "jobless_jobs_employer_job_hiring"
         ],
         "type": "scatter",
         "x": [
          0,
          0.908483363392338,
          0.908483363392338,
          0
         ],
         "xaxis": "x",
         "y": [
          -215,
          -215,
          -225,
          -225
         ],
         "yaxis": "y"
        },
        {
         "hoverinfo": "text",
         "marker": {
          "color": "rgb(255,220,0)"
         },
         "mode": "lines",
         "text": [
          "boss_bossperson_bosses_colleague_office",
          "",
          "",
          "employers_employment_employee_employees_jobs"
         ],
         "type": "scatter",
         "x": [
          0,
          0.6642388126036585,
          0.6642388126036585,
          0
         ],
         "xaxis": "x",
         "y": [
          -235,
          -235,
          -245,
          -245
         ],
         "yaxis": "y"
        },
        {
         "hoverinfo": "text",
         "marker": {
          "color": "rgb(255,220,0)"
         },
         "mode": "lines",
         "text": [
          "boss_bossperson_bosses_colleague_office",
          "",
          "",
          "ugh_idiot_boss_lool_sht"
         ],
         "type": "scatter",
         "x": [
          0.6642388126036585,
          0.8439415593324202,
          0.8439415593324202,
          0
         ],
         "xaxis": "x",
         "y": [
          -240,
          -240,
          -255,
          -255
         ],
         "yaxis": "y"
        },
        {
         "hoverinfo": "text",
         "marker": {
          "color": "rgb(255,220,0)"
         },
         "mode": "lines",
         "text": [
          "boss_bossperson_bosses_colleague_office",
          "",
          "",
          "ugh_idiot_boss_lool_sht"
         ],
         "type": "scatter",
         "x": [
          0.908483363392338,
          0.9558954553568321,
          0.9558954553568321,
          0.8439415593324202
         ],
         "xaxis": "x",
         "y": [
          -220,
          -220,
          -247.5,
          -247.5
         ],
         "yaxis": "y"
        },
        {
         "hoverinfo": "text",
         "marker": {
          "color": "rgb(0,116,217)"
         },
         "mode": "lines",
         "text": [
          "boss_bossperson_bosses_colleague_office",
          "",
          "",
          "ugh_idiot_boss_lool_sht"
         ],
         "type": "scatter",
         "x": [
          0.9783644116465773,
          1.1041472636451815,
          1.1041472636451815,
          0.9558954553568321
         ],
         "xaxis": "x",
         "y": [
          -183.75,
          -183.75,
          -233.75,
          -233.75
         ],
         "yaxis": "y"
        },
        {
         "hoverinfo": "text",
         "marker": {
          "color": "rgb(40,35,35)"
         },
         "mode": "lines",
         "text": [
          "cardboards_boxes_cardboard_collecting_collectors",
          "",
          "",
          "aircon_aircons_peasants_weather_homeless"
         ],
         "type": "scatter",
         "x": [
          0,
          0.9137137020237365,
          0.9137137020237365,
          0
         ],
         "xaxis": "x",
         "y": [
          -265,
          -265,
          -275,
          -275
         ],
         "yaxis": "y"
        },
        {
         "hoverinfo": "text",
         "marker": {
          "color": "rgb(40,35,35)"
         },
         "mode": "lines",
         "text": [
          "cardboards_boxes_cardboard_collecting_collectors",
          "",
          "",
          "insuranceproperty_insurance_insurers_insuranceinvestmentfinancial_assurance"
         ],
         "type": "scatter",
         "x": [
          0.9137137020237365,
          0.9765760524943256,
          0.9765760524943256,
          0
         ],
         "xaxis": "x",
         "y": [
          -270,
          -270,
          -285,
          -285
         ],
         "yaxis": "y"
        },
        {
         "hoverinfo": "text",
         "marker": {
          "color": "rgb(61,153,112)"
         },
         "mode": "lines",
         "text": [
          "taxes_tax_taxpayer_taxation_landlords",
          "",
          "",
          "transport_transit_trolleys_public_pollution"
         ],
         "type": "scatter",
         "x": [
          0,
          0.7586421883762708,
          0.7586421883762708,
          0
         ],
         "xaxis": "x",
         "y": [
          -295,
          -295,
          -305,
          -305
         ],
         "yaxis": "y"
        },
        {
         "hoverinfo": "text",
         "marker": {
          "color": "rgb(0,116,217)"
         },
         "mode": "lines",
         "text": [
          "taxes_tax_taxpayer_taxation_landlords",
          "",
          "",
          "transport_transit_trolleys_public_pollution"
         ],
         "type": "scatter",
         "x": [
          0.9765760524943256,
          1.0007867108042705,
          1.0007867108042705,
          0.7586421883762708
         ],
         "xaxis": "x",
         "y": [
          -277.5,
          -277.5,
          -300,
          -300
         ],
         "yaxis": "y"
        },
        {
         "hoverinfo": "text",
         "marker": {
          "color": "rgb(255,65,54)"
         },
         "mode": "lines",
         "text": [
          "money_pocket_whack_suck_expensive",
          "",
          "",
          "dollars_dollar_cents_expensive_money"
         ],
         "type": "scatter",
         "x": [
          0,
          0.8306955491079657,
          0.8306955491079657,
          0
         ],
         "xaxis": "x",
         "y": [
          -315,
          -315,
          -325,
          -325
         ],
         "yaxis": "y"
        },
        {
         "hoverinfo": "text",
         "marker": {
          "color": "rgb(255,65,54)"
         },
         "mode": "lines",
         "text": [
          "money_pocket_whack_suck_expensive",
          "",
          "",
          "20k_2k_50k_6k_money"
         ],
         "type": "scatter",
         "x": [
          0.8306955491079657,
          0.8778182980859381,
          0.8778182980859381,
          0
         ],
         "xaxis": "x",
         "y": [
          -320,
          -320,
          -335,
          -335
         ],
         "yaxis": "y"
        },
        {
         "hoverinfo": "text",
         "marker": {
          "color": "rgb(255,65,54)"
         },
         "mode": "lines",
         "text": [
          "income_underpaying_salaries_slaverylevel_slavepeasant",
          "",
          "",
          "sell_broker_cash_money_sellmarket"
         ],
         "type": "scatter",
         "x": [
          0,
          0.9050429335539247,
          0.9050429335539247,
          0
         ],
         "xaxis": "x",
         "y": [
          -355,
          -355,
          -365,
          -365
         ],
         "yaxis": "y"
        },
        {
         "hoverinfo": "text",
         "marker": {
          "color": "rgb(255,65,54)"
         },
         "mode": "lines",
         "text": [
          "salary_earn_earning_earns_6k",
          "",
          "",
          "sell_broker_cash_money_sellmarket"
         ],
         "type": "scatter",
         "x": [
          0,
          0.9474453943258543,
          0.9474453943258543,
          0.9050429335539247
         ],
         "xaxis": "x",
         "y": [
          -345,
          -345,
          -360,
          -360
         ],
         "yaxis": "y"
        },
        {
         "hoverinfo": "text",
         "marker": {
          "color": "rgb(255,65,54)"
         },
         "mode": "lines",
         "text": [
          "scammers_urgh_scam_refund_bankrupt",
          "",
          "",
          "scammed_scammer_scam_scamming_scammers"
         ],
         "type": "scatter",
         "x": [
          0,
          0.882023933375322,
          0.882023933375322,
          0
         ],
         "xaxis": "x",
         "y": [
          -375,
          -375,
          -385,
          -385
         ],
         "yaxis": "y"
        },
        {
         "hoverinfo": "text",
         "marker": {
          "color": "rgb(255,65,54)"
         },
         "mode": "lines",
         "text": [
          "scammers_urgh_scam_refund_bankrupt",
          "",
          "",
          "jealous_envy_hahahahahha_scams_money"
         ],
         "type": "scatter",
         "x": [
          0.882023933375322,
          0.9113273039776894,
          0.9113273039776894,
          0
         ],
         "xaxis": "x",
         "y": [
          -380,
          -380,
          -395,
          -395
         ],
         "yaxis": "y"
        },
        {
         "hoverinfo": "text",
         "marker": {
          "color": "rgb(255,65,54)"
         },
         "mode": "lines",
         "text": [
          "scammers_urgh_scam_refund_bankrupt",
          "",
          "",
          "jealous_envy_hahahahahha_scams_money"
         ],
         "type": "scatter",
         "x": [
          0.9474453943258543,
          0.9642158608150745,
          0.9642158608150745,
          0.9113273039776894
         ],
         "xaxis": "x",
         "y": [
          -352.5,
          -352.5,
          -387.5,
          -387.5
         ],
         "yaxis": "y"
        },
        {
         "hoverinfo": "text",
         "marker": {
          "color": "rgb(255,65,54)"
         },
         "mode": "lines",
         "text": [
          "scammers_urgh_scam_refund_bankrupt",
          "",
          "",
          "jealous_envy_hahahahahha_scams_money"
         ],
         "type": "scatter",
         "x": [
          0.8778182980859381,
          0.9805563811893777,
          0.9805563811893777,
          0.9642158608150745
         ],
         "xaxis": "x",
         "y": [
          -327.5,
          -327.5,
          -370,
          -370
         ],
         "yaxis": "y"
        },
        {
         "hoverinfo": "text",
         "marker": {
          "color": "rgb(0,116,217)"
         },
         "mode": "lines",
         "text": [
          "scammers_urgh_scam_refund_bankrupt",
          "",
          "",
          "jealous_envy_hahahahahha_scams_money"
         ],
         "type": "scatter",
         "x": [
          1.0007867108042705,
          1.0617929441779173,
          1.0617929441779173,
          0.9805563811893777
         ],
         "xaxis": "x",
         "y": [
          -288.75,
          -288.75,
          -348.75,
          -348.75
         ],
         "yaxis": "y"
        },
        {
         "hoverinfo": "text",
         "marker": {
          "color": "rgb(35,205,205)"
         },
         "mode": "lines",
         "text": [
          "rich_richest_wealthy_wealth_poor",
          "",
          "",
          "billionaire_riches_richest_rich_poor"
         ],
         "type": "scatter",
         "x": [
          0,
          0.7485440731271127,
          0.7485440731271127,
          0
         ],
         "xaxis": "x",
         "y": [
          -415,
          -415,
          -425,
          -425
         ],
         "yaxis": "y"
        },
        {
         "hoverinfo": "text",
         "marker": {
          "color": "rgb(35,205,205)"
         },
         "mode": "lines",
         "text": [
          "donations_donate_donation_donating_donates",
          "",
          "",
          "billionaire_riches_richest_rich_poor"
         ],
         "type": "scatter",
         "x": [
          0,
          0.8540945628609642,
          0.8540945628609642,
          0.7485440731271127
         ],
         "xaxis": "x",
         "y": [
          -405,
          -405,
          -420,
          -420
         ],
         "yaxis": "y"
        },
        {
         "hoverinfo": "text",
         "marker": {
          "color": "rgb(61,153,112)"
         },
         "mode": "lines",
         "text": [
          "middleclass_class_bourgeois_rich_classcant",
          "",
          "",
          "class_first_third_uppermiddle_low"
         ],
         "type": "scatter",
         "x": [
          0,
          0.8192482484975474,
          0.8192482484975474,
          0
         ],
         "xaxis": "x",
         "y": [
          -435,
          -435,
          -445,
          -445
         ],
         "yaxis": "y"
        },
        {
         "hoverinfo": "text",
         "marker": {
          "color": "rgb(0,116,217)"
         },
         "mode": "lines",
         "text": [
          "middleclass_class_bourgeois_rich_classcant",
          "",
          "",
          "class_first_third_uppermiddle_low"
         ],
         "type": "scatter",
         "x": [
          0.8540945628609642,
          1.037063522588395,
          1.037063522588395,
          0.8192482484975474
         ],
         "xaxis": "x",
         "y": [
          -412.5,
          -412.5,
          -440,
          -440
         ],
         "yaxis": "y"
        },
        {
         "hoverinfo": "text",
         "marker": {
          "color": "rgb(0,116,217)"
         },
         "mode": "lines",
         "text": [
          "middleclass_class_bourgeois_rich_classcant",
          "",
          "",
          "class_first_third_uppermiddle_low"
         ],
         "type": "scatter",
         "x": [
          1.0617929441779173,
          1.0960506884345251,
          1.0960506884345251,
          1.037063522588395
         ],
         "xaxis": "x",
         "y": [
          -318.75,
          -318.75,
          -426.25,
          -426.25
         ],
         "yaxis": "y"
        },
        {
         "hoverinfo": "text",
         "marker": {
          "color": "rgb(0,116,217)"
         },
         "mode": "lines",
         "text": [
          "middleclass_class_bourgeois_rich_classcant",
          "",
          "",
          "class_first_third_uppermiddle_low"
         ],
         "type": "scatter",
         "x": [
          1.1041472636451815,
          1.1932986716566023,
          1.1932986716566023,
          1.0960506884345251
         ],
         "xaxis": "x",
         "y": [
          -208.75,
          -208.75,
          -372.5,
          -372.5
         ],
         "yaxis": "y"
        },
        {
         "hoverinfo": "text",
         "marker": {
          "color": "rgb(0,116,217)"
         },
         "mode": "lines",
         "text": [
          "middleclass_class_bourgeois_rich_classcant",
          "",
          "",
          "class_first_third_uppermiddle_low"
         ],
         "type": "scatter",
         "x": [
          0.9161649305044094,
          1.331878114530855,
          1.331878114530855,
          1.1932986716566023
         ],
         "xaxis": "x",
         "y": [
          -136.25,
          -136.25,
          -290.625,
          -290.625
         ],
         "yaxis": "y"
        },
        {
         "hoverinfo": "text",
         "marker": {
          "color": "rgb(255,65,54)"
         },
         "mode": "lines",
         "text": [
          "balls_ballsy_bola_ball_balled",
          "",
          "",
          "balls_sperm_dildos_genitals_ironically"
         ],
         "type": "scatter",
         "x": [
          0,
          0.5345420134289225,
          0.5345420134289225,
          0
         ],
         "xaxis": "x",
         "y": [
          -465,
          -465,
          -475,
          -475
         ],
         "yaxis": "y"
        },
        {
         "hoverinfo": "text",
         "marker": {
          "color": "rgb(255,65,54)"
         },
         "mode": "lines",
         "text": [
          "anal_pussy_ass_shitting_dick",
          "",
          "",
          "balls_sperm_dildos_genitals_ironically"
         ],
         "type": "scatter",
         "x": [
          0,
          0.8026820935752192,
          0.8026820935752192,
          0.5345420134289225
         ],
         "xaxis": "x",
         "y": [
          -455,
          -455,
          -470,
          -470
         ],
         "yaxis": "y"
        },
        {
         "hoverinfo": "text",
         "marker": {
          "color": "rgb(35,205,205)"
         },
         "mode": "lines",
         "text": [
          "black_blacker_darkblack_blackpink_blacklisted",
          "",
          "",
          "blacks_black_blackest_blackface_faggot"
         ],
         "type": "scatter",
         "x": [
          0,
          0.5644488088836253,
          0.5644488088836253,
          0
         ],
         "xaxis": "x",
         "y": [
          -485,
          -485,
          -495,
          -495
         ],
         "yaxis": "y"
        },
        {
         "hoverinfo": "text",
         "marker": {
          "color": "rgb(133,20,75)"
         },
         "mode": "lines",
         "text": [
          "riots_protests_protestors_protesters_policemen",
          "",
          "",
          "police_policeman_cop_cops_polis"
         ],
         "type": "scatter",
         "x": [
          0,
          0.632189805811921,
          0.632189805811921,
          0
         ],
         "xaxis": "x",
         "y": [
          -505,
          -505,
          -515,
          -515
         ],
         "yaxis": "y"
        },
        {
         "hoverinfo": "text",
         "marker": {
          "color": "rgb(0,116,217)"
         },
         "mode": "lines",
         "text": [
          "riots_protests_protestors_protesters_policemen",
          "",
          "",
          "police_policeman_cop_cops_polis"
         ],
         "type": "scatter",
         "x": [
          0.5644488088836253,
          1.1628335690457114,
          1.1628335690457114,
          0.632189805811921
         ],
         "xaxis": "x",
         "y": [
          -490,
          -490,
          -510,
          -510
         ],
         "yaxis": "y"
        },
        {
         "hoverinfo": "text",
         "marker": {
          "color": "rgb(255,220,0)"
         },
         "mode": "lines",
         "text": [
          "wife_wives_妻离子散家破人亡hdb_spouse_husband",
          "",
          "",
          "marriage_marrying_marriages_marry_married"
         ],
         "type": "scatter",
         "x": [
          0,
          0.7799376038751563,
          0.7799376038751563,
          0
         ],
         "xaxis": "x",
         "y": [
          -525,
          -525,
          -535,
          -535
         ],
         "yaxis": "y"
        },
        {
         "hoverinfo": "text",
         "marker": {
          "color": "rgb(40,35,35)"
         },
         "mode": "lines",
         "text": [
          "gay_gays_homosexuals_homosexual_homos",
          "",
          "",
          "homophobia_homosexuality_homophobics_homophobic_homosexuals"
         ],
         "type": "scatter",
         "x": [
          0,
          0.5113806804414893,
          0.5113806804414893,
          0
         ],
         "xaxis": "x",
         "y": [
          -545,
          -545,
          -555,
          -555
         ],
         "yaxis": "y"
        },
        {
         "hoverinfo": "text",
         "marker": {
          "color": "rgb(61,153,112)"
         },
         "mode": "lines",
         "text": [
          "377a_377_369_351_everythingbut377a",
          "",
          "",
          "laws_law_loi_legal_illegality"
         ],
         "type": "scatter",
         "x": [
          0,
          0.9322049150297776,
          0.9322049150297776,
          0
         ],
         "xaxis": "x",
         "y": [
          -565,
          -565,
          -575,
          -575
         ],
         "yaxis": "y"
        },
        {
         "hoverinfo": "text",
         "marker": {
          "color": "rgb(0,116,217)"
         },
         "mode": "lines",
         "text": [
          "377a_377_369_351_everythingbut377a",
          "",
          "",
          "laws_law_loi_legal_illegality"
         ],
         "type": "scatter",
         "x": [
          0.5113806804414893,
          1.0006442509301288,
          1.0006442509301288,
          0.9322049150297776
         ],
         "xaxis": "x",
         "y": [
          -550,
          -550,
          -570,
          -570
         ],
         "yaxis": "y"
        },
        {
         "hoverinfo": "text",
         "marker": {
          "color": "rgb(0,116,217)"
         },
         "mode": "lines",
         "text": [
          "377a_377_369_351_everythingbut377a",
          "",
          "",
          "laws_law_loi_legal_illegality"
         ],
         "type": "scatter",
         "x": [
          0.7799376038751563,
          1.1054283530722675,
          1.1054283530722675,
          1.0006442509301288
         ],
         "xaxis": "x",
         "y": [
          -530,
          -530,
          -560,
          -560
         ],
         "yaxis": "y"
        },
        {
         "hoverinfo": "text",
         "marker": {
          "color": "rgb(255,65,54)"
         },
         "mode": "lines",
         "text": [
          "rape_rapist_raped_rapists_molested",
          "",
          "",
          "rapes_rapists_rape_prostitution_raped"
         ],
         "type": "scatter",
         "x": [
          0,
          0.7452428858231374,
          0.7452428858231374,
          0
         ],
         "xaxis": "x",
         "y": [
          -585,
          -585,
          -595,
          -595
         ],
         "yaxis": "y"
        },
        {
         "hoverinfo": "text",
         "marker": {
          "color": "rgb(255,65,54)"
         },
         "mode": "lines",
         "text": [
          "rape_rapist_raped_rapists_molested",
          "",
          "",
          "castration_castrate_chemical_chemically_vasectomy"
         ],
         "type": "scatter",
         "x": [
          0.7452428858231374,
          0.8807720404260172,
          0.8807720404260172,
          0
         ],
         "xaxis": "x",
         "y": [
          -590,
          -590,
          -605,
          -605
         ],
         "yaxis": "y"
        },
        {
         "hoverinfo": "text",
         "marker": {
          "color": "rgb(0,116,217)"
         },
         "mode": "lines",
         "text": [
          "rape_rapist_raped_rapists_molested",
          "",
          "",
          "castration_castrate_chemical_chemically_vasectomy"
         ],
         "type": "scatter",
         "x": [
          1.1054283530722675,
          1.148216563984857,
          1.148216563984857,
          0.8807720404260172
         ],
         "xaxis": "x",
         "y": [
          -545,
          -545,
          -597.5,
          -597.5
         ],
         "yaxis": "y"
        },
        {
         "hoverinfo": "text",
         "marker": {
          "color": "rgb(35,205,205)"
         },
         "mode": "lines",
         "text": [
          "looks_like_look_looking_fuckable",
          "",
          "",
          "fuckface_face_丑人多作怪_facial_facecream"
         ],
         "type": "scatter",
         "x": [
          0,
          0.7848168155783726,
          0.7848168155783726,
          0
         ],
         "xaxis": "x",
         "y": [
          -625,
          -625,
          -635,
          -635
         ],
         "yaxis": "y"
        },
        {
         "hoverinfo": "text",
         "marker": {
          "color": "rgb(35,205,205)"
         },
         "mode": "lines",
         "text": [
          "energy_weak_strong_small_eyes",
          "",
          "",
          "fuckface_face_丑人多作怪_facial_facecream"
         ],
         "type": "scatter",
         "x": [
          0,
          0.9384397713026935,
          0.9384397713026935,
          0.7848168155783726
         ],
         "xaxis": "x",
         "y": [
          -615,
          -615,
          -630,
          -630
         ],
         "yaxis": "y"
        },
        {
         "hoverinfo": "text",
         "marker": {
          "color": "rgb(61,153,112)"
         },
         "mode": "lines",
         "text": [
          "pants_panties_underwear_jeans_shorts",
          "",
          "",
          "shorts_shorties_skirts_outfits_lesbians"
         ],
         "type": "scatter",
         "x": [
          0,
          0.7388937147328685,
          0.7388937147328685,
          0
         ],
         "xaxis": "x",
         "y": [
          -645,
          -645,
          -655,
          -655
         ],
         "yaxis": "y"
        },
        {
         "hoverinfo": "text",
         "marker": {
          "color": "rgb(61,153,112)"
         },
         "mode": "lines",
         "text": [
          "boobs_boob_breasts_breast_nipples",
          "",
          "",
          "barber_barbers_barbershop_beard_shave"
         ],
         "type": "scatter",
         "x": [
          0,
          0.9320680570710208,
          0.9320680570710208,
          0
         ],
         "xaxis": "x",
         "y": [
          -665,
          -665,
          -675,
          -675
         ],
         "yaxis": "y"
        },
        {
         "hoverinfo": "text",
         "marker": {
          "color": "rgb(61,153,112)"
         },
         "mode": "lines",
         "text": [
          "boobs_boob_breasts_breast_nipples",
          "",
          "",
          "barber_barbers_barbershop_beard_shave"
         ],
         "type": "scatter",
         "x": [
          0.7388937147328685,
          0.9871996005886634,
          0.9871996005886634,
          0.9320680570710208
         ],
         "xaxis": "x",
         "y": [
          -650,
          -650,
          -670,
          -670
         ],
         "yaxis": "y"
        },
        {
         "hoverinfo": "text",
         "marker": {
          "color": "rgb(0,116,217)"
         },
         "mode": "lines",
         "text": [
          "boobs_boob_breasts_breast_nipples",
          "",
          "",
          "barber_barbers_barbershop_beard_shave"
         ],
         "type": "scatter",
         "x": [
          0.9384397713026935,
          1.103603673583404,
          1.103603673583404,
          0.9871996005886634
         ],
         "xaxis": "x",
         "y": [
          -622.5,
          -622.5,
          -660,
          -660
         ],
         "yaxis": "y"
        },
        {
         "hoverinfo": "text",
         "marker": {
          "color": "rgb(255,65,54)"
         },
         "mode": "lines",
         "text": [
          "adblock_adblocker_ads_advertising_advert",
          "",
          "",
          "propaganda_advertiser_ads_satire_tabloidsized"
         ],
         "type": "scatter",
         "x": [
          0,
          0.8656038188608367,
          0.8656038188608367,
          0
         ],
         "xaxis": "x",
         "y": [
          -685,
          -685,
          -695,
          -695
         ],
         "yaxis": "y"
        },
        {
         "hoverinfo": "text",
         "marker": {
          "color": "rgb(35,205,205)"
         },
         "mode": "lines",
         "text": [
          "fox_newsworthy_newscasters_news_journalismblogging",
          "",
          "",
          "journalists_journalist_journalism_reporters_reporter"
         ],
         "type": "scatter",
         "x": [
          0,
          0.8225878378129672,
          0.8225878378129672,
          0
         ],
         "xaxis": "x",
         "y": [
          -705,
          -705,
          -715,
          -715
         ],
         "yaxis": "y"
        },
        {
         "hoverinfo": "text",
         "marker": {
          "color": "rgb(0,116,217)"
         },
         "mode": "lines",
         "text": [
          "fox_newsworthy_newscasters_news_journalismblogging",
          "",
          "",
          "journalists_journalist_journalism_reporters_reporter"
         ],
         "type": "scatter",
         "x": [
          0.8656038188608367,
          1.0381268742018694,
          1.0381268742018694,
          0.8225878378129672
         ],
         "xaxis": "x",
         "y": [
          -690,
          -690,
          -710,
          -710
         ],
         "yaxis": "y"
        },
        {
         "hoverinfo": "text",
         "marker": {
          "color": "rgb(133,20,75)"
         },
         "mode": "lines",
         "text": [
          "vocabulary_illiterate_buzzwords_words_word",
          "",
          "",
          "article_redacted_wrote_censored_read"
         ],
         "type": "scatter",
         "x": [
          0,
          0.8685085582315788,
          0.8685085582315788,
          0
         ],
         "xaxis": "x",
         "y": [
          -725,
          -725,
          -735,
          -735
         ],
         "yaxis": "y"
        },
        {
         "hoverinfo": "text",
         "marker": {
          "color": "rgb(255,220,0)"
         },
         "mode": "lines",
         "text": [
          "toothpaste_tooth_teeth_dental_dentist",
          "",
          "",
          "autism_autistic_autists_autist_narcissistic"
         ],
         "type": "scatter",
         "x": [
          0,
          0.9894313631490064,
          0.9894313631490064,
          0
         ],
         "xaxis": "x",
         "y": [
          -745,
          -745,
          -755,
          -755
         ],
         "yaxis": "y"
        },
        {
         "hoverinfo": "text",
         "marker": {
          "color": "rgb(40,35,35)"
         },
         "mode": "lines",
         "text": [
          "chicken_chickens_rice_chili_soup",
          "",
          "",
          "pigeons_pigeon_birds_cockatoos_owls"
         ],
         "type": "scatter",
         "x": [
          0,
          0.9488157546559862,
          0.9488157546559862,
          0
         ],
         "xaxis": "x",
         "y": [
          -775,
          -775,
          -785,
          -785
         ],
         "yaxis": "y"
        },
        {
         "hoverinfo": "text",
         "marker": {
          "color": "rgb(40,35,35)"
         },
         "mode": "lines",
         "text": [
          "milk_latte_milkshakes_milking_lactose",
          "",
          "",
          "pigeons_pigeon_birds_cockatoos_owls"
         ],
         "type": "scatter",
         "x": [
          0,
          0.9877724857130828,
          0.9877724857130828,
          0.9488157546559862
         ],
         "xaxis": "x",
         "y": [
          -765,
          -765,
          -780,
          -780
         ],
         "yaxis": "y"
        },
        {
         "hoverinfo": "text",
         "marker": {
          "color": "rgb(40,35,35)"
         },
         "mode": "lines",
         "text": [
          "ccpee_jerbs_tiongcock_lick_ramitheasshole",
          "",
          "",
          "iphone_apple_ipad_apples_ipads"
         ],
         "type": "scatter",
         "x": [
          0,
          0.9786718048202857,
          0.9786718048202857,
          0
         ],
         "xaxis": "x",
         "y": [
          -795,
          -795,
          -805,
          -805
         ],
         "yaxis": "y"
        },
        {
         "hoverinfo": "text",
         "marker": {
          "color": "rgb(40,35,35)"
         },
         "mode": "lines",
         "text": [
          "ccpee_jerbs_tiongcock_lick_ramitheasshole",
          "",
          "",
          "iphone_apple_ipad_apples_ipads"
         ],
         "type": "scatter",
         "x": [
          0.9877724857130828,
          0.9992669654466879,
          0.9992669654466879,
          0.9786718048202857
         ],
         "xaxis": "x",
         "y": [
          -772.5,
          -772.5,
          -800,
          -800
         ],
         "yaxis": "y"
        },
        {
         "hoverinfo": "text",
         "marker": {
          "color": "rgb(0,116,217)"
         },
         "mode": "lines",
         "text": [
          "ccpee_jerbs_tiongcock_lick_ramitheasshole",
          "",
          "",
          "iphone_apple_ipad_apples_ipads"
         ],
         "type": "scatter",
         "x": [
          0.9894313631490064,
          1.0023374291525171,
          1.0023374291525171,
          0.9992669654466879
         ],
         "xaxis": "x",
         "y": [
          -750,
          -750,
          -786.25,
          -786.25
         ],
         "yaxis": "y"
        },
        {
         "hoverinfo": "text",
         "marker": {
          "color": "rgb(61,153,112)"
         },
         "mode": "lines",
         "text": [
          "brain_brains_脑残_braincell_brainwashed",
          "",
          "",
          "name_names_naming_named_namecalling"
         ],
         "type": "scatter",
         "x": [
          0,
          0.9180552948460787,
          0.9180552948460787,
          0
         ],
         "xaxis": "x",
         "y": [
          -815,
          -815,
          -825,
          -825
         ],
         "yaxis": "y"
        },
        {
         "hoverinfo": "text",
         "marker": {
          "color": "rgb(0,116,217)"
         },
         "mode": "lines",
         "text": [
          "brain_brains_脑残_braincell_brainwashed",
          "",
          "",
          "name_names_naming_named_namecalling"
         ],
         "type": "scatter",
         "x": [
          1.0023374291525171,
          1.0142501695264243,
          1.0142501695264243,
          0.9180552948460787
         ],
         "xaxis": "x",
         "y": [
          -768.125,
          -768.125,
          -820,
          -820
         ],
         "yaxis": "y"
        },
        {
         "hoverinfo": "text",
         "marker": {
          "color": "rgb(255,65,54)"
         },
         "mode": "lines",
         "text": [
          "salty_salt_salts_saltiness_sally",
          "",
          "",
          "scummy_uninterested_smug_outmuhahaha_dazzle"
         ],
         "type": "scatter",
         "x": [
          0,
          0.9679050654013,
          0.9679050654013,
          0
         ],
         "xaxis": "x",
         "y": [
          -835,
          -835,
          -845,
          -845
         ],
         "yaxis": "y"
        },
        {
         "hoverinfo": "text",
         "marker": {
          "color": "rgb(255,65,54)"
         },
         "mode": "lines",
         "text": [
          "low_lower_lowincome_loud_louder",
          "",
          "",
          "ewww_sucks_lol_fucking_wtf"
         ],
         "type": "scatter",
         "x": [
          0,
          0.9363400184853767,
          0.9363400184853767,
          0
         ],
         "xaxis": "x",
         "y": [
          -855,
          -855,
          -865,
          -865
         ],
         "yaxis": "y"
        },
        {
         "hoverinfo": "text",
         "marker": {
          "color": "rgb(255,65,54)"
         },
         "mode": "lines",
         "text": [
          "low_lower_lowincome_loud_louder",
          "",
          "",
          "ewww_sucks_lol_fucking_wtf"
         ],
         "type": "scatter",
         "x": [
          0.9679050654013,
          0.9806685266247808,
          0.9806685266247808,
          0.9363400184853767
         ],
         "xaxis": "x",
         "y": [
          -840,
          -840,
          -860,
          -860
         ],
         "yaxis": "y"
        },
        {
         "hoverinfo": "text",
         "marker": {
          "color": "rgb(0,116,217)"
         },
         "mode": "lines",
         "text": [
          "low_lower_lowincome_loud_louder",
          "",
          "",
          "ewww_sucks_lol_fucking_wtf"
         ],
         "type": "scatter",
         "x": [
          1.0142501695264243,
          1.0203891240892085,
          1.0203891240892085,
          0.9806685266247808
         ],
         "xaxis": "x",
         "y": [
          -794.0625,
          -794.0625,
          -850,
          -850
         ],
         "yaxis": "y"
        },
        {
         "hoverinfo": "text",
         "marker": {
          "color": "rgb(35,205,205)"
         },
         "mode": "lines",
         "text": [
          "leftie_lefthanded_eeeewwwwwwwww_rightwingers_shitstorm",
          "",
          "",
          "wtf_shredded_fucking_fck_smlj"
         ],
         "type": "scatter",
         "x": [
          0,
          0.9343053309447314,
          0.9343053309447314,
          0
         ],
         "xaxis": "x",
         "y": [
          -875,
          -875,
          -885,
          -885
         ],
         "yaxis": "y"
        },
        {
         "hoverinfo": "text",
         "marker": {
          "color": "rgb(35,205,205)"
         },
         "mode": "lines",
         "text": [
          "leftie_lefthanded_eeeewwwwwwwww_rightwingers_shitstorm",
          "",
          "",
          "liberals_liberalsminorities_liberal_conservatives_conservativeanti"
         ],
         "type": "scatter",
         "x": [
          0.9343053309447314,
          0.9714777034412565,
          0.9714777034412565,
          0
         ],
         "xaxis": "x",
         "y": [
          -880,
          -880,
          -895,
          -895
         ],
         "yaxis": "y"
        },
        {
         "hoverinfo": "text",
         "marker": {
          "color": "rgb(61,153,112)"
         },
         "mode": "lines",
         "text": [
          "troll_trolling_trolls_trolled_stupids",
          "",
          "",
          "downvote_downvotes_downvoted_downvoter_downvoting"
         ],
         "type": "scatter",
         "x": [
          0,
          0.9354185721548045,
          0.9354185721548045,
          0
         ],
         "xaxis": "x",
         "y": [
          -915,
          -915,
          -925,
          -925
         ],
         "yaxis": "y"
        },
        {
         "hoverinfo": "text",
         "marker": {
          "color": "rgb(61,153,112)"
         },
         "mode": "lines",
         "text": [
          "troll_trolling_trolls_trolled_stupids",
          "",
          "",
          "porno_porn_pornhub_hentai_henta"
         ],
         "type": "scatter",
         "x": [
          0.9354185721548045,
          0.9740182253823475,
          0.9740182253823475,
          0
         ],
         "xaxis": "x",
         "y": [
          -920,
          -920,
          -935,
          -935
         ],
         "yaxis": "y"
        },
        {
         "hoverinfo": "text",
         "marker": {
          "color": "rgb(61,153,112)"
         },
         "mode": "lines",
         "text": [
          "cringe_cringey_cringefest_embarrassment_retarded",
          "",
          "",
          "porno_porn_pornhub_hentai_henta"
         ],
         "type": "scatter",
         "x": [
          0,
          0.9811666125712726,
          0.9811666125712726,
          0.9740182253823475
         ],
         "xaxis": "x",
         "y": [
          -905,
          -905,
          -927.5,
          -927.5
         ],
         "yaxis": "y"
        },
        {
         "hoverinfo": "text",
         "marker": {
          "color": "rgb(255,65,54)"
         },
         "mode": "lines",
         "text": [
          "monkey_monkeys_monkeya_monkeypox_donkeys",
          "",
          "",
          "slaves_slavery_slave_slaveowners_slavelike"
         ],
         "type": "scatter",
         "x": [
          0,
          0.9586809316828069,
          0.9586809316828069,
          0
         ],
         "xaxis": "x",
         "y": [
          -945,
          -945,
          -955,
          -955
         ],
         "yaxis": "y"
        },
        {
         "hoverinfo": "text",
         "marker": {
          "color": "rgb(0,116,217)"
         },
         "mode": "lines",
         "text": [
          "monkey_monkeys_monkeya_monkeypox_donkeys",
          "",
          "",
          "slaves_slavery_slave_slaveowners_slavelike"
         ],
         "type": "scatter",
         "x": [
          0.9811666125712726,
          1.000721595388994,
          1.000721595388994,
          0.9586809316828069
         ],
         "xaxis": "x",
         "y": [
          -916.25,
          -916.25,
          -950,
          -950
         ],
         "yaxis": "y"
        },
        {
         "hoverinfo": "text",
         "marker": {
          "color": "rgb(35,205,205)"
         },
         "mode": "lines",
         "text": [
          "google_googling_search_lols_yucks",
          "",
          "",
          "bot_bots_botox_robot_musibot"
         ],
         "type": "scatter",
         "x": [
          0,
          0.948591518687859,
          0.948591518687859,
          0
         ],
         "xaxis": "x",
         "y": [
          -965,
          -965,
          -975,
          -975
         ],
         "yaxis": "y"
        },
        {
         "hoverinfo": "text",
         "marker": {
          "color": "rgb(35,205,205)"
         },
         "mode": "lines",
         "text": [
          "nazi_nazis_nazism_nazists_hitler",
          "",
          "",
          "mods_mod_moderators_moderator_moderatortobe"
         ],
         "type": "scatter",
         "x": [
          0,
          0.9667947935640435,
          0.9667947935640435,
          0
         ],
         "xaxis": "x",
         "y": [
          -985,
          -985,
          -995,
          -995
         ],
         "yaxis": "y"
        },
        {
         "hoverinfo": "text",
         "marker": {
          "color": "rgb(35,205,205)"
         },
         "mode": "lines",
         "text": [
          "nazi_nazis_nazism_nazists_hitler",
          "",
          "",
          "gold_golden_golding_golds_platinum"
         ],
         "type": "scatter",
         "x": [
          0.9667947935640435,
          0.9855960478490559,
          0.9855960478490559,
          0
         ],
         "xaxis": "x",
         "y": [
          -990,
          -990,
          -1005,
          -1005
         ],
         "yaxis": "y"
        },
        {
         "hoverinfo": "text",
         "marker": {
          "color": "rgb(35,205,205)"
         },
         "mode": "lines",
         "text": [
          "nazi_nazis_nazism_nazists_hitler",
          "",
          "",
          "gold_golden_golding_golds_platinum"
         ],
         "type": "scatter",
         "x": [
          0.948591518687859,
          0.997605093792269,
          0.997605093792269,
          0.9855960478490559
         ],
         "xaxis": "x",
         "y": [
          -970,
          -970,
          -997.5,
          -997.5
         ],
         "yaxis": "y"
        },
        {
         "hoverinfo": "text",
         "marker": {
          "color": "rgb(0,116,217)"
         },
         "mode": "lines",
         "text": [
          "nazi_nazis_nazism_nazists_hitler",
          "",
          "",
          "gold_golden_golding_golds_platinum"
         ],
         "type": "scatter",
         "x": [
          1.000721595388994,
          1.0110646440856188,
          1.0110646440856188,
          0.997605093792269
         ],
         "xaxis": "x",
         "y": [
          -933.125,
          -933.125,
          -983.75,
          -983.75
         ],
         "yaxis": "y"
        },
        {
         "hoverinfo": "text",
         "marker": {
          "color": "rgb(0,116,217)"
         },
         "mode": "lines",
         "text": [
          "nazi_nazis_nazism_nazists_hitler",
          "",
          "",
          "gold_golden_golding_golds_platinum"
         ],
         "type": "scatter",
         "x": [
          0.9714777034412565,
          1.0168325783181185,
          1.0168325783181185,
          1.0110646440856188
         ],
         "xaxis": "x",
         "y": [
          -887.5,
          -887.5,
          -958.4375,
          -958.4375
         ],
         "yaxis": "y"
        },
        {
         "hoverinfo": "text",
         "marker": {
          "color": "rgb(0,116,217)"
         },
         "mode": "lines",
         "text": [
          "nazi_nazis_nazism_nazists_hitler",
          "",
          "",
          "gold_golden_golding_golds_platinum"
         ],
         "type": "scatter",
         "x": [
          1.0203891240892085,
          1.0310596775714553,
          1.0310596775714553,
          1.0168325783181185
         ],
         "xaxis": "x",
         "y": [
          -822.03125,
          -822.03125,
          -922.96875,
          -922.96875
         ],
         "yaxis": "y"
        },
        {
         "hoverinfo": "text",
         "marker": {
          "color": "rgb(133,20,75)"
         },
         "mode": "lines",
         "text": [
          "russia_russian_russians_российской_ukrainian",
          "",
          "",
          "israelis_israeljews_israeli_israels_palestines"
         ],
         "type": "scatter",
         "x": [
          0,
          0.9501292946001384,
          0.9501292946001384,
          0
         ],
         "xaxis": "x",
         "y": [
          -1015,
          -1015,
          -1025,
          -1025
         ],
         "yaxis": "y"
        },
        {
         "hoverinfo": "text",
         "marker": {
          "color": "rgb(133,20,75)"
         },
         "mode": "lines",
         "text": [
          "terroristy_terrorist_terrorists_terrorism_bioterrorist",
          "",
          "",
          "afghanistan_afghan_afghanistanpalestinepyongyang_taliban_talibans"
         ],
         "type": "scatter",
         "x": [
          0,
          0.9581268765246502,
          0.9581268765246502,
          0
         ],
         "xaxis": "x",
         "y": [
          -1035,
          -1035,
          -1045,
          -1045
         ],
         "yaxis": "y"
        },
        {
         "hoverinfo": "text",
         "marker": {
          "color": "rgb(133,20,75)"
         },
         "mode": "lines",
         "text": [
          "terroristy_terrorist_terrorists_terrorism_bioterrorist",
          "",
          "",
          "afghanistan_afghan_afghanistanpalestinepyongyang_taliban_talibans"
         ],
         "type": "scatter",
         "x": [
          0.9501292946001384,
          0.9792184775250827,
          0.9792184775250827,
          0.9581268765246502
         ],
         "xaxis": "x",
         "y": [
          -1020,
          -1020,
          -1040,
          -1040
         ],
         "yaxis": "y"
        },
        {
         "hoverinfo": "text",
         "marker": {
          "color": "rgb(0,116,217)"
         },
         "mode": "lines",
         "text": [
          "terroristy_terrorist_terrorists_terrorism_bioterrorist",
          "",
          "",
          "afghanistan_afghan_afghanistanpalestinepyongyang_taliban_talibans"
         ],
         "type": "scatter",
         "x": [
          1.0310596775714553,
          1.0448425001928838,
          1.0448425001928838,
          0.9792184775250827
         ],
         "xaxis": "x",
         "y": [
          -872.5,
          -872.5,
          -1030,
          -1030
         ],
         "yaxis": "y"
        },
        {
         "hoverinfo": "text",
         "marker": {
          "color": "rgb(0,116,217)"
         },
         "mode": "lines",
         "text": [
          "terroristy_terrorist_terrorists_terrorism_bioterrorist",
          "",
          "",
          "afghanistan_afghan_afghanistanpalestinepyongyang_taliban_talibans"
         ],
         "type": "scatter",
         "x": [
          0.8685085582315788,
          1.0578643349795533,
          1.0578643349795533,
          1.0448425001928838
         ],
         "xaxis": "x",
         "y": [
          -730,
          -730,
          -951.25,
          -951.25
         ],
         "yaxis": "y"
        },
        {
         "hoverinfo": "text",
         "marker": {
          "color": "rgb(255,220,0)"
         },
         "mode": "lines",
         "text": [
          "suicides_suicide_suicidal_depression_depressionthey",
          "",
          "",
          "liew_clh_leon_leong_lone"
         ],
         "type": "scatter",
         "x": [
          0,
          0.7959402572145609,
          0.7959402572145609,
          0
         ],
         "xaxis": "x",
         "y": [
          -1065,
          -1065,
          -1075,
          -1075
         ],
         "yaxis": "y"
        },
        {
         "hoverinfo": "text",
         "marker": {
          "color": "rgb(255,220,0)"
         },
         "mode": "lines",
         "text": [
          "firearms_airsoft_bullets_ammo_bomb",
          "",
          "",
          "liew_clh_leon_leong_lone"
         ],
         "type": "scatter",
         "x": [
          0,
          0.9298394109117754,
          0.9298394109117754,
          0.7959402572145609
         ],
         "xaxis": "x",
         "y": [
          -1055,
          -1055,
          -1070,
          -1070
         ],
         "yaxis": "y"
        },
        {
         "hoverinfo": "text",
         "marker": {
          "color": "rgb(40,35,35)"
         },
         "mode": "lines",
         "text": [
          "judiciary_judicial_judges_judge_prosecutor",
          "",
          "",
          "lawyer_lawyering_lawyers_lawyerskarkia_consultants"
         ],
         "type": "scatter",
         "x": [
          0,
          0.8879059341501377,
          0.8879059341501377,
          0
         ],
         "xaxis": "x",
         "y": [
          -1085,
          -1085,
          -1095,
          -1095
         ],
         "yaxis": "y"
        },
        {
         "hoverinfo": "text",
         "marker": {
          "color": "rgb(61,153,112)"
         },
         "mode": "lines",
         "text": [
          "toxic_toxicity_disinfectantcant_apologetic_onesided",
          "",
          "",
          "disappointedyour_kc2_ankles_kneeling_motherfucker"
         ],
         "type": "scatter",
         "x": [
          0,
          0.9279367267424258,
          0.9279367267424258,
          0
         ],
         "xaxis": "x",
         "y": [
          -1115,
          -1115,
          -1125,
          -1125
         ],
         "yaxis": "y"
        },
        {
         "hoverinfo": "text",
         "marker": {
          "color": "rgb(61,153,112)"
         },
         "mode": "lines",
         "text": [
          "friend_bullying_friends_insulted_wfh",
          "",
          "",
          "disappointedyour_kc2_ankles_kneeling_motherfucker"
         ],
         "type": "scatter",
         "x": [
          0,
          0.9501590829904638,
          0.9501590829904638,
          0.9279367267424258
         ],
         "xaxis": "x",
         "y": [
          -1105,
          -1105,
          -1120,
          -1120
         ],
         "yaxis": "y"
        },
        {
         "hoverinfo": "text",
         "marker": {
          "color": "rgb(61,153,112)"
         },
         "mode": "lines",
         "text": [
          "blaming_victim_victims_pity_complaining",
          "",
          "",
          "misogyny_misogynist_women_woman_blaming"
         ],
         "type": "scatter",
         "x": [
          0,
          0.8978956683707868,
          0.8978956683707868,
          0
         ],
         "xaxis": "x",
         "y": [
          -1135,
          -1135,
          -1145,
          -1145
         ],
         "yaxis": "y"
        },
        {
         "hoverinfo": "text",
         "marker": {
          "color": "rgb(61,153,112)"
         },
         "mode": "lines",
         "text": [
          "blaming_victim_victims_pity_complaining",
          "",
          "",
          "threats_fight_criminalhe_anonymous_attacking"
         ],
         "type": "scatter",
         "x": [
          0.8978956683707868,
          0.969740865423871,
          0.969740865423871,
          0
         ],
         "xaxis": "x",
         "y": [
          -1140,
          -1140,
          -1155,
          -1155
         ],
         "yaxis": "y"
        },
        {
         "hoverinfo": "text",
         "marker": {
          "color": "rgb(61,153,112)"
         },
         "mode": "lines",
         "text": [
          "blaming_victim_victims_pity_complaining",
          "",
          "",
          "threats_fight_criminalhe_anonymous_attacking"
         ],
         "type": "scatter",
         "x": [
          0.9501590829904638,
          0.9997604641409354,
          0.9997604641409354,
          0.969740865423871
         ],
         "xaxis": "x",
         "y": [
          -1112.5,
          -1112.5,
          -1147.5,
          -1147.5
         ],
         "yaxis": "y"
        },
        {
         "hoverinfo": "text",
         "marker": {
          "color": "rgb(255,65,54)"
         },
         "mode": "lines",
         "text": [
          "stalk_life_army_survives_allthat",
          "",
          "",
          "nonmilitary_army_military_soldiersits_soldiers"
         ],
         "type": "scatter",
         "x": [
          0,
          0.9058498517752002,
          0.9058498517752002,
          0
         ],
         "xaxis": "x",
         "y": [
          -1165,
          -1165,
          -1175,
          -1175
         ],
         "yaxis": "y"
        },
        {
         "hoverinfo": "text",
         "marker": {
          "color": "rgb(255,65,54)"
         },
         "mode": "lines",
         "text": [
          "stalk_life_army_survives_allthat",
          "",
          "",
          "infantry_battalions_commanders_ranks_fights"
         ],
         "type": "scatter",
         "x": [
          0.9058498517752002,
          0.952573442020629,
          0.952573442020629,
          0
         ],
         "xaxis": "x",
         "y": [
          -1170,
          -1170,
          -1185,
          -1185
         ],
         "yaxis": "y"
        },
        {
         "hoverinfo": "text",
         "marker": {
          "color": "rgb(0,116,217)"
         },
         "mode": "lines",
         "text": [
          "stalk_life_army_survives_allthat",
          "",
          "",
          "infantry_battalions_commanders_ranks_fights"
         ],
         "type": "scatter",
         "x": [
          0.9997604641409354,
          1.0125155106230352,
          1.0125155106230352,
          0.952573442020629
         ],
         "xaxis": "x",
         "y": [
          -1130,
          -1130,
          -1177.5,
          -1177.5
         ],
         "yaxis": "y"
        },
        {
         "hoverinfo": "text",
         "marker": {
          "color": "rgb(0,116,217)"
         },
         "mode": "lines",
         "text": [
          "stalk_life_army_survives_allthat",
          "",
          "",
          "infantry_battalions_commanders_ranks_fights"
         ],
         "type": "scatter",
         "x": [
          0.8879059341501377,
          1.054001068683385,
          1.054001068683385,
          1.0125155106230352
         ],
         "xaxis": "x",
         "y": [
          -1090,
          -1090,
          -1153.75,
          -1153.75
         ],
         "yaxis": "y"
        },
        {
         "hoverinfo": "text",
         "marker": {
          "color": "rgb(35,205,205)"
         },
         "mode": "lines",
         "text": [
          "school_schools_turbansschools_schoolri_tuition",
          "",
          "",
          "teacher_teachers_teachersprincipal_teachersdm_prof"
         ],
         "type": "scatter",
         "x": [
          0,
          0.8501180453665569,
          0.8501180453665569,
          0
         ],
         "xaxis": "x",
         "y": [
          -1205,
          -1205,
          -1215,
          -1215
         ],
         "yaxis": "y"
        },
        {
         "hoverinfo": "text",
         "marker": {
          "color": "rgb(35,205,205)"
         },
         "mode": "lines",
         "text": [
          "airplane_aeroplane_plane_airline_stewardesses",
          "",
          "",
          "teacher_teachers_teachersprincipal_teachersdm_prof"
         ],
         "type": "scatter",
         "x": [
          0,
          0.9436224451738262,
          0.9436224451738262,
          0.8501180453665569
         ],
         "xaxis": "x",
         "y": [
          -1195,
          -1195,
          -1210,
          -1210
         ],
         "yaxis": "y"
        },
        {
         "hoverinfo": "text",
         "marker": {
          "color": "rgb(0,116,217)"
         },
         "mode": "lines",
         "text": [
          "airplane_aeroplane_plane_airline_stewardesses",
          "",
          "",
          "teacher_teachers_teachersprincipal_teachersdm_prof"
         ],
         "type": "scatter",
         "x": [
          1.054001068683385,
          1.0608764229879515,
          1.0608764229879515,
          0.9436224451738262
         ],
         "xaxis": "x",
         "y": [
          -1121.875,
          -1121.875,
          -1202.5,
          -1202.5
         ],
         "yaxis": "y"
        },
        {
         "hoverinfo": "text",
         "marker": {
          "color": "rgb(61,153,112)"
         },
         "mode": "lines",
         "text": [
          "cats_cat_kitty_kitten_kittens",
          "",
          "",
          "dog_dogs_dogfuck_dogwhistle_puppy"
         ],
         "type": "scatter",
         "x": [
          0,
          0.9140594516449593,
          0.9140594516449593,
          0
         ],
         "xaxis": "x",
         "y": [
          -1225,
          -1225,
          -1235,
          -1235
         ],
         "yaxis": "y"
        },
        {
         "hoverinfo": "text",
         "marker": {
          "color": "rgb(255,65,54)"
         },
         "mode": "lines",
         "text": [
          "smell_smellso_smelly_smells_smelling",
          "",
          "",
          "smokers_smoking_cigarettes_cigarette_smoker"
         ],
         "type": "scatter",
         "x": [
          0,
          0.9156063266301885,
          0.9156063266301885,
          0
         ],
         "xaxis": "x",
         "y": [
          -1245,
          -1245,
          -1255,
          -1255
         ],
         "yaxis": "y"
        },
        {
         "hoverinfo": "text",
         "marker": {
          "color": "rgb(35,205,205)"
         },
         "mode": "lines",
         "text": [
          "nurses_nurse_healthcare_hospitals_patients",
          "",
          "",
          "families_family_familial_familythey_familyfriendly"
         ],
         "type": "scatter",
         "x": [
          0,
          0.9344363650920503,
          0.9344363650920503,
          0
         ],
         "xaxis": "x",
         "y": [
          -1275,
          -1275,
          -1285,
          -1285
         ],
         "yaxis": "y"
        },
        {
         "hoverinfo": "text",
         "marker": {
          "color": "rgb(35,205,205)"
         },
         "mode": "lines",
         "text": [
          "transphobic_transgender_transphobia_transgenders_transphobe",
          "",
          "",
          "families_family_familial_familythey_familyfriendly"
         ],
         "type": "scatter",
         "x": [
          0,
          0.9537513839195594,
          0.9537513839195594,
          0.9344363650920503
         ],
         "xaxis": "x",
         "y": [
          -1265,
          -1265,
          -1280,
          -1280
         ],
         "yaxis": "y"
        },
        {
         "hoverinfo": "text",
         "marker": {
          "color": "rgb(35,205,205)"
         },
         "mode": "lines",
         "text": [
          "mask_masks_maskers_antimaskers_masked",
          "",
          "",
          "antivaxxer_antivaxxx_antivaxxers_antivaxx_vaxxer"
         ],
         "type": "scatter",
         "x": [
          0,
          0.9289844237100415,
          0.9289844237100415,
          0
         ],
         "xaxis": "x",
         "y": [
          -1295,
          -1295,
          -1305,
          -1305
         ],
         "yaxis": "y"
        },
        {
         "hoverinfo": "text",
         "marker": {
          "color": "rgb(35,205,205)"
         },
         "mode": "lines",
         "text": [
          "mask_masks_maskers_antimaskers_masked",
          "",
          "",
          "antivaxxer_antivaxxx_antivaxxers_antivaxx_vaxxer"
         ],
         "type": "scatter",
         "x": [
          0.9537513839195594,
          0.9757063209423064,
          0.9757063209423064,
          0.9289844237100415
         ],
         "xaxis": "x",
         "y": [
          -1272.5,
          -1272.5,
          -1300,
          -1300
         ],
         "yaxis": "y"
        },
        {
         "hoverinfo": "text",
         "marker": {
          "color": "rgb(133,20,75)"
         },
         "mode": "lines",
         "text": [
          "fat_fats_fatness_fatphobic_overweight",
          "",
          "",
          "gym_gymtoker_fitness_exercise_deadlift"
         ],
         "type": "scatter",
         "x": [
          0,
          0.9361948079032854,
          0.9361948079032854,
          0
         ],
         "xaxis": "x",
         "y": [
          -1315,
          -1315,
          -1325,
          -1325
         ],
         "yaxis": "y"
        },
        {
         "hoverinfo": "text",
         "marker": {
          "color": "rgb(0,116,217)"
         },
         "mode": "lines",
         "text": [
          "fat_fats_fatness_fatphobic_overweight",
          "",
          "",
          "gym_gymtoker_fitness_exercise_deadlift"
         ],
         "type": "scatter",
         "x": [
          0.9757063209423064,
          1.003646574019524,
          1.003646574019524,
          0.9361948079032854
         ],
         "xaxis": "x",
         "y": [
          -1286.25,
          -1286.25,
          -1320,
          -1320
         ],
         "yaxis": "y"
        },
        {
         "hoverinfo": "text",
         "marker": {
          "color": "rgb(0,116,217)"
         },
         "mode": "lines",
         "text": [
          "fat_fats_fatness_fatphobic_overweight",
          "",
          "",
          "gym_gymtoker_fitness_exercise_deadlift"
         ],
         "type": "scatter",
         "x": [
          0.9156063266301885,
          1.012803666854034,
          1.012803666854034,
          1.003646574019524
         ],
         "xaxis": "x",
         "y": [
          -1250,
          -1250,
          -1303.125,
          -1303.125
         ],
         "yaxis": "y"
        },
        {
         "hoverinfo": "text",
         "marker": {
          "color": "rgb(255,220,0)"
         },
         "mode": "lines",
         "text": [
          "schizophrenic_schizophrenia_psychiatric_psychotic_psychiatrist",
          "",
          "",
          "singaporean_singapore_singaporeans_cruel_malicious"
         ],
         "type": "scatter",
         "x": [
          0,
          0.8894401539738707,
          0.8894401539738707,
          0
         ],
         "xaxis": "x",
         "y": [
          -1335,
          -1335,
          -1345,
          -1345
         ],
         "yaxis": "y"
        },
        {
         "hoverinfo": "text",
         "marker": {
          "color": "rgb(255,220,0)"
         },
         "mode": "lines",
         "text": [
          "schizophrenic_schizophrenia_psychiatric_psychotic_psychiatrist",
          "",
          "",
          "cancer_cancerous_cancerously_ebola_testicular"
         ],
         "type": "scatter",
         "x": [
          0.8894401539738707,
          0.9779835830271947,
          0.9779835830271947,
          0
         ],
         "xaxis": "x",
         "y": [
          -1340,
          -1340,
          -1355,
          -1355
         ],
         "yaxis": "y"
        },
        {
         "hoverinfo": "text",
         "marker": {
          "color": "rgb(0,116,217)"
         },
         "mode": "lines",
         "text": [
          "schizophrenic_schizophrenia_psychiatric_psychotic_psychiatrist",
          "",
          "",
          "cancer_cancerous_cancerously_ebola_testicular"
         ],
         "type": "scatter",
         "x": [
          1.012803666854034,
          1.019493970803316,
          1.019493970803316,
          0.9779835830271947
         ],
         "xaxis": "x",
         "y": [
          -1276.5625,
          -1276.5625,
          -1347.5,
          -1347.5
         ],
         "yaxis": "y"
        },
        {
         "hoverinfo": "text",
         "marker": {
          "color": "rgb(0,116,217)"
         },
         "mode": "lines",
         "text": [
          "schizophrenic_schizophrenia_psychiatric_psychotic_psychiatrist",
          "",
          "",
          "cancer_cancerous_cancerously_ebola_testicular"
         ],
         "type": "scatter",
         "x": [
          0.9140594516449593,
          1.022934971042141,
          1.022934971042141,
          1.019493970803316
         ],
         "xaxis": "x",
         "y": [
          -1230,
          -1230,
          -1312.03125,
          -1312.03125
         ],
         "yaxis": "y"
        },
        {
         "hoverinfo": "text",
         "marker": {
          "color": "rgb(40,35,35)"
         },
         "mode": "lines",
         "text": [
          "beer_beers_whisky_drinking_alcoholism",
          "",
          "",
          "coffee_cafe_coffeecareer_starbuck_cafessome"
         ],
         "type": "scatter",
         "x": [
          0,
          0.9000168595480968,
          0.9000168595480968,
          0
         ],
         "xaxis": "x",
         "y": [
          -1365,
          -1365,
          -1375,
          -1375
         ],
         "yaxis": "y"
        },
        {
         "hoverinfo": "text",
         "marker": {
          "color": "rgb(0,116,217)"
         },
         "mode": "lines",
         "text": [
          "beer_beers_whisky_drinking_alcoholism",
          "",
          "",
          "coffee_cafe_coffeecareer_starbuck_cafessome"
         ],
         "type": "scatter",
         "x": [
          1.022934971042141,
          1.0338782366565071,
          1.0338782366565071,
          0.9000168595480968
         ],
         "xaxis": "x",
         "y": [
          -1271.015625,
          -1271.015625,
          -1370,
          -1370
         ],
         "yaxis": "y"
        },
        {
         "hoverinfo": "text",
         "marker": {
          "color": "rgb(61,153,112)"
         },
         "mode": "lines",
         "text": [
          "shoes_shoe_socks_boots_shoebox",
          "",
          "",
          "leg_legs_ankle_feet_ankles"
         ],
         "type": "scatter",
         "x": [
          0,
          0.8996239052456567,
          0.8996239052456567,
          0
         ],
         "xaxis": "x",
         "y": [
          -1385,
          -1385,
          -1395,
          -1395
         ],
         "yaxis": "y"
        },
        {
         "hoverinfo": "text",
         "marker": {
          "color": "rgb(0,116,217)"
         },
         "mode": "lines",
         "text": [
          "shoes_shoe_socks_boots_shoebox",
          "",
          "",
          "leg_legs_ankle_feet_ankles"
         ],
         "type": "scatter",
         "x": [
          1.0338782366565071,
          1.0602350290721472,
          1.0602350290721472,
          0.8996239052456567
         ],
         "xaxis": "x",
         "y": [
          -1320.5078125,
          -1320.5078125,
          -1390,
          -1390
         ],
         "yaxis": "y"
        },
        {
         "hoverinfo": "text",
         "marker": {
          "color": "rgb(0,116,217)"
         },
         "mode": "lines",
         "text": [
          "shoes_shoe_socks_boots_shoebox",
          "",
          "",
          "leg_legs_ankle_feet_ankles"
         ],
         "type": "scatter",
         "x": [
          1.0608764229879515,
          1.0803923383957619,
          1.0803923383957619,
          1.0602350290721472
         ],
         "xaxis": "x",
         "y": [
          -1162.1875,
          -1162.1875,
          -1355.25390625,
          -1355.25390625
         ],
         "yaxis": "y"
        },
        {
         "hoverinfo": "text",
         "marker": {
          "color": "rgb(0,116,217)"
         },
         "mode": "lines",
         "text": [
          "shoes_shoe_socks_boots_shoebox",
          "",
          "",
          "leg_legs_ankle_feet_ankles"
         ],
         "type": "scatter",
         "x": [
          0.9298394109117754,
          1.1005697138781365,
          1.1005697138781365,
          1.0803923383957619
         ],
         "xaxis": "x",
         "y": [
          -1062.5,
          -1062.5,
          -1258.720703125,
          -1258.720703125
         ],
         "yaxis": "y"
        },
        {
         "hoverinfo": "text",
         "marker": {
          "color": "rgb(0,116,217)"
         },
         "mode": "lines",
         "text": [
          "shoes_shoe_socks_boots_shoebox",
          "",
          "",
          "leg_legs_ankle_feet_ankles"
         ],
         "type": "scatter",
         "x": [
          1.0578643349795533,
          1.119649106367306,
          1.119649106367306,
          1.1005697138781365
         ],
         "xaxis": "x",
         "y": [
          -840.625,
          -840.625,
          -1160.6103515625,
          -1160.6103515625
         ],
         "yaxis": "y"
        },
        {
         "hoverinfo": "text",
         "marker": {
          "color": "rgb(0,116,217)"
         },
         "mode": "lines",
         "text": [
          "shoes_shoe_socks_boots_shoebox",
          "",
          "",
          "leg_legs_ankle_feet_ankles"
         ],
         "type": "scatter",
         "x": [
          1.0381268742018694,
          1.1408949569020073,
          1.1408949569020073,
          1.119649106367306
         ],
         "xaxis": "x",
         "y": [
          -700,
          -700,
          -1000.61767578125,
          -1000.61767578125
         ],
         "yaxis": "y"
        },
        {
         "hoverinfo": "text",
         "marker": {
          "color": "rgb(255,65,54)"
         },
         "mode": "lines",
         "text": [
          "train_trains_rail_httpsenmwikipediaorgwikitanjong_pagar_railway_station_station",
          "",
          "",
          "escalator_escalators_stairs_ladders_climb"
         ],
         "type": "scatter",
         "x": [
          0,
          0.8036691926105411,
          0.8036691926105411,
          0
         ],
         "xaxis": "x",
         "y": [
          -1405,
          -1405,
          -1415,
          -1415
         ],
         "yaxis": "y"
        },
        {
         "hoverinfo": "text",
         "marker": {
          "color": "rgb(35,205,205)"
         },
         "mode": "lines",
         "text": [
          "seat_seats_sit_old_aunties",
          "",
          "",
          "seat_seats_chair_chairs_wheelchair"
         ],
         "type": "scatter",
         "x": [
          0,
          0.7420771422148535,
          0.7420771422148535,
          0
         ],
         "xaxis": "x",
         "y": [
          -1425,
          -1425,
          -1435,
          -1435
         ],
         "yaxis": "y"
        },
        {
         "hoverinfo": "text",
         "marker": {
          "color": "rgb(0,116,217)"
         },
         "mode": "lines",
         "text": [
          "seat_seats_sit_old_aunties",
          "",
          "",
          "seat_seats_chair_chairs_wheelchair"
         ],
         "type": "scatter",
         "x": [
          0.8036691926105411,
          1.09134163282992,
          1.09134163282992,
          0.7420771422148535
         ],
         "xaxis": "x",
         "y": [
          -1410,
          -1410,
          -1430,
          -1430
         ],
         "yaxis": "y"
        },
        {
         "hoverinfo": "text",
         "marker": {
          "color": "rgb(61,153,112)"
         },
         "mode": "lines",
         "text": [
          "soap_dishwasher_wash_launder_wipe",
          "",
          "",
          "toilet_toilets_bathroom_handicapped_handicap"
         ],
         "type": "scatter",
         "x": [
          0,
          0.850709267750633,
          0.850709267750633,
          0
         ],
         "xaxis": "x",
         "y": [
          -1455,
          -1455,
          -1465,
          -1465
         ],
         "yaxis": "y"
        },
        {
         "hoverinfo": "text",
         "marker": {
          "color": "rgb(61,153,112)"
         },
         "mode": "lines",
         "text": [
          "soap_dishwasher_wash_launder_wipe",
          "",
          "",
          "dirty_limpeh_watch_wipe_watches"
         ],
         "type": "scatter",
         "x": [
          0.850709267750633,
          0.8910695004457082,
          0.8910695004457082,
          0
         ],
         "xaxis": "x",
         "y": [
          -1460,
          -1460,
          -1475,
          -1475
         ],
         "yaxis": "y"
        },
        {
         "hoverinfo": "text",
         "marker": {
          "color": "rgb(61,153,112)"
         },
         "mode": "lines",
         "text": [
          "burns_burn_burnt_fire_flamethrower",
          "",
          "",
          "dirty_limpeh_watch_wipe_watches"
         ],
         "type": "scatter",
         "x": [
          0,
          0.9377895021411403,
          0.9377895021411403,
          0.8910695004457082
         ],
         "xaxis": "x",
         "y": [
          -1445,
          -1445,
          -1467.5,
          -1467.5
         ],
         "yaxis": "y"
        },
        {
         "hoverinfo": "text",
         "marker": {
          "color": "rgb(255,65,54)"
         },
         "mode": "lines",
         "text": [
          "pizza_pizzas_grabfood_混口饭吃_foodpanda",
          "",
          "",
          "bread_bakers_baguetteshttpswwwstraitstimescomworldeuropeletthemeatbreadfrenchhoardbaguettesincoronaviruslockdown_baker_bake"
         ],
         "type": "scatter",
         "x": [
          0,
          0.7876664699157003,
          0.7876664699157003,
          0
         ],
         "xaxis": "x",
         "y": [
          -1485,
          -1485,
          -1495,
          -1495
         ],
         "yaxis": "y"
        },
        {
         "hoverinfo": "text",
         "marker": {
          "color": "rgb(255,65,54)"
         },
         "mode": "lines",
         "text": [
          "pizza_pizzas_grabfood_混口饭吃_foodpanda",
          "",
          "",
          "river_cry_swallow_lured_ohhhh"
         ],
         "type": "scatter",
         "x": [
          0.7876664699157003,
          0.9020518615780766,
          0.9020518615780766,
          0
         ],
         "xaxis": "x",
         "y": [
          -1490,
          -1490,
          -1505,
          -1505
         ],
         "yaxis": "y"
        },
        {
         "hoverinfo": "text",
         "marker": {
          "color": "rgb(0,116,217)"
         },
         "mode": "lines",
         "text": [
          "pizza_pizzas_grabfood_混口饭吃_foodpanda",
          "",
          "",
          "river_cry_swallow_lured_ohhhh"
         ],
         "type": "scatter",
         "x": [
          0.9377895021411403,
          1.1498461912843,
          1.1498461912843,
          0.9020518615780766
         ],
         "xaxis": "x",
         "y": [
          -1456.25,
          -1456.25,
          -1497.5,
          -1497.5
         ],
         "yaxis": "y"
        },
        {
         "hoverinfo": "text",
         "marker": {
          "color": "rgb(0,116,217)"
         },
         "mode": "lines",
         "text": [
          "pizza_pizzas_grabfood_混口饭吃_foodpanda",
          "",
          "",
          "river_cry_swallow_lured_ohhhh"
         ],
         "type": "scatter",
         "x": [
          1.09134163282992,
          1.1783642626154,
          1.1783642626154,
          1.1498461912843
         ],
         "xaxis": "x",
         "y": [
          -1420,
          -1420,
          -1476.875,
          -1476.875
         ],
         "yaxis": "y"
        },
        {
         "hoverinfo": "text",
         "marker": {
          "color": "rgb(0,116,217)"
         },
         "mode": "lines",
         "text": [
          "pizza_pizzas_grabfood_混口饭吃_foodpanda",
          "",
          "",
          "river_cry_swallow_lured_ohhhh"
         ],
         "type": "scatter",
         "x": [
          1.1408949569020073,
          1.200902282655487,
          1.200902282655487,
          1.1783642626154
         ],
         "xaxis": "x",
         "y": [
          -850.308837890625,
          -850.308837890625,
          -1448.4375,
          -1448.4375
         ],
         "yaxis": "y"
        },
        {
         "hoverinfo": "text",
         "marker": {
          "color": "rgb(0,116,217)"
         },
         "mode": "lines",
         "text": [
          "pizza_pizzas_grabfood_混口饭吃_foodpanda",
          "",
          "",
          "river_cry_swallow_lured_ohhhh"
         ],
         "type": "scatter",
         "x": [
          1.103603673583404,
          1.2187785528039603,
          1.2187785528039603,
          1.200902282655487
         ],
         "xaxis": "x",
         "y": [
          -641.25,
          -641.25,
          -1149.3731689453125,
          -1149.3731689453125
         ],
         "yaxis": "y"
        },
        {
         "hoverinfo": "text",
         "marker": {
          "color": "rgb(0,116,217)"
         },
         "mode": "lines",
         "text": [
          "pizza_pizzas_grabfood_混口饭吃_foodpanda",
          "",
          "",
          "river_cry_swallow_lured_ohhhh"
         ],
         "type": "scatter",
         "x": [
          1.148216563984857,
          1.2931252022986401,
          1.2931252022986401,
          1.2187785528039603
         ],
         "xaxis": "x",
         "y": [
          -571.25,
          -571.25,
          -895.3115844726562,
          -895.3115844726562
         ],
         "yaxis": "y"
        },
        {
         "hoverinfo": "text",
         "marker": {
          "color": "rgb(0,116,217)"
         },
         "mode": "lines",
         "text": [
          "pizza_pizzas_grabfood_混口饭吃_foodpanda",
          "",
          "",
          "river_cry_swallow_lured_ohhhh"
         ],
         "type": "scatter",
         "x": [
          1.1628335690457114,
          1.2950703975213775,
          1.2950703975213775,
          1.2931252022986401
         ],
         "xaxis": "x",
         "y": [
          -500,
          -500,
          -733.2807922363281,
          -733.2807922363281
         ],
         "yaxis": "y"
        },
        {
         "hoverinfo": "text",
         "marker": {
          "color": "rgb(35,205,205)"
         },
         "mode": "lines",
         "text": [
          "wahahaha_joke_bro_ahahaha_motherfuckshit",
          "",
          "",
          "iq_low_lmaooo_minus_slightly"
         ],
         "type": "scatter",
         "x": [
          0,
          0.9198467795605063,
          0.9198467795605063,
          0
         ],
         "xaxis": "x",
         "y": [
          -1535,
          -1535,
          -1545,
          -1545
         ],
         "yaxis": "y"
        },
        {
         "hoverinfo": "text",
         "marker": {
          "color": "rgb(35,205,205)"
         },
         "mode": "lines",
         "text": [
          "tears_cry_crying_bitching_wtf",
          "",
          "",
          "iq_low_lmaooo_minus_slightly"
         ],
         "type": "scatter",
         "x": [
          0,
          0.9474175710826008,
          0.9474175710826008,
          0.9198467795605063
         ],
         "xaxis": "x",
         "y": [
          -1525,
          -1525,
          -1540,
          -1540
         ],
         "yaxis": "y"
        },
        {
         "hoverinfo": "text",
         "marker": {
          "color": "rgb(35,205,205)"
         },
         "mode": "lines",
         "text": [
          "virgin_virgins_virginity_cry_sad",
          "",
          "",
          "iq_low_lmaooo_minus_slightly"
         ],
         "type": "scatter",
         "x": [
          0,
          0.981131337947309,
          0.981131337947309,
          0.9474175710826008
         ],
         "xaxis": "x",
         "y": [
          -1515,
          -1515,
          -1532.5,
          -1532.5
         ],
         "yaxis": "y"
        },
        {
         "hoverinfo": "text",
         "marker": {
          "color": "rgb(133,20,75)"
         },
         "mode": "lines",
         "text": [
          "clownfuck_clown_clowns_fucking_comedian",
          "",
          "",
          "fgm_kfc_mccy_mgm_cnb"
         ],
         "type": "scatter",
         "x": [
          0,
          0.8989288387281016,
          0.8989288387281016,
          0
         ],
         "xaxis": "x",
         "y": [
          -1565,
          -1565,
          -1575,
          -1575
         ],
         "yaxis": "y"
        },
        {
         "hoverinfo": "text",
         "marker": {
          "color": "rgb(133,20,75)"
         },
         "mode": "lines",
         "text": [
          "cb_kp_csm_fk_knncc",
          "",
          "",
          "fgm_kfc_mccy_mgm_cnb"
         ],
         "type": "scatter",
         "x": [
          0,
          0.9414241519916705,
          0.9414241519916705,
          0.8989288387281016
         ],
         "xaxis": "x",
         "y": [
          -1555,
          -1555,
          -1570,
          -1570
         ],
         "yaxis": "y"
        },
        {
         "hoverinfo": "text",
         "marker": {
          "color": "rgb(133,20,75)"
         },
         "mode": "lines",
         "text": [
          "back_retake_backside_reboundbackup_reversed",
          "",
          "",
          "time_timeyou_timing_waste_timeline"
         ],
         "type": "scatter",
         "x": [
          0,
          0.9525789338299127,
          0.9525789338299127,
          0
         ],
         "xaxis": "x",
         "y": [
          -1585,
          -1585,
          -1595,
          -1595
         ],
         "yaxis": "y"
        },
        {
         "hoverinfo": "text",
         "marker": {
          "color": "rgb(133,20,75)"
         },
         "mode": "lines",
         "text": [
          "buay_dk_lol_ppls_smug",
          "",
          "",
          "cant_useless_laobu_dw_sdas"
         ],
         "type": "scatter",
         "x": [
          0,
          0.9088724309085126,
          0.9088724309085126,
          0
         ],
         "xaxis": "x",
         "y": [
          -1605,
          -1605,
          -1615,
          -1615
         ],
         "yaxis": "y"
        },
        {
         "hoverinfo": "text",
         "marker": {
          "color": "rgb(133,20,75)"
         },
         "mode": "lines",
         "text": [
          "buay_dk_lol_ppls_smug",
          "",
          "",
          "cant_useless_laobu_dw_sdas"
         ],
         "type": "scatter",
         "x": [
          0.9525789338299127,
          0.9718762784403934,
          0.9718762784403934,
          0.9088724309085126
         ],
         "xaxis": "x",
         "y": [
          -1590,
          -1590,
          -1610,
          -1610
         ],
         "yaxis": "y"
        },
        {
         "hoverinfo": "text",
         "marker": {
          "color": "rgb(133,20,75)"
         },
         "mode": "lines",
         "text": [
          "buay_dk_lol_ppls_smug",
          "",
          "",
          "cant_useless_laobu_dw_sdas"
         ],
         "type": "scatter",
         "x": [
          0.9414241519916705,
          0.9860491954854077,
          0.9860491954854077,
          0.9718762784403934
         ],
         "xaxis": "x",
         "y": [
          -1562.5,
          -1562.5,
          -1600,
          -1600
         ],
         "yaxis": "y"
        },
        {
         "hoverinfo": "text",
         "marker": {
          "color": "rgb(0,116,217)"
         },
         "mode": "lines",
         "text": [
          "buay_dk_lol_ppls_smug",
          "",
          "",
          "cant_useless_laobu_dw_sdas"
         ],
         "type": "scatter",
         "x": [
          0.981131337947309,
          1.023456870073898,
          1.023456870073898,
          0.9860491954854077
         ],
         "xaxis": "x",
         "y": [
          -1523.75,
          -1523.75,
          -1581.25,
          -1581.25
         ],
         "yaxis": "y"
        },
        {
         "hoverinfo": "text",
         "marker": {
          "color": "rgb(255,220,0)"
         },
         "mode": "lines",
         "text": [
          "sinkie_sinkies_pukes_nuts_spooning",
          "",
          "",
          "lmfaooo_oneshttpsiimgurcom51xq7hjpng_nab_fk_lkm"
         ],
         "type": "scatter",
         "x": [
          0,
          0.8105366696267567,
          0.8105366696267567,
          0
         ],
         "xaxis": "x",
         "y": [
          -1655,
          -1655,
          -1665,
          -1665
         ],
         "yaxis": "y"
        },
        {
         "hoverinfo": "text",
         "marker": {
          "color": "rgb(255,220,0)"
         },
         "mode": "lines",
         "text": [
          "sinkies_sinkie_cheekopek_tiktoksgs_simps",
          "",
          "",
          "lmfaooo_oneshttpsiimgurcom51xq7hjpng_nab_fk_lkm"
         ],
         "type": "scatter",
         "x": [
          0,
          0.8988481624547139,
          0.8988481624547139,
          0.8105366696267567
         ],
         "xaxis": "x",
         "y": [
          -1645,
          -1645,
          -1660,
          -1660
         ],
         "yaxis": "y"
        },
        {
         "hoverinfo": "text",
         "marker": {
          "color": "rgb(255,220,0)"
         },
         "mode": "lines",
         "text": [
          "sleepy_sleep_sleeps_asleep_sleepoverfor",
          "",
          "",
          "lmfaooo_oneshttpsiimgurcom51xq7hjpng_nab_fk_lkm"
         ],
         "type": "scatter",
         "x": [
          0,
          0.9130732852495803,
          0.9130732852495803,
          0.8988481624547139
         ],
         "xaxis": "x",
         "y": [
          -1635,
          -1635,
          -1652.5,
          -1652.5
         ],
         "yaxis": "y"
        },
        {
         "hoverinfo": "text",
         "marker": {
          "color": "rgb(255,220,0)"
         },
         "mode": "lines",
         "text": [
          "sleepy_sleep_sleeps_asleep_sleepoverfor",
          "",
          "",
          "nsf_365_motherfuckers_pofma_pwn"
         ],
         "type": "scatter",
         "x": [
          0.9130732852495803,
          0.9292572413433847,
          0.9292572413433847,
          0
         ],
         "xaxis": "x",
         "y": [
          -1643.75,
          -1643.75,
          -1675,
          -1675
         ],
         "yaxis": "y"
        },
        {
         "hoverinfo": "text",
         "marker": {
          "color": "rgb(255,220,0)"
         },
         "mode": "lines",
         "text": [
          "homewrecker_cockroach_home_pussy_cock",
          "",
          "",
          "nsf_365_motherfuckers_pofma_pwn"
         ],
         "type": "scatter",
         "x": [
          0,
          0.9521142723731151,
          0.9521142723731151,
          0.9292572413433847
         ],
         "xaxis": "x",
         "y": [
          -1625,
          -1625,
          -1659.375,
          -1659.375
         ],
         "yaxis": "y"
        },
        {
         "hoverinfo": "text",
         "marker": {
          "color": "rgb(0,116,217)"
         },
         "mode": "lines",
         "text": [
          "homewrecker_cockroach_home_pussy_cock",
          "",
          "",
          "nsf_365_motherfuckers_pofma_pwn"
         ],
         "type": "scatter",
         "x": [
          1.023456870073898,
          1.0907118317166429,
          1.0907118317166429,
          0.9521142723731151
         ],
         "xaxis": "x",
         "y": [
          -1552.5,
          -1552.5,
          -1642.1875,
          -1642.1875
         ],
         "yaxis": "y"
        },
        {
         "hoverinfo": "text",
         "marker": {
          "color": "rgb(40,35,35)"
         },
         "mode": "lines",
         "text": [
          "lmao_fucccccccck_cul_reply_dk",
          "",
          "",
          "crappy_fcked_howunsingaporean_spooktober_punggol"
         ],
         "type": "scatter",
         "x": [
          0,
          0.9092331672829368,
          0.9092331672829368,
          0
         ],
         "xaxis": "x",
         "y": [
          -1695,
          -1695,
          -1705,
          -1705
         ],
         "yaxis": "y"
        },
        {
         "hoverinfo": "text",
         "marker": {
          "color": "rgb(40,35,35)"
         },
         "mode": "lines",
         "text": [
          "link_links_oy_hic_shill",
          "",
          "",
          "crappy_fcked_howunsingaporean_spooktober_punggol"
         ],
         "type": "scatter",
         "x": [
          0,
          0.9227143808426679,
          0.9227143808426679,
          0.9092331672829368
         ],
         "xaxis": "x",
         "y": [
          -1685,
          -1685,
          -1700,
          -1700
         ],
         "yaxis": "y"
        },
        {
         "hoverinfo": "text",
         "marker": {
          "color": "rgb(40,35,35)"
         },
         "mode": "lines",
         "text": [
          "kao_tcm_khaw_qian_wahhh",
          "",
          "",
          "cunt_knncb_wfh_fkn_kkj"
         ],
         "type": "scatter",
         "x": [
          0,
          0.913511345846488,
          0.913511345846488,
          0
         ],
         "xaxis": "x",
         "y": [
          -1715,
          -1715,
          -1725,
          -1725
         ],
         "yaxis": "y"
        },
        {
         "hoverinfo": "text",
         "marker": {
          "color": "rgb(40,35,35)"
         },
         "mode": "lines",
         "text": [
          "kao_tcm_khaw_qian_wahhh",
          "",
          "",
          "milf_stupid_silly_bum_goddamn"
         ],
         "type": "scatter",
         "x": [
          0.913511345846488,
          0.9359386426223301,
          0.9359386426223301,
          0
         ],
         "xaxis": "x",
         "y": [
          -1720,
          -1720,
          -1735,
          -1735
         ],
         "yaxis": "y"
        },
        {
         "hoverinfo": "text",
         "marker": {
          "color": "rgb(40,35,35)"
         },
         "mode": "lines",
         "text": [
          "kao_tcm_khaw_qian_wahhh",
          "",
          "",
          "milf_stupid_silly_bum_goddamn"
         ],
         "type": "scatter",
         "x": [
          0.9227143808426679,
          0.9598883938010174,
          0.9598883938010174,
          0.9359386426223301
         ],
         "xaxis": "x",
         "y": [
          -1692.5,
          -1692.5,
          -1727.5,
          -1727.5
         ],
         "yaxis": "y"
        },
        {
         "hoverinfo": "text",
         "marker": {
          "color": "rgb(40,35,35)"
         },
         "mode": "lines",
         "text": [
          "wow_lol_ohh_whoop_bully",
          "",
          "",
          "fearlessness_fear_intimidates_shame_missing"
         ],
         "type": "scatter",
         "x": [
          0,
          0.8417676729245216,
          0.8417676729245216,
          0
         ],
         "xaxis": "x",
         "y": [
          -1755,
          -1755,
          -1765,
          -1765
         ],
         "yaxis": "y"
        },
        {
         "hoverinfo": "text",
         "marker": {
          "color": "rgb(40,35,35)"
         },
         "mode": "lines",
         "text": [
          "triggered_lmao_stirred_ragehead_wusg",
          "",
          "",
          "account_apologise_apology_apologize_httpsimgurcoma332guamhttpsimgurcoma332guam"
         ],
         "type": "scatter",
         "x": [
          0,
          0.8652902105715616,
          0.8652902105715616,
          0
         ],
         "xaxis": "x",
         "y": [
          -1775,
          -1775,
          -1785,
          -1785
         ],
         "yaxis": "y"
        },
        {
         "hoverinfo": "text",
         "marker": {
          "color": "rgb(40,35,35)"
         },
         "mode": "lines",
         "text": [
          "triggered_lmao_stirred_ragehead_wusg",
          "",
          "",
          "account_apologise_apology_apologize_httpsimgurcoma332guamhttpsimgurcoma332guam"
         ],
         "type": "scatter",
         "x": [
          0.8417676729245216,
          0.8832629607562302,
          0.8832629607562302,
          0.8652902105715616
         ],
         "xaxis": "x",
         "y": [
          -1760,
          -1760,
          -1780,
          -1780
         ],
         "yaxis": "y"
        },
        {
         "hoverinfo": "text",
         "marker": {
          "color": "rgb(40,35,35)"
         },
         "mode": "lines",
         "text": [
          "lololol_tooooooo_ccp_cocksucker_scs",
          "",
          "",
          "account_apologise_apology_apologize_httpsimgurcoma332guamhttpsimgurcoma332guam"
         ],
         "type": "scatter",
         "x": [
          0,
          0.9027575967479431,
          0.9027575967479431,
          0.8832629607562302
         ],
         "xaxis": "x",
         "y": [
          -1745,
          -1745,
          -1770,
          -1770
         ],
         "yaxis": "y"
        },
        {
         "hoverinfo": "text",
         "marker": {
          "color": "rgb(40,35,35)"
         },
         "mode": "lines",
         "text": [
          "lololol_tooooooo_ccp_cocksucker_scs",
          "",
          "",
          "faggort_ufatasian3_martinez_fuckups_martin"
         ],
         "type": "scatter",
         "x": [
          0.9027575967479431,
          0.9232090348298972,
          0.9232090348298972,
          0
         ],
         "xaxis": "x",
         "y": [
          -1757.5,
          -1757.5,
          -1795,
          -1795
         ],
         "yaxis": "y"
        },
        {
         "hoverinfo": "text",
         "marker": {
          "color": "rgb(40,35,35)"
         },
         "mode": "lines",
         "text": [
          "lololol_tooooooo_ccp_cocksucker_scs",
          "",
          "",
          "faggort_ufatasian3_martinez_fuckups_martin"
         ],
         "type": "scatter",
         "x": [
          0.9598883938010174,
          0.9674293822115289,
          0.9674293822115289,
          0.9232090348298972
         ],
         "xaxis": "x",
         "y": [
          -1710,
          -1710,
          -1776.25,
          -1776.25
         ],
         "yaxis": "y"
        },
        {
         "hoverinfo": "text",
         "marker": {
          "color": "rgb(61,153,112)"
         },
         "mode": "lines",
         "text": [
          "cut_dick_throat_chuck_smack",
          "",
          "",
          "lock_lockdown_key_hole_lifeskill"
         ],
         "type": "scatter",
         "x": [
          0,
          0.8453696741297789,
          0.8453696741297789,
          0
         ],
         "xaxis": "x",
         "y": [
          -1805,
          -1805,
          -1815,
          -1815
         ],
         "yaxis": "y"
        },
        {
         "hoverinfo": "text",
         "marker": {
          "color": "rgb(61,153,112)"
         },
         "mode": "lines",
         "text": [
          "cut_dick_throat_chuck_smack",
          "",
          "",
          "tiaktiaktiaktiak_bkk_tiak_omfg_cheebai"
         ],
         "type": "scatter",
         "x": [
          0.8453696741297789,
          0.8970868611006312,
          0.8970868611006312,
          0
         ],
         "xaxis": "x",
         "y": [
          -1810,
          -1810,
          -1825,
          -1825
         ],
         "yaxis": "y"
        },
        {
         "hoverinfo": "text",
         "marker": {
          "color": "rgb(0,116,217)"
         },
         "mode": "lines",
         "text": [
          "cut_dick_throat_chuck_smack",
          "",
          "",
          "tiaktiaktiaktiak_bkk_tiak_omfg_cheebai"
         ],
         "type": "scatter",
         "x": [
          0.9674293822115289,
          1.051958690625069,
          1.051958690625069,
          0.8970868611006312
         ],
         "xaxis": "x",
         "y": [
          -1743.125,
          -1743.125,
          -1817.5,
          -1817.5
         ],
         "yaxis": "y"
        },
        {
         "hoverinfo": "text",
         "marker": {
          "color": "rgb(255,65,54)"
         },
         "mode": "lines",
         "text": [
          "real_reality_smdh_selfhating_gfy",
          "",
          "",
          "selfish_selfesteem_selfrighteous_selfhating_selfdeclared"
         ],
         "type": "scatter",
         "x": [
          0,
          0.8815008908717268,
          0.8815008908717268,
          0
         ],
         "xaxis": "x",
         "y": [
          -1835,
          -1835,
          -1845,
          -1845
         ],
         "yaxis": "y"
        },
        {
         "hoverinfo": "text",
         "marker": {
          "color": "rgb(35,205,205)"
         },
         "mode": "lines",
         "text": [
          "assholes_asshole_assholez_bully_stalker",
          "",
          "",
          "loser_losers_asshole_jealous_lmao"
         ],
         "type": "scatter",
         "x": [
          0,
          0.9225678520117895,
          0.9225678520117895,
          0
         ],
         "xaxis": "x",
         "y": [
          -1855,
          -1855,
          -1865,
          -1865
         ],
         "yaxis": "y"
        },
        {
         "hoverinfo": "text",
         "marker": {
          "color": "rgb(35,205,205)"
         },
         "mode": "lines",
         "text": [
          "dick_pussy_fuckinh_cock_suck",
          "",
          "",
          "pussy_dicks_dick_cock_buttcrack"
         ],
         "type": "scatter",
         "x": [
          0,
          0.8816769613632932,
          0.8816769613632932,
          0
         ],
         "xaxis": "x",
         "y": [
          -1885,
          -1885,
          -1895,
          -1895
         ],
         "yaxis": "y"
        },
        {
         "hoverinfo": "text",
         "marker": {
          "color": "rgb(35,205,205)"
         },
         "mode": "lines",
         "text": [
          "karen_bro_shitbag_cuck_karens",
          "",
          "",
          "pussy_dicks_dick_cock_buttcrack"
         ],
         "type": "scatter",
         "x": [
          0,
          0.9407648879739503,
          0.9407648879739503,
          0.8816769613632932
         ],
         "xaxis": "x",
         "y": [
          -1875,
          -1875,
          -1890,
          -1890
         ],
         "yaxis": "y"
        },
        {
         "hoverinfo": "text",
         "marker": {
          "color": "rgb(35,205,205)"
         },
         "mode": "lines",
         "text": [
          "karen_bro_shitbag_cuck_karens",
          "",
          "",
          "pussy_dicks_dick_cock_buttcrack"
         ],
         "type": "scatter",
         "x": [
          0.9225678520117895,
          0.9740946971318613,
          0.9740946971318613,
          0.9407648879739503
         ],
         "xaxis": "x",
         "y": [
          -1860,
          -1860,
          -1882.5,
          -1882.5
         ],
         "yaxis": "y"
        },
        {
         "hoverinfo": "text",
         "marker": {
          "color": "rgb(0,116,217)"
         },
         "mode": "lines",
         "text": [
          "karen_bro_shitbag_cuck_karens",
          "",
          "",
          "pussy_dicks_dick_cock_buttcrack"
         ],
         "type": "scatter",
         "x": [
          0.8815008908717268,
          1.0444898929208892,
          1.0444898929208892,
          0.9740946971318613
         ],
         "xaxis": "x",
         "y": [
          -1840,
          -1840,
          -1871.25,
          -1871.25
         ],
         "yaxis": "y"
        },
        {
         "hoverinfo": "text",
         "marker": {
          "color": "rgb(61,153,112)"
         },
         "mode": "lines",
         "text": [
          "like_cockroach_crush_cocktease_pussy",
          "",
          "",
          "cum_slut_deeserved_creampie_armpit"
         ],
         "type": "scatter",
         "x": [
          0,
          0.9033184378415826,
          0.9033184378415826,
          0
         ],
         "xaxis": "x",
         "y": [
          -1915,
          -1915,
          -1925,
          -1925
         ],
         "yaxis": "y"
        },
        {
         "hoverinfo": "text",
         "marker": {
          "color": "rgb(61,153,112)"
         },
         "mode": "lines",
         "text": [
          "scumbags_scum_disgusting_pofmaed_dicks",
          "",
          "",
          "cum_slut_deeserved_creampie_armpit"
         ],
         "type": "scatter",
         "x": [
          0,
          0.9496660691704548,
          0.9496660691704548,
          0.9033184378415826
         ],
         "xaxis": "x",
         "y": [
          -1905,
          -1905,
          -1920,
          -1920
         ],
         "yaxis": "y"
        },
        {
         "hoverinfo": "text",
         "marker": {
          "color": "rgb(0,116,217)"
         },
         "mode": "lines",
         "text": [
          "scumbags_scum_disgusting_pofmaed_dicks",
          "",
          "",
          "cum_slut_deeserved_creampie_armpit"
         ],
         "type": "scatter",
         "x": [
          1.0444898929208892,
          1.079462162324438,
          1.079462162324438,
          0.9496660691704548
         ],
         "xaxis": "x",
         "y": [
          -1855.625,
          -1855.625,
          -1912.5,
          -1912.5
         ],
         "yaxis": "y"
        },
        {
         "hoverinfo": "text",
         "marker": {
          "color": "rgb(0,116,217)"
         },
         "mode": "lines",
         "text": [
          "scumbags_scum_disgusting_pofmaed_dicks",
          "",
          "",
          "cum_slut_deeserved_creampie_armpit"
         ],
         "type": "scatter",
         "x": [
          1.051958690625069,
          1.1084199436180902,
          1.1084199436180902,
          1.079462162324438
         ],
         "xaxis": "x",
         "y": [
          -1780.3125,
          -1780.3125,
          -1884.0625,
          -1884.0625
         ],
         "yaxis": "y"
        },
        {
         "hoverinfo": "text",
         "marker": {
          "color": "rgb(0,116,217)"
         },
         "mode": "lines",
         "text": [
          "scumbags_scum_disgusting_pofmaed_dicks",
          "",
          "",
          "cum_slut_deeserved_creampie_armpit"
         ],
         "type": "scatter",
         "x": [
          1.0907118317166429,
          1.1448398041627699,
          1.1448398041627699,
          1.1084199436180902
         ],
         "xaxis": "x",
         "y": [
          -1597.34375,
          -1597.34375,
          -1832.1875,
          -1832.1875
         ],
         "yaxis": "y"
        },
        {
         "hoverinfo": "text",
         "marker": {
          "color": "rgb(255,65,54)"
         },
         "mode": "lines",
         "text": [
          "trashbag_souls_cruel_shat_scorch",
          "",
          "",
          "death_dying_lethal_dead_kill"
         ],
         "type": "scatter",
         "x": [
          0,
          0.833549166315048,
          0.833549166315048,
          0
         ],
         "xaxis": "x",
         "y": [
          -1935,
          -1935,
          -1945,
          -1945
         ],
         "yaxis": "y"
        },
        {
         "hoverinfo": "text",
         "marker": {
          "color": "rgb(35,205,205)"
         },
         "mode": "lines",
         "text": [
          "hang_grab_pull_put_fica",
          "",
          "",
          "hush_shut_singh_geh_sh"
         ],
         "type": "scatter",
         "x": [
          0,
          0.8872423073614218,
          0.8872423073614218,
          0
         ],
         "xaxis": "x",
         "y": [
          -1955,
          -1955,
          -1965,
          -1965
         ],
         "yaxis": "y"
        },
        {
         "hoverinfo": "text",
         "marker": {
          "color": "rgb(0,116,217)"
         },
         "mode": "lines",
         "text": [
          "hang_grab_pull_put_fica",
          "",
          "",
          "hush_shut_singh_geh_sh"
         ],
         "type": "scatter",
         "x": [
          0.833549166315048,
          1.0036229517594382,
          1.0036229517594382,
          0.8872423073614218
         ],
         "xaxis": "x",
         "y": [
          -1940,
          -1940,
          -1960,
          -1960
         ],
         "yaxis": "y"
        },
        {
         "hoverinfo": "text",
         "marker": {
          "color": "rgb(0,116,217)"
         },
         "mode": "lines",
         "text": [
          "hang_grab_pull_put_fica",
          "",
          "",
          "hush_shut_singh_geh_sh"
         ],
         "type": "scatter",
         "x": [
          1.1448398041627699,
          1.1518693724847808,
          1.1518693724847808,
          1.0036229517594382
         ],
         "xaxis": "x",
         "y": [
          -1714.765625,
          -1714.765625,
          -1950,
          -1950
         ],
         "yaxis": "y"
        },
        {
         "hoverinfo": "text",
         "marker": {
          "color": "rgb(0,116,217)"
         },
         "mode": "lines",
         "text": [
          "hang_grab_pull_put_fica",
          "",
          "",
          "hush_shut_singh_geh_sh"
         ],
         "type": "scatter",
         "x": [
          1.2950703975213775,
          1.3298583052059934,
          1.3298583052059934,
          1.1518693724847808
         ],
         "xaxis": "x",
         "y": [
          -616.6403961181641,
          -616.6403961181641,
          -1832.3828125,
          -1832.3828125
         ],
         "yaxis": "y"
        },
        {
         "hoverinfo": "text",
         "marker": {
          "color": "rgb(0,116,217)"
         },
         "mode": "lines",
         "text": [
          "hang_grab_pull_put_fica",
          "",
          "",
          "hush_shut_singh_geh_sh"
         ],
         "type": "scatter",
         "x": [
          0.8026820935752192,
          1.3911663009042896,
          1.3911663009042896,
          1.3298583052059934
         ],
         "xaxis": "x",
         "y": [
          -462.5,
          -462.5,
          -1224.511604309082,
          -1224.511604309082
         ],
         "yaxis": "y"
        },
        {
         "hoverinfo": "text",
         "marker": {
          "color": "rgb(133,20,75)"
         },
         "mode": "lines",
         "text": [
          "idiots_fools_idiot_stupid_dumber",
          "",
          "",
          "dumbfucks_dumb_stupid_stupidity_idiot"
         ],
         "type": "scatter",
         "x": [
          0,
          0.862645948284833,
          0.862645948284833,
          0
         ],
         "xaxis": "x",
         "y": [
          -1975,
          -1975,
          -1985,
          -1985
         ],
         "yaxis": "y"
        },
        {
         "hoverinfo": "text",
         "marker": {
          "color": "rgb(133,20,75)"
         },
         "mode": "lines",
         "text": [
          "reply_replying_answer_dumb_answers",
          "",
          "",
          "dumb_stupid_idiot_dumbest_fool"
         ],
         "type": "scatter",
         "x": [
          0,
          0.7130170160647322,
          0.7130170160647322,
          0
         ],
         "xaxis": "x",
         "y": [
          -2015,
          -2015,
          -2025,
          -2025
         ],
         "yaxis": "y"
        },
        {
         "hoverinfo": "text",
         "marker": {
          "color": "rgb(133,20,75)"
         },
         "mode": "lines",
         "text": [
          "research_dumbfck_bitching_dumb_idiot",
          "",
          "",
          "dumb_stupid_idiot_dumbest_fool"
         ],
         "type": "scatter",
         "x": [
          0,
          0.7810874578859146,
          0.7810874578859146,
          0.7130170160647322
         ],
         "xaxis": "x",
         "y": [
          -2005,
          -2005,
          -2020,
          -2020
         ],
         "yaxis": "y"
        },
        {
         "hoverinfo": "text",
         "marker": {
          "color": "rgb(133,20,75)"
         },
         "mode": "lines",
         "text": [
          "comment_commenter_commenting_commenters_comments",
          "",
          "",
          "dumb_stupid_idiot_dumbest_fool"
         ],
         "type": "scatter",
         "x": [
          0,
          0.8430876318293467,
          0.8430876318293467,
          0.7810874578859146
         ],
         "xaxis": "x",
         "y": [
          -1995,
          -1995,
          -2012.5,
          -2012.5
         ],
         "yaxis": "y"
        },
        {
         "hoverinfo": "text",
         "marker": {
          "color": "rgb(133,20,75)"
         },
         "mode": "lines",
         "text": [
          "comment_commenter_commenting_commenters_comments",
          "",
          "",
          "intelligent_dumb_intelligence_intellect_smart"
         ],
         "type": "scatter",
         "x": [
          0.8430876318293467,
          0.8771937908184226,
          0.8771937908184226,
          0
         ],
         "xaxis": "x",
         "y": [
          -2003.75,
          -2003.75,
          -2035,
          -2035
         ],
         "yaxis": "y"
        },
        {
         "hoverinfo": "text",
         "marker": {
          "color": "rgb(133,20,75)"
         },
         "mode": "lines",
         "text": [
          "comment_commenter_commenting_commenters_comments",
          "",
          "",
          "butthurt_hahaha_笨蛋_hmmm_stupid"
         ],
         "type": "scatter",
         "x": [
          0.8771937908184226,
          0.908676780549427,
          0.908676780549427,
          0
         ],
         "xaxis": "x",
         "y": [
          -2019.375,
          -2019.375,
          -2045,
          -2045
         ],
         "yaxis": "y"
        },
        {
         "hoverinfo": "text",
         "marker": {
          "color": "rgb(133,20,75)"
         },
         "mode": "lines",
         "text": [
          "comment_commenter_commenting_commenters_comments",
          "",
          "",
          "butthurt_hahaha_笨蛋_hmmm_stupid"
         ],
         "type": "scatter",
         "x": [
          0.862645948284833,
          0.9444212788817269,
          0.9444212788817269,
          0.908676780549427
         ],
         "xaxis": "x",
         "y": [
          -1980,
          -1980,
          -2032.1875,
          -2032.1875
         ],
         "yaxis": "y"
        },
        {
         "hoverinfo": "text",
         "marker": {
          "color": "rgb(0,116,217)"
         },
         "mode": "lines",
         "text": [
          "comment_commenter_commenting_commenters_comments",
          "",
          "",
          "butthurt_hahaha_笨蛋_hmmm_stupid"
         ],
         "type": "scatter",
         "x": [
          1.3911663009042896,
          1.3996649466174624,
          1.3996649466174624,
          0.9444212788817269
         ],
         "xaxis": "x",
         "y": [
          -843.505802154541,
          -843.505802154541,
          -2006.09375,
          -2006.09375
         ],
         "yaxis": "y"
        },
        {
         "hoverinfo": "text",
         "marker": {
          "color": "rgb(255,220,0)"
         },
         "mode": "lines",
         "text": [
          "drugs_drug_drugsex_legalization_drugschaos",
          "",
          "",
          "drugs_drug_druglords_heroin_druggie"
         ],
         "type": "scatter",
         "x": [
          0,
          0.4591861218327581,
          0.4591861218327581,
          0
         ],
         "xaxis": "x",
         "y": [
          -2055,
          -2055,
          -2065,
          -2065
         ],
         "yaxis": "y"
        },
        {
         "hoverinfo": "text",
         "marker": {
          "color": "rgb(255,220,0)"
         },
         "mode": "lines",
         "text": [
          "drugs_drug_drugsex_legalization_drugschaos",
          "",
          "",
          "penalty_incarceration_imprisonment_murder_prison"
         ],
         "type": "scatter",
         "x": [
          0.4591861218327581,
          0.8624448878233104,
          0.8624448878233104,
          0
         ],
         "xaxis": "x",
         "y": [
          -2060,
          -2060,
          -2075,
          -2075
         ],
         "yaxis": "y"
        },
        {
         "hoverinfo": "text",
         "marker": {
          "color": "rgb(40,35,35)"
         },
         "mode": "lines",
         "text": [
          "jail_prison_imprisonment_prisoners_penalty",
          "",
          "",
          "jail_prison_jailed_arrestable_punishment"
         ],
         "type": "scatter",
         "x": [
          0,
          0.5743897400535968,
          0.5743897400535968,
          0
         ],
         "xaxis": "x",
         "y": [
          -2085,
          -2085,
          -2095,
          -2095
         ],
         "yaxis": "y"
        },
        {
         "hoverinfo": "text",
         "marker": {
          "color": "rgb(0,116,217)"
         },
         "mode": "lines",
         "text": [
          "jail_prison_imprisonment_prisoners_penalty",
          "",
          "",
          "jail_prison_jailed_arrestable_punishment"
         ],
         "type": "scatter",
         "x": [
          0.8624448878233104,
          1.154810083499234,
          1.154810083499234,
          0.5743897400535968
         ],
         "xaxis": "x",
         "y": [
          -2067.5,
          -2067.5,
          -2090,
          -2090
         ],
         "yaxis": "y"
        },
        {
         "hoverinfo": "text",
         "marker": {
          "color": "rgb(0,116,217)"
         },
         "mode": "lines",
         "text": [
          "jail_prison_imprisonment_prisoners_penalty",
          "",
          "",
          "jail_prison_jailed_arrestable_punishment"
         ],
         "type": "scatter",
         "x": [
          1.3996649466174624,
          1.4212284392829735,
          1.4212284392829735,
          1.154810083499234
         ],
         "xaxis": "x",
         "y": [
          -1424.7997760772705,
          -1424.7997760772705,
          -2078.75,
          -2078.75
         ],
         "yaxis": "y"
        },
        {
         "hoverinfo": "text",
         "marker": {
          "color": "rgb(0,116,217)"
         },
         "mode": "lines",
         "text": [
          "jail_prison_imprisonment_prisoners_penalty",
          "",
          "",
          "jail_prison_jailed_arrestable_punishment"
         ],
         "type": "scatter",
         "x": [
          1.331878114530855,
          1.4890992044098224,
          1.4890992044098224,
          1.4212284392829735
         ],
         "xaxis": "x",
         "y": [
          -213.4375,
          -213.4375,
          -1751.7748880386353,
          -1751.7748880386353
         ],
         "yaxis": "y"
        },
        {
         "hoverinfo": "text",
         "marker": {
          "color": "rgb(61,153,112)"
         },
         "mode": "lines",
         "text": [
          "retirement_women_birthrate_birthing_offspring",
          "",
          "",
          "abortion_maternity_abort_pregnancies_pregnancy"
         ],
         "type": "scatter",
         "x": [
          0,
          0.7584778293418992,
          0.7584778293418992,
          0
         ],
         "xaxis": "x",
         "y": [
          -2105,
          -2105,
          -2115,
          -2115
         ],
         "yaxis": "y"
        },
        {
         "hoverinfo": "text",
         "marker": {
          "color": "rgb(61,153,112)"
         },
         "mode": "lines",
         "text": [
          "retirement_women_birthrate_birthing_offspring",
          "",
          "",
          "abortions_abortion_abortionist_abort_pregnancy"
         ],
         "type": "scatter",
         "x": [
          0.7584778293418992,
          0.8729232856692718,
          0.8729232856692718,
          0
         ],
         "xaxis": "x",
         "y": [
          -2110,
          -2110,
          -2125,
          -2125
         ],
         "yaxis": "y"
        },
        {
         "hoverinfo": "text",
         "marker": {
          "color": "rgb(255,65,54)"
         },
         "mode": "lines",
         "text": [
          "parents_parent_family_daughters_dad",
          "",
          "",
          "parents_children_kids_family_child"
         ],
         "type": "scatter",
         "x": [
          0,
          0.6867187152504236,
          0.6867187152504236,
          0
         ],
         "xaxis": "x",
         "y": [
          -2155,
          -2155,
          -2165,
          -2165
         ],
         "yaxis": "y"
        },
        {
         "hoverinfo": "text",
         "marker": {
          "color": "rgb(255,65,54)"
         },
         "mode": "lines",
         "text": [
          "childishness_kid_kids_childs_child",
          "",
          "",
          "parents_children_kids_family_child"
         ],
         "type": "scatter",
         "x": [
          0,
          0.7978531764413658,
          0.7978531764413658,
          0.6867187152504236
         ],
         "xaxis": "x",
         "y": [
          -2145,
          -2145,
          -2160,
          -2160
         ],
         "yaxis": "y"
        },
        {
         "hoverinfo": "text",
         "marker": {
          "color": "rgb(255,65,54)"
         },
         "mode": "lines",
         "text": [
          "tattoos_tattoo_nerdy_naked_ahaha",
          "",
          "",
          "parents_children_kids_family_child"
         ],
         "type": "scatter",
         "x": [
          0,
          0.9079540070742431,
          0.9079540070742431,
          0.7978531764413658
         ],
         "xaxis": "x",
         "y": [
          -2135,
          -2135,
          -2152.5,
          -2152.5
         ],
         "yaxis": "y"
        },
        {
         "hoverinfo": "text",
         "marker": {
          "color": "rgb(35,205,205)"
         },
         "mode": "lines",
         "text": [
          "dad_father_dads_baba_parents",
          "",
          "",
          "momma_mommy_mom_moms_mummy"
         ],
         "type": "scatter",
         "x": [
          0,
          0.7895040986652613,
          0.7895040986652613,
          0
         ],
         "xaxis": "x",
         "y": [
          -2175,
          -2175,
          -2185,
          -2185
         ],
         "yaxis": "y"
        },
        {
         "hoverinfo": "text",
         "marker": {
          "color": "rgb(0,116,217)"
         },
         "mode": "lines",
         "text": [
          "dad_father_dads_baba_parents",
          "",
          "",
          "momma_mommy_mom_moms_mummy"
         ],
         "type": "scatter",
         "x": [
          0.9079540070742431,
          1.0118434902088056,
          1.0118434902088056,
          0.7895040986652613
         ],
         "xaxis": "x",
         "y": [
          -2143.75,
          -2143.75,
          -2180,
          -2180
         ],
         "yaxis": "y"
        },
        {
         "hoverinfo": "text",
         "marker": {
          "color": "rgb(0,116,217)"
         },
         "mode": "lines",
         "text": [
          "dad_father_dads_baba_parents",
          "",
          "",
          "momma_mommy_mom_moms_mummy"
         ],
         "type": "scatter",
         "x": [
          0.8729232856692718,
          1.1106552696098873,
          1.1106552696098873,
          1.0118434902088056
         ],
         "xaxis": "x",
         "y": [
          -2117.5,
          -2117.5,
          -2161.875,
          -2161.875
         ],
         "yaxis": "y"
        },
        {
         "hoverinfo": "text",
         "marker": {
          "color": "rgb(61,153,112)"
         },
         "mode": "lines",
         "text": [
          "age_aged_underaged_20s_adult",
          "",
          "",
          "older_grandma_younger_oldest_grandmother"
         ],
         "type": "scatter",
         "x": [
          0,
          0.8080816307625546,
          0.8080816307625546,
          0
         ],
         "xaxis": "x",
         "y": [
          -2205,
          -2205,
          -2215,
          -2215
         ],
         "yaxis": "y"
        },
        {
         "hoverinfo": "text",
         "marker": {
          "color": "rgb(61,153,112)"
         },
         "mode": "lines",
         "text": [
          "age_aged_underaged_20s_adult",
          "",
          "",
          "youths_youth_youngsters_teenagers_teens"
         ],
         "type": "scatter",
         "x": [
          0.8080816307625546,
          0.8742341003421534,
          0.8742341003421534,
          0
         ],
         "xaxis": "x",
         "y": [
          -2210,
          -2210,
          -2225,
          -2225
         ],
         "yaxis": "y"
        },
        {
         "hoverinfo": "text",
         "marker": {
          "color": "rgb(61,153,112)"
         },
         "mode": "lines",
         "text": [
          "grandma_grandmother_granny_grandmothers_grandparents",
          "",
          "",
          "youths_youth_youngsters_teenagers_teens"
         ],
         "type": "scatter",
         "x": [
          0,
          0.9522512733620415,
          0.9522512733620415,
          0.8742341003421534
         ],
         "xaxis": "x",
         "y": [
          -2195,
          -2195,
          -2217.5,
          -2217.5
         ],
         "yaxis": "y"
        },
        {
         "hoverinfo": "text",
         "marker": {
          "color": "rgb(255,65,54)"
         },
         "mode": "lines",
         "text": [
          "elderly_seniors_old_senior_aunties",
          "",
          "",
          "elderly_elderlys_olds_old_elders"
         ],
         "type": "scatter",
         "x": [
          0,
          0.6079428003177365,
          0.6079428003177365,
          0
         ],
         "xaxis": "x",
         "y": [
          -2235,
          -2235,
          -2245,
          -2245
         ],
         "yaxis": "y"
        },
        {
         "hoverinfo": "text",
         "marker": {
          "color": "rgb(255,65,54)"
         },
         "mode": "lines",
         "text": [
          "elderly_seniors_old_senior_aunties",
          "",
          "",
          "elderly_retirements_seniors_older_old"
         ],
         "type": "scatter",
         "x": [
          0.6079428003177365,
          0.7364771369761767,
          0.7364771369761767,
          0
         ],
         "xaxis": "x",
         "y": [
          -2240,
          -2240,
          -2255,
          -2255
         ],
         "yaxis": "y"
        },
        {
         "hoverinfo": "text",
         "marker": {
          "color": "rgb(0,116,217)"
         },
         "mode": "lines",
         "text": [
          "elderly_seniors_old_senior_aunties",
          "",
          "",
          "elderly_retirements_seniors_older_old"
         ],
         "type": "scatter",
         "x": [
          0.9522512733620415,
          1.0372100849037331,
          1.0372100849037331,
          0.7364771369761767
         ],
         "xaxis": "x",
         "y": [
          -2206.25,
          -2206.25,
          -2247.5,
          -2247.5
         ],
         "yaxis": "y"
        },
        {
         "hoverinfo": "text",
         "marker": {
          "color": "rgb(35,205,205)"
         },
         "mode": "lines",
         "text": [
          "boomers_boomer_millennials_millenials_millennial",
          "",
          "",
          "strawberry_strawberries_dingleberry_generation_generations"
         ],
         "type": "scatter",
         "x": [
          0,
          0.7473411958178015,
          0.7473411958178015,
          0
         ],
         "xaxis": "x",
         "y": [
          -2265,
          -2265,
          -2275,
          -2275
         ],
         "yaxis": "y"
        },
        {
         "hoverinfo": "text",
         "marker": {
          "color": "rgb(0,116,217)"
         },
         "mode": "lines",
         "text": [
          "boomers_boomer_millennials_millenials_millennial",
          "",
          "",
          "strawberry_strawberries_dingleberry_generation_generations"
         ],
         "type": "scatter",
         "x": [
          1.0372100849037331,
          1.0858499353892785,
          1.0858499353892785,
          0.7473411958178015
         ],
         "xaxis": "x",
         "y": [
          -2226.875,
          -2226.875,
          -2270,
          -2270
         ],
         "yaxis": "y"
        },
        {
         "hoverinfo": "text",
         "marker": {
          "color": "rgb(0,116,217)"
         },
         "mode": "lines",
         "text": [
          "boomers_boomer_millennials_millenials_millennial",
          "",
          "",
          "strawberry_strawberries_dingleberry_generation_generations"
         ],
         "type": "scatter",
         "x": [
          1.1106552696098873,
          1.3594425486936814,
          1.3594425486936814,
          1.0858499353892785
         ],
         "xaxis": "x",
         "y": [
          -2139.6875,
          -2139.6875,
          -2248.4375,
          -2248.4375
         ],
         "yaxis": "y"
        },
        {
         "hoverinfo": "text",
         "marker": {
          "color": "rgb(0,116,217)"
         },
         "mode": "lines",
         "text": [
          "boomers_boomer_millennials_millenials_millennial",
          "",
          "",
          "strawberry_strawberries_dingleberry_generation_generations"
         ],
         "type": "scatter",
         "x": [
          1.4890992044098224,
          1.5344772222500662,
          1.5344772222500662,
          1.3594425486936814
         ],
         "xaxis": "x",
         "y": [
          -982.6061940193176,
          -982.6061940193176,
          -2194.0625,
          -2194.0625
         ],
         "yaxis": "y"
        },
        {
         "hoverinfo": "text",
         "marker": {
          "color": "rgb(133,20,75)"
         },
         "mode": "lines",
         "text": [
          "malaysians_malaysian_malaysia_malaysias_malaya",
          "",
          "",
          "malaysians_singaporeans_malaysian_singaporean_malayisans"
         ],
         "type": "scatter",
         "x": [
          0,
          0.39294067653293574,
          0.39294067653293574,
          0
         ],
         "xaxis": "x",
         "y": [
          -2295,
          -2295,
          -2305,
          -2305
         ],
         "yaxis": "y"
        },
        {
         "hoverinfo": "text",
         "marker": {
          "color": "rgb(133,20,75)"
         },
         "mode": "lines",
         "text": [
          "malaysians_malaysian_malaysia_malays_malaymuslim",
          "",
          "",
          "malaysians_singaporeans_malaysian_singaporean_malayisans"
         ],
         "type": "scatter",
         "x": [
          0,
          0.6621247417892424,
          0.6621247417892424,
          0.39294067653293574
         ],
         "xaxis": "x",
         "y": [
          -2285,
          -2285,
          -2300,
          -2300
         ],
         "yaxis": "y"
        },
        {
         "hoverinfo": "text",
         "marker": {
          "color": "rgb(255,220,0)"
         },
         "mode": "lines",
         "text": [
          "viruses_virus_virusdenier_infected_flu",
          "",
          "",
          "virus_vaccineit_viral_vaccines_china"
         ],
         "type": "scatter",
         "x": [
          0,
          0.5000416852300102,
          0.5000416852300102,
          0
         ],
         "xaxis": "x",
         "y": [
          -2315,
          -2315,
          -2325,
          -2325
         ],
         "yaxis": "y"
        },
        {
         "hoverinfo": "text",
         "marker": {
          "color": "rgb(255,220,0)"
         },
         "mode": "lines",
         "text": [
          "viruses_virus_virusdenier_infected_flu",
          "",
          "",
          "vaccinations_vaccines_vaccination_vaccine_vaccinate"
         ],
         "type": "scatter",
         "x": [
          0.5000416852300102,
          0.8440744164899312,
          0.8440744164899312,
          0
         ],
         "xaxis": "x",
         "y": [
          -2320,
          -2320,
          -2335,
          -2335
         ],
         "yaxis": "y"
        },
        {
         "hoverinfo": "text",
         "marker": {
          "color": "rgb(40,35,35)"
         },
         "mode": "lines",
         "text": [
          "asians_asian_asia_caucasian_womanwhite",
          "",
          "",
          "asian_asiatic_asians_asia_japanese"
         ],
         "type": "scatter",
         "x": [
          0,
          0.5315081995064624,
          0.5315081995064624,
          0
         ],
         "xaxis": "x",
         "y": [
          -2355,
          -2355,
          -2365,
          -2365
         ],
         "yaxis": "y"
        },
        {
         "hoverinfo": "text",
         "marker": {
          "color": "rgb(40,35,35)"
         },
         "mode": "lines",
         "text": [
          "whiteness_whites_caucasians_caucasian_white",
          "",
          "",
          "asian_asiatic_asians_asia_japanese"
         ],
         "type": "scatter",
         "x": [
          0,
          0.8438900954274472,
          0.8438900954274472,
          0.5315081995064624
         ],
         "xaxis": "x",
         "y": [
          -2345,
          -2345,
          -2360,
          -2360
         ],
         "yaxis": "y"
        },
        {
         "hoverinfo": "text",
         "marker": {
          "color": "rgb(61,153,112)"
         },
         "mode": "lines",
         "text": [
          "malaysindianschinese_malaysianchinese_chinesemalay_racial_chinese",
          "",
          "",
          "minority_minorities_minoritiiiessss_majority_less"
         ],
         "type": "scatter",
         "x": [
          0,
          0.8974831133338227,
          0.8974831133338227,
          0
         ],
         "xaxis": "x",
         "y": [
          -2385,
          -2385,
          -2395,
          -2395
         ],
         "yaxis": "y"
        },
        {
         "hoverinfo": "text",
         "marker": {
          "color": "rgb(61,153,112)"
         },
         "mode": "lines",
         "text": [
          "pm_ready_nonchinese_chinese_singapore",
          "",
          "",
          "minority_minorities_minoritiiiessss_majority_less"
         ],
         "type": "scatter",
         "x": [
          0,
          0.964701015956532,
          0.964701015956532,
          0.8974831133338227
         ],
         "xaxis": "x",
         "y": [
          -2375,
          -2375,
          -2390,
          -2390
         ],
         "yaxis": "y"
        },
        {
         "hoverinfo": "text",
         "marker": {
          "color": "rgb(255,65,54)"
         },
         "mode": "lines",
         "text": [
          "voting_voters_vote_ballot_ballots",
          "",
          "",
          "populist_fascistic_politicians_politician_political"
         ],
         "type": "scatter",
         "x": [
          0,
          0.8108875121070055,
          0.8108875121070055,
          0
         ],
         "xaxis": "x",
         "y": [
          -2415,
          -2415,
          -2425,
          -2425
         ],
         "yaxis": "y"
        },
        {
         "hoverinfo": "text",
         "marker": {
          "color": "rgb(255,65,54)"
         },
         "mode": "lines",
         "text": [
          "没有行动党没有新加坡_singapores_singaporeans_singaporeraw_singapore",
          "",
          "",
          "populist_fascistic_politicians_politician_political"
         ],
         "type": "scatter",
         "x": [
          0,
          0.8945975082865362,
          0.8945975082865362,
          0.8108875121070055
         ],
         "xaxis": "x",
         "y": [
          -2405,
          -2405,
          -2420,
          -2420
         ],
         "yaxis": "y"
        },
        {
         "hoverinfo": "text",
         "marker": {
          "color": "rgb(35,205,205)"
         },
         "mode": "lines",
         "text": [
          "social_wtf_community_fws_societies",
          "",
          "",
          "society_social_societiescountries_antisocial_sociable"
         ],
         "type": "scatter",
         "x": [
          0,
          0.8573723667268557,
          0.8573723667268557,
          0
         ],
         "xaxis": "x",
         "y": [
          -2435,
          -2435,
          -2445,
          -2445
         ],
         "yaxis": "y"
        },
        {
         "hoverinfo": "text",
         "marker": {
          "color": "rgb(35,205,205)"
         },
         "mode": "lines",
         "text": [
          "social_wtf_community_fws_societies",
          "",
          "",
          "groups_group_others_peopleforeignersexpats_friends"
         ],
         "type": "scatter",
         "x": [
          0.8573723667268557,
          0.8769225886822246,
          0.8769225886822246,
          0
         ],
         "xaxis": "x",
         "y": [
          -2440,
          -2440,
          -2455,
          -2455
         ],
         "yaxis": "y"
        },
        {
         "hoverinfo": "text",
         "marker": {
          "color": "rgb(0,116,217)"
         },
         "mode": "lines",
         "text": [
          "social_wtf_community_fws_societies",
          "",
          "",
          "groups_group_others_peopleforeignersexpats_friends"
         ],
         "type": "scatter",
         "x": [
          0.8945975082865362,
          1.0187808590751968,
          1.0187808590751968,
          0.8769225886822246
         ],
         "xaxis": "x",
         "y": [
          -2412.5,
          -2412.5,
          -2447.5,
          -2447.5
         ],
         "yaxis": "y"
        },
        {
         "hoverinfo": "text",
         "marker": {
          "color": "rgb(0,116,217)"
         },
         "mode": "lines",
         "text": [
          "social_wtf_community_fws_societies",
          "",
          "",
          "groups_group_others_peopleforeignersexpats_friends"
         ],
         "type": "scatter",
         "x": [
          0.964701015956532,
          1.0705206784510937,
          1.0705206784510937,
          1.0187808590751968
         ],
         "xaxis": "x",
         "y": [
          -2382.5,
          -2382.5,
          -2430,
          -2430
         ],
         "yaxis": "y"
        },
        {
         "hoverinfo": "text",
         "marker": {
          "color": "rgb(61,153,112)"
         },
         "mode": "lines",
         "text": [
          "christiansbuddhist_christians_christian_buddhism_buddhists",
          "",
          "",
          "muslims_christians_muslim_islamic_christianity"
         ],
         "type": "scatter",
         "x": [
          0,
          0.6541967671911082,
          0.6541967671911082,
          0
         ],
         "xaxis": "x",
         "y": [
          -2465,
          -2465,
          -2475,
          -2475
         ],
         "yaxis": "y"
        },
        {
         "hoverinfo": "text",
         "marker": {
          "color": "rgb(255,65,54)"
         },
         "mode": "lines",
         "text": [
          "foreigners_foreigner_immigrants_foreign_immigrant",
          "",
          "",
          "singaporeans_singaporean_singapores_singapore_foreigners"
         ],
         "type": "scatter",
         "x": [
          0,
          0.5606903925619877,
          0.5606903925619877,
          0
         ],
         "xaxis": "x",
         "y": [
          -2495,
          -2495,
          -2505,
          -2505
         ],
         "yaxis": "y"
        },
        {
         "hoverinfo": "text",
         "marker": {
          "color": "rgb(255,65,54)"
         },
         "mode": "lines",
         "text": [
          "foreigners_foreigner_immigrants_foreign_immigrant",
          "",
          "",
          "chinese_china_chinas_nonchinese_mandarin"
         ],
         "type": "scatter",
         "x": [
          0.5606903925619877,
          0.6997008364103905,
          0.6997008364103905,
          0
         ],
         "xaxis": "x",
         "y": [
          -2500,
          -2500,
          -2515,
          -2515
         ],
         "yaxis": "y"
        },
        {
         "hoverinfo": "text",
         "marker": {
          "color": "rgb(255,65,54)"
         },
         "mode": "lines",
         "text": [
          "minister_ministers_ministry_govt_government",
          "",
          "",
          "chinese_china_chinas_nonchinese_mandarin"
         ],
         "type": "scatter",
         "x": [
          0,
          0.8335572737781877,
          0.8335572737781877,
          0.6997008364103905
         ],
         "xaxis": "x",
         "y": [
          -2485,
          -2485,
          -2507.5,
          -2507.5
         ],
         "yaxis": "y"
        },
        {
         "hoverinfo": "text",
         "marker": {
          "color": "rgb(255,65,54)"
         },
         "mode": "lines",
         "text": [
          "minister_ministers_ministry_govt_government",
          "",
          "",
          "foreigners_foreign_foreigner_expatriates_overseas"
         ],
         "type": "scatter",
         "x": [
          0.8335572737781877,
          0.8897317080288536,
          0.8897317080288536,
          0
         ],
         "xaxis": "x",
         "y": [
          -2496.25,
          -2496.25,
          -2525,
          -2525
         ],
         "yaxis": "y"
        },
        {
         "hoverinfo": "text",
         "marker": {
          "color": "rgb(0,116,217)"
         },
         "mode": "lines",
         "text": [
          "minister_ministers_ministry_govt_government",
          "",
          "",
          "foreigners_foreign_foreigner_expatriates_overseas"
         ],
         "type": "scatter",
         "x": [
          0.6541967671911082,
          1.0855310364073338,
          1.0855310364073338,
          0.8897317080288536
         ],
         "xaxis": "x",
         "y": [
          -2470,
          -2470,
          -2510.625,
          -2510.625
         ],
         "yaxis": "y"
        },
        {
         "hoverinfo": "text",
         "marker": {
          "color": "rgb(0,116,217)"
         },
         "mode": "lines",
         "text": [
          "minister_ministers_ministry_govt_government",
          "",
          "",
          "foreigners_foreign_foreigner_expatriates_overseas"
         ],
         "type": "scatter",
         "x": [
          1.0705206784510937,
          1.133635872168763,
          1.133635872168763,
          1.0855310364073338
         ],
         "xaxis": "x",
         "y": [
          -2406.25,
          -2406.25,
          -2490.3125,
          -2490.3125
         ],
         "yaxis": "y"
        },
        {
         "hoverinfo": "text",
         "marker": {
          "color": "rgb(35,205,205)"
         },
         "mode": "lines",
         "text": [
          "korean_korea_southkorea_sgchinakorea_koreans",
          "",
          "",
          "japanese_japans_japnese_japanfucked_japan"
         ],
         "type": "scatter",
         "x": [
          0,
          0.7984801443677211,
          0.7984801443677211,
          0
         ],
         "xaxis": "x",
         "y": [
          -2535,
          -2535,
          -2545,
          -2545
         ],
         "yaxis": "y"
        },
        {
         "hoverinfo": "text",
         "marker": {
          "color": "rgb(133,20,75)"
         },
         "mode": "lines",
         "text": [
          "western_westerner_westernized_westerners_west",
          "",
          "",
          "flag_flags_flagshttpsmustsharenewscomsingaporeflagburjkhalifa_cultural_culturally"
         ],
         "type": "scatter",
         "x": [
          0,
          0.8494329462817376,
          0.8494329462817376,
          0
         ],
         "xaxis": "x",
         "y": [
          -2565,
          -2565,
          -2575,
          -2575
         ],
         "yaxis": "y"
        },
        {
         "hoverinfo": "text",
         "marker": {
          "color": "rgb(133,20,75)"
         },
         "mode": "lines",
         "text": [
          "colonialists_colonialism_colonialist_colonial_colonialised",
          "",
          "",
          "flag_flags_flagshttpsmustsharenewscomsingaporeflagburjkhalifa_cultural_culturally"
         ],
         "type": "scatter",
         "x": [
          0,
          0.9464679460204455,
          0.9464679460204455,
          0.8494329462817376
         ],
         "xaxis": "x",
         "y": [
          -2555,
          -2555,
          -2570,
          -2570
         ],
         "yaxis": "y"
        },
        {
         "hoverinfo": "text",
         "marker": {
          "color": "rgb(255,220,0)"
         },
         "mode": "lines",
         "text": [
          "africa_african_africans_nigeria_continent",
          "",
          "",
          "country_countrymen_countries_nation_patriot"
         ],
         "type": "scatter",
         "x": [
          0,
          0.8691427355324779,
          0.8691427355324779,
          0
         ],
         "xaxis": "x",
         "y": [
          -2585,
          -2585,
          -2595,
          -2595
         ],
         "yaxis": "y"
        },
        {
         "hoverinfo": "text",
         "marker": {
          "color": "rgb(255,220,0)"
         },
         "mode": "lines",
         "text": [
          "africa_african_africans_nigeria_continent",
          "",
          "",
          "americans_american_americas_america_usa"
         ],
         "type": "scatter",
         "x": [
          0.8691427355324779,
          0.9123968908536614,
          0.9123968908536614,
          0
         ],
         "xaxis": "x",
         "y": [
          -2590,
          -2590,
          -2605,
          -2605
         ],
         "yaxis": "y"
        },
        {
         "hoverinfo": "text",
         "marker": {
          "color": "rgb(255,220,0)"
         },
         "mode": "lines",
         "text": [
          "africa_african_africans_nigeria_continent",
          "",
          "",
          "firstworld_nations_world_countries_nation"
         ],
         "type": "scatter",
         "x": [
          0.9123968908536614,
          0.9277180008425332,
          0.9277180008425332,
          0
         ],
         "xaxis": "x",
         "y": [
          -2597.5,
          -2597.5,
          -2615,
          -2615
         ],
         "yaxis": "y"
        },
        {
         "hoverinfo": "text",
         "marker": {
          "color": "rgb(0,116,217)"
         },
         "mode": "lines",
         "text": [
          "africa_african_africans_nigeria_continent",
          "",
          "",
          "firstworld_nations_world_countries_nation"
         ],
         "type": "scatter",
         "x": [
          0.9464679460204455,
          1.0586818694039748,
          1.0586818694039748,
          0.9277180008425332
         ],
         "xaxis": "x",
         "y": [
          -2562.5,
          -2562.5,
          -2606.25,
          -2606.25
         ],
         "yaxis": "y"
        },
        {
         "hoverinfo": "text",
         "marker": {
          "color": "rgb(0,116,217)"
         },
         "mode": "lines",
         "text": [
          "africa_african_africans_nigeria_continent",
          "",
          "",
          "firstworld_nations_world_countries_nation"
         ],
         "type": "scatter",
         "x": [
          0.7984801443677211,
          1.0970537225268995,
          1.0970537225268995,
          1.0586818694039748
         ],
         "xaxis": "x",
         "y": [
          -2540,
          -2540,
          -2584.375,
          -2584.375
         ],
         "yaxis": "y"
        },
        {
         "hoverinfo": "text",
         "marker": {
          "color": "rgb(0,116,217)"
         },
         "mode": "lines",
         "text": [
          "africa_african_africans_nigeria_continent",
          "",
          "",
          "firstworld_nations_world_countries_nation"
         ],
         "type": "scatter",
         "x": [
          1.133635872168763,
          1.1803663423944437,
          1.1803663423944437,
          1.0970537225268995
         ],
         "xaxis": "x",
         "y": [
          -2448.28125,
          -2448.28125,
          -2562.1875,
          -2562.1875
         ],
         "yaxis": "y"
        },
        {
         "hoverinfo": "text",
         "marker": {
          "color": "rgb(40,35,35)"
         },
         "mode": "lines",
         "text": [
          "english_englishi_language_languages_grammar",
          "",
          "",
          "language_languages_english_anglo_accents"
         ],
         "type": "scatter",
         "x": [
          0,
          0.5374198880757339,
          0.5374198880757339,
          0
         ],
         "xaxis": "x",
         "y": [
          -2625,
          -2625,
          -2635,
          -2635
         ],
         "yaxis": "y"
        },
        {
         "hoverinfo": "text",
         "marker": {
          "color": "rgb(0,116,217)"
         },
         "mode": "lines",
         "text": [
          "english_englishi_language_languages_grammar",
          "",
          "",
          "language_languages_english_anglo_accents"
         ],
         "type": "scatter",
         "x": [
          1.1803663423944437,
          1.2336731944324035,
          1.2336731944324035,
          0.5374198880757339
         ],
         "xaxis": "x",
         "y": [
          -2505.234375,
          -2505.234375,
          -2630,
          -2630
         ],
         "yaxis": "y"
        },
        {
         "hoverinfo": "text",
         "marker": {
          "color": "rgb(0,116,217)"
         },
         "mode": "lines",
         "text": [
          "english_englishi_language_languages_grammar",
          "",
          "",
          "language_languages_english_anglo_accents"
         ],
         "type": "scatter",
         "x": [
          0.8438900954274472,
          1.2520895035873594,
          1.2520895035873594,
          1.2336731944324035
         ],
         "xaxis": "x",
         "y": [
          -2352.5,
          -2352.5,
          -2567.6171875,
          -2567.6171875
         ],
         "yaxis": "y"
        },
        {
         "hoverinfo": "text",
         "marker": {
          "color": "rgb(61,153,112)"
         },
         "mode": "lines",
         "text": [
          "indian_indias_indians_india_hindu",
          "",
          "",
          "indians_indian_singaporean_india_singapore"
         ],
         "type": "scatter",
         "x": [
          0,
          0.6118536700330757,
          0.6118536700330757,
          0
         ],
         "xaxis": "x",
         "y": [
          -2655,
          -2655,
          -2665,
          -2665
         ],
         "yaxis": "y"
        },
        {
         "hoverinfo": "text",
         "marker": {
          "color": "rgb(61,153,112)"
         },
         "mode": "lines",
         "text": [
          "banning_banned_ban_indians_indian",
          "",
          "",
          "indians_indian_singaporean_india_singapore"
         ],
         "type": "scatter",
         "x": [
          0,
          0.7494474455133616,
          0.7494474455133616,
          0.6118536700330757
         ],
         "xaxis": "x",
         "y": [
          -2645,
          -2645,
          -2660,
          -2660
         ],
         "yaxis": "y"
        },
        {
         "hoverinfo": "text",
         "marker": {
          "color": "rgb(0,116,217)"
         },
         "mode": "lines",
         "text": [
          "banning_banned_ban_indians_indian",
          "",
          "",
          "indians_indian_singaporean_india_singapore"
         ],
         "type": "scatter",
         "x": [
          1.2520895035873594,
          1.2643441309500911,
          1.2643441309500911,
          0.7494474455133616
         ],
         "xaxis": "x",
         "y": [
          -2460.05859375,
          -2460.05859375,
          -2652.5,
          -2652.5
         ],
         "yaxis": "y"
        },
        {
         "hoverinfo": "text",
         "marker": {
          "color": "rgb(0,116,217)"
         },
         "mode": "lines",
         "text": [
          "banning_banned_ban_indians_indian",
          "",
          "",
          "indians_indian_singaporean_india_singapore"
         ],
         "type": "scatter",
         "x": [
          0.8440744164899312,
          1.3244545594723371,
          1.3244545594723371,
          1.2643441309500911
         ],
         "xaxis": "x",
         "y": [
          -2327.5,
          -2327.5,
          -2556.279296875,
          -2556.279296875
         ],
         "yaxis": "y"
        },
        {
         "hoverinfo": "text",
         "marker": {
          "color": "rgb(255,65,54)"
         },
         "mode": "lines",
         "text": [
          "racism_racist_racists_singapores_singaporean",
          "",
          "",
          "racist_racists_racism_racial_racially"
         ],
         "type": "scatter",
         "x": [
          0,
          0.41094956502585656,
          0.41094956502585656,
          0
         ],
         "xaxis": "x",
         "y": [
          -2685,
          -2685,
          -2695,
          -2695
         ],
         "yaxis": "y"
        },
        {
         "hoverinfo": "text",
         "marker": {
          "color": "rgb(255,65,54)"
         },
         "mode": "lines",
         "text": [
          "racism_racist_racists_singapores_singaporean",
          "",
          "",
          "racism_racist_racially_racenationality_race"
         ],
         "type": "scatter",
         "x": [
          0.41094956502585656,
          0.8152615772170917,
          0.8152615772170917,
          0
         ],
         "xaxis": "x",
         "y": [
          -2690,
          -2690,
          -2705,
          -2705
         ],
         "yaxis": "y"
        },
        {
         "hoverinfo": "text",
         "marker": {
          "color": "rgb(255,65,54)"
         },
         "mode": "lines",
         "text": [
          "race_races_raced_sprint_issue",
          "",
          "",
          "racism_racist_racially_racenationality_race"
         ],
         "type": "scatter",
         "x": [
          0,
          0.8775616925417408,
          0.8775616925417408,
          0.8152615772170917
         ],
         "xaxis": "x",
         "y": [
          -2675,
          -2675,
          -2697.5,
          -2697.5
         ],
         "yaxis": "y"
        },
        {
         "hoverinfo": "text",
         "marker": {
          "color": "rgb(35,205,205)"
         },
         "mode": "lines",
         "text": [
          "xenophobicracist_xenophobia_xenophobic_racistdiscriminatory_racism",
          "",
          "",
          "xenophobic_xenophobia_xenophobes_xenophobe_aporophobia"
         ],
         "type": "scatter",
         "x": [
          0,
          0.5751073612849487,
          0.5751073612849487,
          0
         ],
         "xaxis": "x",
         "y": [
          -2715,
          -2715,
          -2725,
          -2725
         ],
         "yaxis": "y"
        },
        {
         "hoverinfo": "text",
         "marker": {
          "color": "rgb(0,116,217)"
         },
         "mode": "lines",
         "text": [
          "xenophobicracist_xenophobia_xenophobic_racistdiscriminatory_racism",
          "",
          "",
          "xenophobic_xenophobia_xenophobes_xenophobe_aporophobia"
         ],
         "type": "scatter",
         "x": [
          0.8775616925417408,
          1.0780127812769842,
          1.0780127812769842,
          0.5751073612849487
         ],
         "xaxis": "x",
         "y": [
          -2686.25,
          -2686.25,
          -2720,
          -2720
         ],
         "yaxis": "y"
        },
        {
         "hoverinfo": "text",
         "marker": {
          "color": "rgb(0,116,217)"
         },
         "mode": "lines",
         "text": [
          "xenophobicracist_xenophobia_xenophobic_racistdiscriminatory_racism",
          "",
          "",
          "xenophobic_xenophobia_xenophobes_xenophobe_aporophobia"
         ],
         "type": "scatter",
         "x": [
          1.3244545594723371,
          1.3560526566294127,
          1.3560526566294127,
          1.0780127812769842
         ],
         "xaxis": "x",
         "y": [
          -2441.8896484375,
          -2441.8896484375,
          -2703.125,
          -2703.125
         ],
         "yaxis": "y"
        },
        {
         "hoverinfo": "text",
         "marker": {
          "color": "rgb(0,116,217)"
         },
         "mode": "lines",
         "text": [
          "xenophobicracist_xenophobia_xenophobic_racistdiscriminatory_racism",
          "",
          "",
          "xenophobic_xenophobia_xenophobes_xenophobe_aporophobia"
         ],
         "type": "scatter",
         "x": [
          0.6621247417892424,
          1.393985373171223,
          1.393985373171223,
          1.3560526566294127
         ],
         "xaxis": "x",
         "y": [
          -2292.5,
          -2292.5,
          -2572.50732421875,
          -2572.50732421875
         ],
         "yaxis": "y"
        },
        {
         "hoverinfo": "text",
         "marker": {
          "color": "rgb(0,116,217)"
         },
         "mode": "lines",
         "text": [
          "xenophobicracist_xenophobia_xenophobic_racistdiscriminatory_racism",
          "",
          "",
          "xenophobic_xenophobia_xenophobes_xenophobe_aporophobia"
         ],
         "type": "scatter",
         "x": [
          1.5344772222500662,
          1.6736472223851175,
          1.6736472223851175,
          1.393985373171223
         ],
         "xaxis": "x",
         "y": [
          -1588.3343470096588,
          -1588.3343470096588,
          -2432.503662109375,
          -2432.503662109375
         ],
         "yaxis": "y"
        },
        {
         "hoverinfo": "text",
         "marker": {
          "color": "rgb(0,116,217)"
         },
         "mode": "lines",
         "text": [
          "xenophobicracist_xenophobia_xenophobic_racistdiscriminatory_racism",
          "",
          "",
          "xenophobic_xenophobia_xenophobes_xenophobe_aporophobia"
         ],
         "type": "scatter",
         "x": [
          1.3282098745984232,
          1.7478999120042733,
          1.7478999120042733,
          1.6736472223851175
         ],
         "xaxis": "x",
         "y": [
          -51.25,
          -51.25,
          -2010.419004559517,
          -2010.419004559517
         ],
         "yaxis": "y"
        },
        {
         "hoverinfo": "text",
         "hovertext": [
          "girl_girly_girls_boy_girl²",
          "feminism_sexism_feminists_feminist_sexist",
          "feminism_sexism_feminists_feminist_sexist",
          "feminism_sexism_feminists_feminist_sexist",
          "feminism_sexism_feminists_feminist_sexist",
          "singaporeans_cars_singaporean_drivers_singapore",
          "bill_rude_starhub_whymobile_fee",
          "bill_rude_starhub_whymobile_fee",
          "boss_bossperson_bosses_colleague_office",
          "boss_bossperson_bosses_colleague_office",
          "boss_bossperson_bosses_colleague_office",
          "cardboards_boxes_cardboard_collecting_collectors",
          "taxes_tax_taxpayer_taxation_landlords",
          "money_pocket_whack_suck_expensive",
          "scammers_urgh_scam_refund_bankrupt",
          "scammers_urgh_scam_refund_bankrupt",
          "scammers_urgh_scam_refund_bankrupt",
          "scammers_urgh_scam_refund_bankrupt",
          "middleclass_class_bourgeois_rich_classcant",
          "middleclass_class_bourgeois_rich_classcant",
          "middleclass_class_bourgeois_rich_classcant",
          "middleclass_class_bourgeois_rich_classcant",
          "riots_protests_protestors_protesters_policemen",
          "377a_377_369_351_everythingbut377a",
          "377a_377_369_351_everythingbut377a",
          "rape_rapist_raped_rapists_molested",
          "rape_rapist_raped_rapists_molested",
          "boobs_boob_breasts_breast_nipples",
          "boobs_boob_breasts_breast_nipples",
          "fox_newsworthy_newscasters_news_journalismblogging",
          "ccpee_jerbs_tiongcock_lick_ramitheasshole",
          "ccpee_jerbs_tiongcock_lick_ramitheasshole",
          "brain_brains_脑残_braincell_brainwashed",
          "low_lower_lowincome_loud_louder",
          "low_lower_lowincome_loud_louder",
          "leftie_lefthanded_eeeewwwwwwwww_rightwingers_shitstorm",
          "troll_trolling_trolls_trolled_stupids",
          "monkey_monkeys_monkeya_monkeypox_donkeys",
          "nazi_nazis_nazism_nazists_hitler",
          "nazi_nazis_nazism_nazists_hitler",
          "nazi_nazis_nazism_nazists_hitler",
          "nazi_nazis_nazism_nazists_hitler",
          "nazi_nazis_nazism_nazists_hitler",
          "terroristy_terrorist_terrorists_terrorism_bioterrorist",
          "terroristy_terrorist_terrorists_terrorism_bioterrorist",
          "terroristy_terrorist_terrorists_terrorism_bioterrorist",
          "blaming_victim_victims_pity_complaining",
          "blaming_victim_victims_pity_complaining",
          "stalk_life_army_survives_allthat",
          "stalk_life_army_survives_allthat",
          "stalk_life_army_survives_allthat",
          "airplane_aeroplane_plane_airline_stewardesses",
          "mask_masks_maskers_antimaskers_masked",
          "fat_fats_fatness_fatphobic_overweight",
          "fat_fats_fatness_fatphobic_overweight",
          "schizophrenic_schizophrenia_psychiatric_psychotic_psychiatrist",
          "schizophrenic_schizophrenia_psychiatric_psychotic_psychiatrist",
          "schizophrenic_schizophrenia_psychiatric_psychotic_psychiatrist",
          "beer_beers_whisky_drinking_alcoholism",
          "shoes_shoe_socks_boots_shoebox",
          "shoes_shoe_socks_boots_shoebox",
          "shoes_shoe_socks_boots_shoebox",
          "shoes_shoe_socks_boots_shoebox",
          "shoes_shoe_socks_boots_shoebox",
          "seat_seats_sit_old_aunties",
          "soap_dishwasher_wash_launder_wipe",
          "pizza_pizzas_grabfood_混口饭吃_foodpanda",
          "pizza_pizzas_grabfood_混口饭吃_foodpanda",
          "pizza_pizzas_grabfood_混口饭吃_foodpanda",
          "pizza_pizzas_grabfood_混口饭吃_foodpanda",
          "pizza_pizzas_grabfood_混口饭吃_foodpanda",
          "pizza_pizzas_grabfood_混口饭吃_foodpanda",
          "pizza_pizzas_grabfood_混口饭吃_foodpanda",
          "buay_dk_lol_ppls_smug",
          "buay_dk_lol_ppls_smug",
          "buay_dk_lol_ppls_smug",
          "sleepy_sleep_sleeps_asleep_sleepoverfor",
          "homewrecker_cockroach_home_pussy_cock",
          "kao_tcm_khaw_qian_wahhh",
          "kao_tcm_khaw_qian_wahhh",
          "triggered_lmao_stirred_ragehead_wusg",
          "lololol_tooooooo_ccp_cocksucker_scs",
          "lololol_tooooooo_ccp_cocksucker_scs",
          "cut_dick_throat_chuck_smack",
          "cut_dick_throat_chuck_smack",
          "karen_bro_shitbag_cuck_karens",
          "karen_bro_shitbag_cuck_karens",
          "scumbags_scum_disgusting_pofmaed_dicks",
          "scumbags_scum_disgusting_pofmaed_dicks",
          "scumbags_scum_disgusting_pofmaed_dicks",
          "hang_grab_pull_put_fica",
          "hang_grab_pull_put_fica",
          "hang_grab_pull_put_fica",
          "hang_grab_pull_put_fica",
          "comment_commenter_commenting_commenters_comments",
          "comment_commenter_commenting_commenters_comments",
          "comment_commenter_commenting_commenters_comments",
          "comment_commenter_commenting_commenters_comments",
          "drugs_drug_drugsex_legalization_drugschaos",
          "jail_prison_imprisonment_prisoners_penalty",
          "jail_prison_imprisonment_prisoners_penalty",
          "jail_prison_imprisonment_prisoners_penalty",
          "retirement_women_birthrate_birthing_offspring",
          "dad_father_dads_baba_parents",
          "dad_father_dads_baba_parents",
          "age_aged_underaged_20s_adult",
          "elderly_seniors_old_senior_aunties",
          "elderly_seniors_old_senior_aunties",
          "boomers_boomer_millennials_millenials_millennial",
          "boomers_boomer_millennials_millenials_millennial",
          "boomers_boomer_millennials_millenials_millennial",
          "viruses_virus_virusdenier_infected_flu",
          "social_wtf_community_fws_societies",
          "social_wtf_community_fws_societies",
          "social_wtf_community_fws_societies",
          "foreigners_foreigner_immigrants_foreign_immigrant",
          "minister_ministers_ministry_govt_government",
          "minister_ministers_ministry_govt_government",
          "minister_ministers_ministry_govt_government",
          "africa_african_africans_nigeria_continent",
          "africa_african_africans_nigeria_continent",
          "africa_african_africans_nigeria_continent",
          "africa_african_africans_nigeria_continent",
          "africa_african_africans_nigeria_continent",
          "english_englishi_language_languages_grammar",
          "english_englishi_language_languages_grammar",
          "banning_banned_ban_indians_indian",
          "banning_banned_ban_indians_indian",
          "racism_racist_racists_singapores_singaporean",
          "xenophobicracist_xenophobia_xenophobic_racistdiscriminatory_racism",
          "xenophobicracist_xenophobia_xenophobic_racistdiscriminatory_racism",
          "xenophobicracist_xenophobia_xenophobic_racistdiscriminatory_racism",
          "xenophobicracist_xenophobia_xenophobic_racistdiscriminatory_racism",
          "xenophobicracist_xenophobia_xenophobic_racistdiscriminatory_racism"
         ],
         "marker": {
          "color": "black"
         },
         "mode": "markers",
         "showlegend": false,
         "type": "scatter",
         "x": [
          0.8262746540526125,
          0.6964800656707769,
          0.7812005415944177,
          0.8505403536774648,
          0.970398774127666,
          0.4616661829047012,
          0.8684860157816088,
          0.7932473898519381,
          0.6642388126036585,
          0.908483363392338,
          0.9783644116465773,
          0.9137137020237365,
          0.9765760524943256,
          0.8306955491079657,
          0.882023933375322,
          0.9474453943258543,
          0.8778182980859381,
          1.0007867108042705,
          0.8540945628609642,
          1.0617929441779173,
          1.1041472636451815,
          0.9161649305044094,
          0.5644488088836253,
          0.5113806804414893,
          0.7799376038751563,
          0.7452428858231374,
          1.1054283530722675,
          0.7388937147328685,
          0.9384397713026935,
          0.8656038188608367,
          0.9877724857130828,
          0.9894313631490064,
          1.0023374291525171,
          0.9679050654013,
          1.0142501695264243,
          0.9343053309447314,
          0.9354185721548045,
          0.9811666125712726,
          0.9667947935640435,
          0.948591518687859,
          1.000721595388994,
          0.9714777034412565,
          1.0203891240892085,
          0.9501292946001384,
          1.0310596775714553,
          0.8685085582315788,
          0.8978956683707868,
          0.9501590829904638,
          0.9058498517752002,
          0.9997604641409354,
          0.8879059341501377,
          1.054001068683385,
          0.9537513839195594,
          0.9757063209423064,
          0.9156063266301885,
          0.8894401539738707,
          1.012803666854034,
          0.9140594516449593,
          1.022934971042141,
          1.0338782366565071,
          1.0608764229879515,
          0.9298394109117754,
          1.0578643349795533,
          1.0381268742018694,
          0.8036691926105411,
          0.850709267750633,
          0.7876664699157003,
          0.9377895021411403,
          1.09134163282992,
          1.1408949569020073,
          1.103603673583404,
          1.148216563984857,
          1.1628335690457114,
          0.9525789338299127,
          0.9414241519916705,
          0.981131337947309,
          0.9130732852495803,
          1.023456870073898,
          0.913511345846488,
          0.9227143808426679,
          0.8417676729245216,
          0.9027575967479431,
          0.9598883938010174,
          0.8453696741297789,
          0.9674293822115289,
          0.9225678520117895,
          0.8815008908717268,
          1.0444898929208892,
          1.051958690625069,
          1.0907118317166429,
          0.833549166315048,
          1.1448398041627699,
          1.2950703975213775,
          0.8026820935752192,
          0.8430876318293467,
          0.8771937908184226,
          0.862645948284833,
          1.3911663009042896,
          0.4591861218327581,
          0.8624448878233104,
          1.3996649466174624,
          1.331878114530855,
          0.7584778293418992,
          0.9079540070742431,
          0.8729232856692718,
          0.8080816307625546,
          0.6079428003177365,
          0.9522512733620415,
          1.0372100849037331,
          1.1106552696098873,
          1.4890992044098224,
          0.5000416852300102,
          0.8573723667268557,
          0.8945975082865362,
          0.964701015956532,
          0.5606903925619877,
          0.8335572737781877,
          0.6541967671911082,
          1.0705206784510937,
          0.8691427355324779,
          0.9123968908536614,
          0.9464679460204455,
          0.7984801443677211,
          1.133635872168763,
          1.1803663423944437,
          0.8438900954274472,
          1.2520895035873594,
          0.8440744164899312,
          0.41094956502585656,
          0.8775616925417408,
          1.3244545594723371,
          0.6621247417892424,
          1.5344772222500662,
          1.3282098745984232
         ],
         "y": [
          -10,
          -80,
          -90,
          -60,
          -21.25,
          -140,
          -190,
          -170,
          -240,
          -220,
          -183.75,
          -270,
          -277.5,
          -320,
          -380,
          -352.5,
          -327.5,
          -288.75,
          -412.5,
          -318.75,
          -208.75,
          -136.25,
          -490,
          -550,
          -530,
          -590,
          -545,
          -650,
          -622.5,
          -690,
          -772.5,
          -750,
          -768.125,
          -840,
          -794.0625,
          -880,
          -920,
          -916.25,
          -990,
          -970,
          -933.125,
          -887.5,
          -822.03125,
          -1020,
          -872.5,
          -730,
          -1140,
          -1112.5,
          -1170,
          -1130,
          -1090,
          -1121.875,
          -1272.5,
          -1286.25,
          -1250,
          -1340,
          -1276.5625,
          -1230,
          -1271.015625,
          -1320.5078125,
          -1162.1875,
          -1062.5,
          -840.625,
          -700,
          -1410,
          -1460,
          -1490,
          -1456.25,
          -1420,
          -850.308837890625,
          -641.25,
          -571.25,
          -500,
          -1590,
          -1562.5,
          -1523.75,
          -1643.75,
          -1552.5,
          -1720,
          -1692.5,
          -1760,
          -1757.5,
          -1710,
          -1810,
          -1743.125,
          -1860,
          -1840,
          -1855.625,
          -1780.3125,
          -1597.34375,
          -1940,
          -1714.765625,
          -616.6403961181641,
          -462.5,
          -2003.75,
          -2019.375,
          -1980,
          -843.505802154541,
          -2060,
          -2067.5,
          -1424.7997760772705,
          -213.4375,
          -2110,
          -2143.75,
          -2117.5,
          -2210,
          -2240,
          -2206.25,
          -2226.875,
          -2139.6875,
          -982.6061940193176,
          -2320,
          -2440,
          -2412.5,
          -2382.5,
          -2500,
          -2496.25,
          -2470,
          -2406.25,
          -2590,
          -2597.5,
          -2562.5,
          -2540,
          -2448.28125,
          -2505.234375,
          -2352.5,
          -2460.05859375,
          -2327.5,
          -2690,
          -2686.25,
          -2441.8896484375,
          -2292.5,
          -1588.3343470096588,
          -51.25
         ]
        },
        {
         "hoverinfo": "text",
         "hovertext": [
          "girls_tinder_chicks_girl_dating",
          "girls_tinder_chicks_girl_dating",
          "singaporeans_singapores_singaporean_singapore_feminists",
          "misogyny_women_females_polygamy_ladies",
          "misogyny_women_females_polygamy_ladies",
          "cyclists_cyclist_cycling_bicycles_motorcyclists",
          "peasantssilly_peasants_peasant_farmers_farmer",
          "ugh_idiot_boss_lool_sht",
          "ugh_idiot_boss_lool_sht",
          "transport_transit_trolleys_public_pollution",
          "sell_broker_cash_money_sellmarket",
          "jealous_envy_hahahahahha_scams_money",
          "jealous_envy_hahahahahha_scams_money",
          "jealous_envy_hahahahahha_scams_money",
          "billionaire_riches_richest_rich_poor",
          "class_first_third_uppermiddle_low",
          "class_first_third_uppermiddle_low",
          "class_first_third_uppermiddle_low",
          "class_first_third_uppermiddle_low",
          "balls_sperm_dildos_genitals_ironically",
          "police_policeman_cop_cops_polis",
          "laws_law_loi_legal_illegality",
          "laws_law_loi_legal_illegality",
          "castration_castrate_chemical_chemically_vasectomy",
          "fuckface_face_丑人多作怪_facial_facecream",
          "barber_barbers_barbershop_beard_shave",
          "barber_barbers_barbershop_beard_shave",
          "journalists_journalist_journalism_reporters_reporter",
          "pigeons_pigeon_birds_cockatoos_owls",
          "iphone_apple_ipad_apples_ipads",
          "iphone_apple_ipad_apples_ipads",
          "name_names_naming_named_namecalling",
          "ewww_sucks_lol_fucking_wtf",
          "ewww_sucks_lol_fucking_wtf",
          "porno_porn_pornhub_hentai_henta",
          "slaves_slavery_slave_slaveowners_slavelike",
          "gold_golden_golding_golds_platinum",
          "gold_golden_golding_golds_platinum",
          "gold_golden_golding_golds_platinum",
          "gold_golden_golding_golds_platinum",
          "afghanistan_afghan_afghanistanpalestinepyongyang_taliban_talibans",
          "afghanistan_afghan_afghanistanpalestinepyongyang_taliban_talibans",
          "afghanistan_afghan_afghanistanpalestinepyongyang_taliban_talibans",
          "liew_clh_leon_leong_lone",
          "disappointedyour_kc2_ankles_kneeling_motherfucker",
          "threats_fight_criminalhe_anonymous_attacking",
          "infantry_battalions_commanders_ranks_fights",
          "infantry_battalions_commanders_ranks_fights",
          "teacher_teachers_teachersprincipal_teachersdm_prof",
          "teacher_teachers_teachersprincipal_teachersdm_prof",
          "families_family_familial_familythey_familyfriendly",
          "antivaxxer_antivaxxx_antivaxxers_antivaxx_vaxxer",
          "gym_gymtoker_fitness_exercise_deadlift",
          "gym_gymtoker_fitness_exercise_deadlift",
          "cancer_cancerous_cancerously_ebola_testicular",
          "cancer_cancerous_cancerously_ebola_testicular",
          "coffee_cafe_coffeecareer_starbuck_cafessome",
          "leg_legs_ankle_feet_ankles",
          "leg_legs_ankle_feet_ankles",
          "leg_legs_ankle_feet_ankles",
          "leg_legs_ankle_feet_ankles",
          "leg_legs_ankle_feet_ankles",
          "seat_seats_chair_chairs_wheelchair",
          "dirty_limpeh_watch_wipe_watches",
          "river_cry_swallow_lured_ohhhh",
          "river_cry_swallow_lured_ohhhh",
          "river_cry_swallow_lured_ohhhh",
          "river_cry_swallow_lured_ohhhh",
          "river_cry_swallow_lured_ohhhh",
          "river_cry_swallow_lured_ohhhh",
          "iq_low_lmaooo_minus_slightly",
          "iq_low_lmaooo_minus_slightly",
          "fgm_kfc_mccy_mgm_cnb",
          "cant_useless_laobu_dw_sdas",
          "cant_useless_laobu_dw_sdas",
          "cant_useless_laobu_dw_sdas",
          "lmfaooo_oneshttpsiimgurcom51xq7hjpng_nab_fk_lkm",
          "lmfaooo_oneshttpsiimgurcom51xq7hjpng_nab_fk_lkm",
          "nsf_365_motherfuckers_pofma_pwn",
          "nsf_365_motherfuckers_pofma_pwn",
          "crappy_fcked_howunsingaporean_spooktober_punggol",
          "milf_stupid_silly_bum_goddamn",
          "account_apologise_apology_apologize_httpsimgurcoma332guamhttpsimgurcoma332guam",
          "account_apologise_apology_apologize_httpsimgurcoma332guamhttpsimgurcoma332guam",
          "faggort_ufatasian3_martinez_fuckups_martin",
          "tiaktiaktiaktiak_bkk_tiak_omfg_cheebai",
          "pussy_dicks_dick_cock_buttcrack",
          "pussy_dicks_dick_cock_buttcrack",
          "pussy_dicks_dick_cock_buttcrack",
          "cum_slut_deeserved_creampie_armpit",
          "cum_slut_deeserved_creampie_armpit",
          "cum_slut_deeserved_creampie_armpit",
          "cum_slut_deeserved_creampie_armpit",
          "hush_shut_singh_geh_sh",
          "hush_shut_singh_geh_sh",
          "hush_shut_singh_geh_sh",
          "hush_shut_singh_geh_sh",
          "dumb_stupid_idiot_dumbest_fool",
          "dumb_stupid_idiot_dumbest_fool",
          "butthurt_hahaha_笨蛋_hmmm_stupid",
          "butthurt_hahaha_笨蛋_hmmm_stupid",
          "jail_prison_jailed_arrestable_punishment",
          "jail_prison_jailed_arrestable_punishment",
          "jail_prison_jailed_arrestable_punishment",
          "parents_children_kids_family_child",
          "parents_children_kids_family_child",
          "momma_mommy_mom_moms_mummy",
          "momma_mommy_mom_moms_mummy",
          "youths_youth_youngsters_teenagers_teens",
          "elderly_retirements_seniors_older_old",
          "strawberry_strawberries_dingleberry_generation_generations",
          "strawberry_strawberries_dingleberry_generation_generations",
          "strawberry_strawberries_dingleberry_generation_generations",
          "malaysians_singaporeans_malaysian_singaporean_malayisans",
          "asian_asiatic_asians_asia_japanese",
          "minority_minorities_minoritiiiessss_majority_less",
          "populist_fascistic_politicians_politician_political",
          "groups_group_others_peopleforeignersexpats_friends",
          "groups_group_others_peopleforeignersexpats_friends",
          "chinese_china_chinas_nonchinese_mandarin",
          "foreigners_foreign_foreigner_expatriates_overseas",
          "foreigners_foreign_foreigner_expatriates_overseas",
          "flag_flags_flagshttpsmustsharenewscomsingaporeflagburjkhalifa_cultural_culturally",
          "firstworld_nations_world_countries_nation",
          "firstworld_nations_world_countries_nation",
          "firstworld_nations_world_countries_nation",
          "language_languages_english_anglo_accents",
          "language_languages_english_anglo_accents",
          "indians_indian_singaporean_india_singapore",
          "indians_indian_singaporean_india_singapore",
          "indians_indian_singaporean_india_singapore",
          "racism_racist_racially_racenationality_race",
          "xenophobic_xenophobia_xenophobes_xenophobe_aporophobia",
          "xenophobic_xenophobia_xenophobes_xenophobe_aporophobia",
          "xenophobic_xenophobia_xenophobes_xenophobe_aporophobia",
          "xenophobic_xenophobia_xenophobes_xenophobe_aporophobia",
          "xenophobic_xenophobia_xenophobes_xenophobe_aporophobia"
         ],
         "marker": {
          "color": "black"
         },
         "mode": "markers",
         "showlegend": false,
         "type": "scatter",
         "x": [
          0.5657447980695236,
          0.6702935789770481,
          0.48821370726962965,
          0.8700672260517718,
          0.881088744920434,
          0.9045105118837318,
          0.9473521064524391,
          0.8439415593324202,
          0.9558954553568321,
          0.7586421883762708,
          0.9050429335539247,
          0.9113273039776894,
          0.9642158608150745,
          0.9805563811893777,
          0.7485440731271127,
          0.8192482484975474,
          1.037063522588395,
          1.0960506884345251,
          1.1932986716566023,
          0.5345420134289225,
          0.632189805811921,
          0.9322049150297776,
          1.0006442509301288,
          0.8807720404260172,
          0.7848168155783726,
          0.9320680570710208,
          0.9871996005886634,
          0.8225878378129672,
          0.9488157546559862,
          0.9786718048202857,
          0.9992669654466879,
          0.9180552948460787,
          0.9363400184853767,
          0.9806685266247808,
          0.9740182253823475,
          0.9586809316828069,
          0.9855960478490559,
          0.997605093792269,
          1.0110646440856188,
          1.0168325783181185,
          0.9581268765246502,
          0.9792184775250827,
          1.0448425001928838,
          0.7959402572145609,
          0.9279367267424258,
          0.969740865423871,
          0.952573442020629,
          1.0125155106230352,
          0.8501180453665569,
          0.9436224451738262,
          0.9344363650920503,
          0.9289844237100415,
          0.9361948079032854,
          1.003646574019524,
          0.9779835830271947,
          1.019493970803316,
          0.9000168595480968,
          0.8996239052456567,
          1.0602350290721472,
          1.0803923383957619,
          1.1005697138781365,
          1.119649106367306,
          0.7420771422148535,
          0.8910695004457082,
          0.9020518615780766,
          1.1498461912843,
          1.1783642626154,
          1.200902282655487,
          1.2187785528039603,
          1.2931252022986401,
          0.9198467795605063,
          0.9474175710826008,
          0.8989288387281016,
          0.9088724309085126,
          0.9718762784403934,
          0.9860491954854077,
          0.8105366696267567,
          0.8988481624547139,
          0.9292572413433847,
          0.9521142723731151,
          0.9092331672829368,
          0.9359386426223301,
          0.8652902105715616,
          0.8832629607562302,
          0.9232090348298972,
          0.8970868611006312,
          0.8816769613632932,
          0.9407648879739503,
          0.9740946971318613,
          0.9033184378415826,
          0.9496660691704548,
          1.079462162324438,
          1.1084199436180902,
          0.8872423073614218,
          1.0036229517594382,
          1.1518693724847808,
          1.3298583052059934,
          0.7130170160647322,
          0.7810874578859146,
          0.908676780549427,
          0.9444212788817269,
          0.5743897400535968,
          1.154810083499234,
          1.4212284392829735,
          0.6867187152504236,
          0.7978531764413658,
          0.7895040986652613,
          1.0118434902088056,
          0.8742341003421534,
          0.7364771369761767,
          0.7473411958178015,
          1.0858499353892785,
          1.3594425486936814,
          0.39294067653293574,
          0.5315081995064624,
          0.8974831133338227,
          0.8108875121070055,
          0.8769225886822246,
          1.0187808590751968,
          0.6997008364103905,
          0.8897317080288536,
          1.0855310364073338,
          0.8494329462817376,
          0.9277180008425332,
          1.0586818694039748,
          1.0970537225268995,
          0.5374198880757339,
          1.2336731944324035,
          0.6118536700330757,
          0.7494474455133616,
          1.2643441309500911,
          0.8152615772170917,
          0.5751073612849487,
          1.0780127812769842,
          1.3560526566294127,
          1.393985373171223,
          1.6736472223851175
         ],
         "y": [
          -40,
          -32.5,
          -100,
          -102.5,
          -81.25,
          -147.5,
          -197.5,
          -247.5,
          -233.75,
          -300,
          -360,
          -387.5,
          -370,
          -348.75,
          -420,
          -440,
          -426.25,
          -372.5,
          -290.625,
          -470,
          -510,
          -570,
          -560,
          -597.5,
          -630,
          -670,
          -660,
          -710,
          -780,
          -800,
          -786.25,
          -820,
          -860,
          -850,
          -927.5,
          -950,
          -997.5,
          -983.75,
          -958.4375,
          -922.96875,
          -1040,
          -1030,
          -951.25,
          -1070,
          -1120,
          -1147.5,
          -1177.5,
          -1153.75,
          -1210,
          -1202.5,
          -1280,
          -1300,
          -1320,
          -1303.125,
          -1347.5,
          -1312.03125,
          -1370,
          -1390,
          -1355.25390625,
          -1258.720703125,
          -1160.6103515625,
          -1000.61767578125,
          -1430,
          -1467.5,
          -1497.5,
          -1476.875,
          -1448.4375,
          -1149.3731689453125,
          -895.3115844726562,
          -733.2807922363281,
          -1540,
          -1532.5,
          -1570,
          -1610,
          -1600,
          -1581.25,
          -1660,
          -1652.5,
          -1659.375,
          -1642.1875,
          -1700,
          -1727.5,
          -1780,
          -1770,
          -1776.25,
          -1817.5,
          -1890,
          -1882.5,
          -1871.25,
          -1920,
          -1912.5,
          -1884.0625,
          -1832.1875,
          -1960,
          -1950,
          -1832.3828125,
          -1224.511604309082,
          -2020,
          -2012.5,
          -2032.1875,
          -2006.09375,
          -2090,
          -2078.75,
          -1751.7748880386353,
          -2160,
          -2152.5,
          -2180,
          -2161.875,
          -2217.5,
          -2247.5,
          -2270,
          -2248.4375,
          -2194.0625,
          -2300,
          -2360,
          -2390,
          -2420,
          -2447.5,
          -2430,
          -2507.5,
          -2510.625,
          -2490.3125,
          -2570,
          -2606.25,
          -2584.375,
          -2562.1875,
          -2630,
          -2567.6171875,
          -2660,
          -2652.5,
          -2556.279296875,
          -2697.5,
          -2720,
          -2703.125,
          -2572.50732421875,
          -2432.503662109375,
          -2010.419004559517
         ]
        }
       ],
       "layout": {
        "autosize": false,
        "height": 4295,
        "hoverlabel": {
         "bgcolor": "white",
         "font": {
          "family": "Rockwell",
          "size": 16
         }
        },
        "hovermode": "closest",
        "plot_bgcolor": "#ECEFF1",
        "showlegend": false,
        "template": {
         "data": {
          "bar": [
           {
            "error_x": {
             "color": "#2a3f5f"
            },
            "error_y": {
             "color": "#2a3f5f"
            },
            "marker": {
             "line": {
              "color": "white",
              "width": 0.5
             },
             "pattern": {
              "fillmode": "overlay",
              "size": 10,
              "solidity": 0.2
             }
            },
            "type": "bar"
           }
          ],
          "barpolar": [
           {
            "marker": {
             "line": {
              "color": "white",
              "width": 0.5
             },
             "pattern": {
              "fillmode": "overlay",
              "size": 10,
              "solidity": 0.2
             }
            },
            "type": "barpolar"
           }
          ],
          "carpet": [
           {
            "aaxis": {
             "endlinecolor": "#2a3f5f",
             "gridcolor": "#C8D4E3",
             "linecolor": "#C8D4E3",
             "minorgridcolor": "#C8D4E3",
             "startlinecolor": "#2a3f5f"
            },
            "baxis": {
             "endlinecolor": "#2a3f5f",
             "gridcolor": "#C8D4E3",
             "linecolor": "#C8D4E3",
             "minorgridcolor": "#C8D4E3",
             "startlinecolor": "#2a3f5f"
            },
            "type": "carpet"
           }
          ],
          "choropleth": [
           {
            "colorbar": {
             "outlinewidth": 0,
             "ticks": ""
            },
            "type": "choropleth"
           }
          ],
          "contour": [
           {
            "colorbar": {
             "outlinewidth": 0,
             "ticks": ""
            },
            "colorscale": [
             [
              0,
              "#0d0887"
             ],
             [
              0.1111111111111111,
              "#46039f"
             ],
             [
              0.2222222222222222,
              "#7201a8"
             ],
             [
              0.3333333333333333,
              "#9c179e"
             ],
             [
              0.4444444444444444,
              "#bd3786"
             ],
             [
              0.5555555555555556,
              "#d8576b"
             ],
             [
              0.6666666666666666,
              "#ed7953"
             ],
             [
              0.7777777777777778,
              "#fb9f3a"
             ],
             [
              0.8888888888888888,
              "#fdca26"
             ],
             [
              1,
              "#f0f921"
             ]
            ],
            "type": "contour"
           }
          ],
          "contourcarpet": [
           {
            "colorbar": {
             "outlinewidth": 0,
             "ticks": ""
            },
            "type": "contourcarpet"
           }
          ],
          "heatmap": [
           {
            "colorbar": {
             "outlinewidth": 0,
             "ticks": ""
            },
            "colorscale": [
             [
              0,
              "#0d0887"
             ],
             [
              0.1111111111111111,
              "#46039f"
             ],
             [
              0.2222222222222222,
              "#7201a8"
             ],
             [
              0.3333333333333333,
              "#9c179e"
             ],
             [
              0.4444444444444444,
              "#bd3786"
             ],
             [
              0.5555555555555556,
              "#d8576b"
             ],
             [
              0.6666666666666666,
              "#ed7953"
             ],
             [
              0.7777777777777778,
              "#fb9f3a"
             ],
             [
              0.8888888888888888,
              "#fdca26"
             ],
             [
              1,
              "#f0f921"
             ]
            ],
            "type": "heatmap"
           }
          ],
          "heatmapgl": [
           {
            "colorbar": {
             "outlinewidth": 0,
             "ticks": ""
            },
            "colorscale": [
             [
              0,
              "#0d0887"
             ],
             [
              0.1111111111111111,
              "#46039f"
             ],
             [
              0.2222222222222222,
              "#7201a8"
             ],
             [
              0.3333333333333333,
              "#9c179e"
             ],
             [
              0.4444444444444444,
              "#bd3786"
             ],
             [
              0.5555555555555556,
              "#d8576b"
             ],
             [
              0.6666666666666666,
              "#ed7953"
             ],
             [
              0.7777777777777778,
              "#fb9f3a"
             ],
             [
              0.8888888888888888,
              "#fdca26"
             ],
             [
              1,
              "#f0f921"
             ]
            ],
            "type": "heatmapgl"
           }
          ],
          "histogram": [
           {
            "marker": {
             "pattern": {
              "fillmode": "overlay",
              "size": 10,
              "solidity": 0.2
             }
            },
            "type": "histogram"
           }
          ],
          "histogram2d": [
           {
            "colorbar": {
             "outlinewidth": 0,
             "ticks": ""
            },
            "colorscale": [
             [
              0,
              "#0d0887"
             ],
             [
              0.1111111111111111,
              "#46039f"
             ],
             [
              0.2222222222222222,
              "#7201a8"
             ],
             [
              0.3333333333333333,
              "#9c179e"
             ],
             [
              0.4444444444444444,
              "#bd3786"
             ],
             [
              0.5555555555555556,
              "#d8576b"
             ],
             [
              0.6666666666666666,
              "#ed7953"
             ],
             [
              0.7777777777777778,
              "#fb9f3a"
             ],
             [
              0.8888888888888888,
              "#fdca26"
             ],
             [
              1,
              "#f0f921"
             ]
            ],
            "type": "histogram2d"
           }
          ],
          "histogram2dcontour": [
           {
            "colorbar": {
             "outlinewidth": 0,
             "ticks": ""
            },
            "colorscale": [
             [
              0,
              "#0d0887"
             ],
             [
              0.1111111111111111,
              "#46039f"
             ],
             [
              0.2222222222222222,
              "#7201a8"
             ],
             [
              0.3333333333333333,
              "#9c179e"
             ],
             [
              0.4444444444444444,
              "#bd3786"
             ],
             [
              0.5555555555555556,
              "#d8576b"
             ],
             [
              0.6666666666666666,
              "#ed7953"
             ],
             [
              0.7777777777777778,
              "#fb9f3a"
             ],
             [
              0.8888888888888888,
              "#fdca26"
             ],
             [
              1,
              "#f0f921"
             ]
            ],
            "type": "histogram2dcontour"
           }
          ],
          "mesh3d": [
           {
            "colorbar": {
             "outlinewidth": 0,
             "ticks": ""
            },
            "type": "mesh3d"
           }
          ],
          "parcoords": [
           {
            "line": {
             "colorbar": {
              "outlinewidth": 0,
              "ticks": ""
             }
            },
            "type": "parcoords"
           }
          ],
          "pie": [
           {
            "automargin": true,
            "type": "pie"
           }
          ],
          "scatter": [
           {
            "fillpattern": {
             "fillmode": "overlay",
             "size": 10,
             "solidity": 0.2
            },
            "type": "scatter"
           }
          ],
          "scatter3d": [
           {
            "line": {
             "colorbar": {
              "outlinewidth": 0,
              "ticks": ""
             }
            },
            "marker": {
             "colorbar": {
              "outlinewidth": 0,
              "ticks": ""
             }
            },
            "type": "scatter3d"
           }
          ],
          "scattercarpet": [
           {
            "marker": {
             "colorbar": {
              "outlinewidth": 0,
              "ticks": ""
             }
            },
            "type": "scattercarpet"
           }
          ],
          "scattergeo": [
           {
            "marker": {
             "colorbar": {
              "outlinewidth": 0,
              "ticks": ""
             }
            },
            "type": "scattergeo"
           }
          ],
          "scattergl": [
           {
            "marker": {
             "colorbar": {
              "outlinewidth": 0,
              "ticks": ""
             }
            },
            "type": "scattergl"
           }
          ],
          "scattermapbox": [
           {
            "marker": {
             "colorbar": {
              "outlinewidth": 0,
              "ticks": ""
             }
            },
            "type": "scattermapbox"
           }
          ],
          "scatterpolar": [
           {
            "marker": {
             "colorbar": {
              "outlinewidth": 0,
              "ticks": ""
             }
            },
            "type": "scatterpolar"
           }
          ],
          "scatterpolargl": [
           {
            "marker": {
             "colorbar": {
              "outlinewidth": 0,
              "ticks": ""
             }
            },
            "type": "scatterpolargl"
           }
          ],
          "scatterternary": [
           {
            "marker": {
             "colorbar": {
              "outlinewidth": 0,
              "ticks": ""
             }
            },
            "type": "scatterternary"
           }
          ],
          "surface": [
           {
            "colorbar": {
             "outlinewidth": 0,
             "ticks": ""
            },
            "colorscale": [
             [
              0,
              "#0d0887"
             ],
             [
              0.1111111111111111,
              "#46039f"
             ],
             [
              0.2222222222222222,
              "#7201a8"
             ],
             [
              0.3333333333333333,
              "#9c179e"
             ],
             [
              0.4444444444444444,
              "#bd3786"
             ],
             [
              0.5555555555555556,
              "#d8576b"
             ],
             [
              0.6666666666666666,
              "#ed7953"
             ],
             [
              0.7777777777777778,
              "#fb9f3a"
             ],
             [
              0.8888888888888888,
              "#fdca26"
             ],
             [
              1,
              "#f0f921"
             ]
            ],
            "type": "surface"
           }
          ],
          "table": [
           {
            "cells": {
             "fill": {
              "color": "#EBF0F8"
             },
             "line": {
              "color": "white"
             }
            },
            "header": {
             "fill": {
              "color": "#C8D4E3"
             },
             "line": {
              "color": "white"
             }
            },
            "type": "table"
           }
          ]
         },
         "layout": {
          "annotationdefaults": {
           "arrowcolor": "#2a3f5f",
           "arrowhead": 0,
           "arrowwidth": 1
          },
          "autotypenumbers": "strict",
          "coloraxis": {
           "colorbar": {
            "outlinewidth": 0,
            "ticks": ""
           }
          },
          "colorscale": {
           "diverging": [
            [
             0,
             "#8e0152"
            ],
            [
             0.1,
             "#c51b7d"
            ],
            [
             0.2,
             "#de77ae"
            ],
            [
             0.3,
             "#f1b6da"
            ],
            [
             0.4,
             "#fde0ef"
            ],
            [
             0.5,
             "#f7f7f7"
            ],
            [
             0.6,
             "#e6f5d0"
            ],
            [
             0.7,
             "#b8e186"
            ],
            [
             0.8,
             "#7fbc41"
            ],
            [
             0.9,
             "#4d9221"
            ],
            [
             1,
             "#276419"
            ]
           ],
           "sequential": [
            [
             0,
             "#0d0887"
            ],
            [
             0.1111111111111111,
             "#46039f"
            ],
            [
             0.2222222222222222,
             "#7201a8"
            ],
            [
             0.3333333333333333,
             "#9c179e"
            ],
            [
             0.4444444444444444,
             "#bd3786"
            ],
            [
             0.5555555555555556,
             "#d8576b"
            ],
            [
             0.6666666666666666,
             "#ed7953"
            ],
            [
             0.7777777777777778,
             "#fb9f3a"
            ],
            [
             0.8888888888888888,
             "#fdca26"
            ],
            [
             1,
             "#f0f921"
            ]
           ],
           "sequentialminus": [
            [
             0,
             "#0d0887"
            ],
            [
             0.1111111111111111,
             "#46039f"
            ],
            [
             0.2222222222222222,
             "#7201a8"
            ],
            [
             0.3333333333333333,
             "#9c179e"
            ],
            [
             0.4444444444444444,
             "#bd3786"
            ],
            [
             0.5555555555555556,
             "#d8576b"
            ],
            [
             0.6666666666666666,
             "#ed7953"
            ],
            [
             0.7777777777777778,
             "#fb9f3a"
            ],
            [
             0.8888888888888888,
             "#fdca26"
            ],
            [
             1,
             "#f0f921"
            ]
           ]
          },
          "colorway": [
           "#636efa",
           "#EF553B",
           "#00cc96",
           "#ab63fa",
           "#FFA15A",
           "#19d3f3",
           "#FF6692",
           "#B6E880",
           "#FF97FF",
           "#FECB52"
          ],
          "font": {
           "color": "#2a3f5f"
          },
          "geo": {
           "bgcolor": "white",
           "lakecolor": "white",
           "landcolor": "white",
           "showlakes": true,
           "showland": true,
           "subunitcolor": "#C8D4E3"
          },
          "hoverlabel": {
           "align": "left"
          },
          "hovermode": "closest",
          "mapbox": {
           "style": "light"
          },
          "paper_bgcolor": "white",
          "plot_bgcolor": "white",
          "polar": {
           "angularaxis": {
            "gridcolor": "#EBF0F8",
            "linecolor": "#EBF0F8",
            "ticks": ""
           },
           "bgcolor": "white",
           "radialaxis": {
            "gridcolor": "#EBF0F8",
            "linecolor": "#EBF0F8",
            "ticks": ""
           }
          },
          "scene": {
           "xaxis": {
            "backgroundcolor": "white",
            "gridcolor": "#DFE8F3",
            "gridwidth": 2,
            "linecolor": "#EBF0F8",
            "showbackground": true,
            "ticks": "",
            "zerolinecolor": "#EBF0F8"
           },
           "yaxis": {
            "backgroundcolor": "white",
            "gridcolor": "#DFE8F3",
            "gridwidth": 2,
            "linecolor": "#EBF0F8",
            "showbackground": true,
            "ticks": "",
            "zerolinecolor": "#EBF0F8"
           },
           "zaxis": {
            "backgroundcolor": "white",
            "gridcolor": "#DFE8F3",
            "gridwidth": 2,
            "linecolor": "#EBF0F8",
            "showbackground": true,
            "ticks": "",
            "zerolinecolor": "#EBF0F8"
           }
          },
          "shapedefaults": {
           "line": {
            "color": "#2a3f5f"
           }
          },
          "ternary": {
           "aaxis": {
            "gridcolor": "#DFE8F3",
            "linecolor": "#A2B1C6",
            "ticks": ""
           },
           "baxis": {
            "gridcolor": "#DFE8F3",
            "linecolor": "#A2B1C6",
            "ticks": ""
           },
           "bgcolor": "white",
           "caxis": {
            "gridcolor": "#DFE8F3",
            "linecolor": "#A2B1C6",
            "ticks": ""
           }
          },
          "title": {
           "x": 0.05
          },
          "xaxis": {
           "automargin": true,
           "gridcolor": "#EBF0F8",
           "linecolor": "#EBF0F8",
           "ticks": "",
           "title": {
            "standoff": 15
           },
           "zerolinecolor": "#EBF0F8",
           "zerolinewidth": 2
          },
          "yaxis": {
           "automargin": true,
           "gridcolor": "#EBF0F8",
           "linecolor": "#EBF0F8",
           "ticks": "",
           "title": {
            "standoff": 15
           },
           "zerolinecolor": "#EBF0F8",
           "zerolinewidth": 2
          }
         }
        },
        "title": {
         "font": {
          "color": "Black",
          "size": 22
         },
         "text": "<b>Hierarchical Clustering</b>",
         "x": 0.5,
         "xanchor": "center",
         "yanchor": "top"
        },
        "width": 1000,
        "xaxis": {
         "mirror": "allticks",
         "rangemode": "tozero",
         "showgrid": false,
         "showline": true,
         "showticklabels": true,
         "ticks": "outside",
         "type": "linear",
         "zeroline": false
        },
        "yaxis": {
         "mirror": "allticks",
         "range": [
          -2730,
          0
         ],
         "rangemode": "tozero",
         "showgrid": false,
         "showline": true,
         "showticklabels": true,
         "tickmode": "array",
         "ticks": "outside",
         "ticktext": [
          "206_prostitute_prostitutes_...",
          "271_girl_girls_prostitute",
          "185_girl_girly_girls",
          "162_girls_gf_girl",
          "30_girls_tinder_chicks",
          "151_females_women_girls",
          "205_female_gender_females",
          "121_female_woman_females",
          "216_sexist_female_women",
          "4_feminism_sexism_feminists",
          "37_singaporeans_singapores_...",
          "203_misogyny_women_females",
          "69_bus_buses_busesmrts",
          "191_singaporeans_cars_singa...",
          "11_driver_drivers_chauffeur",
          "23_cyclists_cyclist_cycling",
          "249_dbs_dbspb_dbst",
          "135_banking_bank_banks",
          "262_bill_rude_starhub",
          "84_customer_clientele_custo...",
          "74_peasantssilly_peasants_p...",
          "269_stalked_tricky_poorly",
          "251_jobless_jobs_employer",
          "137_boss_bossperson_bosses",
          "9_employers_employment_empl...",
          "202_ugh_idiot_boss",
          "247_cardboards_boxes_cardbo...",
          "201_aircon_aircons_peasants",
          "99_insuranceproperty_insura...",
          "20_taxes_tax_taxpayer",
          "144_transport_transit_troll...",
          "243_money_pocket_whack",
          "29_dollars_dollar_cents",
          "152_20k_2k_50k",
          "196_salary_earn_earning",
          "156_income_underpaying_sala...",
          "212_sell_broker_cash",
          "267_scammers_urgh_scam",
          "61_scammed_scammer_scam",
          "223_jealous_envy_hahahahahha",
          "139_donations_donate_donation",
          "78_rich_richest_wealthy",
          "141_billionaire_riches_rich...",
          "242_middleclass_class_bourg...",
          "79_class_first_third",
          "241_anal_pussy_ass",
          "136_balls_ballsy_bola",
          "148_balls_sperm_dildos",
          "95_black_blacker_darkblack",
          "197_blacks_black_blackest",
          "208_riots_protests_protestors",
          "32_police_policeman_cop",
          "40_wife_wives_妻离子散家破人亡hdb",
          "220_marriage_marrying_marri...",
          "6_gay_gays_homosexuals",
          "171_homophobia_homosexualit...",
          "173_377a_377_369",
          "174_laws_law_loi",
          "12_rape_rapist_raped",
          "252_rapes_rapists_rape",
          "159_castration_castrate_che...",
          "63_energy_weak_strong",
          "65_looks_like_look",
          "27_fuckface_face_丑人多作怪",
          "85_pants_panties_underwear",
          "256_shorts_shorties_skirts",
          "157_boobs_boob_breasts",
          "186_barber_barbers_barbershop",
          "207_adblock_adblocker_ads",
          "265_propaganda_advertiser_ads",
          "170_fox_newsworthy_newscast...",
          "234_journalists_journalist_...",
          "253_vocabulary_illiterate_b...",
          "161_article_redacted_wrote",
          "270_toothpaste_tooth_teeth",
          "181_autism_autistic_autists",
          "176_milk_latte_milkshakes",
          "49_chicken_chickens_rice",
          "169_pigeons_pigeon_birds",
          "149_ccpee_jerbs_tiongcock",
          "272_iphone_apple_ipad",
          "48_brain_brains_脑残",
          "101_name_names_naming",
          "123_salty_salt_salts",
          "217_scummy_uninterested_smug",
          "150_low_lower_lowincome",
          "192_ewww_sucks_lol",
          "153_leftie_lefthanded_eeeew...",
          "167_wtf_shredded_fucking",
          "250_liberals_liberalsminori...",
          "124_cringe_cringey_cringefest",
          "110_troll_trolling_trolls",
          "50_downvote_downvotes_downv...",
          "118_porno_porn_pornhub",
          "133_monkey_monkeys_monkeya",
          "60_slaves_slavery_slave",
          "264_google_googling_search",
          "204_bot_bots_botox",
          "66_nazi_nazis_nazism",
          "92_mods_mod_moderators",
          "168_gold_golden_golding",
          "39_russia_russian_russians",
          "51_israelis_israeljews_isra...",
          "125_terroristy_terrorist_te...",
          "209_afghanistan_afghan_afgh...",
          "257_firearms_airsoft_bullets",
          "105_suicides_suicide_suicidal",
          "166_liew_clh_leon",
          "258_judiciary_judicial_judges",
          "89_lawyer_lawyering_lawyers",
          "255_friend_bullying_friends",
          "128_toxic_toxicity_disinfec...",
          "187_disappointedyour_kc2_an...",
          "266_blaming_victim_victims",
          "254_misogyny_misogynist_women",
          "213_threats_fight_criminalhe",
          "130_stalk_life_army",
          "248_nonmilitary_army_military",
          "172_infantry_battalions_com...",
          "75_airplane_aeroplane_plane",
          "41_school_schools_turbanssc...",
          "72_teacher_teachers_teacher...",
          "114_cats_cat_kitty",
          "33_dog_dogs_dogfuck",
          "45_smell_smellso_smelly",
          "52_smokers_smoking_cigarettes",
          "67_transphobic_transgender_...",
          "31_nurses_nurse_healthcare",
          "94_families_family_familial",
          "21_mask_masks_maskers",
          "83_antivaxxer_antivaxxx_ant...",
          "24_fat_fats_fatness",
          "218_gym_gymtoker_fitness",
          "34_schizophrenic_schizophre...",
          "224_singaporean_singapore_s...",
          "134_cancer_cancerous_cancer...",
          "104_beer_beers_whisky",
          "189_coffee_cafe_coffeecareer",
          "222_shoes_shoe_socks",
          "229_leg_legs_ankle",
          "179_train_trains_rail",
          "227_escalator_escalators_st...",
          "239_seat_seats_sit",
          "129_seat_seats_chair",
          "263_burns_burn_burnt",
          "268_soap_dishwasher_wash",
          "25_toilet_toilets_bathroom",
          "103_dirty_limpeh_watch",
          "143_pizza_pizzas_grabfood",
          "70_bread_bakers_baguettesht...",
          "97_river_cry_swallow",
          "236_virgin_virgins_virginity",
          "244_tears_cry_crying",
          "184_wahahaha_joke_bro",
          "238_iq_low_lmaooo",
          "235_cb_kp_csm",
          "98_clownfuck_clown_clowns",
          "182_fgm_kfc_mccy",
          "112_back_retake_backside",
          "138_time_timeyou_timing",
          "210_buay_dk_lol",
          "221_cant_useless_laobu",
          "219_homewrecker_cockroach_h...",
          "43_sleepy_sleep_sleeps",
          "154_sinkies_sinkie_cheekopek",
          "19_sinkie_sinkies_pukes",
          "53_lmfaooo_oneshttpsiimgurc...",
          "232_nsf_365_motherfuckers",
          "109_link_links_oy",
          "116_lmao_fucccccccck_cul",
          "76_crappy_fcked_howunsingap...",
          "108_kao_tcm_khaw",
          "88_cunt_knncb_wfh",
          "226_milf_stupid_silly",
          "180_lololol_tooooooo_ccp",
          "55_wow_lol_ohh",
          "47_fearlessness_fear_intimi...",
          "87_triggered_lmao_stirred",
          "54_account_apologise_apology",
          "58_faggort_ufatasian3_marti...",
          "62_cut_dick_throat",
          "46_lock_lockdown_key",
          "106_tiaktiaktiaktiak_bkk_tiak",
          "190_real_reality_smdh",
          "165_selfish_selfesteem_self...",
          "245_assholes_asshole_assholez",
          "117_loser_losers_asshole",
          "93_karen_bro_shitbag",
          "68_dick_pussy_fuckinh",
          "131_pussy_dicks_dick",
          "233_scumbags_scum_disgusting",
          "194_like_cockroach_crush",
          "259_cum_slut_deeserved",
          "145_trashbag_souls_cruel",
          "146_death_dying_lethal",
          "73_hang_grab_pull",
          "82_hush_shut_singh",
          "193_idiots_fools_idiot",
          "175_dumbfucks_dumb_stupid",
          "91_comment_commenter_commen...",
          "96_research_dumbfck_bitching",
          "158_reply_replying_answer",
          "17_dumb_stupid_idiot",
          "132_intelligent_dumb_intell...",
          "195_butthurt_hahaha_笨蛋",
          "164_drugs_drug_drugsex",
          "38_drugs_drug_druglords",
          "127_penalty_incarceration_i...",
          "200_jail_prison_imprisonment",
          "64_jail_prison_jailed",
          "225_retirement_women_birthr...",
          "100_abortion_maternity_abort",
          "231_abortions_abortion_abor...",
          "160_tattoos_tattoo_nerdy",
          "102_childishness_kid_kids",
          "36_parents_parent_family",
          "260_parents_children_kids",
          "198_dad_father_dads",
          "28_momma_mommy_mom",
          "163_grandma_grandmother_gra...",
          "214_age_aged_underaged",
          "183_older_grandma_younger",
          "42_youths_youth_youngsters",
          "120_elderly_seniors_old",
          "18_elderly_elderlys_olds",
          "155_elderly_retirements_sen...",
          "7_boomers_boomer_millennials",
          "228_strawberry_strawberries...",
          "178_malaysians_malaysian_ma...",
          "10_malaysians_malaysian_mal...",
          "81_malaysians_singaporeans_...",
          "115_viruses_virus_virusdenier",
          "86_virus_vaccineit_viral",
          "13_vaccinations_vaccines_va...",
          "14_whiteness_whites_caucasi...",
          "140_asians_asian_asia",
          "16_asian_asiatic_asians",
          "246_pm_ready_nonchinese",
          "240_malaysindianschinese_ma...",
          "90_minority_minorities_mino...",
          "211_没有行动党没有新加坡_singapores_s...",
          "15_voting_voters_vote",
          "59_populist_fascistic_polit...",
          "199_social_wtf_community",
          "80_society_social_societies...",
          "113_groups_group_others",
          "237_christiansbuddhist_chri...",
          "1_muslims_christians_muslim",
          "22_minister_ministers_minis...",
          "3_foreigners_foreigner_immi...",
          "2_singaporeans_singaporean_...",
          "0_chinese_china_chinas",
          "230_foreigners_foreign_fore...",
          "77_korean_korea_southkorea",
          "35_japanese_japans_japnese",
          "188_colonialists_colonialis...",
          "142_western_westerner_weste...",
          "71_flag_flags_flagshttpsmus...",
          "147_africa_african_africans",
          "56_country_countrymen_count...",
          "119_americans_american_amer...",
          "126_firstworld_nations_world",
          "44_english_englishi_language",
          "177_language_languages_engl...",
          "111_banning_banned_ban",
          "8_indian_indias_indians",
          "215_indians_indian_singapor...",
          "57_race_races_raced",
          "26_racism_racist_racists",
          "5_racist_racists_racism",
          "261_racism_racist_racially",
          "107_xenophobicracist_xenoph...",
          "122_xenophobic_xenophobia_x..."
         ],
         "tickvals": [
          -5,
          -15,
          -25,
          -35,
          -45,
          -55,
          -65,
          -75,
          -85,
          -95,
          -105,
          -115,
          -125,
          -135,
          -145,
          -155,
          -165,
          -175,
          -185,
          -195,
          -205,
          -215,
          -225,
          -235,
          -245,
          -255,
          -265,
          -275,
          -285,
          -295,
          -305,
          -315,
          -325,
          -335,
          -345,
          -355,
          -365,
          -375,
          -385,
          -395,
          -405,
          -415,
          -425,
          -435,
          -445,
          -455,
          -465,
          -475,
          -485,
          -495,
          -505,
          -515,
          -525,
          -535,
          -545,
          -555,
          -565,
          -575,
          -585,
          -595,
          -605,
          -615,
          -625,
          -635,
          -645,
          -655,
          -665,
          -675,
          -685,
          -695,
          -705,
          -715,
          -725,
          -735,
          -745,
          -755,
          -765,
          -775,
          -785,
          -795,
          -805,
          -815,
          -825,
          -835,
          -845,
          -855,
          -865,
          -875,
          -885,
          -895,
          -905,
          -915,
          -925,
          -935,
          -945,
          -955,
          -965,
          -975,
          -985,
          -995,
          -1005,
          -1015,
          -1025,
          -1035,
          -1045,
          -1055,
          -1065,
          -1075,
          -1085,
          -1095,
          -1105,
          -1115,
          -1125,
          -1135,
          -1145,
          -1155,
          -1165,
          -1175,
          -1185,
          -1195,
          -1205,
          -1215,
          -1225,
          -1235,
          -1245,
          -1255,
          -1265,
          -1275,
          -1285,
          -1295,
          -1305,
          -1315,
          -1325,
          -1335,
          -1345,
          -1355,
          -1365,
          -1375,
          -1385,
          -1395,
          -1405,
          -1415,
          -1425,
          -1435,
          -1445,
          -1455,
          -1465,
          -1475,
          -1485,
          -1495,
          -1505,
          -1515,
          -1525,
          -1535,
          -1545,
          -1555,
          -1565,
          -1575,
          -1585,
          -1595,
          -1605,
          -1615,
          -1625,
          -1635,
          -1645,
          -1655,
          -1665,
          -1675,
          -1685,
          -1695,
          -1705,
          -1715,
          -1725,
          -1735,
          -1745,
          -1755,
          -1765,
          -1775,
          -1785,
          -1795,
          -1805,
          -1815,
          -1825,
          -1835,
          -1845,
          -1855,
          -1865,
          -1875,
          -1885,
          -1895,
          -1905,
          -1915,
          -1925,
          -1935,
          -1945,
          -1955,
          -1965,
          -1975,
          -1985,
          -1995,
          -2005,
          -2015,
          -2025,
          -2035,
          -2045,
          -2055,
          -2065,
          -2075,
          -2085,
          -2095,
          -2105,
          -2115,
          -2125,
          -2135,
          -2145,
          -2155,
          -2165,
          -2175,
          -2185,
          -2195,
          -2205,
          -2215,
          -2225,
          -2235,
          -2245,
          -2255,
          -2265,
          -2275,
          -2285,
          -2295,
          -2305,
          -2315,
          -2325,
          -2335,
          -2345,
          -2355,
          -2365,
          -2375,
          -2385,
          -2395,
          -2405,
          -2415,
          -2425,
          -2435,
          -2445,
          -2455,
          -2465,
          -2475,
          -2485,
          -2495,
          -2505,
          -2515,
          -2525,
          -2535,
          -2545,
          -2555,
          -2565,
          -2575,
          -2585,
          -2595,
          -2605,
          -2615,
          -2625,
          -2635,
          -2645,
          -2655,
          -2665,
          -2675,
          -2685,
          -2695,
          -2705,
          -2715,
          -2725
         ],
         "type": "linear",
         "zeroline": false
        }
       }
      }
     },
     "metadata": {},
     "output_type": "display_data"
    }
   ],
   "source": [
    "from scipy.cluster import hierarchy as sch\n",
    "\n",
    "#  Hierarchical topics\n",
    "linkage_function = lambda x: sch.linkage(\n",
    "    x, \"complete\", optimal_ordering=True\n",
    ")  # use either complete or ward\n",
    "hierarchical_topics_1 = topic_model_1.hierarchical_topics(\n",
    "    text, linkage_function=linkage_function\n",
    ")\n",
    "topic_model_custom.visualize_hierarchy(hierarchical_topics=hierarchical_topics_1)"
   ]
  },
  {
   "cell_type": "markdown",
   "metadata": {},
   "source": [
    "Before merging"
   ]
  },
  {
   "cell_type": "code",
   "execution_count": 75,
   "metadata": {},
   "outputs": [
    {
     "name": "stdout",
     "output_type": "stream",
     "text": [
      "Topic -1: singaporean, singapore, race, countries, cant, country, cannot, better, lol, kids\n",
      "Topic 0: chinese, china, chinas, nonchinese, mandarin, taiwanese, taiwan, chinatown, singaporean, singaporeans\n",
      "Topic 1: muslims, christians, muslim, islamic, christianity, islam, christian, evangelicals, atheists, evangelical\n",
      "Topic 2: singaporeans, singaporean, singapores, singapore, foreigners, foreigner, countries, foreign, migrant, country\n",
      "Topic 3: foreigners, foreigner, immigrants, foreign, immigrant, overseas, migrants, immigration, deported, migrant\n",
      "Topic 4: feminism, sexism, feminists, feminist, sexist, misogynistic, genders, patriarchy, masculinity, gender\n",
      "Topic 5: racist, racists, racism, racial, racially, interracial, discriminate, race, races, discrimination\n",
      "Topic 6: gay, gays, homosexuals, homosexual, homos, homophobe, homophobic, homosexuality, homophobia, homophobes\n",
      "Topic 7: boomers, boomer, millennials, millenials, millennial, millenial, generations, generation, youngsters, uncles\n",
      "Topic 8: indian, indias, indians, india, hindu, hindi, hinduism, pakistani, nonindian, bangladeshi\n",
      "Topic 9: employers, employment, employee, employees, jobs, job, workers, hire, hiring, workplace\n",
      "Topic 10: malaysians, malaysian, malaysia, malaysias, malaya, malays, malay, indonesia, mgag, mfa\n",
      "Topic 11: driver, drivers, chauffeur, driving, taxis, taxi, cars, drive, vehicles, vehicle\n",
      "Topic 12: rape, rapist, raped, rapists, molested, raping, assaulting, assaulted, assault, pedophile\n",
      "Topic 13: vaccinations, vaccines, vaccination, vaccine, vaccinate, vaccinated, unvaccinated, nonvaccinated, flu, viruses\n",
      "Topic 14: whiteness, whites, caucasians, caucasian, white, antiwhite, whiter, ethnicity, whitewash, putih\n",
      "Topic 15: voting, voters, vote, ballot, ballots, votes, voted, elections, election, candidate\n",
      "Topic 16: asian, asiatic, asians, asia, japanese, east, southeast, western, westerners, angmohs\n",
      "Topic 17: dumb, stupid, idiot, dumbest, fool, dumbass, idiotic, stupidity, dumbasses, idiots\n",
      "Topic 18: elderly, elderlys, olds, old, elders, older, seniors, aged, grandparents, ageist\n",
      "Topic 19: sinkie, sinkies, pukes, nuts, spooning, papno, sostill, fondle, pwn, lumps\n",
      "Topic 20: taxes, tax, taxpayer, taxation, landlords, poors, landlord, rents, tenants, rentals\n",
      "Topic 21: mask, masks, maskers, antimaskers, masked, face, fear, hide, cover, acne\n",
      "Topic 22: minister, ministers, ministry, govt, government, governments, gov, servants, corruption, citizens\n",
      "Topic 23: cyclists, cyclist, cycling, bicycles, motorcyclists, bicycle, bikers, bikes, bike, biker\n",
      "Topic 24: fat, fats, fatness, fatphobic, overweight, skinny, obesity, obese, chubby, thin\n",
      "Topic 25: toilet, toilets, bathroom, handicapped, handicap, urinal, urinals, peeing, bath, hygiene\n",
      "Topic 26: racism, racist, racists, singapores, singaporean, singaporeans, singapore, xenophobic, xenophobia, racial\n",
      "Topic 27: fuckface, face, 丑人多作怪, facial, facecream, ugly, faces, uglier, facepulls, pimples\n",
      "Topic 28: momma, mommy, mom, moms, mummy, mother, mommas, motherly, mama, mum\n",
      "Topic 29: dollars, dollar, cents, expensive, money, cost, price, afford, worth, waste\n",
      "Topic 30: girls, tinder, chicks, girl, dating, females, ladies, women, gf, dudes\n",
      "Topic 31: nurses, nurse, healthcare, hospitals, patients, hospital, doctors, clinic, medical, hospitalised\n",
      "Topic 32: police, policeman, cop, cops, polis, 我支持河南警察, officer, arrested, arrest, patrolling\n",
      "Topic 33: dog, dogs, dogfuck, dogwhistle, puppy, doggos, dogtheres, dogpiled, lapdog, cane\n",
      "Topic 34: schizophrenic, schizophrenia, psychiatric, psychotic, psychiatrist, psych, mental, mentally, disorder, psychologist\n",
      "Topic 35: japanese, japans, japnese, japanfucked, japan, japankoreachina, gaijin, 日本第一, asian, japs\n",
      "Topic 36: parents, parent, family, daughters, dad, kids, father, offspring, sibling, sons\n",
      "Topic 37: singaporeans, singapores, singaporean, singapore, feminists, sexist, feminist, men, womens, women\n",
      "Topic 38: drugs, drug, druglords, heroin, druggie, overdose, opium, marijuana, addicts, cannabis\n",
      "Topic 39: russia, russian, russians, российской, ukrainian, ukrainians, antirussian, ukranians, ukraine, stalin\n",
      "Topic 40: wife, wives, 妻离子散家破人亡hdb, spouse, husband, mistress, husbands, married, divorce, marriage\n",
      "Topic 41: school, schools, turbansschools, schoolri, tuition, education, students, student, educate, educated\n",
      "Topic 42: youths, youth, youngsters, teenagers, teens, teenagehood, young, teenager, teenage, younger\n",
      "Topic 43: sleepy, sleep, sleeps, asleep, sleepoverfor, noc, sleeping, nightfucker, insomniac, night\n",
      "Topic 44: english, englishi, language, languages, grammar, fluent, accents, accent, england, speak\n",
      "Topic 45: smell, smellso, smelly, smells, smelling, odor, stink, fragrance, smelled, deodorant\n",
      "Topic 46: lock, lockdown, key, hole, lifeskill, skewer, pogggggg, edmw, sepupuk, knnnbccb\n",
      "Topic 47: fearlessness, fear, intimidates, shame, missing, losers, 吃饱没事做, humble, uncivilised, threatened\n",
      "Topic 48: brain, brains, 脑残, braincell, brainwashed, braincells, brainiacs, brainwash, brainless, brainer\n",
      "Topic 49: chicken, chickens, rice, chili, soup, pepper, meat, fish, egg, eggstop\n",
      "Topic 50: downvote, downvotes, downvoted, downvoter, downvoting, downvoters, upvote, upvotes, upvoted, upvoting\n",
      "Topic 51: israelis, israeljews, israeli, israels, palestines, palestine, palestininan, israel, palestinians, palestinian\n",
      "Topic 52: smokers, smoking, cigarettes, cigarette, smoker, tobacco, smokes, smoke, smokefree, vaping\n",
      "Topic 53: lmfaooo, oneshttpsiimgurcom51xq7hjpng, nab, fk, lkm, ahtc, ndu, buangbu, ahyuk, chih\n",
      "Topic 54: account, apologise, apology, apologize, httpsimgurcoma332guamhttpsimgurcoma332guam, fknnn, apologies, httpsiimgurcom09ogc9lpnghttpsiimgurcom09ogc9lpng, woops, httpsiibbcowpw39wrimagepng\n",
      "Topic 55: wow, lol, ohh, whoop, bully, sickos, apologetic, aptly, asshole, fucks\n",
      "Topic 56: country, countrymen, countries, nation, patriot, 愛國, internationally, rmilitary, germanyswiss, redneck\n",
      "Topic 57: race, races, raced, sprint, issue, httpswwwredditcomrsingaporerawcommentspdtygknational_day_rally_2021_all_races_treated_equallyhasp05u, feud, matter, pasir, civilized\n",
      "Topic 58: faggort, ufatasian3, martinez, fuckups, martin, harijan, addflair, dicks, mj, uhidingcat\n",
      "Topic 59: populist, fascistic, politicians, politician, political, politically, politics, politiks, trump, nationalist\n",
      "Topic 60: slaves, slavery, slave, slaveowners, slavelike, slaver, enslave, slaverytype, labour, africanamericans\n",
      "Topic 61: scammed, scammer, scam, scamming, scammers, scammercreep, gethack, stupid, woah, sell\n",
      "Topic 62: cut, dick, throat, chuck, smack, tightballspoppingspandexes, chug, suck, culled, cunning\n",
      "Topic 63: energy, weak, strong, small, eyes, eyecancer, dick, eye, blind, eyeball\n",
      "Topic 64: jail, prison, jailed, arrestable, punishment, crimes, inmates, violators, murderize, rapistspedophiles\n",
      "Topic 65: looks, like, look, looking, fuckable, horlick, cute, hum, wospec, virgin\n",
      "Topic 66: nazi, nazis, nazism, nazists, hitler, hitlersaf, hitlerjugend, hitlers, holocaust, swastika\n",
      "Topic 67: transphobic, transgender, transphobia, transgenders, transphobe, transgendered, transsexual, trans, transwoman, transgirl\n",
      "Topic 68: dick, pussy, fuckinh, cock, suck, big, gross, huge_, huge, shite\n",
      "Topic 69: bus, buses, busesmrts, minibus, busses, driver, drivers, passenger, blameless, carstaxis\n",
      "Topic 70: bread, bakers, baguetteshttpswwwstraitstimescomworldeuropeletthemeatbreadfrenchhoardbaguettesincoronaviruslockdown, baker, bake, cookieswell, cookies, butter, waffles, cupcakes\n",
      "Topic 71: flag, flags, flagshttpsmustsharenewscomsingaporeflagburjkhalifa, cultural, culturally, culture, uncultured, cultures, culturehttpswwwwsjcomarticleshappychinesenewyearnowpleaseappropriatemyculture11579909279, cancelsjwsnowflake\n",
      "Topic 72: teacher, teachers, teachersprincipal, teachersdm, prof, profs, instructor, tutors, tutor, lecturer\n",
      "Topic 73: hang, grab, pull, put, fica, get, caned, take, stab, tposing\n",
      "Topic 74: peasantssilly, peasants, peasant, farmers, farmer, us, estates, whiners, safos, peter\n",
      "Topic 75: airplane, aeroplane, plane, airline, stewardesses, airlines, stewardess, flight, pilot, airport\n",
      "Topic 76: crappy, fcked, howunsingaporean, spooktober, punggol, shady, hmmm, stalking, goddddd, twats\n",
      "Topic 77: korean, korea, southkorea, sgchinakorea, koreans, koreajapan, kpop, asian, kimchi, httpsrollingstoneindiacommeetsriyathefirstindiankpopstar\n",
      "Topic 78: rich, richest, wealthy, wealth, poor, poors, bourgeoisie, fame, money, classy\n",
      "Topic 79: class, first, third, uppermiddle, low, retardedly, beggar, upper, brother, foulest\n",
      "Topic 80: society, social, societiescountries, antisocial, sociable, friendssocial, fucknestle, wowwwww, citizenspr, shamelessly\n",
      "Topic 81: malaysians, singaporeans, malaysian, singaporean, malayisans, malaysia, singapore, singapoor, singaporeed, malays\n",
      "Topic 82: hush, shut, singh, geh, sh, hannah, koh, brah, wh3y, smu\n",
      "Topic 83: antivaxxer, antivaxxx, antivaxxers, antivaxx, vaxxer, antivax, vaxx, vaxxers, vaxxx, vax\n",
      "Topic 84: customer, clientele, customers, client, httpswwwredditcomrsingaporecommentsmoo8bifoodpanda_support_allegedly_tells_customer_thatgu5ln8l, service, server, rude, retards, servehave\n",
      "Topic 85: pants, panties, underwear, jeans, shorts, thongs, wore, pantyfully, naked, clothes\n",
      "Topic 86: virus, vaccineit, viral, vaccines, china, vaccine, flu, vaccination, vaccinated, vaccinate\n",
      "Topic 87: triggered, lmao, stirred, ragehead, wusg, cucks, dispel, miserable, haf, unliked\n",
      "Topic 88: cunt, knncb, wfh, fkn, kkj, lol, hate, shhh, stupidest, ki\n",
      "Topic 89: lawyer, lawyering, lawyers, lawyerskarkia, consultants, advisory, law, consultancy, judge, legal\n",
      "Topic 90: minority, minorities, minoritiiiessss, majority, less, generalize, small, mostly, lower, generalise\n",
      "Topic 91: comment, commenter, commenting, commenters, comments, commented, replying, reply, lol, postswith\n",
      "Topic 92: mods, mod, moderators, moderator, moderatortobe, modus, banned, moderation, modi, trolled\n",
      "Topic 93: karen, bro, shitbag, cuck, karens, carlton, cab, steamroller, fucking, bock\n",
      "Topic 94: families, family, familial, familythey, familyfriendly, parents, father, condolences, mourning, birthright\n",
      "Topic 95: black, blacker, darkblack, blackpink, blacklisted, blackstool, blacklisting, blackcock, blackshirts, det\n",
      "Topic 96: research, dumbfck, bitching, dumb, idiot, seekin, stupid, zzzzzzzzzzzzzzzzzz, btch, argument\n",
      "Topic 97: river, cry, swallow, lured, ohhhh, ashame, oso, livestream, gonao, shite\n",
      "Topic 98: clownfuck, clown, clowns, fucking, comedian, wahaha, shabuing, shabu, damn, fang\n",
      "Topic 99: insuranceproperty, insurance, insurers, insuranceinvestmentfinancial, assurance, agents, agent, coverage, scam, assholes\n",
      "Topic 100: abortion, maternity, abort, pregnancies, pregnancy, paternity, pregnant, contraceptives, babysitting, birth\n",
      "Topic 101: name, names, naming, named, namecalling, surname, shame, badfuck, motherfuckers, woa\n",
      "Topic 102: childishness, kid, kids, childs, child, children, crybabies, immaturity, pathetic, cunt\n",
      "Topic 103: dirty, limpeh, watch, wipe, watches, clean, wtf, eww, clear, clock\n",
      "Topic 104: beer, beers, whisky, drinking, alcoholism, alcoholic, alcohol, drunken, drinks, drink\n",
      "Topic 105: suicides, suicide, suicidal, depression, depressionthey, depressed, murdered, killing, mental, fucking\n",
      "Topic 106: tiaktiaktiaktiak, bkk, tiak, omfg, cheebai, bish, qipao, plh, chut, huggers\n",
      "Topic 107: xenophobicracist, xenophobia, xenophobic, racistdiscriminatory, racism, racists, xenophobes, racist, ethnicracial, racial\n",
      "Topic 108: kao, tcm, khaw, qian, wahhh, cq, hahahahahahahhahahha, quack, wusg, beh\n",
      "Topic 109: link, links, oy, hic, shill, heehee, ah, errr, fags, ass\n",
      "Topic 110: troll, trolling, trolls, trolled, stupids, stupid, insult, ragequit, shitstirrer, loser\n",
      "Topic 111: banning, banned, ban, indians, indian, india, flights, allowed, flying, tourists\n",
      "Topic 112: back, retake, backside, reboundbackup, reversed, bta, shitfuck, go, bai, pusi\n",
      "Topic 113: groups, group, others, peopleforeignersexpats, friends, hippies, cringecunt, fb, gossip, phds\n",
      "Topic 114: cats, cat, kitty, kitten, kittens, tortures, pets, kill, rodents, killers\n",
      "Topic 115: viruses, virus, virusdenier, infected, flu, herpes, plague, hiv, unhygienic, computers\n",
      "Topic 116: lmao, fucccccccck, cul, reply, dk, af, mc, zzzzz, qn, whiner\n",
      "Topic 117: loser, losers, asshole, jealous, lmao, shaming, bitter, worse, hahaahahah, slut\n",
      "Topic 118: porno, porn, pornhub, hentai, henta, nudes, masturbating, dick, naked, mastubating\n",
      "Topic 119: americans, american, americas, america, usa, europeans, ignorant, country, nationalist, butthurts\n",
      "Topic 120: elderly, seniors, old, senior, aunties, oldexperienced, age, 70s, cleaners, benefits\n",
      "Topic 121: female, woman, females, women, ladies, ladyboys, lady, male, genders, girl\n",
      "Topic 122: xenophobic, xenophobia, xenophobes, xenophobe, aporophobia, nationalityrace, asshole, hypocrites, nationality, populism\n",
      "Topic 123: salty, salt, salts, saltiness, sally, lolz, plp, aaww, frag, owhh\n",
      "Topic 124: cringe, cringey, cringefest, embarrassment, retarded, childish, jokes, fake, humour, laughter\n",
      "Topic 125: terroristy, terrorist, terrorists, terrorism, bioterrorist, terror, bombing, bomb, bombs, bombarded\n",
      "Topic 126: firstworld, nations, world, countries, nation, third, country, humanity, citizens, 3rd\n",
      "Topic 127: penalty, incarceration, imprisonment, murder, prison, punishment, jail, punishments, prisons, crimes\n",
      "Topic 128: toxic, toxicity, disinfectantcant, apologetic, onesided, denigrate, septic, genshit, nsfw, wokes\n",
      "Topic 129: seat, seats, chair, chairs, wheelchair, sitting, sit, armchair, sofa, chairforce\n",
      "Topic 130: stalk, life, army, survives, allthat, kill, fucked, md, thatd, fate\n",
      "Topic 131: pussy, dicks, dick, cock, buttcrack, tetek, bitches, bum, mooove, twist\n",
      "Topic 132: intelligent, dumb, intelligence, intellect, smart, stupid, idiots, surrogacyhttpswwwredditcomrunpopularopinioncommentsu5ro4dsurrogacy_is_totally_unethical_to_me, uneducated, ahahaha\n",
      "Topic 133: monkey, monkeys, monkeya, monkeypox, donkeys, donkey, macaque, muz, moneky, peanuts\n",
      "Topic 134: cancer, cancerous, cancerously, ebola, testicular, cure, cures, selfdiagnosed, hiv, lung\n",
      "Topic 135: banking, bank, banks, dbs, untrustworthy, dbsv, unreliable, authentication, fraudulent, ocbcs\n",
      "Topic 136: balls, ballsy, bola, ball, balled, dick, cock, sucking, sperm, butts\n",
      "Topic 137: boss, bossperson, bosses, colleague, office, dumb, staff, jobless, fuckshit, manager\n",
      "Topic 138: time, timeyou, timing, waste, timeline, epoch, useless, wastes, wasted, mmtf\n",
      "Topic 139: donations, donate, donation, donating, donates, fundraiser, donated, donors, crowdfund, charity\n",
      "Topic 140: asians, asian, asia, caucasian, womanwhite, white, manwhite, dating, colonialismdictators, men\n",
      "Topic 141: billionaire, riches, richest, rich, poor, idiots, investment, investments, money, investor\n",
      "Topic 142: western, westerner, westernized, westerners, west, antiwestern, westies, easties, europeans, bullshit\n",
      "Topic 143: pizza, pizzas, grabfood, 混口饭吃, foodpanda, meals, food, meal, eat, menu\n",
      "Topic 144: transport, transit, trolleys, public, pollution, congestion, train, roads, norms, fools\n",
      "Topic 145: trashbag, souls, cruel, shat, scorch, keys, inhumane, slash, hishers, allen\n",
      "Topic 146: death, dying, lethal, dead, kill, immortal, killing, everybody, everyone, everyones\n",
      "Topic 147: africa, african, africans, nigeria, continent, countries, country, continental, nation, nationality\n",
      "Topic 148: balls, sperm, dildos, genitals, ironically, butthole, lick, boohoo, pierces, mmtf\n",
      "Topic 149: ccpee, jerbs, tiongcock, lick, ramitheasshole, jinping, cork, kekw, cheapo, sdas\n",
      "Topic 150: low, lower, lowincome, loud, louder, voice, voices, sess, high, speakers\n",
      "Topic 151: females, women, girls, dating, female, men, depopulating, male, girl, woman\n",
      "Topic 152: 20k, 2k, 50k, 6k, money, kiachenghu, cash, kias, kiabor, okonomiyaki\n",
      "Topic 153: leftie, lefthanded, eeeewwwwwwwww, rightwingers, shitstorm, wokes, furiously, nsfw, brag, hm\n",
      "Topic 154: sinkies, sinkie, cheekopek, tiktoksgs, simps, neckline, nut, sucking, chopped, scots\n",
      "Topic 155: elderly, retirements, seniors, older, old, retirement, millennials, ageing, age, boomers\n",
      "Topic 156: income, underpaying, salaries, slaverylevel, slavepeasant, eff, socialists, mediocre, employees, goodwills\n",
      "Topic 157: boobs, boob, breasts, breast, nipples, tits, bra, chest, bras, cleavage\n",
      "Topic 158: reply, replying, answer, dumb, answers, retarded, replied, dumber, lol, stupid\n",
      "Topic 159: castration, castrate, chemical, chemically, vasectomy, ejaculate, genitals, sex, massage, reproduce\n",
      "Topic 160: tattoos, tattoo, nerdy, naked, ahaha, wow, patriotism, foolery, impurity, ahahaa\n",
      "Topic 161: article, redacted, wrote, censored, read, bullshit, offend, reads, write, reading\n",
      "Topic 162: girls, gf, girl, ugly, guys, msg, creep, stalking, uw, sm\n",
      "Topic 163: grandma, grandmother, granny, grandmothers, grandparents, aunty, auntiesque, grandpa, auntie, grandfather\n",
      "Topic 164: drugs, drug, drugsex, legalization, drugschaos, antidrug, heroin, narco, singaporeans, singapores\n",
      "Topic 165: selfish, selfesteem, selfrighteous, selfhating, selfdeclared, selfaggrandising, self, ego, selfie, selfpromotion\n",
      "Topic 166: liew, clh, leon, leong, lone, yat, singhs, damnnnn, diu, nicole\n",
      "Topic 167: wtf, shredded, fucking, fck, smlj, stfu, sch, dick, nsfw, yikes\n",
      "Topic 168: gold, golden, golding, golds, platinum, diamond, medal, nigga, goers, frm\n",
      "Topic 169: pigeons, pigeon, birds, cockatoos, owls, crows, bird, crow, birdbrained, birdkeeper\n",
      "Topic 170: fox, newsworthy, newscasters, news, journalismblogging, journalism, journalist, reporters, fker, tabloid\n",
      "Topic 171: homophobia, homosexuality, homophobics, homophobic, homosexuals, gays, gay, homo, lesbians, singapores\n",
      "Topic 172: infantry, battalions, commanders, ranks, fights, hates, dishonourable, units, asshats, infighting\n",
      "Topic 173: 377a, 377, 369, 351, everythingbut377a, lw, lgbt, undo, kia, lai\n",
      "Topic 174: laws, law, loi, legal, illegality, illegal, justice, penal, république, enforced\n",
      "Topic 175: dumbfucks, dumb, stupid, stupidity, idiot, dumbasses, crazies, condescending, humiliating, slobs\n",
      "Topic 176: milk, latte, milkshakes, milking, lactose, cows, udders, breast, bovine, almond\n",
      "Topic 177: language, languages, english, anglo, accents, fluently, tongues, accent, tongue, speak\n",
      "Topic 178: malaysians, malaysian, malaysia, malays, malaymuslim, singaporeans, singapore, indonesian, indonesias, indonesia\n",
      "Topic 179: train, trains, rail, httpsenmwikipediaorgwikitanjong_pagar_railway_station, station, commute, sorrow, pity, boohoo, bmw\n",
      "Topic 180: lololol, tooooooo, ccp, cocksucker, scs, jokers, fks, junk, cowardice, sht\n",
      "Topic 181: autism, autistic, autists, autist, narcissistic, narcissism, egoistic, retarded, mentally, intelligent\n",
      "Topic 182: fgm, kfc, mccy, mgm, cnb, mcd, wmcr, bt, kpi, hw\n",
      "Topic 183: older, grandma, younger, oldest, grandmother, age, old, olds, 40yo, aunty\n",
      "Topic 184: wahahaha, joke, bro, ahahaha, motherfuckshit, tbh, wayyyyyy, fuckery, dumbest, joe\n",
      "Topic 185: girl, girly, girls, boy, girl², ladies, womens, sons, chio, dick\n",
      "Topic 186: barber, barbers, barbershop, beard, shave, shaver, haircut, moustache, 毛hair, razor\n",
      "Topic 187: disappointedyour, kc2, ankles, kneeling, motherfucker, sarcastic, ungrateful, crap, arh, fail\n",
      "Topic 188: colonialists, colonialism, colonialist, colonial, colonialised, colonising, colonisers, colonized, colonizers, colonies\n",
      "Topic 189: coffee, cafe, coffeecareer, starbuck, cafessome, starbucks, coffeeshops, coffeeshop, cup, coke\n",
      "Topic 190: real, reality, smdh, selfhating, gfy, ownself, xboxifuckedyourmom, self, miw, amdog\n",
      "Topic 191: singaporeans, cars, singaporean, drivers, singapore, driver, vehicles, car, driving, drive\n",
      "Topic 192: ewww, sucks, lol, fucking, wtf, goddamn, bruh, damn, hahah, hahaha\n",
      "Topic 193: idiots, fools, idiot, stupid, dumber, dumb, dumbasses, dumbest, ignorant, smartass\n",
      "Topic 194: like, cockroach, crush, cocktease, pussy, curry, equivalent, bitches, kosh, sinkie\n",
      "Topic 195: butthurt, hahaha, 笨蛋, hmmm, stupid, woah, insult, dude, dick, sarcasms\n",
      "Topic 196: salary, earn, earning, earns, 6k, 700k, 200k, earned, paid, 25k\n",
      "Topic 197: blacks, black, blackest, blackface, faggot, darker, insulting, dark, vulgar, pigmentation\n",
      "Topic 198: dad, father, dads, baba, parents, birthday, orphanage, whack, fck, mom\n",
      "Topic 199: social, wtf, community, fws, societies, 4channer, censored, hate, tw, sincere\n",
      "Topic 200: jail, prison, imprisonment, prisoners, penalty, punishment, torturing, crime, justice, theft\n",
      "Topic 201: aircon, aircons, peasants, weather, homeless, neighbours, voucher, gen贱国一代, homeowners, hotmuahahahaaaaa\n",
      "Topic 202: ugh, idiot, boss, lool, sht, soo, coy, managers, sibeh, whyy\n",
      "Topic 203: misogyny, women, females, polygamy, ladies, woman, husbandbf, gender, lady, responsibility\n",
      "Topic 204: bot, bots, botox, robot, musibot, uamputatorbothttpswwwredditcomramputatorbotcommentscchly3you_can_now_summon_amputatorbot, abouthttpswwwredditcomramputatorbotcommentsehrq3zwhy_did_i_build_amputatorbot, autocorrect, webhttpswwwredditcomramputatorbotcommentsehrq3zwhy_did_i_build_amputatorbot, shakespearebot\n",
      "Topic 205: female, gender, females, girls, masculine, males, ladies, women, male, woman\n",
      "Topic 206: prostitute, prostitutes, prostitution, nothing, hookers, virgins, nuns, nus, dickwhat, sex\n",
      "Topic 207: adblock, adblocker, ads, advertising, advert, ad, propaganda, spammed, annoyed, bother\n",
      "Topic 208: riots, protests, protestors, protesters, policemen, police, policeman, violence, racist, vandalism\n",
      "Topic 209: afghanistan, afghan, afghanistanpalestinepyongyang, taliban, talibans, talibancontrolled, armenian, httpswwwcbsnewscomnews3sistersfounddeadwithchildrendowryviolenceindia, islamic, iraqis\n",
      "Topic 210: buay, dk, lol, ppls, smug, simp, nvr, teo, fav, livestream\n",
      "Topic 211: 没有行动党没有新加坡, singapores, singaporeans, singaporeraw, singapore, political, politicalpublic, 在红白国旗下高呼伟大李总理万岁, politics, freedom\n",
      "Topic 212: sell, broker, cash, money, sellmarket, buyback, market, pck, bullshit, whoops\n",
      "Topic 213: threats, fight, criminalhe, anonymous, attacking, intimidate, junjie, blackmailed, aiya, abusers\n",
      "Topic 214: age, aged, underaged, 20s, adult, old, olden, teen, young, teenagers\n",
      "Topic 215: indians, indian, singaporean, india, singapore, hindu, nonindians, australians, australian, bangladesh\n",
      "Topic 216: sexist, female, women, womens, woman, females, gender, men, male, sex\n",
      "Topic 217: scummy, uninterested, smug, outmuhahaha, dazzle, whoring, zhut, csgo, hawking, betrayed\n",
      "Topic 218: gym, gymtoker, fitness, exercise, deadlift, lifting, exercising, trained, bench, martial\n",
      "Topic 219: homewrecker, cockroach, home, pussy, cock, sucker, beetle, oh, imh, hor\n",
      "Topic 220: marriage, marrying, marriages, marry, married, marital, wedding, divorce, husband, wives\n",
      "Topic 221: cant, useless, laobu, dw, sdas, sph, lg, fking, teo, josephine\n",
      "Topic 222: shoes, shoe, socks, boots, shoebox, feet, barefoot, foot, slippers, adidas\n",
      "Topic 223: jealous, envy, hahahahahha, scams, money, retarded, ippt, yikes, show, mha\n",
      "Topic 224: singaporean, singapore, singaporeans, cruel, malicious, abuser, mindlessly, crazy, terribly, mental\n",
      "Topic 225: retirement, women, birthrate, birthing, offspring, age, compensation, pregnancy, aunt, mothers\n",
      "Topic 226: milf, stupid, silly, bum, goddamn, dota, ms, shits, humiliating, psd\n",
      "Topic 227: escalator, escalators, stairs, ladders, climb, lifts, walk, train, railings, rushing\n",
      "Topic 228: strawberry, strawberries, dingleberry, generation, generations, boomers, millennials, gen, boomer, millennial\n",
      "Topic 229: leg, legs, ankle, feet, ankles, toes, toe, knees, knee, kneeling\n",
      "Topic 230: foreigners, foreign, foreigner, expatriates, overseas, ownership, properties, locals, housing, dwellings\n",
      "Topic 231: abortions, abortion, abortionist, abort, pregnancy, contraceptives, pregnant, adoption, 韭菜生而被割生生不息, born\n",
      "Topic 232: nsf, 365, motherfuckers, pofma, pwn, swear, shitting, cannot, nasty, slp\n",
      "Topic 233: scumbags, scum, disgusting, pofmaed, dicks, hypocritical, assholes, parasites, suck, retard\n",
      "Topic 234: journalists, journalist, journalism, reporters, reporter, newspaper, news, media, press, headline\n",
      "Topic 235: cb, kp, csm, fk, knncc, fcuk, knn, fkers, deaf, wah\n",
      "Topic 236: virgin, virgins, virginity, cry, sad, pussy, sexless, pathetic, abandoned, castrate\n",
      "Topic 237: christiansbuddhist, christians, christian, buddhism, buddhists, chinese, buddhist, antichristians, muslims, muslim\n",
      "Topic 238: iq, low, lmaooo, minus, slightly, harsh, shill, intelligibly, orhhhh, wow\n",
      "Topic 239: seat, seats, sit, old, aunties, retired, stands, isnt, ignore, butt\n",
      "Topic 240: malaysindianschinese, malaysianchinese, chinesemalay, racial, chinese, monoracial, racist, racists, indians, malaysian\n",
      "Topic 241: anal, pussy, ass, shitting, dick, cucked, wah, horny, bang, bunks\n",
      "Topic 242: middleclass, class, bourgeois, rich, classcant, middle, low, income, lowermiddle, lower\n",
      "Topic 243: money, pocket, whack, suck, expensive, shd, fuckers, dollar, budget, kek\n",
      "Topic 244: tears, cry, crying, bitching, wtf, laugh, screaming, singh, woke, zoe\n",
      "Topic 245: assholes, asshole, assholez, bully, stalker, ewhatever, fkers, wtf, bastard, dick\n",
      "Topic 246: pm, ready, nonchinese, chinese, singapore, singaporean, singaporeans, mp, wong, tinpeilingforpm\n",
      "Topic 247: cardboards, boxes, cardboard, collecting, collectors, toys, neighbours, lobby, cartman, neighbour\n",
      "Topic 248: nonmilitary, army, military, soldiersits, soldiers, battlefield, fighter, armed, chaos, forces\n",
      "Topic 249: dbs, dbspb, dbst, shittybank, hsbcs, bank, ocbc, bankrolled, bcos, app\n",
      "Topic 250: liberals, liberalsminorities, liberal, conservatives, conservativeanti, leftists, libtard, conservatism, conservative, leftist\n",
      "Topic 251: jobless, jobs, employer, job, hiring, hire, professionals, worker, wages, qualified\n",
      "Topic 252: rapes, rapists, rape, prostitution, raped, molested, vagina, sexual, castration, sexually\n",
      "Topic 253: vocabulary, illiterate, buzzwords, words, word, read, lee, nword, readers, incoherent\n",
      "Topic 254: misogyny, misogynist, women, woman, blaming, misdeeds, victim, men, flatisjustice, discriminationdouble\n",
      "Topic 255: friend, bullying, friends, insulted, wfh, mmtf, brigadier, bullies, brat, alsagoff\n",
      "Topic 256: shorts, shorties, skirts, outfits, lesbians, shorter, panties, underwear, short, wears\n",
      "Topic 257: firearms, airsoft, bullets, ammo, bomb, badass, armskote, lithium, ghetto, noooooo\n",
      "Topic 258: judiciary, judicial, judges, judge, prosecutor, prisonerpatientsiavejunkie, court, courts, scumbags, unreasonableunfair\n",
      "Topic 259: cum, slut, deeserved, creampie, armpit, sinkie, nuts, clamp, fuckers, dribble\n",
      "Topic 260: parents, children, kids, family, child, kid, convictions, offenders, evicted, scums\n",
      "Topic 261: racism, racist, racially, racenationality, race, races, incidenthttpswwwgooglecommaps1317751210386622013a75y13804h8394tdata3m61e13m41svsnjgawmytaedc_rvztfkg2e07i163848i8192, hostility, riot, whataboutisms\n",
      "Topic 262: bill, rude, starhub, whymobile, fee, bills, price, bump, wah, bullshit\n",
      "Topic 263: burns, burn, burnt, fire, flamethrower, burning, acidburn, lighter, hairspray, wtf\n",
      "Topic 264: google, googling, search, lols, yucks, smlj, milo, swear, httpswwwsecgovarchivesedgardata1326801000132680122000018fb20211231htm, hoklo\n",
      "Topic 265: propaganda, advertiser, ads, satire, tabloidsized, newspaper, 2020httpswwwredditcomrsingaporecommentsg4uvcffull_screenshot_of_ho_chings_rant_for_posterity, media, vulgarity, fuckwits\n",
      "Topic 266: blaming, victim, victims, pity, complaining, accidents, harassment, embarrassed, bully, forgive\n",
      "Topic 267: scammers, urgh, scam, refund, bankrupt, shithole, scums, harass, shout, cushysounding\n",
      "Topic 268: soap, dishwasher, wash, launder, wipe, dont, dirty, spraying, laundry, drop\n",
      "Topic 269: stalked, tricky, poorly, employers, employer, coder, corporations, bofhmadlad, wondered, unfriendly\n",
      "Topic 270: toothpaste, tooth, teeth, dental, dentist, dentists, dentures, jaw, mouth, brush\n",
      "Topic 271: girl, girls, prostitute, girlfriends, whore, mothersistergirlfriend, swallow, cringy, friends, loudly\n",
      "Topic 272: iphone, apple, ipad, apples, ipads, android, scumbag, haram, trolls, devices\n"
     ]
    }
   ],
   "source": [
    "topic_keywords = {}\n",
    "for topic_num in sorted(topic_model_custom.get_topics()):\n",
    "    try:\n",
    "        words, scores = zip(*topic_model_custom.get_topic(topic_num))\n",
    "        topic_keywords[topic_num] = \", \".join(words)\n",
    "        print(f\"Topic {topic_num}: {', '.join(words)}\")\n",
    "    except ValueError:\n",
    "        print(f\"No words found for Topic {topic_num}, skipping...\")\n",
    "        topic_keywords[topic_num] = \"No relevant words\"  # Handling topics without words"
   ]
  },
  {
   "cell_type": "code",
   "execution_count": 109,
   "metadata": {},
   "outputs": [],
   "source": [
    "topics_to_merge = [\n",
    "    [232, 9],  # crime\n",
    "    [221, 0],  # rasim/natioanlity\n",
    "    [217, 2],  # religion\n",
    "    [4, 20, 185, 186],\n",
    "    [194, 11],\n",
    "    [9, 233],\n",
    "]  # gender\n",
    "\n",
    "topic_model_custom.merge_topics(text, topics_to_merge)"
   ]
  },
  {
   "cell_type": "markdown",
   "metadata": {},
   "source": [
    "After merging"
   ]
  },
  {
   "cell_type": "code",
   "execution_count": 110,
   "metadata": {},
   "outputs": [
    {
     "name": "stdout",
     "output_type": "stream",
     "text": [
      "Topic -1: singaporean, singapore, race, countries, cant, country, cannot, better, lol, kids\n",
      "Topic 0: racist, racists, racism, racial, xenophobic, xenophobia, black, discrimination, race, malaysians\n",
      "Topic 1: chinese, china, chinas, nonchinese, taiwanese, mandarin, taiwan, chinatown, singaporean, singaporeans\n",
      "Topic 2: muslims, christians, christianity, atheists, muslim, atheist, christian, islamic, islam, religion\n",
      "Topic 3: singaporean, singaporeans, singapores, singapore, foreigners, foreigner, foreign, countries, citizen, migrant\n",
      "Topic 4: feminism, feminists, sexism, feminist, sexist, misogynistic, patriarchy, genders, equality, masculinity\n",
      "Topic 5: boomers, millennials, boomer, millenials, millennial, generations, generation, seniors, elderly, elders\n",
      "Topic 6: homosexuals, homosexuality, heterosexuals, gays, homophobes, homophobe, homophobia, homosexual, homophobic, gay\n",
      "Topic 7: vaccines, vaccinations, vaccination, vaccinate, vaccine, vaccinated, masks, mask, maskers, unvaccinated\n",
      "Topic 8: rape, rapist, rapists, raped, molested, raping, assaulted, assault, pedophile, pedophiles\n",
      "Topic 9: cyclists, motorcyclists, cyclist, bicycles, cycling, bicycle, bikes, biker, motorbike, bike\n",
      "Topic 10: voters, voting, ballot, vote, elections, voted, votes, election, candidates, republican\n",
      "Topic 11: employers, employment, employee, employees, boss, workers, bosses, workplace, job, jobs\n",
      "Topic 12: fat, fatphobic, fatness, overweight, obesity, skinny, obese, chubby, thin, slim\n",
      "Topic 13: asian, asiatic, asians, asia, japanese, western, east, westerners, southeast, values\n",
      "Topic 14: dumb, stupid, idiot, dumbest, fool, dumbass, stupidity, idiotic, dumbasses, idiots\n",
      "Topic 15: taxes, tax, taxpayer, taxation, landlords, poors, income, landlord, rents, renting\n",
      "Topic 16: sinkie, sinkies, pukes, nuts, spooning, papno, sostill, fondle, pwn, lumps\n",
      "Topic 17: toilet, toilets, bathroom, handicapped, handicap, urinal, urinals, peeing, bath, hygiene\n",
      "Topic 18: momma, mommy, moms, mom, mother, mommas, mummy, motherly, mothers, mama\n",
      "Topic 19: dollars, dollar, cents, expensive, money, price, afford, storage, cost, fck\n",
      "Topic 20: nurses, nurse, hospitals, patients, healthcare, hospital, doctors, clinic, medical, hospitalised\n",
      "Topic 21: police, policeman, cop, cops, polis, officer, arrested, arrest, officers, patrolling\n",
      "Topic 22: dog, fuckdog, dogs, dogwhistle, puppy, doggos, lapdog, cane, slumdogs, pitbull\n",
      "Topic 23: schizophrenic, schizophrenia, psychiatric, psychotic, psychiatrist, psych, mental, mentally, disorder, psychologist\n",
      "Topic 24: japanese, japans, japnese, japanfucked, japan, japankoreachina, gaijin, 日本第一, asian, japs\n",
      "Topic 25: parents, parent, family, daughters, dad, kids, father, offspring, sibling, sons\n",
      "Topic 26: russia, russian, russians, российской, ukrainian, ukrainians, ukranians, ukraine, stalin, ccprussian\n",
      "Topic 27: wife, wives, wifemothersister, spouse, mistress, husband, married, husbands, divorce, marriage\n",
      "Topic 28: schools, school, turbansschools, schoolri, tuition, students, education, student, educate, educated\n",
      "Topic 29: youths, youth, youngsters, teenagers, adolescent, teens, teenagehood, young, teenager, teenage\n",
      "Topic 30: sleepy, sleep, sleeps, asleep, sleepoverfor, noc, sleeping, insomniac, night, nights\n",
      "Topic 31: english, englishi, language, languages, bahasamalay, accents, accent, fluent, speak, grammar\n",
      "Topic 32: lock, lockdown, key, hole, lifeskill, reeeeeeeeeeeeeeeeeeeeeeeeeeally, edmw, clawback, pogggggg, c0cks\n",
      "Topic 33: fearlessness, cheating, fear, cheat, cheaters, shame, losers, missing, lonely, asshole\n",
      "Topic 34: smellso, smell, smelly, smells, smelling, odor, stink, fragrance, smelled, deodorant\n",
      "Topic 35: brain, brains, 脑残, braincell, brainwashed, braincells, brainiacs, brainwash, brainless, brainer\n",
      "Topic 36: chicken, chickens, rice, chili, meat, fish, soup, eggstop, egg, eggs\n",
      "Topic 37: downvote, downvotes, downvoted, downvoter, downvoting, downvoters, upvote, upvotes, upvoted, upvoting\n",
      "Topic 38: israelis, israeljews, israeli, israels, palestines, palestine, israel, palestinians, palestinian, antisemitism\n",
      "Topic 39: smokers, smoking, cigarettes, cigarette, smoker, tobacco, smokes, smoke, smokefree, antismoke\n",
      "Topic 40: lmfaooo, fk, lkm, oneshttpsiimgurcom51xq7hjpng, nab, bro, hahahaha, ahyuk, edmw, ah\n",
      "Topic 41: account, apologise, apology, apologize, httpsimgurcoma332guamhttpsimgurcoma332guam, fknnn, apologies, httpsiimgurcom09ogc9lpnghttpsiimgurcom09ogc9lpng, woops, httpsiibbcowpw39wrimagepng\n",
      "Topic 42: wtf, wow, lol, ohh, whoop, bully, sickos, apologetic, aptly, asshole\n",
      "Topic 43: country, countrymen, countries, nation, patriot, 愛國, internationally, rmilitary, germanyswiss, redneck\n",
      "Topic 44: race, races, raced, sprint, issue, httpswwwredditcomrsingaporerawcommentspdtygknational_day_rally_2021_all_races_treated_equallyhasp05u, feud, matter, pasir, civilized\n",
      "Topic 45: faggort, ufatasian3, martinez, fuckups, martin, harijan, addflair, dicks, mj, uhidingcat\n",
      "Topic 46: populist, fascistic, politicians, politician, political, politically, politics, trump, politiks, socialist\n",
      "Topic 47: slaves, slavery, slave, slaveowners, slavelike, slaver, enslave, slaverytype, labour, africanamericans\n",
      "Topic 48: scammed, scammer, scam, scamming, scammers, scammercreep, gethack, stupid, woah, sell\n",
      "Topic 49: cut, dick, throat, chuck, smack, tightballspoppingspandexes, chug, suck, culled, cunning\n",
      "Topic 50: weak, eyecancer, eyes, strong, blind, eye, eyed, energy, eyeball, dick\n",
      "Topic 51: looks, like, look, looking, fuckable, horlick, cute, hum, wospec, virgin\n",
      "Topic 52: nazi, nazis, nazism, nazists, hitler, hitlersaf, hitlerjugend, hitlers, holocaust, swastika\n",
      "Topic 53: dick, pussy, fuckinh, cock, suck, big, gross, huge_, huge, shite\n",
      "Topic 54: bus, buses, busesmrts, minibus, busses, driver, drivers, passenger, blameless, carstaxis\n",
      "Topic 55: bread, bakers, baguetteshttpswwwstraitstimescomworldeuropeletthemeatbreadfrenchhoardbaguettesincoronaviruslockdown, bake, cookieswell, cookies, butter, waffles, cupcakes, starve\n",
      "Topic 56: flag, flags, flagshttpsmustsharenewscomsingaporeflagburjkhalifa, cultural, culturally, culture, uncultured, cultures, culturehttpswwwwsjcomarticleshappychinesenewyearnowpleaseappropriatemyculture11579909279, cancelsjwsnowflake\n",
      "Topic 57: teacher, teachers, teachersprincipal, teachersdm, prof, profs, instructor, tutors, tutor, lecturer\n",
      "Topic 58: hang, grab, pull, put, fica, get, caned, take, stab, tposing\n",
      "Topic 59: peasantssilly, peasants, peasant, farmers, farmer, us, estates, whiners, safos, peter\n",
      "Topic 60: crappy, fcked, howunsingaporean, spooktober, punggol, shady, hmmm, stalking, goddddd, twats\n",
      "Topic 61: airplane, aeroplane, plane, airline, stewardesses, airlines, stewardess, flight, pilot, airport\n",
      "Topic 62: korean, korea, southkorea, sgchinakorea, koreans, koreajapan, kpop, asian, kimchi, httpsrollingstoneindiacommeetsriyathefirstindiankpopstar\n",
      "Topic 63: society, social, societiescountries, sociable, friendssocial, fucknestle, scum, wowwwww, citizenspr, shamelessly\n",
      "Topic 64: class, first, poor, third, uppermiddle, low, retardedly, beggar, upper, brother\n",
      "Topic 65: rich, richest, wealthy, wealth, poor, poors, bourgeoisie, fame, money, classy\n",
      "Topic 66: pants, panties, underwear, jeans, shorts, thongs, wore, pantyfully, naked, clothes\n",
      "Topic 67: customer, clientele, customers, client, httpswwwredditcomrsingaporecommentsmoo8bifoodpanda_support_allegedly_tells_customer_thatgu5ln8l, service, server, rude, retards, servehave\n",
      "Topic 68: hush, shut, singh, geh, sh, hannah, koh, brah, wh3y, smu\n",
      "Topic 69: triggered, lmao, stirred, ragehead, wusg, cucks, dispel, miserable, haf, unliked\n",
      "Topic 70: cunt, knncb, wfh, fkn, kkj, lol, hate, shhh, stupidest, ki\n",
      "Topic 71: lawyer, lawyers, lawyering, lawyerskarkia, consultants, advisory, law, consultancy, judge, counsel\n",
      "Topic 72: comment, commenter, commenting, commenters, comments, commented, replying, reply, lol, postswith\n",
      "Topic 73: minority, minorities, minoritiiiessss, majority, less, generalize, small, mostly, lower, generalise\n",
      "Topic 74: mods, mod, moderators, moderator, moderatortobe, modus, banned, moderation, modi, trolled\n",
      "Topic 75: karen, bro, shitbag, cuck, karens, carlton, cab, steamroller, fucking, bock\n",
      "Topic 76: families, family, familial, familythey, familyfriendly, parents, father, condolences, mourning, birthright\n",
      "Topic 77: clownfuck, clown, clowns, fucking, comedian, wahaha, shabuing, shabu, damn, fang\n",
      "Topic 78: research, dumbfck, bitching, dumb, idiot, seekin, stupid, zzzzzzzzzzzzzzzzzz, btch, argument\n",
      "Topic 79: river, cry, livestream, swallow, lured, ashame, lures, calm, ohhhh, singkee\n",
      "Topic 80: black, blacker, darkblack, blackpink, blacklisted, blackstool, blacklisting, blackcock, blackshirts, det\n",
      "Topic 81: name, names, naming, named, namecalling, surname, shame, badfuck, motherfuckers, woa\n",
      "Topic 82: abortion, maternity, abort, pregnancies, pregnancy, paternity, pregnant, contraceptives, babysitting, birth\n",
      "Topic 83: insuranceproperty, insurance, insurers, insuranceinvestmentfinancial, assurance, agents, agent, coverage, scam, assholes\n",
      "Topic 84: childishness, kid, kids, childs, child, children, crybabies, immaturity, pathetic, cunt\n",
      "Topic 85: dirty, limpeh, watch, wipe, watches, clean, wtf, eww, clear, clock\n",
      "Topic 86: suicides, suicide, suicidal, depression, depressionthey, depressed, murdered, killing, mental, fucking\n",
      "Topic 87: beer, beers, whisky, drinking, alcoholism, alcoholic, alcohol, drunken, drinks, drink\n",
      "Topic 88: tiaktiaktiaktiak, bkk, tiak, omfg, cheebai, bish, qipao, plh, chut, huggers\n",
      "Topic 89: link, links, oy, hic, shill, heehee, ah, errr, fags, ass\n",
      "Topic 90: kao, tcm, khaw, qian, wahhh, cq, hahahahahahahhahahha, quack, wusg, beh\n",
      "Topic 91: troll, trolling, trolls, trolled, stupids, stupid, insult, dude, ragequit, shitstirrer\n",
      "Topic 92: banning, banned, ban, indians, indian, india, flights, allowed, flying, tourists\n",
      "Topic 93: back, retake, backside, reboundbackup, reversed, bta, bai, shitfuck, pusi, go\n",
      "Topic 94: groups, group, others, peopleforeignersexpats, friends, hippies, cringecunt, fb, gossip, phds\n",
      "Topic 95: cats, cat, kitty, kitten, kittens, tortures, pets, kill, rodents, killers\n",
      "Topic 96: porno, porn, pornhub, hentai, henta, nudes, masturbating, dick, naked, mastubating\n",
      "Topic 97: loser, losers, asshole, jealous, lmao, shaming, bitter, worse, hahaahahah, slut\n",
      "Topic 98: americans, american, americas, america, usa, europeans, ignorant, country, nationalist, butthurts\n",
      "Topic 99: lmao, fucccccccck, cul, reply, dk, af, mc, zzzzz, qn, whiner\n",
      "Topic 100: viruses, virus, virusdenier, infected, flu, herpes, plague, hiv, unhygienic, computers\n",
      "Topic 101: elderly, seniors, old, senior, aunties, oldexperienced, age, cleaners, benefits, disabled\n",
      "Topic 102: female, woman, females, women, ladies, ladyboys, lady, male, genders, girl\n",
      "Topic 103: salty, salt, salts, saltiness, sally, lolz, plp, aaww, frag, owhh\n",
      "Topic 104: cringe, cringey, cringefest, embarrassment, retarded, childish, jokes, fake, humour, laughter\n",
      "Topic 105: firstworld, nations, world, countries, nation, third, citizens, country, humanity, 3rd\n",
      "Topic 106: terroristy, terrorist, terrorists, terrorism, bioterrorist, terror, bombing, bomb, bombs, bombarded\n",
      "Topic 107: seat, seats, chair, chairs, wheelchair, sitting, sit, armchair, sofa, chairforce\n",
      "Topic 108: penalty, incarceration, imprisonment, murder, prison, punishment, jail, punishments, prisons, crimes\n",
      "Topic 109: toxic, toxicity, disinfectantcant, apologetic, onesided, denigrate, septic, genshit, nsfw, wokes\n",
      "Topic 110: pussy, dick, dicks, bitches, cock, mockery, cucking, mooove, piak, buttcrack\n",
      "Topic 111: stalk, life, army, survives, allthat, kill, fucked, md, thatd, fate\n",
      "Topic 112: intelligent, intelligence, intellect, smart, dumb, idiots, stupid, educated, surrogacyhttpswwwredditcomrunpopularopinioncommentsu5ro4dsurrogacy_is_totally_unethical_to_me, uneducated\n",
      "Topic 113: cancer, cancerous, cancerously, ebola, testicular, cure, cures, selfdiagnosed, hiv, lung\n",
      "Topic 114: banking, bank, banks, dbs, untrustworthy, dbsv, unreliable, authentication, fraudulent, ocbcs\n",
      "Topic 115: monkey, monkeys, monkeya, monkeypox, donkeys, donkey, macaque, muz, moneky, peanuts\n",
      "Topic 116: boss, bossperson, bosses, colleague, office, dumb, staff, jobless, fuckshit, manager\n",
      "Topic 117: donating, donate, donations, donation, donates, donated, fundraiser, donors, charity, crowdfund\n",
      "Topic 118: time, timeyou, timing, waste, timeline, epoch, useless, wastes, wasted, mmtf\n",
      "Topic 119: balls, ballsy, bola, ball, balled, dick, cock, sucking, sperm, butts\n",
      "Topic 120: asians, asian, asia, caucasian, womanwhite, white, manwhite, dating, colonialismdictators, men\n",
      "Topic 121: pizza, pizzas, 混口饭吃, grabfood, foodpanda, food, meals, meal, eat, chefrestauranter\n",
      "Topic 122: transport, transit, trolleys, public, pollution, uncivilised, congestion, train, roads, norms\n",
      "Topic 123: billionaire, riches, richest, rich, poor, idiots, investment, investments, money, investor\n",
      "Topic 124: western, westerner, westernized, westerners, west, antiwestern, westies, easties, europeans, bullshit\n",
      "Topic 125: trashbag, souls, cruel, shat, scorch, keys, inhumane, slash, hishers, allen\n",
      "Topic 126: death, dying, lethal, dead, kill, immortal, killing, everybody, everyone, everyones\n",
      "Topic 127: africa, african, africans, nigeria, continent, countries, country, continental, nation, nationality\n",
      "Topic 128: balls, sperm, dildos, genitals, ironically, butthole, lick, boohoo, pierces, mmtf\n",
      "Topic 129: leftie, lefthanded, eeeewwwwwwwww, rightwingers, shitstorm, wokes, right, furiously, nsfw, brag\n",
      "Topic 130: sinkies, sinkie, cheekopek, tiktoksgs, simps, neckline, nut, sucking, chopped, scots\n",
      "Topic 131: ccpee, jerbs, tiongcock, lick, ramitheasshole, jinping, cork, kekw, cheapo, sdas\n",
      "Topic 132: females, women, girls, dating, female, men, depopulating, male, girl, woman\n",
      "Topic 133: low, lower, lowincome, loud, louder, voice, voices, sess, high, speakers\n",
      "Topic 134: income, underpaying, salaries, slaverylevel, slavepeasant, eff, socialists, mediocre, employees, goodwills\n",
      "Topic 135: elderly, retirements, seniors, older, old, retirement, millennials, ageing, age, boomers\n",
      "Topic 136: 20k, 2k, 50k, 6k, money, kiachenghu, cash, kias, kiabor, okonomiyaki\n",
      "Topic 137: reply, replying, answer, dumb, answers, retarded, replied, dumber, lol, idiot\n",
      "Topic 138: castration, castrate, chemical, chemically, vasectomy, ejaculate, genitals, sex, massage, reproduce\n",
      "Topic 139: boobs, boob, breasts, breast, nipples, tits, bra, chest, bras, cleavage\n",
      "Topic 140: tattoos, tattoo, nerdy, naked, ahaha, wow, patriotism, foolery, impurity, ahahaa\n",
      "Topic 141: article, redacted, wrote, censored, read, bullshit, offend, reads, write, reading\n",
      "Topic 142: girls, gf, girl, ugly, guys, msg, creep, stalking, uw, sm\n",
      "Topic 143: grandma, grandmother, granny, grandmothers, grandparents, aunty, auntiesque, grandpa, auntie, grandfather\n",
      "Topic 144: wtf, shredded, fucking, fck, smlj, stfu, sch, dick, nsfw, yikes\n",
      "Topic 145: liew, clh, leon, leong, lone, yat, singhs, damnnnn, diu, wish\n",
      "Topic 146: selfish, selfesteem, selfrighteous, selfhating, selfdeclared, selfaggrandising, self, ego, selfie, selfpromotion\n",
      "Topic 147: drugs, drug, drugsex, legalization, drugschaos, antidrug, heroin, narco, singaporeans, singapores\n",
      "Topic 148: gold, golden, golding, golds, platinum, diamond, medal, nigga, goers, frm\n",
      "Topic 149: pigeons, pigeon, birds, cockatoos, owls, crows, bird, crow, birdbrained, birdkeeper\n",
      "Topic 150: fox, newsworthy, newscasters, news, journalismblogging, journalism, journalist, reporters, bullshit, fker\n",
      "Topic 151: infantry, battalions, commanders, ranks, fights, hates, dishonourable, units, asshats, infighting\n",
      "Topic 152: dumbfucks, dumb, stupid, stupidity, idiot, dumbasses, crazies, condescending, humiliating, slobs\n",
      "Topic 153: milk, latte, milkshakes, milking, lactose, cows, udders, breast, bovine, almond\n",
      "Topic 154: laws, law, loi, legal, illegality, illegal, justice, penal, république, enforced\n",
      "Topic 155: 377a, 377, 369, 351, everythingbut377a, lw, lgbt, undo, kia, lai\n",
      "Topic 156: homophobia, homosexuality, homophobics, homophobic, homosexuals, gays, gay, homo, lesbians, singapores\n",
      "Topic 157: wahahaha, joke, bro, ahahaha, motherfuckshit, tbh, wayyyyyy, fuckery, dumbest, joe\n",
      "Topic 158: malaysians, malaysian, malaysia, malays, malaymuslim, singaporeans, singapore, indonesian, indonesias, indonesia\n",
      "Topic 159: language, languages, english, anglo, accents, fluently, tongues, accent, tongue, speak\n",
      "Topic 160: girl, girly, girls, boy, girl², ladies, women, womens, sons, chio\n",
      "Topic 161: fgm, kfc, mccy, mgm, cnb, mcd, wmcr, bt, kpi, hw\n",
      "Topic 162: train, trains, rail, httpsenmwikipediaorgwikitanjong_pagar_railway_station, station, commute, sorrow, pity, boohoo, bmw\n",
      "Topic 163: autism, autistic, autists, autist, narcissistic, narcissism, egoistic, retarded, mentally, intelligent\n",
      "Topic 164: older, grandma, younger, oldest, grandmother, age, old, olds, 40yo, aunty\n",
      "Topic 165: lololol, tooooooo, ccp, cocksucker, scs, jokers, fks, junk, cowardice, sht\n",
      "Topic 166: colonialists, colonialism, colonialist, colonial, colonialised, colonising, colonisers, colonized, colonizers, colonies\n",
      "Topic 167: barber, barbers, barbershop, beard, shave, shaver, haircut, moustache, 毛hair, razor\n",
      "Topic 168: real, reality, smdh, selfhating, gfy, ownself, xboxifuckedyourmom, self, miw, amdog\n",
      "Topic 169: coffee, cafe, coffeecareer, starbuck, cafessome, starbucks, coffeeshops, coffeeshop, cup, coke\n",
      "Topic 170: disappointedyour, kc2, ankles, kneeling, motherfucker, sarcastic, ungrateful, crap, arh, fail\n",
      "Topic 171: singaporeans, cars, singaporean, drivers, singapore, driver, vehicles, car, driving, drive\n",
      "Topic 172: ewww, sucks, lol, fucking, wtf, goddamn, bruh, damn, hahah, hahaha\n",
      "Topic 173: idiots, fools, idiot, stupid, dumber, dumb, dumbasses, dumbest, ignorant, smartass\n",
      "Topic 174: like, cockroach, crush, cocktease, pussy, curry, equivalent, bitches, kosh, sinkie\n",
      "Topic 175: butthurt, hahaha, 笨蛋, hmmm, stupid, woah, insult, dude, dick, sarcasms\n",
      "Topic 176: aircon, aircons, peasants, weather, homeless, neighbours, voucher, gen贱国一代, homeowners, hotmuahahahaaaaa\n",
      "Topic 177: blacks, black, blackest, blackface, faggot, darker, insulting, dark, vulgar, pigmentation\n",
      "Topic 178: dad, father, dads, baba, parents, birthday, orphanage, whack, fck, mom\n",
      "Topic 179: social, wtf, community, fws, societies, 4channer, censored, hate, tw, sincere\n",
      "Topic 180: jail, prison, imprisonment, prisoners, penalty, punishment, torturing, crime, justice, theft\n",
      "Topic 181: salary, earn, earning, earns, 6k, 700k, 200k, earned, paid, 25k\n",
      "Topic 182: ugh, idiot, boss, lool, sht, soo, coy, managers, sibeh, whyy\n",
      "Topic 183: bot, bots, botox, robot, musibot, uamputatorbothttpswwwredditcomramputatorbotcommentscchly3you_can_now_summon_amputatorbot, abouthttpswwwredditcomramputatorbotcommentsehrq3zwhy_did_i_build_amputatorbot, autocorrect, webhttpswwwredditcomramputatorbotcommentsehrq3zwhy_did_i_build_amputatorbot, shakespearebot\n",
      "Topic 184: adblock, adblocker, ads, advertising, advert, ad, propaganda, spammed, annoyed, bother\n",
      "Topic 185: prostitute, prostitutes, prostitution, nothing, hookers, virgins, nuns, nus, dickwhat, sex\n",
      "Topic 186: riots, protests, protestors, protesters, police, policemen, policeman, racist, violence, vandalism\n",
      "Topic 187: sell, broker, cash, money, sellmarket, buyback, market, pck, bullshit, whoops\n",
      "Topic 188: buay, dk, lol, ppls, smug, simp, nvr, teo, fav, livestream\n",
      "Topic 189: afghanistan, afghan, afghanistanpalestinepyongyang, taliban, talibans, talibancontrolled, armenian, httpswwwcbsnewscomnews3sistersfounddeadwithchildrendowryviolenceindia, islamic, iraqis\n",
      "Topic 190: threats, fight, criminalhe, anonymous, intimidate, abusers, junjie, rules, seriousness, abuses\n",
      "Topic 191: homewrecker, cockroach, home, pussy, cock, sucker, beetle, oh, imh, hor\n",
      "Topic 192: scummy, uninterested, smug, outmuhahaha, dazzle, whoring, zhut, csgo, hawking, betrayed\n",
      "Topic 193: age, aged, underaged, 20s, adult, old, olden, teen, young, teenagers\n",
      "Topic 194: marriage, marrying, marriages, marry, married, marital, wedding, divorce, husband, wives\n",
      "Topic 195: indians, indian, singaporean, india, singapore, hindu, nonindians, australians, australian, bangladesh\n",
      "Topic 196: gym, gymtoker, fitness, exercise, deadlift, lifting, exercising, trained, bench, martial\n",
      "Topic 197: jealous, envy, hahahahahha, scams, money, retarded, ippt, yikes, show, mha\n",
      "Topic 198: shoes, shoe, socks, boots, shoebox, feet, barefoot, foot, slippers, adidas\n",
      "Topic 199: birthrate, retirement, birthing, women, offspring, pregnancy, age, widows, birth, childcare\n",
      "Topic 200: escalator, escalators, stairs, ladders, climb, lifts, walk, train, railings, rushing\n",
      "Topic 201: cant, useless, laobu, dw, sdas, sph, lg, fking, teo, josephine\n",
      "Topic 202: milf, stupid, silly, bum, goddamn, dota, ms, shits, humiliating, psd\n",
      "Topic 203: singaporean, singapore, singaporeans, cruel, malicious, abuser, mindlessly, crazy, terribly, mental\n",
      "Topic 204: strawberry, strawberries, dingleberry, generation, generations, boomers, millennials, gen, boomer, millennial\n",
      "Topic 205: leg, legs, ankle, feet, ankles, toes, toe, knees, knee, kneeling\n",
      "Topic 206: abortions, abortion, abortionist, abort, pregnancy, contraceptives, pregnant, adoption, 韭菜生而被割生生不息, born\n",
      "Topic 207: cb, kp, csm, fk, knncc, cannot, fcuk, knn, fkers, deaf\n",
      "Topic 208: journalists, journalist, journalism, reporters, reporter, newspaper, news, media, press, headline\n",
      "Topic 209: scumbags, scum, disgusting, pofmaed, dicks, hypocritical, assholes, parasites, suck, retard\n",
      "Topic 210: nsf, 365, motherfuckers, pofma, pwn, swear, shitting, cannot, nasty, slp\n",
      "Topic 211: virgin, virgins, virginity, cry, sad, pussy, sexless, pathetic, abandoned, castrate\n",
      "Topic 212: iq, low, lmaooo, minus, slightly, harsh, shill, intelligibly, orhhhh, wow\n",
      "Topic 213: tears, cry, crying, bitching, wtf, laugh, screaming, singh, woke, zoe\n",
      "Topic 214: seat, seats, sit, old, aunties, retired, stand, stands, isnt, ignore\n",
      "Topic 215: anal, pussy, ass, shitting, dick, cucked, wah, horny, bang, bunks\n",
      "Topic 216: assholes, asshole, assholez, bully, stalker, ewhatever, fkers, wtf, bastard, dick\n",
      "Topic 217: money, expensive, whack, pocket, budget, dollar, suck, fuckers, shd, kek\n",
      "Topic 218: pm, ready, nonchinese, chinese, singapore, singaporean, singaporeans, mp, wong, tinpeilingforpm\n",
      "Topic 219: middleclass, class, bourgeois, rich, classcant, middle, low, income, lowermiddle, lower\n",
      "Topic 220: vocabulary, illiterate, buzzwords, words, word, read, lee, nword, readers, incoherent\n",
      "Topic 221: liberals, liberalsminorities, liberal, conservatives, conservativeanti, leftists, libtard, conservatism, conservative, leftist\n",
      "Topic 222: nonmilitary, army, military, soldiersits, soldiers, battlefield, fighter, armed, chaos, forces\n",
      "Topic 223: dbs, dbspb, dbst, shittybank, hsbcs, bank, ocbc, bankrolled, bcos, app\n",
      "Topic 224: cardboards, boxes, cardboard, collecting, collectors, toys, neighbours, lobby, cartman, neighbour\n",
      "Topic 225: jobless, jobs, employer, job, hiring, hire, professionals, worker, wages, qualified\n",
      "Topic 226: judiciary, judicial, judges, judge, prosecutor, prisonerpatientsiavejunkie, court, courts, scumbags, unreasonableunfair\n",
      "Topic 227: misogyny, misogynist, women, nsmen, woman, blaming, misdeeds, victim, men, flatisjustice\n",
      "Topic 228: shorts, shorties, skirts, outfits, lesbians, shorter, panties, underwear, short, wears\n",
      "Topic 229: friend, bullying, friends, insulted, wfh, mmtf, brigadier, bullies, brat, alsagoff\n",
      "Topic 230: firearms, airsoft, bullets, ammo, bomb, badass, damn, armskote, lithium, ghetto\n",
      "Topic 231: stalked, tricky, poorly, employers, employer, coder, corporations, bofhmadlad, wondered, unfriendly\n",
      "Topic 232: racism, racist, racially, racenationality, race, races, incidenthttpswwwgooglecommaps1317751210386622013a75y13804h8394tdata3m61e13m41svsnjgawmytaedc_rvztfkg2e07i163848i8192, hostility, riot, whataboutisms\n",
      "Topic 233: parents, children, kids, family, child, kid, convictions, offenders, evicted, scums\n",
      "Topic 234: cum, slut, deeserved, creampie, armpit, sinkie, nuts, clamp, fuckers, dribble\n",
      "Topic 235: bill, rude, starhub, whymobile, fee, bills, price, bump, wah, bullshit\n",
      "Topic 236: burns, burn, burnt, fire, flamethrower, burning, acidburn, lighter, hairspray, wtf\n",
      "Topic 237: google, googling, search, lols, yucks, smlj, milo, swear, httpswwwsecgovarchivesedgardata1326801000132680122000018fb20211231htm, hoklo\n",
      "Topic 238: propaganda, advertiser, ads, satire, tabloidsized, newspaper, 2020httpswwwredditcomrsingaporecommentsg4uvcffull_screenshot_of_ho_chings_rant_for_posterity, media, vulgarity, fuckwits\n",
      "Topic 239: blaming, victim, victims, pity, complaining, accidents, harassment, embarrassed, bully, forgive\n",
      "Topic 240: scammers, urgh, scam, refund, bankrupt, shithole, scums, harass, shout, cushysounding\n",
      "Topic 241: soap, dishwasher, wash, launder, wipe, dont, dirty, spraying, laundry, drop\n",
      "Topic 242: girl, girls, prostitute, girlfriends, whore, mothersistergirlfriend, swallow, cringy, friends, loudly\n",
      "Topic 243: toothpaste, tooth, teeth, dental, dentist, dentists, dentures, jaw, mouth, brush\n",
      "Topic 244: iphone, apple, ipad, apples, ipads, android, scumbag, haram, trolls, devices\n"
     ]
    }
   ],
   "source": [
    "topic_keywords = {}\n",
    "for topic_num in sorted(topic_model_custom.get_topics()):\n",
    "    try:\n",
    "        words, scores = zip(*topic_model_custom.get_topic(topic_num))\n",
    "        topic_keywords[topic_num] = \", \".join(words)\n",
    "        print(f\"Topic {topic_num}: {', '.join(words)}\")\n",
    "    except ValueError:\n",
    "        print(f\"No words found for Topic {topic_num}, skipping...\")\n",
    "        topic_keywords[topic_num] = \"No relevant words\""
   ]
  },
  {
   "cell_type": "code",
   "execution_count": 104,
   "metadata": {},
   "outputs": [
    {
     "name": "stdout",
     "output_type": "stream",
     "text": [
      "Classification  Hate 1  Hate 2  Hate 3  Toxic 1  Toxic 2  Toxic 3  \\\n",
      "custom_topic                                                        \n",
      "-1                6799     311      98     5802     2179      190   \n",
      " 0                2606     105       4       79       24        2   \n",
      " 1                1446      49       5       91       56        0   \n",
      " 2                1145      26       1      279       93        2   \n",
      " 3                 866      38       0       76       11        0   \n",
      "...                ...     ...     ...      ...      ...      ...   \n",
      " 268                 2       0       0       11        9        3   \n",
      " 269                 8       1       0       12        4        0   \n",
      " 270                 4       0       0       16        4        1   \n",
      " 271                 7       0       0       14        4        0   \n",
      " 272                14       0       0        9        2        0   \n",
      "\n",
      "Classification  custom_Total  \n",
      "custom_topic                  \n",
      "-1                     15379  \n",
      " 0                      2820  \n",
      " 1                      1647  \n",
      " 2                      1546  \n",
      " 3                       991  \n",
      "...                      ...  \n",
      " 268                      25  \n",
      " 269                      25  \n",
      " 270                      25  \n",
      " 271                      25  \n",
      " 272                      25  \n",
      "\n",
      "[274 rows x 7 columns]\n",
      "Filtered DataFrame for Top 'Combined Hate & Toxic 3' Topics (including ties):\n",
      "Classification  Hate 1  Hate 2  Hate 3  Toxic 1  Toxic 2  Toxic 3  \\\n",
      "custom_topic                                                        \n",
      "-1                6799     311      98     5802     2179      190   \n",
      " 62                 16       0       2       50       24        5   \n",
      " 4                 724      10       1       36       17        0   \n",
      "\n",
      "Classification  custom_Total  Combined Hate & Toxic 3  \n",
      "custom_topic                                           \n",
      "-1                     15379                    304.0  \n",
      " 62                       97                     21.0  \n",
      " 4                       788                     17.0  \n"
     ]
    }
   ],
   "source": [
    "filtered_df[\"custom_topic\"] = topics\n",
    "topic_classification_counts_custom = (\n",
    "    filtered_df.groupby([\"custom_topic\", \"Classification\"]).size().unstack(fill_value=0)\n",
    ")\n",
    "topic_classification_counts_custom[\"custom_Total\"] = (\n",
    "    topic_classification_counts_custom.sum(axis=1)\n",
    ")\n",
    "\n",
    "# Print the resulting DataFrame\n",
    "print(topic_classification_counts_custom)\n",
    "topic_classification_counts_custom.to_csv(\n",
    "    \"Topic_Classification_Counts_custom.csv\", index=True\n",
    ")\n",
    "tc_df_custom = pd.DataFrame(topic_classification_counts_custom)\n",
    "tc_df_custom[\"Combined Hate & Toxic 3\"] = tc_df_custom[\"Hate 3\"] + tc_df[\"Toxic 3\"]\n",
    "sorted_df_custom = tc_df_custom.sort_values(\n",
    "    by=\"Combined Hate & Toxic 3\", ascending=False\n",
    ")\n",
    "\n",
    "# Find the top 3 values (this includes handling ties)\n",
    "top_values = sorted_df_custom[\"Combined Hate & Toxic 3\"].nlargest(3)\n",
    "min_top_value = top_values.min()  # Get the minimum value of the top 3\n",
    "\n",
    "# Filter the DataFrame to include all topics with values equal to the third highest\n",
    "top_topics_df_custom = sorted_df_custom[\n",
    "    sorted_df_custom[\"Combined Hate & Toxic 3\"] >= min_top_value\n",
    "]\n",
    "\n",
    "print(\"Filtered DataFrame for Top 'Combined Hate & Toxic 3' Topics (including ties):\")\n",
    "print(top_topics_df_custom)"
   ]
  },
  {
   "cell_type": "code",
   "execution_count": 76,
   "metadata": {},
   "outputs": [
    {
     "data": {
      "text/html": [
       "<div>\n",
       "<style scoped>\n",
       "    .dataframe tbody tr th:only-of-type {\n",
       "        vertical-align: middle;\n",
       "    }\n",
       "\n",
       "    .dataframe tbody tr th {\n",
       "        vertical-align: top;\n",
       "    }\n",
       "\n",
       "    .dataframe thead th {\n",
       "        text-align: right;\n",
       "    }\n",
       "</style>\n",
       "<table border=\"1\" class=\"dataframe\">\n",
       "  <thead>\n",
       "    <tr style=\"text-align: right;\">\n",
       "      <th></th>\n",
       "      <th>text</th>\n",
       "      <th>timestamp</th>\n",
       "      <th>username</th>\n",
       "      <th>link</th>\n",
       "      <th>link_id</th>\n",
       "      <th>parent_id</th>\n",
       "      <th>id</th>\n",
       "      <th>subreddit_id</th>\n",
       "      <th>moderation</th>\n",
       "      <th>year</th>\n",
       "      <th>word_count</th>\n",
       "      <th>Sensitive Group</th>\n",
       "      <th>Classification</th>\n",
       "      <th>clean_text</th>\n",
       "      <th>custom_topic</th>\n",
       "      <th>Topic_Words</th>\n",
       "    </tr>\n",
       "  </thead>\n",
       "  <tbody>\n",
       "    <tr>\n",
       "      <th>15</th>\n",
       "      <td>Tell The F Mon G3rs</td>\n",
       "      <td>16/6/20 9:22</td>\n",
       "      <td>revisedchampion</td>\n",
       "      <td>/r/singapore/comments/ha0jfx/better_suggestion...</td>\n",
       "      <td>t3_ha0jfx</td>\n",
       "      <td>t1_fuzu5ag</td>\n",
       "      <td>fuzu66z</td>\n",
       "      <td>t5_2qh8c</td>\n",
       "      <td>{'removal_reason': None, 'collapsed': False, '...</td>\n",
       "      <td>2020</td>\n",
       "      <td>5.0</td>\n",
       "      <td>No</td>\n",
       "      <td>Toxic 2</td>\n",
       "      <td>tell f mon g3rs</td>\n",
       "      <td>82</td>\n",
       "      <td>hush, shut, singh, geh, sh, hannah, koh, brah,...</td>\n",
       "    </tr>\n",
       "    <tr>\n",
       "      <th>29</th>\n",
       "      <td>Don't ask so many questions, if not PAP arrest...</td>\n",
       "      <td>2023-10-10 07:15:37</td>\n",
       "      <td>RE_TrollzL0rd</td>\n",
       "      <td>/r/singaporehappenings/comments/173vano/privat...</td>\n",
       "      <td>t3_173vano</td>\n",
       "      <td>t1_k45ajnz</td>\n",
       "      <td>k48tp91</td>\n",
       "      <td>t5_70s6ew</td>\n",
       "      <td>{'banned_at_utc': None, 'mod_reason_by': None,...</td>\n",
       "      <td>2023</td>\n",
       "      <td>20.0</td>\n",
       "      <td>No</td>\n",
       "      <td>Toxic 1</td>\n",
       "      <td>dont ask many questions pap arrest seditious s...</td>\n",
       "      <td>15</td>\n",
       "      <td>voting, voters, vote, ballot, ballots, votes, ...</td>\n",
       "    </tr>\n",
       "    <tr>\n",
       "      <th>45</th>\n",
       "      <td>It's a claim that is well supported by various...</td>\n",
       "      <td>6/8/2020 11:37</td>\n",
       "      <td>Talkingtomytoilet</td>\n",
       "      <td>/r/singapore/comments/gyxf42/the_myth_of_syste...</td>\n",
       "      <td>t3_gyxf42</td>\n",
       "      <td>t1_ftcyjev</td>\n",
       "      <td>ftczbxh</td>\n",
       "      <td>t5_2qh8c</td>\n",
       "      <td>{'removal_reason': None, 'collapsed': False, '...</td>\n",
       "      <td>2020</td>\n",
       "      <td>21.0</td>\n",
       "      <td>Yes</td>\n",
       "      <td>Hate 1</td>\n",
       "      <td>claim well supported various studies blm hand ...</td>\n",
       "      <td>-1</td>\n",
       "      <td>singaporean, singapore, race, countries, cant,...</td>\n",
       "    </tr>\n",
       "    <tr>\n",
       "      <th>50</th>\n",
       "      <td>Why come all the way here and complain dipshit...</td>\n",
       "      <td>20/2/2022 2:21</td>\n",
       "      <td>viviseca</td>\n",
       "      <td>/r/SingaporeRaw/comments/swdnv3/its_funny_beca...</td>\n",
       "      <td>t3_swdnv3</td>\n",
       "      <td>t1_hxn3238</td>\n",
       "      <td>hxnl9cs</td>\n",
       "      <td>t5_xnx04</td>\n",
       "      <td>{'controversiality': 0, 'collapsed_reason_code...</td>\n",
       "      <td>2022</td>\n",
       "      <td>33.0</td>\n",
       "      <td>Yes</td>\n",
       "      <td>Hate 2</td>\n",
       "      <td>come way complain dipshit pajeet ape enjoy lif...</td>\n",
       "      <td>-1</td>\n",
       "      <td>singaporean, singapore, race, countries, cant,...</td>\n",
       "    </tr>\n",
       "    <tr>\n",
       "      <th>74</th>\n",
       "      <td>I can understand giving exemptions for people ...</td>\n",
       "      <td>2/2/22 9:39</td>\n",
       "      <td>Silverelfz</td>\n",
       "      <td>/r/singapore/comments/siafpw/muslims_unvaccina...</td>\n",
       "      <td>t3_siafpw</td>\n",
       "      <td>t1_hv8hm2o</td>\n",
       "      <td>hv992pf</td>\n",
       "      <td>t5_2qh8c</td>\n",
       "      <td>{'controversiality': 0, 'collapsed_reason_code...</td>\n",
       "      <td>2022</td>\n",
       "      <td>31.0</td>\n",
       "      <td>Yes</td>\n",
       "      <td>Hate 1</td>\n",
       "      <td>understand giving exemptions people cannot vac...</td>\n",
       "      <td>13</td>\n",
       "      <td>vaccinations, vaccines, vaccination, vaccine, ...</td>\n",
       "    </tr>\n",
       "  </tbody>\n",
       "</table>\n",
       "</div>"
      ],
      "text/plain": [
       "                                                 text            timestamp  \\\n",
       "15                                Tell The F Mon G3rs         16/6/20 9:22   \n",
       "29  Don't ask so many questions, if not PAP arrest...  2023-10-10 07:15:37   \n",
       "45  It's a claim that is well supported by various...       6/8/2020 11:37   \n",
       "50  Why come all the way here and complain dipshit...       20/2/2022 2:21   \n",
       "74  I can understand giving exemptions for people ...          2/2/22 9:39   \n",
       "\n",
       "             username                                               link  \\\n",
       "15    revisedchampion  /r/singapore/comments/ha0jfx/better_suggestion...   \n",
       "29      RE_TrollzL0rd  /r/singaporehappenings/comments/173vano/privat...   \n",
       "45  Talkingtomytoilet  /r/singapore/comments/gyxf42/the_myth_of_syste...   \n",
       "50           viviseca  /r/SingaporeRaw/comments/swdnv3/its_funny_beca...   \n",
       "74         Silverelfz  /r/singapore/comments/siafpw/muslims_unvaccina...   \n",
       "\n",
       "       link_id   parent_id       id subreddit_id  \\\n",
       "15   t3_ha0jfx  t1_fuzu5ag  fuzu66z     t5_2qh8c   \n",
       "29  t3_173vano  t1_k45ajnz  k48tp91    t5_70s6ew   \n",
       "45   t3_gyxf42  t1_ftcyjev  ftczbxh     t5_2qh8c   \n",
       "50   t3_swdnv3  t1_hxn3238  hxnl9cs     t5_xnx04   \n",
       "74   t3_siafpw  t1_hv8hm2o  hv992pf     t5_2qh8c   \n",
       "\n",
       "                                           moderation  year  word_count  \\\n",
       "15  {'removal_reason': None, 'collapsed': False, '...  2020         5.0   \n",
       "29  {'banned_at_utc': None, 'mod_reason_by': None,...  2023        20.0   \n",
       "45  {'removal_reason': None, 'collapsed': False, '...  2020        21.0   \n",
       "50  {'controversiality': 0, 'collapsed_reason_code...  2022        33.0   \n",
       "74  {'controversiality': 0, 'collapsed_reason_code...  2022        31.0   \n",
       "\n",
       "   Sensitive Group Classification  \\\n",
       "15              No        Toxic 2   \n",
       "29              No        Toxic 1   \n",
       "45             Yes         Hate 1   \n",
       "50             Yes         Hate 2   \n",
       "74             Yes         Hate 1   \n",
       "\n",
       "                                           clean_text  custom_topic  \\\n",
       "15                                    tell f mon g3rs            82   \n",
       "29  dont ask many questions pap arrest seditious s...            15   \n",
       "45  claim well supported various studies blm hand ...            -1   \n",
       "50  come way complain dipshit pajeet ape enjoy lif...            -1   \n",
       "74  understand giving exemptions people cannot vac...            13   \n",
       "\n",
       "                                          Topic_Words  \n",
       "15  hush, shut, singh, geh, sh, hannah, koh, brah,...  \n",
       "29  voting, voters, vote, ballot, ballots, votes, ...  \n",
       "45  singaporean, singapore, race, countries, cant,...  \n",
       "50  singaporean, singapore, race, countries, cant,...  \n",
       "74  vaccinations, vaccines, vaccination, vaccine, ...  "
      ]
     },
     "execution_count": 76,
     "metadata": {},
     "output_type": "execute_result"
    }
   ],
   "source": [
    "filtered_df[\"custom_topic\"] = topics\n",
    "filtered_df[\"Topic_Words\"] = filtered_df[\"custom_topic\"].map(topic_keywords)\n",
    "filtered_df.head()"
   ]
  },
  {
   "cell_type": "code",
   "execution_count": 77,
   "metadata": {},
   "outputs": [],
   "source": [
    "filtered_df.to_csv(\"full_data_with_topic.csv\", index=False)\n",
    "# Filter the DataFrame\n",
    "df_topic_negative_one = filtered_df[filtered_df[\"custom_topic\"] == -1]\n",
    "\n",
    "# Save the filtered DataFrame to CSV\n",
    "df_topic_negative_one.to_csv(\"full_data_with_topic_-1.csv\", index=False)"
   ]
  },
  {
   "cell_type": "markdown",
   "metadata": {},
   "source": [
    "update topic model custom after merging"
   ]
  },
  {
   "cell_type": "code",
   "execution_count": 153,
   "metadata": {},
   "outputs": [],
   "source": [
    "updated_topics, _ = topic_model_custom.transform(text)"
   ]
  },
  {
   "cell_type": "code",
   "execution_count": 177,
   "metadata": {},
   "outputs": [
    {
     "data": {
      "text/html": [
       "<div>\n",
       "<style scoped>\n",
       "    .dataframe tbody tr th:only-of-type {\n",
       "        vertical-align: middle;\n",
       "    }\n",
       "\n",
       "    .dataframe tbody tr th {\n",
       "        vertical-align: top;\n",
       "    }\n",
       "\n",
       "    .dataframe thead th {\n",
       "        text-align: right;\n",
       "    }\n",
       "</style>\n",
       "<table border=\"1\" class=\"dataframe\">\n",
       "  <thead>\n",
       "    <tr style=\"text-align: right;\">\n",
       "      <th></th>\n",
       "      <th>Topic</th>\n",
       "      <th>Count</th>\n",
       "      <th>Name</th>\n",
       "      <th>Representation</th>\n",
       "      <th>Representative_Docs</th>\n",
       "    </tr>\n",
       "  </thead>\n",
       "  <tbody>\n",
       "    <tr>\n",
       "      <th>0</th>\n",
       "      <td>-1</td>\n",
       "      <td>15379</td>\n",
       "      <td>-1_singaporean_singapore_race_countries</td>\n",
       "      <td>[singaporean, singapore, race, countries, cant, country, cannot, better, lol, kids]</td>\n",
       "      <td>[well said people calling racist never experienced probably theyre chinese asians happens like us often compared indians malays, want children prefer kind cannot yea dude theres million aspects person consider like someone could hot smart sweet hell means jack cause race huh see power power, im sure overseas uni way way worse singapore small better police schools well dont make race whos worst]</td>\n",
       "    </tr>\n",
       "    <tr>\n",
       "      <th>1</th>\n",
       "      <td>0</td>\n",
       "      <td>6259</td>\n",
       "      <td>0_chinese_china_mandarin_nonchinese</td>\n",
       "      <td>[chinese, china, mandarin, nonchinese, singaporean, racists, malaysians, taiwanese, racist, taiwan]</td>\n",
       "      <td>[racist race lol, malay chinese country, dumb comment singapore majority chinese like us doesnt mean singaporeans must look like chinese every race looks singaporean singapore]</td>\n",
       "    </tr>\n",
       "    <tr>\n",
       "      <th>2</th>\n",
       "      <td>1</td>\n",
       "      <td>1675</td>\n",
       "      <td>1_religion_religious_religions_islam</td>\n",
       "      <td>[religion, religious, religions, islam, muslim, muslims, islamic, atheist, atheists, christianity]</td>\n",
       "      <td>[brain religion, brain religion, could even religious thing]</td>\n",
       "    </tr>\n",
       "    <tr>\n",
       "      <th>3</th>\n",
       "      <td>2</td>\n",
       "      <td>1546</td>\n",
       "      <td>2_singaporeans_singaporean_singapores_singapore</td>\n",
       "      <td>[singaporeans, singaporean, singapores, singapore, foreigners, foreigner, countries, foreign, country, citizen]</td>\n",
       "      <td>[show us singaporean jobs malaysian singapore u, yes singaporeans dont say guy, singaporeans want meritocracy work want people question singaporeans singaporeans]</td>\n",
       "    </tr>\n",
       "    <tr>\n",
       "      <th>4</th>\n",
       "      <td>3</td>\n",
       "      <td>1203</td>\n",
       "      <td>3_sexism_feminism_sexist_feminists</td>\n",
       "      <td>[sexism, feminism, sexist, feminists, feminist, misogynistic, masculinity, genders, gender, patriarchy]</td>\n",
       "      <td>[women dont need good im saying women compete men women play games etc mens leagues taken seriously isnt men stronger women lmfao, youre looking gender equality singapore might find ns wont find, pretty sure men job women dont want ns]</td>\n",
       "    </tr>\n",
       "    <tr>\n",
       "      <th>...</th>\n",
       "      <td>...</td>\n",
       "      <td>...</td>\n",
       "      <td>...</td>\n",
       "      <td>...</td>\n",
       "      <td>...</td>\n",
       "    </tr>\n",
       "    <tr>\n",
       "      <th>231</th>\n",
       "      <td>230</td>\n",
       "      <td>25</td>\n",
       "      <td>230_blaming_victim_victims_pity</td>\n",
       "      <td>[blaming, victim, victims, pity, complaining, accidents, harassment, embarrassed, bully, forgive]</td>\n",
       "      <td>[yeah victim blaming upvoted much, hey yo victim blaming, nice victim blaming thread]</td>\n",
       "    </tr>\n",
       "    <tr>\n",
       "      <th>232</th>\n",
       "      <td>231</td>\n",
       "      <td>25</td>\n",
       "      <td>231_scammers_urgh_scam_refund</td>\n",
       "      <td>[scammers, urgh, scam, refund, bankrupt, shithole, scums, harass, shout, cushysounding]</td>\n",
       "      <td>[speak softly bait increase volume shout mercy scums tricks ppl hard earn money, yep haha made noise head office agreed refund deposit wanna vent encountering unethical practice fucking person spend 5k vacuum la oh no didnt even think call happened urgh, overground okay since gonna build inevitable wall segregate yishun anywayand get yishunites pay]</td>\n",
       "    </tr>\n",
       "    <tr>\n",
       "      <th>233</th>\n",
       "      <td>232</td>\n",
       "      <td>25</td>\n",
       "      <td>232_soap_dishwasher_wash_launder</td>\n",
       "      <td>[soap, dishwasher, wash, launder, wipe, dont, dirty, spraying, laundry, drop]</td>\n",
       "      <td>[dont pick soap, dont drop soap officer, dont drop soap guys around]</td>\n",
       "    </tr>\n",
       "    <tr>\n",
       "      <th>234</th>\n",
       "      <td>233</td>\n",
       "      <td>25</td>\n",
       "      <td>233_girl_girls_prostitute_girlfriends</td>\n",
       "      <td>[girl, girls, prostitute, girlfriends, whore, mothersistergirlfriend, swallow, cringy, friends, loudly]</td>\n",
       "      <td>[close midnight train circle line thrashy girl talking loudly friend behaving like hot stuff truth nobody gave shyt started worming floor unclothed, start girl calling another girl prostitute, girls called zi hui must panicking girls named zi hui dating jayden gg]</td>\n",
       "    </tr>\n",
       "    <tr>\n",
       "      <th>235</th>\n",
       "      <td>234</td>\n",
       "      <td>25</td>\n",
       "      <td>234_iphone_apple_ipad_apples</td>\n",
       "      <td>[iphone, apple, ipad, apples, ipads, android, scumbag, haram, trolls, devices]</td>\n",
       "      <td>[zzz ya cant get iphone need people buying probably people neighbouring countries iphone isnt released yet, works iphone 12 go die apple, crap apple iphone haram]</td>\n",
       "    </tr>\n",
       "  </tbody>\n",
       "</table>\n",
       "<p>236 rows × 5 columns</p>\n",
       "</div>"
      ],
      "text/plain": [
       "     Topic  Count                                             Name  \\\n",
       "0       -1  15379          -1_singaporean_singapore_race_countries   \n",
       "1        0   6259              0_chinese_china_mandarin_nonchinese   \n",
       "2        1   1675             1_religion_religious_religions_islam   \n",
       "3        2   1546  2_singaporeans_singaporean_singapores_singapore   \n",
       "4        3   1203               3_sexism_feminism_sexist_feminists   \n",
       "..     ...    ...                                              ...   \n",
       "231    230     25                  230_blaming_victim_victims_pity   \n",
       "232    231     25                    231_scammers_urgh_scam_refund   \n",
       "233    232     25                 232_soap_dishwasher_wash_launder   \n",
       "234    233     25            233_girl_girls_prostitute_girlfriends   \n",
       "235    234     25                     234_iphone_apple_ipad_apples   \n",
       "\n",
       "                                                                                                      Representation  \\\n",
       "0                                [singaporean, singapore, race, countries, cant, country, cannot, better, lol, kids]   \n",
       "1                [chinese, china, mandarin, nonchinese, singaporean, racists, malaysians, taiwanese, racist, taiwan]   \n",
       "2                 [religion, religious, religions, islam, muslim, muslims, islamic, atheist, atheists, christianity]   \n",
       "3    [singaporeans, singaporean, singapores, singapore, foreigners, foreigner, countries, foreign, country, citizen]   \n",
       "4            [sexism, feminism, sexist, feminists, feminist, misogynistic, masculinity, genders, gender, patriarchy]   \n",
       "..                                                                                                               ...   \n",
       "231                [blaming, victim, victims, pity, complaining, accidents, harassment, embarrassed, bully, forgive]   \n",
       "232                          [scammers, urgh, scam, refund, bankrupt, shithole, scums, harass, shout, cushysounding]   \n",
       "233                                    [soap, dishwasher, wash, launder, wipe, dont, dirty, spraying, laundry, drop]   \n",
       "234          [girl, girls, prostitute, girlfriends, whore, mothersistergirlfriend, swallow, cringy, friends, loudly]   \n",
       "235                                   [iphone, apple, ipad, apples, ipads, android, scumbag, haram, trolls, devices]   \n",
       "\n",
       "                                                                                                                                                                                                                                                                                                                                                                                               Representative_Docs  \n",
       "0    [well said people calling racist never experienced probably theyre chinese asians happens like us often compared indians malays, want children prefer kind cannot yea dude theres million aspects person consider like someone could hot smart sweet hell means jack cause race huh see power power, im sure overseas uni way way worse singapore small better police schools well dont make race whos worst]  \n",
       "1                                                                                                                                                                                                                                 [racist race lol, malay chinese country, dumb comment singapore majority chinese like us doesnt mean singaporeans must look like chinese every race looks singaporean singapore]  \n",
       "2                                                                                                                                                                                                                                                                                                                                                     [brain religion, brain religion, could even religious thing]  \n",
       "3                                                                                                                                                                                                                                               [show us singaporean jobs malaysian singapore u, yes singaporeans dont say guy, singaporeans want meritocracy work want people question singaporeans singaporeans]  \n",
       "4                                                                                                                                                                      [women dont need good im saying women compete men women play games etc mens leagues taken seriously isnt men stronger women lmfao, youre looking gender equality singapore might find ns wont find, pretty sure men job women dont want ns]  \n",
       "..                                                                                                                                                                                                                                                                                                                                                                                                             ...  \n",
       "231                                                                                                                                                                                                                                                                                                                          [yeah victim blaming upvoted much, hey yo victim blaming, nice victim blaming thread]  \n",
       "232                                                [speak softly bait increase volume shout mercy scums tricks ppl hard earn money, yep haha made noise head office agreed refund deposit wanna vent encountering unethical practice fucking person spend 5k vacuum la oh no didnt even think call happened urgh, overground okay since gonna build inevitable wall segregate yishun anywayand get yishunites pay]  \n",
       "233                                                                                                                                                                                                                                                                                                                                           [dont pick soap, dont drop soap officer, dont drop soap guys around]  \n",
       "234                                                                                                                                       [close midnight train circle line thrashy girl talking loudly friend behaving like hot stuff truth nobody gave shyt started worming floor unclothed, start girl calling another girl prostitute, girls called zi hui must panicking girls named zi hui dating jayden gg]  \n",
       "235                                                                                                                                                                                                                                             [zzz ya cant get iphone need people buying probably people neighbouring countries iphone isnt released yet, works iphone 12 go die apple, crap apple iphone haram]  \n",
       "\n",
       "[236 rows x 5 columns]"
      ]
     },
     "execution_count": 177,
     "metadata": {},
     "output_type": "execute_result"
    }
   ],
   "source": [
    "info_df = topic_model_custom.get_topic_info()\n",
    "info_df"
   ]
  },
  {
   "cell_type": "code",
   "execution_count": 173,
   "metadata": {},
   "outputs": [
    {
     "name": "stderr",
     "output_type": "stream",
     "text": [
      "100%|██████████| 234/234 [00:49<00:00,  4.71it/s]\n"
     ]
    },
    {
     "data": {
      "application/vnd.plotly.v1+json": {
       "config": {
        "plotlyServerURL": "https://plot.ly"
       },
       "data": [
        {
         "hoverinfo": "text",
         "marker": {
          "color": "rgb(61,153,112)"
         },
         "mode": "lines",
         "text": [
          "idiots_fools_idiot_stupid_dumber",
          "",
          "",
          "dumbfucks_dumb_stupid_stupidity_idiot"
         ],
         "type": "scatter",
         "x": [
          0,
          0.8567373736255535,
          0.8567373736255535,
          0
         ],
         "xaxis": "x",
         "y": [
          -5,
          -5,
          -15,
          -15
         ],
         "yaxis": "y"
        },
        {
         "hoverinfo": "text",
         "marker": {
          "color": "rgb(61,153,112)"
         },
         "mode": "lines",
         "text": [
          "reply_replying_answer_dumb_answers",
          "",
          "",
          "dumb_stupid_idiot_dumbest_fool"
         ],
         "type": "scatter",
         "x": [
          0,
          0.7018083179246339,
          0.7018083179246339,
          0
         ],
         "xaxis": "x",
         "y": [
          -45,
          -45,
          -55,
          -55
         ],
         "yaxis": "y"
        },
        {
         "hoverinfo": "text",
         "marker": {
          "color": "rgb(61,153,112)"
         },
         "mode": "lines",
         "text": [
          "research_dumbfck_bitching_dumb_idiocy",
          "",
          "",
          "dumb_stupid_dumbest_idiot_dumbass"
         ],
         "type": "scatter",
         "x": [
          0,
          0.7730345581461885,
          0.7730345581461885,
          0.7018083179246339
         ],
         "xaxis": "x",
         "y": [
          -35,
          -35,
          -50,
          -50
         ],
         "yaxis": "y"
        },
        {
         "hoverinfo": "text",
         "marker": {
          "color": "rgb(61,153,112)"
         },
         "mode": "lines",
         "text": [
          "comment_commenter_commenting_comments_commented",
          "",
          "",
          "dumb_stupid_idiot_fool_dumbass"
         ],
         "type": "scatter",
         "x": [
          0,
          0.8375697056912811,
          0.8375697056912811,
          0.7730345581461885
         ],
         "xaxis": "x",
         "y": [
          -25,
          -25,
          -42.5,
          -42.5
         ],
         "yaxis": "y"
        },
        {
         "hoverinfo": "text",
         "marker": {
          "color": "rgb(61,153,112)"
         },
         "mode": "lines",
         "text": [
          "comment_commenter_commenting_comments_commented",
          "",
          "",
          "intelligent_intelligence_intellect_smart_dumb"
         ],
         "type": "scatter",
         "x": [
          0.8375697056912811,
          0.8717334459673589,
          0.8717334459673589,
          0
         ],
         "xaxis": "x",
         "y": [
          -33.75,
          -33.75,
          -65,
          -65
         ],
         "yaxis": "y"
        },
        {
         "hoverinfo": "text",
         "marker": {
          "color": "rgb(61,153,112)"
         },
         "mode": "lines",
         "text": [
          "comment_commenter_commenting_comments_commented",
          "",
          "",
          "butthurt_hahaha_笨蛋_hmmm_stupid"
         ],
         "type": "scatter",
         "x": [
          0.8717334459673589,
          0.9034774854087075,
          0.9034774854087075,
          0
         ],
         "xaxis": "x",
         "y": [
          -49.375,
          -49.375,
          -75,
          -75
         ],
         "yaxis": "y"
        },
        {
         "hoverinfo": "text",
         "marker": {
          "color": "rgb(61,153,112)"
         },
         "mode": "lines",
         "text": [
          "dumbfucks_idiots_stupidity_stupid_dumb",
          "",
          "",
          "butthurt_hahaha_笨蛋_hmmm_stupid"
         ],
         "type": "scatter",
         "x": [
          0.8567373736255535,
          0.9393863443099223,
          0.9393863443099223,
          0.9034774854087075
         ],
         "xaxis": "x",
         "y": [
          -10,
          -10,
          -62.1875,
          -62.1875
         ],
         "yaxis": "y"
        },
        {
         "hoverinfo": "text",
         "marker": {
          "color": "rgb(255,65,54)"
         },
         "mode": "lines",
         "text": [
          "country_countrymen_countries_nation_patriot",
          "",
          "",
          "africa_african_africans_nigeria_continent"
         ],
         "type": "scatter",
         "x": [
          0,
          0.8612012325361055,
          0.8612012325361055,
          0
         ],
         "xaxis": "x",
         "y": [
          -105,
          -105,
          -115,
          -115
         ],
         "yaxis": "y"
        },
        {
         "hoverinfo": "text",
         "marker": {
          "color": "rgb(255,65,54)"
         },
         "mode": "lines",
         "text": [
          "americans_american_americas_america_usa",
          "",
          "",
          "country_africa_countries_countrys_african"
         ],
         "type": "scatter",
         "x": [
          0,
          0.9096021960110552,
          0.9096021960110552,
          0.8612012325361055
         ],
         "xaxis": "x",
         "y": [
          -95,
          -95,
          -110,
          -110
         ],
         "yaxis": "y"
        },
        {
         "hoverinfo": "text",
         "marker": {
          "color": "rgb(255,65,54)"
         },
         "mode": "lines",
         "text": [
          "firstworld_nations_world_countries_nation",
          "",
          "",
          "africa_african_africans_countries_countrys"
         ],
         "type": "scatter",
         "x": [
          0,
          0.9240767032906261,
          0.9240767032906261,
          0.9096021960110552
         ],
         "xaxis": "x",
         "y": [
          -85,
          -85,
          -102.5,
          -102.5
         ],
         "yaxis": "y"
        },
        {
         "hoverinfo": "text",
         "marker": {
          "color": "rgb(35,205,205)"
         },
         "mode": "lines",
         "text": [
          "flag_flags_flagshttpsmustsharenewscomsingaporeflagburjkhalifa_cultural_culturally",
          "",
          "",
          "western_westerner_westernized_westerners_west"
         ],
         "type": "scatter",
         "x": [
          0,
          0.8436386108062068,
          0.8436386108062068,
          0
         ],
         "xaxis": "x",
         "y": [
          -125,
          -125,
          -135,
          -135
         ],
         "yaxis": "y"
        },
        {
         "hoverinfo": "text",
         "marker": {
          "color": "rgb(35,205,205)"
         },
         "mode": "lines",
         "text": [
          "cultural_culturally_culture_cultures_uncultured",
          "",
          "",
          "colonialists_colonialism_colonialist_colonial_colonialised"
         ],
         "type": "scatter",
         "x": [
          0.8436386108062068,
          0.9459724812888785,
          0.9459724812888785,
          0
         ],
         "xaxis": "x",
         "y": [
          -130,
          -130,
          -145,
          -145
         ],
         "yaxis": "y"
        },
        {
         "hoverinfo": "text",
         "marker": {
          "color": "rgb(0,116,217)"
         },
         "mode": "lines",
         "text": [
          "nations_countries_world_nation_nationalities",
          "",
          "",
          "colonialists_colonialism_colonialist_colonial_colonialised"
         ],
         "type": "scatter",
         "x": [
          0.9240767032906261,
          1.060679150310644,
          1.060679150310644,
          0.9459724812888785
         ],
         "xaxis": "x",
         "y": [
          -93.75,
          -93.75,
          -137.5,
          -137.5
         ],
         "yaxis": "y"
        },
        {
         "hoverinfo": "text",
         "marker": {
          "color": "rgb(133,20,75)"
         },
         "mode": "lines",
         "text": [
          "asians_asian_asia_caucasian_womanwhite",
          "",
          "",
          "asian_asiatic_asians_asia_japanese"
         ],
         "type": "scatter",
         "x": [
          0,
          0.5205391148608262,
          0.5205391148608262,
          0
         ],
         "xaxis": "x",
         "y": [
          -155,
          -155,
          -165,
          -165
         ],
         "yaxis": "y"
        },
        {
         "hoverinfo": "text",
         "marker": {
          "color": "rgb(255,220,0)"
         },
         "mode": "lines",
         "text": [
          "japanese_japans_japanfucked_japan_japankoreachina",
          "",
          "",
          "korean_korea_southkorea_sgchinakorea_koreans"
         ],
         "type": "scatter",
         "x": [
          0,
          0.7959248377896138,
          0.7959248377896138,
          0
         ],
         "xaxis": "x",
         "y": [
          -175,
          -175,
          -185,
          -185
         ],
         "yaxis": "y"
        },
        {
         "hoverinfo": "text",
         "marker": {
          "color": "rgb(0,116,217)"
         },
         "mode": "lines",
         "text": [
          "asian_asiatic_asians_asia_japanese",
          "",
          "",
          "japanese_japans_japan_koreans_korean"
         ],
         "type": "scatter",
         "x": [
          0.5205391148608262,
          1.0840430026482444,
          1.0840430026482444,
          0.7959248377896138
         ],
         "xaxis": "x",
         "y": [
          -160,
          -160,
          -180,
          -180
         ],
         "yaxis": "y"
        },
        {
         "hoverinfo": "text",
         "marker": {
          "color": "rgb(0,116,217)"
         },
         "mode": "lines",
         "text": [
          "asian_asiatic_asians_asia_japanese",
          "",
          "",
          "asian_asians_asia_korean_japan"
         ],
         "type": "scatter",
         "x": [
          1.060679150310644,
          1.1606090739499482,
          1.1606090739499482,
          1.0840430026482444
         ],
         "xaxis": "x",
         "y": [
          -115.625,
          -115.625,
          -170,
          -170
         ],
         "yaxis": "y"
        },
        {
         "hoverinfo": "text",
         "marker": {
          "color": "rgb(40,35,35)"
         },
         "mode": "lines",
         "text": [
          "english_englishi_language_languages_accents",
          "",
          "",
          "language_languages_english_anglo_accents"
         ],
         "type": "scatter",
         "x": [
          0,
          0.5250924834843156,
          0.5250924834843156,
          0
         ],
         "xaxis": "x",
         "y": [
          -195,
          -195,
          -205,
          -205
         ],
         "yaxis": "y"
        },
        {
         "hoverinfo": "text",
         "marker": {
          "color": "rgb(0,116,217)"
         },
         "mode": "lines",
         "text": [
          "english_englishi_language_languages_accents",
          "",
          "",
          "english_british_language_languages_grammar"
         ],
         "type": "scatter",
         "x": [
          1.1606090739499482,
          1.2248340471229284,
          1.2248340471229284,
          0.5250924834843156
         ],
         "xaxis": "x",
         "y": [
          -142.8125,
          -142.8125,
          -200,
          -200
         ],
         "yaxis": "y"
        },
        {
         "hoverinfo": "text",
         "marker": {
          "color": "rgb(61,153,112)"
         },
         "mode": "lines",
         "text": [
          "black_blacker_darkblack_blackpink_blacklisted",
          "",
          "",
          "blacks_black_blackest_blackface_faggot"
         ],
         "type": "scatter",
         "x": [
          0,
          0.5497445692109082,
          0.5497445692109082,
          0
         ],
         "xaxis": "x",
         "y": [
          -215,
          -215,
          -225,
          -225
         ],
         "yaxis": "y"
        },
        {
         "hoverinfo": "text",
         "marker": {
          "color": "rgb(255,65,54)"
         },
         "mode": "lines",
         "text": [
          "riots_protests_protestors_protesters_police",
          "",
          "",
          "police_policeman_cop_cops_polis"
         ],
         "type": "scatter",
         "x": [
          0,
          0.6206176715880226,
          0.6206176715880226,
          0
         ],
         "xaxis": "x",
         "y": [
          -235,
          -235,
          -245,
          -245
         ],
         "yaxis": "y"
        },
        {
         "hoverinfo": "text",
         "marker": {
          "color": "rgb(0,116,217)"
         },
         "mode": "lines",
         "text": [
          "black_blackest_blacker_blacks_darkblack",
          "",
          "",
          "police_policeman_cop_cops_polis"
         ],
         "type": "scatter",
         "x": [
          0.5497445692109082,
          1.1652853585281775,
          1.1652853585281775,
          0.6206176715880226
         ],
         "xaxis": "x",
         "y": [
          -220,
          -220,
          -240,
          -240
         ],
         "yaxis": "y"
        },
        {
         "hoverinfo": "text",
         "marker": {
          "color": "rgb(35,205,205)"
         },
         "mode": "lines",
         "text": [
          "bread_bakers_baguetteshttpswwwstraitstimescomworldeuropeletthemeatbreadfrenchhoardbaguettesincoronaviruslockdown_baker_bake",
          "",
          "",
          "pizza_pizzas_混口饭吃_grabfood_foodpanda"
         ],
         "type": "scatter",
         "x": [
          0,
          0.7786310686807434,
          0.7786310686807434,
          0
         ],
         "xaxis": "x",
         "y": [
          -265,
          -265,
          -275,
          -275
         ],
         "yaxis": "y"
        },
        {
         "hoverinfo": "text",
         "marker": {
          "color": "rgb(35,205,205)"
         },
         "mode": "lines",
         "text": [
          "river_cry_livestream_swallow_lured",
          "",
          "",
          "food_grabfood_meals_foodpanda_meal"
         ],
         "type": "scatter",
         "x": [
          0,
          0.8977851843478482,
          0.8977851843478482,
          0.7786310686807434
         ],
         "xaxis": "x",
         "y": [
          -255,
          -255,
          -270,
          -270
         ],
         "yaxis": "y"
        },
        {
         "hoverinfo": "text",
         "marker": {
          "color": "rgb(61,153,112)"
         },
         "mode": "lines",
         "text": [
          "toilet_toilets_bathroom_handicapped_handicap",
          "",
          "",
          "soap_dishwasher_wash_launder_wipe"
         ],
         "type": "scatter",
         "x": [
          0,
          0.8476262601979097,
          0.8476262601979097,
          0
         ],
         "xaxis": "x",
         "y": [
          -295,
          -295,
          -305,
          -305
         ],
         "yaxis": "y"
        },
        {
         "hoverinfo": "text",
         "marker": {
          "color": "rgb(61,153,112)"
         },
         "mode": "lines",
         "text": [
          "dirty_limpeh_watch_wipe_watches",
          "",
          "",
          "toilet_toilets_bathroom_handicapped_handicap"
         ],
         "type": "scatter",
         "x": [
          0,
          0.8878332022384948,
          0.8878332022384948,
          0.8476262601979097
         ],
         "xaxis": "x",
         "y": [
          -285,
          -285,
          -300,
          -300
         ],
         "yaxis": "y"
        },
        {
         "hoverinfo": "text",
         "marker": {
          "color": "rgb(61,153,112)"
         },
         "mode": "lines",
         "text": [
          "toilet_toilets_bathroom_handicapped_handicap",
          "",
          "",
          "burns_burn_burnt_fire_flamethrower"
         ],
         "type": "scatter",
         "x": [
          0.8878332022384948,
          0.9365087435113041,
          0.9365087435113041,
          0
         ],
         "xaxis": "x",
         "y": [
          -292.5,
          -292.5,
          -315,
          -315
         ],
         "yaxis": "y"
        },
        {
         "hoverinfo": "text",
         "marker": {
          "color": "rgb(0,116,217)"
         },
         "mode": "lines",
         "text": [
          "eat_grabfood_meals_eats_meal",
          "",
          "",
          "burns_burn_burnt_fire_flamethrower"
         ],
         "type": "scatter",
         "x": [
          0.8977851843478482,
          1.1526201748557412,
          1.1526201748557412,
          0.9365087435113041
         ],
         "xaxis": "x",
         "y": [
          -262.5,
          -262.5,
          -303.75,
          -303.75
         ],
         "yaxis": "y"
        },
        {
         "hoverinfo": "text",
         "marker": {
          "color": "rgb(255,65,54)"
         },
         "mode": "lines",
         "text": [
          "seat_seats_chair_chairs_wheelchair",
          "",
          "",
          "seat_seats_sit_old_aunties"
         ],
         "type": "scatter",
         "x": [
          0,
          0.7385477376728242,
          0.7385477376728242,
          0
         ],
         "xaxis": "x",
         "y": [
          -325,
          -325,
          -335,
          -335
         ],
         "yaxis": "y"
        },
        {
         "hoverinfo": "text",
         "marker": {
          "color": "rgb(35,205,205)"
         },
         "mode": "lines",
         "text": [
          "escalator_escalators_stairs_ladders_climb",
          "",
          "",
          "train_trains_rail_httpsenmwikipediaorgwikitanjong_pagar_railway_station_station"
         ],
         "type": "scatter",
         "x": [
          0,
          0.7988883335507347,
          0.7988883335507347,
          0
         ],
         "xaxis": "x",
         "y": [
          -345,
          -345,
          -355,
          -355
         ],
         "yaxis": "y"
        },
        {
         "hoverinfo": "text",
         "marker": {
          "color": "rgb(0,116,217)"
         },
         "mode": "lines",
         "text": [
          "seat_seats_sitting_wheelchair_chair",
          "",
          "",
          "train_trains_httpsenmwikipediaorgwikitanjong_pagar_railway_station_station_escalator"
         ],
         "type": "scatter",
         "x": [
          0.7385477376728242,
          1.090507165500226,
          1.090507165500226,
          0.7988883335507347
         ],
         "xaxis": "x",
         "y": [
          -330,
          -330,
          -350,
          -350
         ],
         "yaxis": "y"
        },
        {
         "hoverinfo": "text",
         "marker": {
          "color": "rgb(0,116,217)"
         },
         "mode": "lines",
         "text": [
          "seat_seats_sitting_wheelchair_chair",
          "",
          "",
          "seat_seats_wheelchair_sitting_chair"
         ],
         "type": "scatter",
         "x": [
          1.1526201748557412,
          1.1804764365099116,
          1.1804764365099116,
          1.090507165500226
         ],
         "xaxis": "x",
         "y": [
          -283.125,
          -283.125,
          -340,
          -340
         ],
         "yaxis": "y"
        },
        {
         "hoverinfo": "text",
         "marker": {
          "color": "rgb(133,20,75)"
         },
         "mode": "lines",
         "text": [
          "adblock_adblocker_ads_advertising_advert",
          "",
          "",
          "propaganda_advertiser_ads_satire_tabloidsized"
         ],
         "type": "scatter",
         "x": [
          0,
          0.8624007982289879,
          0.8624007982289879,
          0
         ],
         "xaxis": "x",
         "y": [
          -365,
          -365,
          -375,
          -375
         ],
         "yaxis": "y"
        },
        {
         "hoverinfo": "text",
         "marker": {
          "color": "rgb(255,220,0)"
         },
         "mode": "lines",
         "text": [
          "fox_newsworthy_newscasters_news_journalismblogging",
          "",
          "",
          "journalists_journalist_journalism_reporters_reporter"
         ],
         "type": "scatter",
         "x": [
          0,
          0.8200357639377156,
          0.8200357639377156,
          0
         ],
         "xaxis": "x",
         "y": [
          -385,
          -385,
          -395,
          -395
         ],
         "yaxis": "y"
        },
        {
         "hoverinfo": "text",
         "marker": {
          "color": "rgb(0,116,217)"
         },
         "mode": "lines",
         "text": [
          "adblock_adblocker_ads_advertiser_advert",
          "",
          "",
          "newscasters_newsworthy_news_fox_journalism"
         ],
         "type": "scatter",
         "x": [
          0.8624007982289879,
          1.0365075176095064,
          1.0365075176095064,
          0.8200357639377156
         ],
         "xaxis": "x",
         "y": [
          -370,
          -370,
          -390,
          -390
         ],
         "yaxis": "y"
        },
        {
         "hoverinfo": "text",
         "marker": {
          "color": "rgb(40,35,35)"
         },
         "mode": "lines",
         "text": [
          "vocabulary_illiterate_buzzwords_words_word",
          "",
          "",
          "article_redacted_wrote_censored_read"
         ],
         "type": "scatter",
         "x": [
          0,
          0.8623968658766328,
          0.8623968658766328,
          0
         ],
         "xaxis": "x",
         "y": [
          -405,
          -405,
          -415,
          -415
         ],
         "yaxis": "y"
        },
        {
         "hoverinfo": "text",
         "marker": {
          "color": "rgb(61,153,112)"
         },
         "mode": "lines",
         "text": [
          "israelis_israeljews_israeli_israels_palestines",
          "",
          "",
          "russia_russian_russians_российской_ukrainian"
         ],
         "type": "scatter",
         "x": [
          0,
          0.9481160711410773,
          0.9481160711410773,
          0
         ],
         "xaxis": "x",
         "y": [
          -435,
          -435,
          -445,
          -445
         ],
         "yaxis": "y"
        },
        {
         "hoverinfo": "text",
         "marker": {
          "color": "rgb(61,153,112)"
         },
         "mode": "lines",
         "text": [
          "russia_russian_russians_российской_israeljews",
          "",
          "",
          "nazi_nazis_nazism_nazists_hitler"
         ],
         "type": "scatter",
         "x": [
          0.9481160711410773,
          0.9706464614607972,
          0.9706464614607972,
          0
         ],
         "xaxis": "x",
         "y": [
          -440,
          -440,
          -455,
          -455
         ],
         "yaxis": "y"
        },
        {
         "hoverinfo": "text",
         "marker": {
          "color": "rgb(61,153,112)"
         },
         "mode": "lines",
         "text": [
          "afghanistan_afghan_afghanistanpalestinepyongyang_taliban_talibans",
          "",
          "",
          "nazi_nazis_nazism_nazists_hitler"
         ],
         "type": "scatter",
         "x": [
          0,
          0.9844908316854017,
          0.9844908316854017,
          0.9706464614607972
         ],
         "xaxis": "x",
         "y": [
          -425,
          -425,
          -447.5,
          -447.5
         ],
         "yaxis": "y"
        },
        {
         "hoverinfo": "text",
         "marker": {
          "color": "rgb(255,65,54)"
         },
         "mode": "lines",
         "text": [
          "bot_bots_botox_robot_musibot",
          "",
          "",
          "google_googling_search_lols_yucks"
         ],
         "type": "scatter",
         "x": [
          0,
          0.9477780340653692,
          0.9477780340653692,
          0
         ],
         "xaxis": "x",
         "y": [
          -465,
          -465,
          -475,
          -475
         ],
         "yaxis": "y"
        },
        {
         "hoverinfo": "text",
         "marker": {
          "color": "rgb(0,116,217)"
         },
         "mode": "lines",
         "text": [
          "bot_bots_botox_robot_musibot",
          "",
          "",
          "bot_bots_chatbots_robot_musibot"
         ],
         "type": "scatter",
         "x": [
          0.9844908316854017,
          1.0079272020095897,
          1.0079272020095897,
          0.9477780340653692
         ],
         "xaxis": "x",
         "y": [
          -436.25,
          -436.25,
          -470,
          -470
         ],
         "yaxis": "y"
        },
        {
         "hoverinfo": "text",
         "marker": {
          "color": "rgb(35,205,205)"
         },
         "mode": "lines",
         "text": [
          "race_races_raced_sprint_issue",
          "",
          "",
          "laws_law_loi_legal_illegality"
         ],
         "type": "scatter",
         "x": [
          0,
          0.9389533167053693,
          0.9389533167053693,
          0
         ],
         "xaxis": "x",
         "y": [
          -495,
          -495,
          -505,
          -505
         ],
         "yaxis": "y"
        },
        {
         "hoverinfo": "text",
         "marker": {
          "color": "rgb(35,205,205)"
         },
         "mode": "lines",
         "text": [
          "iphone_apple_ipad_apples_ipads",
          "",
          "",
          "laws_law_loi_legal_illegality"
         ],
         "type": "scatter",
         "x": [
          0,
          0.9843395104529219,
          0.9843395104529219,
          0.9389533167053693
         ],
         "xaxis": "x",
         "y": [
          -485,
          -485,
          -500,
          -500
         ],
         "yaxis": "y"
        },
        {
         "hoverinfo": "text",
         "marker": {
          "color": "rgb(35,205,205)"
         },
         "mode": "lines",
         "text": [
          "pm_ready_nonchinese_chinese_singapore",
          "",
          "",
          "minority_minorities_minoritiiiessss_majority_less"
         ],
         "type": "scatter",
         "x": [
          0,
          0.9643813907773334,
          0.9643813907773334,
          0
         ],
         "xaxis": "x",
         "y": [
          -515,
          -515,
          -525,
          -525
         ],
         "yaxis": "y"
        },
        {
         "hoverinfo": "text",
         "marker": {
          "color": "rgb(35,205,205)"
         },
         "mode": "lines",
         "text": [
          "pm_ready_singapore_singaporean_nonchinese",
          "",
          "",
          "liberals_liberalsminorities_liberal_conservatives_conservativeanti"
         ],
         "type": "scatter",
         "x": [
          0.9643813907773334,
          0.974918312996204,
          0.974918312996204,
          0
         ],
         "xaxis": "x",
         "y": [
          -520,
          -520,
          -535,
          -535
         ],
         "yaxis": "y"
        },
        {
         "hoverinfo": "text",
         "marker": {
          "color": "rgb(35,205,205)"
         },
         "mode": "lines",
         "text": [
          "pm_ready_singapore_singaporean_nonchinese",
          "",
          "",
          "pm_ready_singapore_singaporean_nonchinese"
         ],
         "type": "scatter",
         "x": [
          0.9843395104529219,
          0.9995759788769116,
          0.9995759788769116,
          0.974918312996204
         ],
         "xaxis": "x",
         "y": [
          -492.5,
          -492.5,
          -527.5,
          -527.5
         ],
         "yaxis": "y"
        },
        {
         "hoverinfo": "text",
         "marker": {
          "color": "rgb(0,116,217)"
         },
         "mode": "lines",
         "text": [
          "pm_ready_singapore_singaporean_nonchinese",
          "",
          "",
          "pm_ready_singapore_singaporean_nonchinese"
         ],
         "type": "scatter",
         "x": [
          1.0079272020095897,
          1.0227891492855272,
          1.0227891492855272,
          0.9995759788769116
         ],
         "xaxis": "x",
         "y": [
          -453.125,
          -453.125,
          -510,
          -510
         ],
         "yaxis": "y"
        },
        {
         "hoverinfo": "text",
         "marker": {
          "color": "rgb(61,153,112)"
         },
         "mode": "lines",
         "text": [
          "mods_mod_moderators_moderator_moderatortobe",
          "",
          "",
          "strawberry_strawberries_dingleberry_generation_generations"
         ],
         "type": "scatter",
         "x": [
          0,
          0.9589462655098888,
          0.9589462655098888,
          0
         ],
         "xaxis": "x",
         "y": [
          -555,
          -555,
          -565,
          -565
         ],
         "yaxis": "y"
        },
        {
         "hoverinfo": "text",
         "marker": {
          "color": "rgb(61,153,112)"
         },
         "mode": "lines",
         "text": [
          "cringe_cringey_cringefest_embarrassment_retarded",
          "",
          "",
          "mods_mod_moderators_moderator_moderatortobe"
         ],
         "type": "scatter",
         "x": [
          0,
          0.9792883263843372,
          0.9792883263843372,
          0.9589462655098888
         ],
         "xaxis": "x",
         "y": [
          -545,
          -545,
          -560,
          -560
         ],
         "yaxis": "y"
        },
        {
         "hoverinfo": "text",
         "marker": {
          "color": "rgb(255,65,54)"
         },
         "mode": "lines",
         "text": [
          "tears_cry_crying_bitching_wtf",
          "",
          "",
          "virgin_virgins_virginity_cry_sad"
         ],
         "type": "scatter",
         "x": [
          0,
          0.952548593097606,
          0.952548593097606,
          0
         ],
         "xaxis": "x",
         "y": [
          -575,
          -575,
          -585,
          -585
         ],
         "yaxis": "y"
        },
        {
         "hoverinfo": "text",
         "marker": {
          "color": "rgb(0,116,217)"
         },
         "mode": "lines",
         "text": [
          "cringe_cringey_cringefest_retarded_dickfuck",
          "",
          "",
          "virgin_virgins_virginity_cry_tears"
         ],
         "type": "scatter",
         "x": [
          0.9792883263843372,
          1.0151208591275556,
          1.0151208591275556,
          0.952548593097606
         ],
         "xaxis": "x",
         "y": [
          -552.5,
          -552.5,
          -580,
          -580
         ],
         "yaxis": "y"
        },
        {
         "hoverinfo": "text",
         "marker": {
          "color": "rgb(35,205,205)"
         },
         "mode": "lines",
         "text": [
          "low_lower_lowincome_loud_louder",
          "",
          "",
          "iq_low_lmaooo_minus_slightly"
         ],
         "type": "scatter",
         "x": [
          0,
          0.9189998118741421,
          0.9189998118741421,
          0
         ],
         "xaxis": "x",
         "y": [
          -605,
          -605,
          -615,
          -615
         ],
         "yaxis": "y"
        },
        {
         "hoverinfo": "text",
         "marker": {
          "color": "rgb(35,205,205)"
         },
         "mode": "lines",
         "text": [
          "toothpaste_tooth_teeth_dental_dentist",
          "",
          "",
          "low_lower_lowincome_loud_louder"
         ],
         "type": "scatter",
         "x": [
          0,
          0.9886994558381956,
          0.9886994558381956,
          0.9189998118741421
         ],
         "xaxis": "x",
         "y": [
          -595,
          -595,
          -610,
          -610
         ],
         "yaxis": "y"
        },
        {
         "hoverinfo": "text",
         "marker": {
          "color": "rgb(133,20,75)"
         },
         "mode": "lines",
         "text": [
          "salty_salt_salts_saltiness_sally",
          "",
          "",
          "cancer_cancerous_cancerously_ebola_testicular"
         ],
         "type": "scatter",
         "x": [
          0,
          0.9724257380061717,
          0.9724257380061717,
          0
         ],
         "xaxis": "x",
         "y": [
          -625,
          -625,
          -635,
          -635
         ],
         "yaxis": "y"
        },
        {
         "hoverinfo": "text",
         "marker": {
          "color": "rgb(0,116,217)"
         },
         "mode": "lines",
         "text": [
          "salty_salt_salts_saltiness_sally",
          "",
          "",
          "cancer_cancerous_cancerously_ebola_testicular"
         ],
         "type": "scatter",
         "x": [
          0.9886994558381956,
          1.0030312665998604,
          1.0030312665998604,
          0.9724257380061717
         ],
         "xaxis": "x",
         "y": [
          -602.5,
          -602.5,
          -630,
          -630
         ],
         "yaxis": "y"
        },
        {
         "hoverinfo": "text",
         "marker": {
          "color": "rgb(0,116,217)"
         },
         "mode": "lines",
         "text": [
          "salty_salt_salts_saltiness_sally",
          "",
          "",
          "cancer_cancerous_cancerously_ebola_testicular"
         ],
         "type": "scatter",
         "x": [
          1.0151208591275556,
          1.020909023482675,
          1.020909023482675,
          1.0030312665998604
         ],
         "xaxis": "x",
         "y": [
          -566.25,
          -566.25,
          -616.25,
          -616.25
         ],
         "yaxis": "y"
        },
        {
         "hoverinfo": "text",
         "marker": {
          "color": "rgb(0,116,217)"
         },
         "mode": "lines",
         "text": [
          "salty_salt_salts_saltiness_sally",
          "",
          "",
          "cancer_cancerous_cancerously_ebola_testicular"
         ],
         "type": "scatter",
         "x": [
          1.0227891492855272,
          1.0370104906529516,
          1.0370104906529516,
          1.020909023482675
         ],
         "xaxis": "x",
         "y": [
          -481.5625,
          -481.5625,
          -591.25,
          -591.25
         ],
         "yaxis": "y"
        },
        {
         "hoverinfo": "text",
         "marker": {
          "color": "rgb(0,116,217)"
         },
         "mode": "lines",
         "text": [
          "salty_salt_salts_saltiness_sally",
          "",
          "",
          "cancer_cancerous_cancerously_ebola_testicular"
         ],
         "type": "scatter",
         "x": [
          0.8623968658766328,
          1.0575005255422072,
          1.0575005255422072,
          1.0370104906529516
         ],
         "xaxis": "x",
         "y": [
          -410,
          -410,
          -536.40625,
          -536.40625
         ],
         "yaxis": "y"
        },
        {
         "hoverinfo": "text",
         "marker": {
          "color": "rgb(255,220,0)"
         },
         "mode": "lines",
         "text": [
          "lawyer_lawyers_lawyering_lawyerskarkia_consultants",
          "",
          "",
          "judiciary_judicial_judges_judge_prosecutor"
         ],
         "type": "scatter",
         "x": [
          0,
          0.8859876341843907,
          0.8859876341843907,
          0
         ],
         "xaxis": "x",
         "y": [
          -645,
          -645,
          -655,
          -655
         ],
         "yaxis": "y"
        },
        {
         "hoverinfo": "text",
         "marker": {
          "color": "rgb(40,35,35)"
         },
         "mode": "lines",
         "text": [
          "airplane_aeroplane_plane_airline_stewardesses",
          "",
          "",
          "teacher_teachers_profs_prof_school"
         ],
         "type": "scatter",
         "x": [
          0,
          0.8905839519852768,
          0.8905839519852768,
          0
         ],
         "xaxis": "x",
         "y": [
          -665,
          -665,
          -675,
          -675
         ],
         "yaxis": "y"
        },
        {
         "hoverinfo": "text",
         "marker": {
          "color": "rgb(40,35,35)"
         },
         "mode": "lines",
         "text": [
          "army_stalk_serve_survives_life",
          "",
          "",
          "nonmilitary_army_military_soldiersits_soldiers"
         ],
         "type": "scatter",
         "x": [
          0,
          0.9023016590933277,
          0.9023016590933277,
          0
         ],
         "xaxis": "x",
         "y": [
          -685,
          -685,
          -695,
          -695
         ],
         "yaxis": "y"
        },
        {
         "hoverinfo": "text",
         "marker": {
          "color": "rgb(40,35,35)"
         },
         "mode": "lines",
         "text": [
          "army_stalk_serve_survives_life",
          "",
          "",
          "infantry_battalions_commanders_ranks_fights"
         ],
         "type": "scatter",
         "x": [
          0.9023016590933277,
          0.9506850619645225,
          0.9506850619645225,
          0
         ],
         "xaxis": "x",
         "y": [
          -690,
          -690,
          -705,
          -705
         ],
         "yaxis": "y"
        },
        {
         "hoverinfo": "text",
         "marker": {
          "color": "rgb(40,35,35)"
         },
         "mode": "lines",
         "text": [
          "teachers_teacher_profs_prof_school",
          "",
          "",
          "infantry_battalions_commanders_ranks_fights"
         ],
         "type": "scatter",
         "x": [
          0.8905839519852768,
          0.9808327968624779,
          0.9808327968624779,
          0.9506850619645225
         ],
         "xaxis": "x",
         "y": [
          -670,
          -670,
          -697.5,
          -697.5
         ],
         "yaxis": "y"
        },
        {
         "hoverinfo": "text",
         "marker": {
          "color": "rgb(61,153,112)"
         },
         "mode": "lines",
         "text": [
          "disappointedyour_kc2_ankles_kneeling_motherfucker",
          "",
          "",
          "toxic_toxicity_disinfectantcant_apologetic_onesided"
         ],
         "type": "scatter",
         "x": [
          0,
          0.9250478722682207,
          0.9250478722682207,
          0
         ],
         "xaxis": "x",
         "y": [
          -725,
          -725,
          -735,
          -735
         ],
         "yaxis": "y"
        },
        {
         "hoverinfo": "text",
         "marker": {
          "color": "rgb(61,153,112)"
         },
         "mode": "lines",
         "text": [
          "friend_bullying_friends_insulted_wfh",
          "",
          "",
          "toxic_toxicity_disinfectantcant_apologetic_onesided"
         ],
         "type": "scatter",
         "x": [
          0,
          0.9471917546616064,
          0.9471917546616064,
          0.9250478722682207
         ],
         "xaxis": "x",
         "y": [
          -715,
          -715,
          -730,
          -730
         ],
         "yaxis": "y"
        },
        {
         "hoverinfo": "text",
         "marker": {
          "color": "rgb(255,65,54)"
         },
         "mode": "lines",
         "text": [
          "blaming_victim_victims_pity_complaining",
          "",
          "",
          "threats_fight_criminalhe_anonymous_intimidate"
         ],
         "type": "scatter",
         "x": [
          0,
          0.950325390957331,
          0.950325390957331,
          0
         ],
         "xaxis": "x",
         "y": [
          -755,
          -755,
          -765,
          -765
         ],
         "yaxis": "y"
        },
        {
         "hoverinfo": "text",
         "marker": {
          "color": "rgb(255,65,54)"
         },
         "mode": "lines",
         "text": [
          "scummy_uninterested_smug_outmuhahaha_dazzle",
          "",
          "",
          "threats_fight_criminalhe_anonymous_intimidate"
         ],
         "type": "scatter",
         "x": [
          0,
          0.9649879028077665,
          0.9649879028077665,
          0.950325390957331
         ],
         "xaxis": "x",
         "y": [
          -745,
          -745,
          -760,
          -760
         ],
         "yaxis": "y"
        },
        {
         "hoverinfo": "text",
         "marker": {
          "color": "rgb(255,65,54)"
         },
         "mode": "lines",
         "text": [
          "castration_castrate_chemical_chemically_vasectomy",
          "",
          "",
          "prostitute_prostitutes_prostitution_nothing_hookers"
         ],
         "type": "scatter",
         "x": [
          0,
          0.943281336584601,
          0.943281336584601,
          0
         ],
         "xaxis": "x",
         "y": [
          -775,
          -775,
          -785,
          -785
         ],
         "yaxis": "y"
        },
        {
         "hoverinfo": "text",
         "marker": {
          "color": "rgb(255,65,54)"
         },
         "mode": "lines",
         "text": [
          "castration_castrate_chemical_chemically_vasectomy",
          "",
          "",
          "prostitute_prostitutes_prostitution_nothing_hookers"
         ],
         "type": "scatter",
         "x": [
          0.9649879028077665,
          0.9922269096043287,
          0.9922269096043287,
          0.943281336584601
         ],
         "xaxis": "x",
         "y": [
          -752.5,
          -752.5,
          -780,
          -780
         ],
         "yaxis": "y"
        },
        {
         "hoverinfo": "text",
         "marker": {
          "color": "rgb(0,116,217)"
         },
         "mode": "lines",
         "text": [
          "toxic_toxicity_disinfectantcant_denigrate_septic",
          "",
          "",
          "prostitute_prostitutes_prostitution_nothing_hookers"
         ],
         "type": "scatter",
         "x": [
          0.9471917546616064,
          1.0099326114730365,
          1.0099326114730365,
          0.9922269096043287
         ],
         "xaxis": "x",
         "y": [
          -722.5,
          -722.5,
          -766.25,
          -766.25
         ],
         "yaxis": "y"
        },
        {
         "hoverinfo": "text",
         "marker": {
          "color": "rgb(0,116,217)"
         },
         "mode": "lines",
         "text": [
          "toxic_toxicity_disinfectantcant_denigrate_septic",
          "",
          "",
          "prostitute_prostitutes_prostitution_nothing_hookers"
         ],
         "type": "scatter",
         "x": [
          0.9808327968624779,
          1.0223850317161367,
          1.0223850317161367,
          1.0099326114730365
         ],
         "xaxis": "x",
         "y": [
          -683.75,
          -683.75,
          -744.375,
          -744.375
         ],
         "yaxis": "y"
        },
        {
         "hoverinfo": "text",
         "marker": {
          "color": "rgb(0,116,217)"
         },
         "mode": "lines",
         "text": [
          "lawyer_lawyering_lawyers_lawyerskarkia_prosecutor",
          "",
          "",
          "prostitute_prostitutes_prostitution_nothing_hookers"
         ],
         "type": "scatter",
         "x": [
          0.8859876341843907,
          1.0464874150365835,
          1.0464874150365835,
          1.0223850317161367
         ],
         "xaxis": "x",
         "y": [
          -650,
          -650,
          -714.0625,
          -714.0625
         ],
         "yaxis": "y"
        },
        {
         "hoverinfo": "text",
         "marker": {
          "color": "rgb(35,205,205)"
         },
         "mode": "lines",
         "text": [
          "schizophrenic_schizophrenia_psychiatric_psychotic_psychiatrist",
          "",
          "",
          "singaporean_singapore_singaporeans_cruel_malicious"
         ],
         "type": "scatter",
         "x": [
          0,
          0.8858859198176061,
          0.8858859198176061,
          0
         ],
         "xaxis": "x",
         "y": [
          -805,
          -805,
          -815,
          -815
         ],
         "yaxis": "y"
        },
        {
         "hoverinfo": "text",
         "marker": {
          "color": "rgb(35,205,205)"
         },
         "mode": "lines",
         "text": [
          "autism_autistic_autists_autist_narcissistic",
          "",
          "",
          "schizophrenic_schizophrenia_psychiatric_psychotic_psychiatrist"
         ],
         "type": "scatter",
         "x": [
          0,
          0.9857093142402603,
          0.9857093142402603,
          0.8858859198176061
         ],
         "xaxis": "x",
         "y": [
          -795,
          -795,
          -810,
          -810
         ],
         "yaxis": "y"
        },
        {
         "hoverinfo": "text",
         "marker": {
          "color": "rgb(61,153,112)"
         },
         "mode": "lines",
         "text": [
          "braincell_braincells_brain_brains_脑残",
          "",
          "",
          "name_names_naming_named_namecalling"
         ],
         "type": "scatter",
         "x": [
          0,
          0.9162240639359613,
          0.9162240639359613,
          0
         ],
         "xaxis": "x",
         "y": [
          -825,
          -825,
          -835,
          -835
         ],
         "yaxis": "y"
        },
        {
         "hoverinfo": "text",
         "marker": {
          "color": "rgb(255,65,54)"
         },
         "mode": "lines",
         "text": [
          "monkey_monkeys_monkeya_monkeypox_donkeys",
          "",
          "",
          "slaves_slavery_slave_slaveowners_slavelike"
         ],
         "type": "scatter",
         "x": [
          0,
          0.9574536837823151,
          0.9574536837823151,
          0
         ],
         "xaxis": "x",
         "y": [
          -845,
          -845,
          -855,
          -855
         ],
         "yaxis": "y"
        },
        {
         "hoverinfo": "text",
         "marker": {
          "color": "rgb(35,205,205)"
         },
         "mode": "lines",
         "text": [
          "pigeons_pigeon_birds_cockatoos_owls",
          "",
          "",
          "chicken_chickens_rice_chili_meat"
         ],
         "type": "scatter",
         "x": [
          0,
          0.947369409544189,
          0.947369409544189,
          0
         ],
         "xaxis": "x",
         "y": [
          -865,
          -865,
          -875,
          -875
         ],
         "yaxis": "y"
        },
        {
         "hoverinfo": "text",
         "marker": {
          "color": "rgb(35,205,205)"
         },
         "mode": "lines",
         "text": [
          "pigeons_pigeon_birds_cockatoos_owls",
          "",
          "",
          "milk_latte_milkshakes_milking_lactose"
         ],
         "type": "scatter",
         "x": [
          0.947369409544189,
          0.9873819217410048,
          0.9873819217410048,
          0
         ],
         "xaxis": "x",
         "y": [
          -870,
          -870,
          -885,
          -885
         ],
         "yaxis": "y"
        },
        {
         "hoverinfo": "text",
         "marker": {
          "color": "rgb(0,116,217)"
         },
         "mode": "lines",
         "text": [
          "pigeons_pigeon_birds_cockatoos_owls",
          "",
          "",
          "milk_latte_milkshakes_milking_lactose"
         ],
         "type": "scatter",
         "x": [
          0.9574536837823151,
          1.0013488811668834,
          1.0013488811668834,
          0.9873819217410048
         ],
         "xaxis": "x",
         "y": [
          -850,
          -850,
          -877.5,
          -877.5
         ],
         "yaxis": "y"
        },
        {
         "hoverinfo": "text",
         "marker": {
          "color": "rgb(133,20,75)"
         },
         "mode": "lines",
         "text": [
          "dog_dogs_dogwhistle_puppy_doggos",
          "",
          "",
          "cats_cat_kitty_kitten_kittens"
         ],
         "type": "scatter",
         "x": [
          0,
          0.9129300510325081,
          0.9129300510325081,
          0
         ],
         "xaxis": "x",
         "y": [
          -895,
          -895,
          -905,
          -905
         ],
         "yaxis": "y"
        },
        {
         "hoverinfo": "text",
         "marker": {
          "color": "rgb(0,116,217)"
         },
         "mode": "lines",
         "text": [
          "dog_dogs_dogwhistle_puppy_doggos",
          "",
          "",
          "dogs_dog_puppy_dogwhistle_doggos"
         ],
         "type": "scatter",
         "x": [
          1.0013488811668834,
          1.0138439906793133,
          1.0138439906793133,
          0.9129300510325081
         ],
         "xaxis": "x",
         "y": [
          -863.75,
          -863.75,
          -900,
          -900
         ],
         "yaxis": "y"
        },
        {
         "hoverinfo": "text",
         "marker": {
          "color": "rgb(0,116,217)"
         },
         "mode": "lines",
         "text": [
          "brain_brains_braincell_braincells_brainwashed",
          "",
          "",
          "dogs_dog_puppy_dogwhistle_doggos"
         ],
         "type": "scatter",
         "x": [
          0.9162240639359613,
          1.0215107739492562,
          1.0215107739492562,
          1.0138439906793133
         ],
         "xaxis": "x",
         "y": [
          -830,
          -830,
          -881.875,
          -881.875
         ],
         "yaxis": "y"
        },
        {
         "hoverinfo": "text",
         "marker": {
          "color": "rgb(0,116,217)"
         },
         "mode": "lines",
         "text": [
          "brain_brains_braincell_braincells_brainwashed",
          "",
          "",
          "dogs_dog_puppy_dogwhistle_doggos"
         ],
         "type": "scatter",
         "x": [
          0.9857093142402603,
          1.0298542900809016,
          1.0298542900809016,
          1.0215107739492562
         ],
         "xaxis": "x",
         "y": [
          -802.5,
          -802.5,
          -855.9375,
          -855.9375
         ],
         "yaxis": "y"
        },
        {
         "hoverinfo": "text",
         "marker": {
          "color": "rgb(255,220,0)"
         },
         "mode": "lines",
         "text": [
          "aircon_aircons_peasants_weather_homeless",
          "",
          "",
          "cardboards_boxes_cardboard_collecting_collectors"
         ],
         "type": "scatter",
         "x": [
          0,
          0.9113958792468876,
          0.9113958792468876,
          0
         ],
         "xaxis": "x",
         "y": [
          -925,
          -925,
          -935,
          -935
         ],
         "yaxis": "y"
        },
        {
         "hoverinfo": "text",
         "marker": {
          "color": "rgb(255,220,0)"
         },
         "mode": "lines",
         "text": [
          "insuranceproperty_insurance_insurers_insuranceinvestmentfinancial_assurance",
          "",
          "",
          "cardboards_cardboard_cartman_neighbours_neighbour"
         ],
         "type": "scatter",
         "x": [
          0,
          0.975518688763695,
          0.975518688763695,
          0.9113958792468876
         ],
         "xaxis": "x",
         "y": [
          -915,
          -915,
          -930,
          -930
         ],
         "yaxis": "y"
        },
        {
         "hoverinfo": "text",
         "marker": {
          "color": "rgb(40,35,35)"
         },
         "mode": "lines",
         "text": [
          "smokers_smoking_cigarettes_cigarette_smoker",
          "",
          "",
          "smell_smellso_smelly_smells_smelling"
         ],
         "type": "scatter",
         "x": [
          0,
          0.9145691603542196,
          0.9145691603542196,
          0
         ],
         "xaxis": "x",
         "y": [
          -955,
          -955,
          -965,
          -965
         ],
         "yaxis": "y"
        },
        {
         "hoverinfo": "text",
         "marker": {
          "color": "rgb(40,35,35)"
         },
         "mode": "lines",
         "text": [
          "gym_gymtoker_fitness_exercise_deadlift",
          "",
          "",
          "smell_smelly_smells_smelling_odor"
         ],
         "type": "scatter",
         "x": [
          0,
          0.9785113815161547,
          0.9785113815161547,
          0.9145691603542196
         ],
         "xaxis": "x",
         "y": [
          -945,
          -945,
          -960,
          -960
         ],
         "yaxis": "y"
        },
        {
         "hoverinfo": "text",
         "marker": {
          "color": "rgb(0,116,217)"
         },
         "mode": "lines",
         "text": [
          "gym_gymtoker_fitness_exercise_deadlift",
          "",
          "",
          "smell_smelly_smells_smelling_odor"
         ],
         "type": "scatter",
         "x": [
          0.975518688763695,
          1.0176203377804094,
          1.0176203377804094,
          0.9785113815161547
         ],
         "xaxis": "x",
         "y": [
          -922.5,
          -922.5,
          -952.5,
          -952.5
         ],
         "yaxis": "y"
        },
        {
         "hoverinfo": "text",
         "marker": {
          "color": "rgb(61,153,112)"
         },
         "mode": "lines",
         "text": [
          "beer_beers_whisky_drinking_alcoholism",
          "",
          "",
          "coffee_cafe_coffeecareer_starbuck_cafessome"
         ],
         "type": "scatter",
         "x": [
          0,
          0.8980867053598938,
          0.8980867053598938,
          0
         ],
         "xaxis": "x",
         "y": [
          -975,
          -975,
          -985,
          -985
         ],
         "yaxis": "y"
        },
        {
         "hoverinfo": "text",
         "marker": {
          "color": "rgb(0,116,217)"
         },
         "mode": "lines",
         "text": [
          "beer_beers_whisky_drinking_alcoholism",
          "",
          "",
          "coffee_cafe_coffeecareer_starbuck_cafessome"
         ],
         "type": "scatter",
         "x": [
          1.0176203377804094,
          1.0306795538507791,
          1.0306795538507791,
          0.8980867053598938
         ],
         "xaxis": "x",
         "y": [
          -937.5,
          -937.5,
          -980,
          -980
         ],
         "yaxis": "y"
        },
        {
         "hoverinfo": "text",
         "marker": {
          "color": "rgb(0,116,217)"
         },
         "mode": "lines",
         "text": [
          "beer_beers_whisky_drinking_alcoholism",
          "",
          "",
          "coffee_cafe_coffeecareer_starbuck_cafessome"
         ],
         "type": "scatter",
         "x": [
          1.0298542900809016,
          1.0458063481545177,
          1.0458063481545177,
          1.0306795538507791
         ],
         "xaxis": "x",
         "y": [
          -829.21875,
          -829.21875,
          -958.75,
          -958.75
         ],
         "yaxis": "y"
        },
        {
         "hoverinfo": "text",
         "marker": {
          "color": "rgb(255,65,54)"
         },
         "mode": "lines",
         "text": [
          "shoes_shoe_socks_boots_shoebox",
          "",
          "",
          "leg_legs_ankle_feet_ankles"
         ],
         "type": "scatter",
         "x": [
          0,
          0.8984761883690531,
          0.8984761883690531,
          0
         ],
         "xaxis": "x",
         "y": [
          -995,
          -995,
          -1005,
          -1005
         ],
         "yaxis": "y"
        },
        {
         "hoverinfo": "text",
         "marker": {
          "color": "rgb(0,116,217)"
         },
         "mode": "lines",
         "text": [
          "shoes_shoe_socks_boots_shoebox",
          "",
          "",
          "shoes_shoe_socks_boots_shoebox"
         ],
         "type": "scatter",
         "x": [
          1.0458063481545177,
          1.0586323494646626,
          1.0586323494646626,
          0.8984761883690531
         ],
         "xaxis": "x",
         "y": [
          -893.984375,
          -893.984375,
          -1000,
          -1000
         ],
         "yaxis": "y"
        },
        {
         "hoverinfo": "text",
         "marker": {
          "color": "rgb(0,116,217)"
         },
         "mode": "lines",
         "text": [
          "shoes_shoe_socks_boots_shoebox",
          "",
          "",
          "shoes_shoe_socks_boots_shoebox"
         ],
         "type": "scatter",
         "x": [
          1.0464874150365835,
          1.0679199341903525,
          1.0679199341903525,
          1.0586323494646626
         ],
         "xaxis": "x",
         "y": [
          -682.03125,
          -682.03125,
          -946.9921875,
          -946.9921875
         ],
         "yaxis": "y"
        },
        {
         "hoverinfo": "text",
         "marker": {
          "color": "rgb(0,116,217)"
         },
         "mode": "lines",
         "text": [
          "shoes_shoe_socks_boots_shoebox",
          "",
          "",
          "shoes_shoe_socks_boots_shoebox"
         ],
         "type": "scatter",
         "x": [
          1.0575005255422072,
          1.081198690311443,
          1.081198690311443,
          1.0679199341903525
         ],
         "xaxis": "x",
         "y": [
          -473.203125,
          -473.203125,
          -814.51171875,
          -814.51171875
         ],
         "yaxis": "y"
        },
        {
         "hoverinfo": "text",
         "marker": {
          "color": "rgb(0,116,217)"
         },
         "mode": "lines",
         "text": [
          "shoes_shoe_socks_boots_shoebox",
          "",
          "",
          "shoes_shoe_socks_boots_shoebox"
         ],
         "type": "scatter",
         "x": [
          1.0365075176095064,
          1.1409692575788521,
          1.1409692575788521,
          1.081198690311443
         ],
         "xaxis": "x",
         "y": [
          -380,
          -380,
          -643.857421875,
          -643.857421875
         ],
         "yaxis": "y"
        },
        {
         "hoverinfo": "text",
         "marker": {
          "color": "rgb(35,205,205)"
         },
         "mode": "lines",
         "text": [
          "pants_panties_underwear_jeans_shorts",
          "",
          "",
          "shorts_shorties_skirts_outfits_lesbians"
         ],
         "type": "scatter",
         "x": [
          0,
          0.7354313359294313,
          0.7354313359294313,
          0
         ],
         "xaxis": "x",
         "y": [
          -1015,
          -1015,
          -1025,
          -1025
         ],
         "yaxis": "y"
        },
        {
         "hoverinfo": "text",
         "marker": {
          "color": "rgb(61,153,112)"
         },
         "mode": "lines",
         "text": [
          "barber_barbers_barbershop_beard_shave",
          "",
          "",
          "boobs_boob_breasts_breast_nipples"
         ],
         "type": "scatter",
         "x": [
          0,
          0.9305187444986931,
          0.9305187444986931,
          0
         ],
         "xaxis": "x",
         "y": [
          -1045,
          -1045,
          -1055,
          -1055
         ],
         "yaxis": "y"
        },
        {
         "hoverinfo": "text",
         "marker": {
          "color": "rgb(61,153,112)"
         },
         "mode": "lines",
         "text": [
          "porno_porn_pornhub_hentai_henta",
          "",
          "",
          "boobs_boob_breasts_breast_nipples"
         ],
         "type": "scatter",
         "x": [
          0,
          0.9738617125954168,
          0.9738617125954168,
          0.9305187444986931
         ],
         "xaxis": "x",
         "y": [
          -1035,
          -1035,
          -1050,
          -1050
         ],
         "yaxis": "y"
        },
        {
         "hoverinfo": "text",
         "marker": {
          "color": "rgb(255,65,54)"
         },
         "mode": "lines",
         "text": [
          "looks_like_look_looking_fuckable",
          "",
          "",
          "fat_fatphobic_fatness_overweight_obesity"
         ],
         "type": "scatter",
         "x": [
          0,
          0.846901357121555,
          0.846901357121555,
          0
         ],
         "xaxis": "x",
         "y": [
          -1075,
          -1075,
          -1085,
          -1085
         ],
         "yaxis": "y"
        },
        {
         "hoverinfo": "text",
         "marker": {
          "color": "rgb(255,65,54)"
         },
         "mode": "lines",
         "text": [
          "energy_weak_strong_small_eyes",
          "",
          "",
          "fat_fatness_skinny_overweight_fatphobic"
         ],
         "type": "scatter",
         "x": [
          0,
          0.9206148028759009,
          0.9206148028759009,
          0.846901357121555
         ],
         "xaxis": "x",
         "y": [
          -1065,
          -1065,
          -1080,
          -1080
         ],
         "yaxis": "y"
        },
        {
         "hoverinfo": "text",
         "marker": {
          "color": "rgb(255,65,54)"
         },
         "mode": "lines",
         "text": [
          "fat_overweight_skinny_obesity_obese",
          "",
          "",
          "grandma_grandmother_granny_grandmothers_grandparents"
         ],
         "type": "scatter",
         "x": [
          0.9206148028759009,
          0.9734294702523505,
          0.9734294702523505,
          0
         ],
         "xaxis": "x",
         "y": [
          -1072.5,
          -1072.5,
          -1095,
          -1095
         ],
         "yaxis": "y"
        },
        {
         "hoverinfo": "text",
         "marker": {
          "color": "rgb(0,116,217)"
         },
         "mode": "lines",
         "text": [
          "fat_overweight_skinny_obesity_obese",
          "",
          "",
          "fat_skinny_overweight_chubby_obesity"
         ],
         "type": "scatter",
         "x": [
          0.9738617125954168,
          1.0154098173564137,
          1.0154098173564137,
          0.9734294702523505
         ],
         "xaxis": "x",
         "y": [
          -1042.5,
          -1042.5,
          -1083.75,
          -1083.75
         ],
         "yaxis": "y"
        },
        {
         "hoverinfo": "text",
         "marker": {
          "color": "rgb(0,116,217)"
         },
         "mode": "lines",
         "text": [
          "pants_panties_underwear_shorts_jeans",
          "",
          "",
          "fat_skinny_overweight_chubby_obesity"
         ],
         "type": "scatter",
         "x": [
          0.7354313359294313,
          1.0785985498789459,
          1.0785985498789459,
          1.0154098173564137
         ],
         "xaxis": "x",
         "y": [
          -1020,
          -1020,
          -1063.125,
          -1063.125
         ],
         "yaxis": "y"
        },
        {
         "hoverinfo": "text",
         "marker": {
          "color": "rgb(0,116,217)"
         },
         "mode": "lines",
         "text": [
          "pants_panties_underwear_shorts_jeans",
          "",
          "",
          "fat_skinny_overweight_chubby_obesity"
         ],
         "type": "scatter",
         "x": [
          1.1409692575788521,
          1.1852025192644735,
          1.1852025192644735,
          1.0785985498789459
         ],
         "xaxis": "x",
         "y": [
          -511.9287109375,
          -511.9287109375,
          -1041.5625,
          -1041.5625
         ],
         "yaxis": "y"
        },
        {
         "hoverinfo": "text",
         "marker": {
          "color": "rgb(0,116,217)"
         },
         "mode": "lines",
         "text": [
          "pants_panties_underwear_shorts_jeans",
          "",
          "",
          "fat_skinny_overweight_chubby_obesity"
         ],
         "type": "scatter",
         "x": [
          1.1804764365099116,
          1.1988390813710812,
          1.1988390813710812,
          1.1852025192644735
         ],
         "xaxis": "x",
         "y": [
          -311.5625,
          -311.5625,
          -776.74560546875,
          -776.74560546875
         ],
         "yaxis": "y"
        },
        {
         "hoverinfo": "text",
         "marker": {
          "color": "rgb(0,116,217)"
         },
         "mode": "lines",
         "text": [
          "pants_panties_underwear_shorts_jeans",
          "",
          "",
          "fat_skinny_overweight_chubby_obesity"
         ],
         "type": "scatter",
         "x": [
          1.1652853585281775,
          1.3018401999455138,
          1.3018401999455138,
          1.1988390813710812
         ],
         "xaxis": "x",
         "y": [
          -230,
          -230,
          -544.154052734375,
          -544.154052734375
         ],
         "yaxis": "y"
        },
        {
         "hoverinfo": "text",
         "marker": {
          "color": "rgb(0,116,217)"
         },
         "mode": "lines",
         "text": [
          "pants_panties_underwear_shorts_jeans",
          "",
          "",
          "fat_skinny_overweight_chubby_obesity"
         ],
         "type": "scatter",
         "x": [
          1.2248340471229284,
          1.3109129971347955,
          1.3109129971347955,
          1.3018401999455138
         ],
         "xaxis": "x",
         "y": [
          -171.40625,
          -171.40625,
          -387.0770263671875,
          -387.0770263671875
         ],
         "yaxis": "y"
        },
        {
         "hoverinfo": "text",
         "marker": {
          "color": "rgb(35,205,205)"
         },
         "mode": "lines",
         "text": [
          "hush_shut_singh_geh_sh",
          "",
          "",
          "hang_grab_pull_put_fica"
         ],
         "type": "scatter",
         "x": [
          0,
          0.8823975207246243,
          0.8823975207246243,
          0
         ],
         "xaxis": "x",
         "y": [
          -1105,
          -1105,
          -1115,
          -1115
         ],
         "yaxis": "y"
        },
        {
         "hoverinfo": "text",
         "marker": {
          "color": "rgb(133,20,75)"
         },
         "mode": "lines",
         "text": [
          "death_dying_lethal_dead_kill",
          "",
          "",
          "trashbag_souls_cruel_shat_scorch"
         ],
         "type": "scatter",
         "x": [
          0,
          0.8277962682222186,
          0.8277962682222186,
          0
         ],
         "xaxis": "x",
         "y": [
          -1125,
          -1125,
          -1135,
          -1135
         ],
         "yaxis": "y"
        },
        {
         "hoverinfo": "text",
         "marker": {
          "color": "rgb(0,116,217)"
         },
         "mode": "lines",
         "text": [
          "shut_hang_gulag_geh_gcse",
          "",
          "",
          "death_dying_dead_kill_immortal"
         ],
         "type": "scatter",
         "x": [
          0.8823975207246243,
          1.0015685401103172,
          1.0015685401103172,
          0.8277962682222186
         ],
         "xaxis": "x",
         "y": [
          -1110,
          -1110,
          -1130,
          -1130
         ],
         "yaxis": "y"
        },
        {
         "hoverinfo": "text",
         "marker": {
          "color": "rgb(255,220,0)"
         },
         "mode": "lines",
         "text": [
          "like_cockroach_crush_cocktease_pussy",
          "",
          "",
          "cum_slut_deeserved_creampie_armpit"
         ],
         "type": "scatter",
         "x": [
          0,
          0.9017984675597005,
          0.9017984675597005,
          0
         ],
         "xaxis": "x",
         "y": [
          -1155,
          -1155,
          -1165,
          -1165
         ],
         "yaxis": "y"
        },
        {
         "hoverinfo": "text",
         "marker": {
          "color": "rgb(255,220,0)"
         },
         "mode": "lines",
         "text": [
          "scumbags_scum_disgusting_pofmaed_dicks",
          "",
          "",
          "cum_cocktease_sucking_deeserved_creampie"
         ],
         "type": "scatter",
         "x": [
          0,
          0.9487415834708592,
          0.9487415834708592,
          0.9017984675597005
         ],
         "xaxis": "x",
         "y": [
          -1145,
          -1145,
          -1160,
          -1160
         ],
         "yaxis": "y"
        },
        {
         "hoverinfo": "text",
         "marker": {
          "color": "rgb(40,35,35)"
         },
         "mode": "lines",
         "text": [
          "real_reality_smdh_selfhating_gfy",
          "",
          "",
          "selfish_selfesteem_selfrighteous_selfhating_selfdeclared"
         ],
         "type": "scatter",
         "x": [
          0,
          0.8790442612611488,
          0.8790442612611488,
          0
         ],
         "xaxis": "x",
         "y": [
          -1175,
          -1175,
          -1185,
          -1185
         ],
         "yaxis": "y"
        },
        {
         "hoverinfo": "text",
         "marker": {
          "color": "rgb(61,153,112)"
         },
         "mode": "lines",
         "text": [
          "assholes_asshole_assholez_bully_stalker",
          "",
          "",
          "loser_losers_asshole_jealous_lmao"
         ],
         "type": "scatter",
         "x": [
          0,
          0.9194298987817229,
          0.9194298987817229,
          0
         ],
         "xaxis": "x",
         "y": [
          -1195,
          -1195,
          -1205,
          -1205
         ],
         "yaxis": "y"
        },
        {
         "hoverinfo": "text",
         "marker": {
          "color": "rgb(61,153,112)"
         },
         "mode": "lines",
         "text": [
          "dick_pussy_fuckinh_cock_suck",
          "",
          "",
          "pussy_dick_dicks_bitches_cock"
         ],
         "type": "scatter",
         "x": [
          0,
          0.8760012264114985,
          0.8760012264114985,
          0
         ],
         "xaxis": "x",
         "y": [
          -1215,
          -1215,
          -1225,
          -1225
         ],
         "yaxis": "y"
        },
        {
         "hoverinfo": "text",
         "marker": {
          "color": "rgb(61,153,112)"
         },
         "mode": "lines",
         "text": [
          "loser_assholez_asshole_assholes_miserly",
          "",
          "",
          "pussy_dick_dicks_bitches_cock"
         ],
         "type": "scatter",
         "x": [
          0.9194298987817229,
          0.9691753784531085,
          0.9691753784531085,
          0.8760012264114985
         ],
         "xaxis": "x",
         "y": [
          -1200,
          -1200,
          -1220,
          -1220
         ],
         "yaxis": "y"
        },
        {
         "hoverinfo": "text",
         "marker": {
          "color": "rgb(0,116,217)"
         },
         "mode": "lines",
         "text": [
          "selfish_selfrighteous_selfhating_selfesteem_selfdeclared",
          "",
          "",
          "pussy_dick_dicks_bitches_cock"
         ],
         "type": "scatter",
         "x": [
          0.8790442612611488,
          1.0343922204961988,
          1.0343922204961988,
          0.9691753784531085
         ],
         "xaxis": "x",
         "y": [
          -1180,
          -1180,
          -1210,
          -1210
         ],
         "yaxis": "y"
        },
        {
         "hoverinfo": "text",
         "marker": {
          "color": "rgb(0,116,217)"
         },
         "mode": "lines",
         "text": [
          "selfish_selfrighteous_selfhating_selfesteem_selfdeclared",
          "",
          "",
          "pussy_dick_dicks_bitches_cock"
         ],
         "type": "scatter",
         "x": [
          0.9487415834708592,
          1.0799367769242205,
          1.0799367769242205,
          1.0343922204961988
         ],
         "xaxis": "x",
         "y": [
          -1152.5,
          -1152.5,
          -1195,
          -1195
         ],
         "yaxis": "y"
        },
        {
         "hoverinfo": "text",
         "marker": {
          "color": "rgb(255,65,54)"
         },
         "mode": "lines",
         "text": [
          "back_reboundbackup_backside_retake_reversed",
          "",
          "",
          "ccpee_jerbs_tiongcock_lick_ramitheasshole"
         ],
         "type": "scatter",
         "x": [
          0,
          0.9665210365683464,
          0.9665210365683464,
          0
         ],
         "xaxis": "x",
         "y": [
          -1245,
          -1245,
          -1255,
          -1255
         ],
         "yaxis": "y"
        },
        {
         "hoverinfo": "text",
         "marker": {
          "color": "rgb(255,65,54)"
         },
         "mode": "lines",
         "text": [
          "gold_golden_golding_golds_platinum",
          "",
          "",
          "ccpee_jerbs_tiongcock_lick_ramitheasshole"
         ],
         "type": "scatter",
         "x": [
          0,
          0.9851506635928209,
          0.9851506635928209,
          0.9665210365683464
         ],
         "xaxis": "x",
         "y": [
          -1235,
          -1235,
          -1250,
          -1250
         ],
         "yaxis": "y"
        },
        {
         "hoverinfo": "text",
         "marker": {
          "color": "rgb(255,65,54)"
         },
         "mode": "lines",
         "text": [
          "bro_shitbag_fucking_wow_cuck",
          "",
          "",
          "ewww_sucks_lol_fucking_wtf"
         ],
         "type": "scatter",
         "x": [
          0,
          0.932835782702025,
          0.932835782702025,
          0
         ],
         "xaxis": "x",
         "y": [
          -1265,
          -1265,
          -1275,
          -1275
         ],
         "yaxis": "y"
        },
        {
         "hoverinfo": "text",
         "marker": {
          "color": "rgb(255,65,54)"
         },
         "mode": "lines",
         "text": [
          "wtf_shredded_fucking_fck_smlj",
          "",
          "",
          "leftie_lefthanded_eeeewwwwwwwww_rightwingers_shitstorm"
         ],
         "type": "scatter",
         "x": [
          0,
          0.9315509457666967,
          0.9315509457666967,
          0
         ],
         "xaxis": "x",
         "y": [
          -1285,
          -1285,
          -1295,
          -1295
         ],
         "yaxis": "y"
        },
        {
         "hoverinfo": "text",
         "marker": {
          "color": "rgb(255,65,54)"
         },
         "mode": "lines",
         "text": [
          "bro_fucking_lol_shitbag_ewww",
          "",
          "",
          "leftie_lefthanded_eeeewwwwwwwww_rightwingers_shitstorm"
         ],
         "type": "scatter",
         "x": [
          0.932835782702025,
          0.9674255220204102,
          0.9674255220204102,
          0.9315509457666967
         ],
         "xaxis": "x",
         "y": [
          -1270,
          -1270,
          -1290,
          -1290
         ],
         "yaxis": "y"
        },
        {
         "hoverinfo": "text",
         "marker": {
          "color": "rgb(255,65,54)"
         },
         "mode": "lines",
         "text": [
          "bro_fucking_lol_shitbag_ewww",
          "",
          "",
          "leftie_lefthanded_eeeewwwwwwwww_rightwingers_shitstorm"
         ],
         "type": "scatter",
         "x": [
          0.9851506635928209,
          0.9983225487006171,
          0.9983225487006171,
          0.9674255220204102
         ],
         "xaxis": "x",
         "y": [
          -1242.5,
          -1242.5,
          -1280,
          -1280
         ],
         "yaxis": "y"
        },
        {
         "hoverinfo": "text",
         "marker": {
          "color": "rgb(35,205,205)"
         },
         "mode": "lines",
         "text": [
          "useless_cant_dw_desmond_teo",
          "",
          "",
          "buay_dk_lol_ppls_smug"
         ],
         "type": "scatter",
         "x": [
          0,
          0.9056581990862949,
          0.9056581990862949,
          0
         ],
         "xaxis": "x",
         "y": [
          -1305,
          -1305,
          -1315,
          -1315
         ],
         "yaxis": "y"
        },
        {
         "hoverinfo": "text",
         "marker": {
          "color": "rgb(35,205,205)"
         },
         "mode": "lines",
         "text": [
          "desmond_teo_yog_josepine_sjw",
          "",
          "",
          "time_timeyou_timing_waste_timeline"
         ],
         "type": "scatter",
         "x": [
          0.9056581990862949,
          0.9494815598407963,
          0.9494815598407963,
          0
         ],
         "xaxis": "x",
         "y": [
          -1310,
          -1310,
          -1325,
          -1325
         ],
         "yaxis": "y"
        },
        {
         "hoverinfo": "text",
         "marker": {
          "color": "rgb(35,205,205)"
         },
         "mode": "lines",
         "text": [
          "fgm_kfc_mccy_mgm_cnb",
          "",
          "",
          "clownfuck_clown_clowns_fucking_comedian"
         ],
         "type": "scatter",
         "x": [
          0,
          0.8952705570242562,
          0.8952705570242562,
          0
         ],
         "xaxis": "x",
         "y": [
          -1335,
          -1335,
          -1345,
          -1345
         ],
         "yaxis": "y"
        },
        {
         "hoverinfo": "text",
         "marker": {
          "color": "rgb(35,205,205)"
         },
         "mode": "lines",
         "text": [
          "clownfuck_clown_clowns_fucking_shitdon",
          "",
          "",
          "cb_kp_csm_fk_knncc"
         ],
         "type": "scatter",
         "x": [
          0.8952705570242562,
          0.9385395925032063,
          0.9385395925032063,
          0
         ],
         "xaxis": "x",
         "y": [
          -1340,
          -1340,
          -1355,
          -1355
         ],
         "yaxis": "y"
        },
        {
         "hoverinfo": "text",
         "marker": {
          "color": "rgb(35,205,205)"
         },
         "mode": "lines",
         "text": [
          "clownfuck_clown_clowns_fucking_shitdon",
          "",
          "",
          "cb_kp_csm_fk_knncc"
         ],
         "type": "scatter",
         "x": [
          0.9494815598407963,
          0.983188089026868,
          0.983188089026868,
          0.9385395925032063
         ],
         "xaxis": "x",
         "y": [
          -1317.5,
          -1317.5,
          -1347.5,
          -1347.5
         ],
         "yaxis": "y"
        },
        {
         "hoverinfo": "text",
         "marker": {
          "color": "rgb(0,116,217)"
         },
         "mode": "lines",
         "text": [
          "clownfuck_clown_clowns_fucking_shitdon",
          "",
          "",
          "cb_kp_csm_fk_knncc"
         ],
         "type": "scatter",
         "x": [
          0.9983225487006171,
          1.035487783528836,
          1.035487783528836,
          0.983188089026868
         ],
         "xaxis": "x",
         "y": [
          -1261.25,
          -1261.25,
          -1332.5,
          -1332.5
         ],
         "yaxis": "y"
        },
        {
         "hoverinfo": "text",
         "marker": {
          "color": "rgb(61,153,112)"
         },
         "mode": "lines",
         "text": [
          "cut_dick_throat_chuck_smack",
          "",
          "",
          "lock_lockdown_key_hole_lifeskill"
         ],
         "type": "scatter",
         "x": [
          0,
          0.8398795639908747,
          0.8398795639908747,
          0
         ],
         "xaxis": "x",
         "y": [
          -1365,
          -1365,
          -1375,
          -1375
         ],
         "yaxis": "y"
        },
        {
         "hoverinfo": "text",
         "marker": {
          "color": "rgb(61,153,112)"
         },
         "mode": "lines",
         "text": [
          "lock_key_riddled_hole_tightballspoppingspandexes",
          "",
          "",
          "tiaktiaktiaktiak_bkk_tiak_omfg_cheebai"
         ],
         "type": "scatter",
         "x": [
          0.8398795639908747,
          0.8919901646273487,
          0.8919901646273487,
          0
         ],
         "xaxis": "x",
         "y": [
          -1370,
          -1370,
          -1385,
          -1385
         ],
         "yaxis": "y"
        },
        {
         "hoverinfo": "text",
         "marker": {
          "color": "rgb(0,116,217)"
         },
         "mode": "lines",
         "text": [
          "lock_key_riddled_hole_tightballspoppingspandexes",
          "",
          "",
          "tiaktiaktiaktiak_bkk_tiak_omfg_cheebai"
         ],
         "type": "scatter",
         "x": [
          1.035487783528836,
          1.0639810644275833,
          1.0639810644275833,
          0.8919901646273487
         ],
         "xaxis": "x",
         "y": [
          -1296.875,
          -1296.875,
          -1377.5,
          -1377.5
         ],
         "yaxis": "y"
        },
        {
         "hoverinfo": "text",
         "marker": {
          "color": "rgb(255,65,54)"
         },
         "mode": "lines",
         "text": [
          "sinkie_sinkies_pukes_nuts_spooning",
          "",
          "",
          "lmfaooo_fk_lkm_oneshttpsiimgurcom51xq7hjpng_nab"
         ],
         "type": "scatter",
         "x": [
          0,
          0.8006686623262931,
          0.8006686623262931,
          0
         ],
         "xaxis": "x",
         "y": [
          -1425,
          -1425,
          -1435,
          -1435
         ],
         "yaxis": "y"
        },
        {
         "hoverinfo": "text",
         "marker": {
          "color": "rgb(255,65,54)"
         },
         "mode": "lines",
         "text": [
          "sinkies_sinkie_cheekopek_tiktoksgs_simps",
          "",
          "",
          "sinkie_sinkies_nuts_slap_pwning"
         ],
         "type": "scatter",
         "x": [
          0,
          0.892302438168807,
          0.892302438168807,
          0.8006686623262931
         ],
         "xaxis": "x",
         "y": [
          -1415,
          -1415,
          -1430,
          -1430
         ],
         "yaxis": "y"
        },
        {
         "hoverinfo": "text",
         "marker": {
          "color": "rgb(255,65,54)"
         },
         "mode": "lines",
         "text": [
          "sleep_sleeps_sleepy_sleepoverfor_sleeping",
          "",
          "",
          "sinkie_sinkies_nuts_slap_pwning"
         ],
         "type": "scatter",
         "x": [
          0,
          0.9092145894186793,
          0.9092145894186793,
          0.892302438168807
         ],
         "xaxis": "x",
         "y": [
          -1405,
          -1405,
          -1422.5,
          -1422.5
         ],
         "yaxis": "y"
        },
        {
         "hoverinfo": "text",
         "marker": {
          "color": "rgb(255,65,54)"
         },
         "mode": "lines",
         "text": [
          "sleep_sleeps_sleepy_sleepoverfor_sleeping",
          "",
          "",
          "nsf_365_motherfuckers_pofma_pwn"
         ],
         "type": "scatter",
         "x": [
          0.9092145894186793,
          0.9251154743460511,
          0.9251154743460511,
          0
         ],
         "xaxis": "x",
         "y": [
          -1413.75,
          -1413.75,
          -1445,
          -1445
         ],
         "yaxis": "y"
        },
        {
         "hoverinfo": "text",
         "marker": {
          "color": "rgb(255,65,54)"
         },
         "mode": "lines",
         "text": [
          "homewrecker_home_oh_imh_pussy",
          "",
          "",
          "nsf_365_motherfuckers_pofma_pwn"
         ],
         "type": "scatter",
         "x": [
          0,
          0.9493277352811227,
          0.9493277352811227,
          0.9251154743460511
         ],
         "xaxis": "x",
         "y": [
          -1395,
          -1395,
          -1429.375,
          -1429.375
         ],
         "yaxis": "y"
        },
        {
         "hoverinfo": "text",
         "marker": {
          "color": "rgb(0,116,217)"
         },
         "mode": "lines",
         "text": [
          "homewrecker_home_oh_imh_pussy",
          "",
          "",
          "nsf_365_motherfuckers_pofma_pwn"
         ],
         "type": "scatter",
         "x": [
          1.0639810644275833,
          1.0855851590978736,
          1.0855851590978736,
          0.9493277352811227
         ],
         "xaxis": "x",
         "y": [
          -1337.1875,
          -1337.1875,
          -1412.1875,
          -1412.1875
         ],
         "yaxis": "y"
        },
        {
         "hoverinfo": "text",
         "marker": {
          "color": "rgb(0,116,217)"
         },
         "mode": "lines",
         "text": [
          "homewrecker_home_oh_imh_pussy",
          "",
          "",
          "nsf_365_motherfuckers_pofma_pwn"
         ],
         "type": "scatter",
         "x": [
          1.0799367769242205,
          1.129183869003102,
          1.129183869003102,
          1.0855851590978736
         ],
         "xaxis": "x",
         "y": [
          -1173.75,
          -1173.75,
          -1374.6875,
          -1374.6875
         ],
         "yaxis": "y"
        },
        {
         "hoverinfo": "text",
         "marker": {
          "color": "rgb(0,116,217)"
         },
         "mode": "lines",
         "text": [
          "homewrecker_home_oh_imh_pussy",
          "",
          "",
          "nsf_365_motherfuckers_pofma_pwn"
         ],
         "type": "scatter",
         "x": [
          1.0015685401103172,
          1.145974039121344,
          1.145974039121344,
          1.129183869003102
         ],
         "xaxis": "x",
         "y": [
          -1120,
          -1120,
          -1274.21875,
          -1274.21875
         ],
         "yaxis": "y"
        },
        {
         "hoverinfo": "text",
         "marker": {
          "color": "rgb(35,205,205)"
         },
         "mode": "lines",
         "text": [
          "cunt_knncb_wfh_fkn_kkj",
          "",
          "",
          "kao_tcm_khaw_qian_wahhh"
         ],
         "type": "scatter",
         "x": [
          0,
          0.9093205128438351,
          0.9093205128438351,
          0
         ],
         "xaxis": "x",
         "y": [
          -1465,
          -1465,
          -1475,
          -1475
         ],
         "yaxis": "y"
        },
        {
         "hoverinfo": "text",
         "marker": {
          "color": "rgb(35,205,205)"
         },
         "mode": "lines",
         "text": [
          "milf_stupid_silly_bum_goddamn",
          "",
          "",
          "generals_hahahahahahahhahahha_lmao_lol_wfh"
         ],
         "type": "scatter",
         "x": [
          0,
          0.933336952193395,
          0.933336952193395,
          0.9093205128438351
         ],
         "xaxis": "x",
         "y": [
          -1455,
          -1455,
          -1470,
          -1470
         ],
         "yaxis": "y"
        },
        {
         "hoverinfo": "text",
         "marker": {
          "color": "rgb(35,205,205)"
         },
         "mode": "lines",
         "text": [
          "crappy_fcked_howunsingaporean_spooktober_punggol",
          "",
          "",
          "lmao_fucccccccck_cul_reply_dk"
         ],
         "type": "scatter",
         "x": [
          0,
          0.9040368282147474,
          0.9040368282147474,
          0
         ],
         "xaxis": "x",
         "y": [
          -1485,
          -1485,
          -1495,
          -1495
         ],
         "yaxis": "y"
        },
        {
         "hoverinfo": "text",
         "marker": {
          "color": "rgb(35,205,205)"
         },
         "mode": "lines",
         "text": [
          "crappy_fcked_howunsingaporean_spooktober_punggol",
          "",
          "",
          "link_links_oy_hic_shill"
         ],
         "type": "scatter",
         "x": [
          0.9040368282147474,
          0.9183099946085275,
          0.9183099946085275,
          0
         ],
         "xaxis": "x",
         "y": [
          -1490,
          -1490,
          -1505,
          -1505
         ],
         "yaxis": "y"
        },
        {
         "hoverinfo": "text",
         "marker": {
          "color": "rgb(35,205,205)"
         },
         "mode": "lines",
         "text": [
          "crappy_fcked_howunsingaporean_spooktober_punggol",
          "",
          "",
          "link_links_oy_hic_shill"
         ],
         "type": "scatter",
         "x": [
          0.933336952193395,
          0.9559336630426264,
          0.9559336630426264,
          0.9183099946085275
         ],
         "xaxis": "x",
         "y": [
          -1462.5,
          -1462.5,
          -1497.5,
          -1497.5
         ],
         "yaxis": "y"
        },
        {
         "hoverinfo": "text",
         "marker": {
          "color": "rgb(35,205,205)"
         },
         "mode": "lines",
         "text": [
          "wtf_wow_lol_aptly_ohh",
          "",
          "",
          "fearlessness_fear_intimidates_shame_missing"
         ],
         "type": "scatter",
         "x": [
          0,
          0.8328645573765123,
          0.8328645573765123,
          0
         ],
         "xaxis": "x",
         "y": [
          -1525,
          -1525,
          -1535,
          -1535
         ],
         "yaxis": "y"
        },
        {
         "hoverinfo": "text",
         "marker": {
          "color": "rgb(35,205,205)"
         },
         "mode": "lines",
         "text": [
          "fear_cheating_loser_shame_cheat",
          "",
          "",
          "triggered_lmao_stirred_ragehead_wusg"
         ],
         "type": "scatter",
         "x": [
          0.8328645573765123,
          0.8585060929495387,
          0.8585060929495387,
          0
         ],
         "xaxis": "x",
         "y": [
          -1530,
          -1530,
          -1545,
          -1545
         ],
         "yaxis": "y"
        },
        {
         "hoverinfo": "text",
         "marker": {
          "color": "rgb(35,205,205)"
         },
         "mode": "lines",
         "text": [
          "fear_cheating_loser_shame_cheat",
          "",
          "",
          "account_apologise_apology_apologize_httpsimgurcoma332guamhttpsimgurcoma332guam"
         ],
         "type": "scatter",
         "x": [
          0.8585060929495387,
          0.877105623032516,
          0.877105623032516,
          0
         ],
         "xaxis": "x",
         "y": [
          -1537.5,
          -1537.5,
          -1555,
          -1555
         ],
         "yaxis": "y"
        },
        {
         "hoverinfo": "text",
         "marker": {
          "color": "rgb(35,205,205)"
         },
         "mode": "lines",
         "text": [
          "lololol_tooooooo_ccp_cocksucker_scs",
          "",
          "",
          "account_apologise_apology_apologize_httpsimgurcoma332guamhttpsimgurcoma332guam"
         ],
         "type": "scatter",
         "x": [
          0,
          0.8968970453095448,
          0.8968970453095448,
          0.877105623032516
         ],
         "xaxis": "x",
         "y": [
          -1515,
          -1515,
          -1546.25,
          -1546.25
         ],
         "yaxis": "y"
        },
        {
         "hoverinfo": "text",
         "marker": {
          "color": "rgb(35,205,205)"
         },
         "mode": "lines",
         "text": [
          "lololol_tooooooo_ccp_cocksucker_scs",
          "",
          "",
          "faggort_ufatasian3_martinez_fuckups_martin"
         ],
         "type": "scatter",
         "x": [
          0.8968970453095448,
          0.9170272094164349,
          0.9170272094164349,
          0
         ],
         "xaxis": "x",
         "y": [
          -1530.625,
          -1530.625,
          -1565,
          -1565
         ],
         "yaxis": "y"
        },
        {
         "hoverinfo": "text",
         "marker": {
          "color": "rgb(35,205,205)"
         },
         "mode": "lines",
         "text": [
          "lololol_tooooooo_ccp_cocksucker_scs",
          "",
          "",
          "faggort_ufatasian3_martinez_fuckups_martin"
         ],
         "type": "scatter",
         "x": [
          0.9559336630426264,
          0.9640016057928363,
          0.9640016057928363,
          0.9170272094164349
         ],
         "xaxis": "x",
         "y": [
          -1480,
          -1480,
          -1547.8125,
          -1547.8125
         ],
         "yaxis": "y"
        },
        {
         "hoverinfo": "text",
         "marker": {
          "color": "rgb(35,205,205)"
         },
         "mode": "lines",
         "text": [
          "wahahaha_joke_bro_ahahaha_motherfuckshit",
          "",
          "",
          "populist_politicians_politician_political_politically"
         ],
         "type": "scatter",
         "x": [
          0,
          0.9150851511005982,
          0.9150851511005982,
          0
         ],
         "xaxis": "x",
         "y": [
          -1585,
          -1585,
          -1595,
          -1595
         ],
         "yaxis": "y"
        },
        {
         "hoverinfo": "text",
         "marker": {
          "color": "rgb(35,205,205)"
         },
         "mode": "lines",
         "text": [
          "downvote_downvotes_downvoted_downvoter_downvoting",
          "",
          "",
          "populist_fascistic_politicians_politician_political"
         ],
         "type": "scatter",
         "x": [
          0,
          0.9288021183572046,
          0.9288021183572046,
          0.9150851511005982
         ],
         "xaxis": "x",
         "y": [
          -1575,
          -1575,
          -1590,
          -1590
         ],
         "yaxis": "y"
        },
        {
         "hoverinfo": "text",
         "marker": {
          "color": "rgb(35,205,205)"
         },
         "mode": "lines",
         "text": [
          "downvote_downvotes_downvoted_downvoter_downvoting",
          "",
          "",
          "troll_trolling_trolls_trolled_stupids"
         ],
         "type": "scatter",
         "x": [
          0.9288021183572046,
          0.9482953548914028,
          0.9482953548914028,
          0
         ],
         "xaxis": "x",
         "y": [
          -1582.5,
          -1582.5,
          -1605,
          -1605
         ],
         "yaxis": "y"
        },
        {
         "hoverinfo": "text",
         "marker": {
          "color": "rgb(35,205,205)"
         },
         "mode": "lines",
         "text": [
          "downvote_downvotes_downvoted_downvoter_downvoting",
          "",
          "",
          "troll_trolling_trolls_trolled_stupids"
         ],
         "type": "scatter",
         "x": [
          0.9640016057928363,
          0.9804562177799654,
          0.9804562177799654,
          0.9482953548914028
         ],
         "xaxis": "x",
         "y": [
          -1513.90625,
          -1513.90625,
          -1593.75,
          -1593.75
         ],
         "yaxis": "y"
        },
        {
         "hoverinfo": "text",
         "marker": {
          "color": "rgb(133,20,75)"
         },
         "mode": "lines",
         "text": [
          "social_wtf_community_societies_4channer",
          "",
          "",
          "society_social_societiescountries_sociable_friendssocial"
         ],
         "type": "scatter",
         "x": [
          0,
          0.8504978660071347,
          0.8504978660071347,
          0
         ],
         "xaxis": "x",
         "y": [
          -1615,
          -1615,
          -1625,
          -1625
         ],
         "yaxis": "y"
        },
        {
         "hoverinfo": "text",
         "marker": {
          "color": "rgb(133,20,75)"
         },
         "mode": "lines",
         "text": [
          "society_social_societiescountries_friendssocial_community",
          "",
          "",
          "groups_group_others_peopleforeignersexpats_friends"
         ],
         "type": "scatter",
         "x": [
          0.8504978660071347,
          0.8707199641301403,
          0.8707199641301403,
          0
         ],
         "xaxis": "x",
         "y": [
          -1620,
          -1620,
          -1635,
          -1635
         ],
         "yaxis": "y"
        },
        {
         "hoverinfo": "text",
         "marker": {
          "color": "rgb(0,116,217)"
         },
         "mode": "lines",
         "text": [
          "society_social_societiescountries_friendssocial_community",
          "",
          "",
          "society_communities_social_community_friendssocial"
         ],
         "type": "scatter",
         "x": [
          0.9804562177799654,
          1.0587091542452125,
          1.0587091542452125,
          0.8707199641301403
         ],
         "xaxis": "x",
         "y": [
          -1553.828125,
          -1553.828125,
          -1627.5,
          -1627.5
         ],
         "yaxis": "y"
        },
        {
         "hoverinfo": "text",
         "marker": {
          "color": "rgb(0,116,217)"
         },
         "mode": "lines",
         "text": [
          "society_social_societiescountries_friendssocial_community",
          "",
          "",
          "society_communities_social_community_friendssocial"
         ],
         "type": "scatter",
         "x": [
          1.145974039121344,
          1.167809620069066,
          1.167809620069066,
          1.0587091542452125
         ],
         "xaxis": "x",
         "y": [
          -1197.109375,
          -1197.109375,
          -1590.6640625,
          -1590.6640625
         ],
         "yaxis": "y"
        },
        {
         "hoverinfo": "text",
         "marker": {
          "color": "rgb(0,116,217)"
         },
         "mode": "lines",
         "text": [
          "society_social_societiescountries_friendssocial_community",
          "",
          "",
          "society_communities_social_community_friendssocial"
         ],
         "type": "scatter",
         "x": [
          1.3109129971347955,
          1.3584776044055364,
          1.3584776044055364,
          1.167809620069066
         ],
         "xaxis": "x",
         "y": [
          -279.24163818359375,
          -279.24163818359375,
          -1393.88671875,
          -1393.88671875
         ],
         "yaxis": "y"
        },
        {
         "hoverinfo": "text",
         "marker": {
          "color": "rgb(255,220,0)"
         },
         "mode": "lines",
         "text": [
          "balls_sperm_dildos_genitals_ironically",
          "",
          "",
          "balls_ballsy_bola_ball_balled"
         ],
         "type": "scatter",
         "x": [
          0,
          0.5248244235419768,
          0.5248244235419768,
          0
         ],
         "xaxis": "x",
         "y": [
          -1645,
          -1645,
          -1655,
          -1655
         ],
         "yaxis": "y"
        },
        {
         "hoverinfo": "text",
         "marker": {
          "color": "rgb(255,220,0)"
         },
         "mode": "lines",
         "text": [
          "balls_ballsy_bola_balled_dick",
          "",
          "",
          "anal_pussy_ass_shitting_dick"
         ],
         "type": "scatter",
         "x": [
          0.5248244235419768,
          0.795906575327937,
          0.795906575327937,
          0
         ],
         "xaxis": "x",
         "y": [
          -1650,
          -1650,
          -1665,
          -1665
         ],
         "yaxis": "y"
        },
        {
         "hoverinfo": "text",
         "marker": {
          "color": "rgb(0,116,217)"
         },
         "mode": "lines",
         "text": [
          "balls_ballsy_bola_balled_dick",
          "",
          "",
          "balls_ballsy_ball_balled_pussy"
         ],
         "type": "scatter",
         "x": [
          1.3584776044055364,
          1.3989914113090367,
          1.3989914113090367,
          0.795906575327937
         ],
         "xaxis": "x",
         "y": [
          -836.5641784667969,
          -836.5641784667969,
          -1657.5,
          -1657.5
         ],
         "yaxis": "y"
        },
        {
         "hoverinfo": "text",
         "marker": {
          "color": "rgb(0,116,217)"
         },
         "mode": "lines",
         "text": [
          "balls_ballsy_bola_balled_dick",
          "",
          "",
          "balls_ballsy_ball_balled_pussy"
         ],
         "type": "scatter",
         "x": [
          0.9393863443099223,
          1.4069912755780296,
          1.4069912755780296,
          1.3989914113090367
         ],
         "xaxis": "x",
         "y": [
          -36.09375,
          -36.09375,
          -1247.0320892333984,
          -1247.0320892333984
         ],
         "yaxis": "y"
        },
        {
         "hoverinfo": "text",
         "marker": {
          "color": "rgb(40,35,35)"
         },
         "mode": "lines",
         "text": [
          "parents_parent_family_dad_daughters",
          "",
          "",
          "parents_children_kids_family_child"
         ],
         "type": "scatter",
         "x": [
          0,
          0.6731376841182934,
          0.6731376841182934,
          0
         ],
         "xaxis": "x",
         "y": [
          -1695,
          -1695,
          -1705,
          -1705
         ],
         "yaxis": "y"
        },
        {
         "hoverinfo": "text",
         "marker": {
          "color": "rgb(40,35,35)"
         },
         "mode": "lines",
         "text": [
          "childishness_kid_kids_childs_child",
          "",
          "",
          "parents_parent_families_family_dad"
         ],
         "type": "scatter",
         "x": [
          0,
          0.788966907382183,
          0.788966907382183,
          0.6731376841182934
         ],
         "xaxis": "x",
         "y": [
          -1685,
          -1685,
          -1700,
          -1700
         ],
         "yaxis": "y"
        },
        {
         "hoverinfo": "text",
         "marker": {
          "color": "rgb(40,35,35)"
         },
         "mode": "lines",
         "text": [
          "tattoos_tattoo_nerdy_naked_ahaha",
          "",
          "",
          "parents_parent_family_childs_dad"
         ],
         "type": "scatter",
         "x": [
          0,
          0.9013917814242237,
          0.9013917814242237,
          0.788966907382183
         ],
         "xaxis": "x",
         "y": [
          -1675,
          -1675,
          -1692.5,
          -1692.5
         ],
         "yaxis": "y"
        },
        {
         "hoverinfo": "text",
         "marker": {
          "color": "rgb(61,153,112)"
         },
         "mode": "lines",
         "text": [
          "dad_father_dads_baba_parents",
          "",
          "",
          "momma_moms_mommy_mom_mother"
         ],
         "type": "scatter",
         "x": [
          0,
          0.7830321033279075,
          0.7830321033279075,
          0
         ],
         "xaxis": "x",
         "y": [
          -1715,
          -1715,
          -1725,
          -1725
         ],
         "yaxis": "y"
        },
        {
         "hoverinfo": "text",
         "marker": {
          "color": "rgb(0,116,217)"
         },
         "mode": "lines",
         "text": [
          "parents_parent_childs_kids_children",
          "",
          "",
          "momma_mommy_mom_moms_mummy"
         ],
         "type": "scatter",
         "x": [
          0.9013917814242237,
          1.0132626702132703,
          1.0132626702132703,
          0.7830321033279075
         ],
         "xaxis": "x",
         "y": [
          -1683.75,
          -1683.75,
          -1720,
          -1720
         ],
         "yaxis": "y"
        },
        {
         "hoverinfo": "text",
         "marker": {
          "color": "rgb(255,65,54)"
         },
         "mode": "lines",
         "text": [
          "older_grandma_younger_oldest_grandmother",
          "",
          "",
          "boomers_millennials_boomer_millenials_millennial"
         ],
         "type": "scatter",
         "x": [
          0,
          0.7373069114517541,
          0.7373069114517541,
          0
         ],
         "xaxis": "x",
         "y": [
          -1745,
          -1745,
          -1755,
          -1755
         ],
         "yaxis": "y"
        },
        {
         "hoverinfo": "text",
         "marker": {
          "color": "rgb(255,65,54)"
         },
         "mode": "lines",
         "text": [
          "boomers_boomer_millennials_millenials_millennial",
          "",
          "",
          "youths_youth_youngsters_teenagers_adolescent"
         ],
         "type": "scatter",
         "x": [
          0.7373069114517541,
          0.8305103027524013,
          0.8305103027524013,
          0
         ],
         "xaxis": "x",
         "y": [
          -1750,
          -1750,
          -1765,
          -1765
         ],
         "yaxis": "y"
        },
        {
         "hoverinfo": "text",
         "marker": {
          "color": "rgb(255,65,54)"
         },
         "mode": "lines",
         "text": [
          "age_aged_underaged_20s_adult",
          "",
          "",
          "youths_youth_youngsters_teenagers_adolescent"
         ],
         "type": "scatter",
         "x": [
          0,
          0.8489651781814989,
          0.8489651781814989,
          0.8305103027524013
         ],
         "xaxis": "x",
         "y": [
          -1735,
          -1735,
          -1757.5,
          -1757.5
         ],
         "yaxis": "y"
        },
        {
         "hoverinfo": "text",
         "marker": {
          "color": "rgb(255,65,54)"
         },
         "mode": "lines",
         "text": [
          "elderly_retirements_seniors_older_old",
          "",
          "",
          "elderly_seniors_old_senior_aunties"
         ],
         "type": "scatter",
         "x": [
          0,
          0.6979087354806176,
          0.6979087354806176,
          0
         ],
         "xaxis": "x",
         "y": [
          -1775,
          -1775,
          -1785,
          -1785
         ],
         "yaxis": "y"
        },
        {
         "hoverinfo": "text",
         "marker": {
          "color": "rgb(255,65,54)"
         },
         "mode": "lines",
         "text": [
          "boomers_boomer_millennials_millenials_millennial",
          "",
          "",
          "elderly_retirements_seniors_retirement_old"
         ],
         "type": "scatter",
         "x": [
          0.8489651781814989,
          0.9663369407593568,
          0.9663369407593568,
          0.6979087354806176
         ],
         "xaxis": "x",
         "y": [
          -1746.25,
          -1746.25,
          -1780,
          -1780
         ],
         "yaxis": "y"
        },
        {
         "hoverinfo": "text",
         "marker": {
          "color": "rgb(0,116,217)"
         },
         "mode": "lines",
         "text": [
          "boomers_boomer_millennials_millenials_millennial",
          "",
          "",
          "boomers_millennials_boomer_millenials_millennial"
         ],
         "type": "scatter",
         "x": [
          1.0132626702132703,
          1.2859521865854449,
          1.2859521865854449,
          0.9663369407593568
         ],
         "xaxis": "x",
         "y": [
          -1701.875,
          -1701.875,
          -1763.125,
          -1763.125
         ],
         "yaxis": "y"
        },
        {
         "hoverinfo": "text",
         "marker": {
          "color": "rgb(35,205,205)"
         },
         "mode": "lines",
         "text": [
          "girl_girly_girls_boy_girl²",
          "",
          "",
          "girls_gf_girl_ugly_guys"
         ],
         "type": "scatter",
         "x": [
          0,
          0.6273959207173537,
          0.6273959207173537,
          0
         ],
         "xaxis": "x",
         "y": [
          -1805,
          -1805,
          -1815,
          -1815
         ],
         "yaxis": "y"
        },
        {
         "hoverinfo": "text",
         "marker": {
          "color": "rgb(35,205,205)"
         },
         "mode": "lines",
         "text": [
          "girl_girls_prostitute_girlfriends_whore",
          "",
          "",
          "girl_girls_girly_girl²_ladies"
         ],
         "type": "scatter",
         "x": [
          0,
          0.7917088747534415,
          0.7917088747534415,
          0.6273959207173537
         ],
         "xaxis": "x",
         "y": [
          -1795,
          -1795,
          -1810,
          -1810
         ],
         "yaxis": "y"
        },
        {
         "hoverinfo": "text",
         "marker": {
          "color": "rgb(61,153,112)"
         },
         "mode": "lines",
         "text": [
          "abortion_maternity_abort_pregnancies_pregnancy",
          "",
          "",
          "birthrate_retirement_birthing_women_offspring"
         ],
         "type": "scatter",
         "x": [
          0,
          0.750076033164351,
          0.750076033164351,
          0
         ],
         "xaxis": "x",
         "y": [
          -1835,
          -1835,
          -1845,
          -1845
         ],
         "yaxis": "y"
        },
        {
         "hoverinfo": "text",
         "marker": {
          "color": "rgb(61,153,112)"
         },
         "mode": "lines",
         "text": [
          "abortions_abortion_abortionist_abort_pregnancy",
          "",
          "",
          "abortion_maternity_abort_pregnancy_paternity"
         ],
         "type": "scatter",
         "x": [
          0,
          0.8709067297019786,
          0.8709067297019786,
          0.750076033164351
         ],
         "xaxis": "x",
         "y": [
          -1825,
          -1825,
          -1840,
          -1840
         ],
         "yaxis": "y"
        },
        {
         "hoverinfo": "text",
         "marker": {
          "color": "rgb(255,65,54)"
         },
         "mode": "lines",
         "text": [
          "sexism_feminism_sexist_feminists_feminist",
          "",
          "",
          "female_woman_females_women_ladies"
         ],
         "type": "scatter",
         "x": [
          0,
          0.6011649926584471,
          0.6011649926584471,
          0
         ],
         "xaxis": "x",
         "y": [
          -1865,
          -1865,
          -1875,
          -1875
         ],
         "yaxis": "y"
        },
        {
         "hoverinfo": "text",
         "marker": {
          "color": "rgb(255,65,54)"
         },
         "mode": "lines",
         "text": [
          "females_women_girls_dating_female",
          "",
          "",
          "sexism_feminism_feminists_sexist_feminist"
         ],
         "type": "scatter",
         "x": [
          0,
          0.7898169432530898,
          0.7898169432530898,
          0.6011649926584471
         ],
         "xaxis": "x",
         "y": [
          -1855,
          -1855,
          -1870,
          -1870
         ],
         "yaxis": "y"
        },
        {
         "hoverinfo": "text",
         "marker": {
          "color": "rgb(255,65,54)"
         },
         "mode": "lines",
         "text": [
          "women_womens_females_ladies_female",
          "",
          "",
          "misogyny_misogynist_women_nsmen_woman"
         ],
         "type": "scatter",
         "x": [
          0.7898169432530898,
          0.8778987120859535,
          0.8778987120859535,
          0
         ],
         "xaxis": "x",
         "y": [
          -1862.5,
          -1862.5,
          -1885,
          -1885
         ],
         "yaxis": "y"
        },
        {
         "hoverinfo": "text",
         "marker": {
          "color": "rgb(0,116,217)"
         },
         "mode": "lines",
         "text": [
          "abortion_abortions_abort_maternity_pregnancy",
          "",
          "",
          "womens_women_females_ladies_feminists"
         ],
         "type": "scatter",
         "x": [
          0.8709067297019786,
          1.0833947046537395,
          1.0833947046537395,
          0.8778987120859535
         ],
         "xaxis": "x",
         "y": [
          -1832.5,
          -1832.5,
          -1873.75,
          -1873.75
         ],
         "yaxis": "y"
        },
        {
         "hoverinfo": "text",
         "marker": {
          "color": "rgb(35,205,205)"
         },
         "mode": "lines",
         "text": [
          "wife_wives_wifemothersister_spouse_mistress",
          "",
          "",
          "marriage_marrying_marriages_marry_married"
         ],
         "type": "scatter",
         "x": [
          0,
          0.777372489121578,
          0.777372489121578,
          0
         ],
         "xaxis": "x",
         "y": [
          -1895,
          -1895,
          -1905,
          -1905
         ],
         "yaxis": "y"
        },
        {
         "hoverinfo": "text",
         "marker": {
          "color": "rgb(0,116,217)"
         },
         "mode": "lines",
         "text": [
          "wife_wives_wifemothersister_spouse_mistress",
          "",
          "",
          "wife_wives_mistress_spouse_husband"
         ],
         "type": "scatter",
         "x": [
          1.0833947046537395,
          1.1159806634534888,
          1.1159806634534888,
          0.777372489121578
         ],
         "xaxis": "x",
         "y": [
          -1853.125,
          -1853.125,
          -1900,
          -1900
         ],
         "yaxis": "y"
        },
        {
         "hoverinfo": "text",
         "marker": {
          "color": "rgb(0,116,217)"
         },
         "mode": "lines",
         "text": [
          "girl_girls_girly_girl²_girlfriends",
          "",
          "",
          "wife_wives_mistress_spouse_husband"
         ],
         "type": "scatter",
         "x": [
          0.7917088747534415,
          1.2800008786570145,
          1.2800008786570145,
          1.1159806634534888
         ],
         "xaxis": "x",
         "y": [
          -1802.5,
          -1802.5,
          -1876.5625,
          -1876.5625
         ],
         "yaxis": "y"
        },
        {
         "hoverinfo": "text",
         "marker": {
          "color": "rgb(0,116,217)"
         },
         "mode": "lines",
         "text": [
          "girl_girls_girly_girl²_girlfriends",
          "",
          "",
          "wife_wives_mistress_spouse_husband"
         ],
         "type": "scatter",
         "x": [
          1.2859521865854449,
          1.397752837651965,
          1.397752837651965,
          1.2800008786570145
         ],
         "xaxis": "x",
         "y": [
          -1732.5,
          -1732.5,
          -1839.53125,
          -1839.53125
         ],
         "yaxis": "y"
        },
        {
         "hoverinfo": "text",
         "marker": {
          "color": "rgb(133,20,75)"
         },
         "mode": "lines",
         "text": [
          "motorcyclists_cyclists_cyclist_biker_bicycle",
          "",
          "",
          "singaporeans_cars_singaporean_drivers_singapore"
         ],
         "type": "scatter",
         "x": [
          0,
          0.5252213907399974,
          0.5252213907399974,
          0
         ],
         "xaxis": "x",
         "y": [
          -1925,
          -1925,
          -1935,
          -1935
         ],
         "yaxis": "y"
        },
        {
         "hoverinfo": "text",
         "marker": {
          "color": "rgb(133,20,75)"
         },
         "mode": "lines",
         "text": [
          "bus_buses_busesmrts_minibus_busses",
          "",
          "",
          "drivers_driver_cyclists_driving_cyclist"
         ],
         "type": "scatter",
         "x": [
          0,
          0.8972329387533521,
          0.8972329387533521,
          0.5252213907399974
         ],
         "xaxis": "x",
         "y": [
          -1915,
          -1915,
          -1930,
          -1930
         ],
         "yaxis": "y"
        },
        {
         "hoverinfo": "text",
         "marker": {
          "color": "rgb(255,220,0)"
         },
         "mode": "lines",
         "text": [
          "suicides_suicide_suicidal_depression_depressionthey",
          "",
          "",
          "liew_clh_leon_leong_lone"
         ],
         "type": "scatter",
         "x": [
          0,
          0.791641014641087,
          0.791641014641087,
          0
         ],
         "xaxis": "x",
         "y": [
          -1955,
          -1955,
          -1965,
          -1965
         ],
         "yaxis": "y"
        },
        {
         "hoverinfo": "text",
         "marker": {
          "color": "rgb(255,220,0)"
         },
         "mode": "lines",
         "text": [
          "firearms_airsoft_bullets_ammo_bomb",
          "",
          "",
          "suicide_suicidal_suicides_depression_depressionthey"
         ],
         "type": "scatter",
         "x": [
          0,
          0.9263682347987235,
          0.9263682347987235,
          0.791641014641087
         ],
         "xaxis": "x",
         "y": [
          -1945,
          -1945,
          -1960,
          -1960
         ],
         "yaxis": "y"
        },
        {
         "hoverinfo": "text",
         "marker": {
          "color": "rgb(40,35,35)"
         },
         "mode": "lines",
         "text": [
          "rape_rapist_rapists_raped_raping",
          "",
          "",
          "drugs_drug_drugsex_legalization_drugschaos"
         ],
         "type": "scatter",
         "x": [
          0,
          0.6492458672346206,
          0.6492458672346206,
          0
         ],
         "xaxis": "x",
         "y": [
          -1985,
          -1985,
          -1995,
          -1995
         ],
         "yaxis": "y"
        },
        {
         "hoverinfo": "text",
         "marker": {
          "color": "rgb(40,35,35)"
         },
         "mode": "lines",
         "text": [
          "jail_prison_imprisonment_prisoners_penalty",
          "",
          "",
          "rapist_rape_rapists_raped_jail"
         ],
         "type": "scatter",
         "x": [
          0,
          0.8842764718121903,
          0.8842764718121903,
          0.6492458672346206
         ],
         "xaxis": "x",
         "y": [
          -1975,
          -1975,
          -1990,
          -1990
         ],
         "yaxis": "y"
        },
        {
         "hoverinfo": "text",
         "marker": {
          "color": "rgb(0,116,217)"
         },
         "mode": "lines",
         "text": [
          "suicide_suicidal_depression_depressionthey_depressed",
          "",
          "",
          "rapist_rape_rapists_raped_jail"
         ],
         "type": "scatter",
         "x": [
          0.9263682347987235,
          1.0972132722172216,
          1.0972132722172216,
          0.8842764718121903
         ],
         "xaxis": "x",
         "y": [
          -1952.5,
          -1952.5,
          -1982.5,
          -1982.5
         ],
         "yaxis": "y"
        },
        {
         "hoverinfo": "text",
         "marker": {
          "color": "rgb(61,153,112)"
         },
         "mode": "lines",
         "text": [
          "singaporeans_singaporean_singapores_singapore_foreigners",
          "",
          "",
          "chinese_china_mandarin_nonchinese_singaporean"
         ],
         "type": "scatter",
         "x": [
          0,
          0.4936603512023333,
          0.4936603512023333,
          0
         ],
         "xaxis": "x",
         "y": [
          -2025,
          -2025,
          -2035,
          -2035
         ],
         "yaxis": "y"
        },
        {
         "hoverinfo": "text",
         "marker": {
          "color": "rgb(61,153,112)"
         },
         "mode": "lines",
         "text": [
          "racists_racist_racism_racial_xenophobic",
          "",
          "",
          "voters_voting_ballot_vote_elections"
         ],
         "type": "scatter",
         "x": [
          0.4936603512023333,
          0.7254712699053806,
          0.7254712699053806,
          0
         ],
         "xaxis": "x",
         "y": [
          -2030,
          -2030,
          -2045,
          -2045
         ],
         "yaxis": "y"
        },
        {
         "hoverinfo": "text",
         "marker": {
          "color": "rgb(61,153,112)"
         },
         "mode": "lines",
         "text": [
          "taxes_tax_taxpayer_taxation_landlords",
          "",
          "",
          "chinese_china_mandarin_taiwan_singaporeans"
         ],
         "type": "scatter",
         "x": [
          0,
          0.8150437454084427,
          0.8150437454084427,
          0.7254712699053806
         ],
         "xaxis": "x",
         "y": [
          -2015,
          -2015,
          -2037.5,
          -2037.5
         ],
         "yaxis": "y"
        },
        {
         "hoverinfo": "text",
         "marker": {
          "color": "rgb(61,153,112)"
         },
         "mode": "lines",
         "text": [
          "religion_religious_religions_islam_muslim",
          "",
          "",
          "gays_gay_homosexuals_homos_homophobe"
         ],
         "type": "scatter",
         "x": [
          0,
          0.779820504708724,
          0.779820504708724,
          0
         ],
         "xaxis": "x",
         "y": [
          -2055,
          -2055,
          -2065,
          -2065
         ],
         "yaxis": "y"
        },
        {
         "hoverinfo": "text",
         "marker": {
          "color": "rgb(61,153,112)"
         },
         "mode": "lines",
         "text": [
          "chinese_china_mandarin_taiwan_indians",
          "",
          "",
          "gays_gay_homosexuality_homophobic_homosexual"
         ],
         "type": "scatter",
         "x": [
          0.8150437454084427,
          0.8869031474903707,
          0.8869031474903707,
          0.779820504708724
         ],
         "xaxis": "x",
         "y": [
          -2026.25,
          -2026.25,
          -2060,
          -2060
         ],
         "yaxis": "y"
        },
        {
         "hoverinfo": "text",
         "marker": {
          "color": "rgb(61,153,112)"
         },
         "mode": "lines",
         "text": [
          "banning_banned_ban_indians_indian",
          "",
          "",
          "gays_gay_homosexuality_homophobic_homosexual"
         ],
         "type": "scatter",
         "x": [
          0,
          0.9352928146217647,
          0.9352928146217647,
          0.8869031474903707
         ],
         "xaxis": "x",
         "y": [
          -2005,
          -2005,
          -2043.125,
          -2043.125
         ],
         "yaxis": "y"
        },
        {
         "hoverinfo": "text",
         "marker": {
          "color": "rgb(255,65,54)"
         },
         "mode": "lines",
         "text": [
          "malaysians_malaysian_malaysia_malays_malaymuslim",
          "",
          "",
          "families_family_familial_familythey_familyfriendly"
         ],
         "type": "scatter",
         "x": [
          0,
          0.8832614297270655,
          0.8832614297270655,
          0
         ],
         "xaxis": "x",
         "y": [
          -2075,
          -2075,
          -2085,
          -2085
         ],
         "yaxis": "y"
        },
        {
         "hoverinfo": "text",
         "marker": {
          "color": "rgb(0,116,217)"
         },
         "mode": "lines",
         "text": [
          "malaysians_malaysian_malaysia_malays_malaymuslim",
          "",
          "",
          "families_family_familythey_familyfriendly_marriagekids"
         ],
         "type": "scatter",
         "x": [
          0.9352928146217647,
          1.007538587010692,
          1.007538587010692,
          0.8832614297270655
         ],
         "xaxis": "x",
         "y": [
          -2024.0625,
          -2024.0625,
          -2080,
          -2080
         ],
         "yaxis": "y"
        },
        {
         "hoverinfo": "text",
         "marker": {
          "color": "rgb(35,205,205)"
         },
         "mode": "lines",
         "text": [
          "vaccines_vaccinations_vaccination_vaccinate_vaccine",
          "",
          "",
          "viruses_virus_virusdenier_infected_flu"
         ],
         "type": "scatter",
         "x": [
          0,
          0.7901547972342494,
          0.7901547972342494,
          0
         ],
         "xaxis": "x",
         "y": [
          -2105,
          -2105,
          -2115,
          -2115
         ],
         "yaxis": "y"
        },
        {
         "hoverinfo": "text",
         "marker": {
          "color": "rgb(35,205,205)"
         },
         "mode": "lines",
         "text": [
          "nurses_nurse_hospitals_patients_healthcare",
          "",
          "",
          "mask_masks_face_vaccines_vaccinate"
         ],
         "type": "scatter",
         "x": [
          0,
          0.915575952868117,
          0.915575952868117,
          0.7901547972342494
         ],
         "xaxis": "x",
         "y": [
          -2095,
          -2095,
          -2110,
          -2110
         ],
         "yaxis": "y"
        },
        {
         "hoverinfo": "text",
         "marker": {
          "color": "rgb(0,116,217)"
         },
         "mode": "lines",
         "text": [
          "nurses_nurse_hospitals_patients_healthcare",
          "",
          "",
          "mask_masks_face_vaccines_vaccinate"
         ],
         "type": "scatter",
         "x": [
          1.007538587010692,
          1.0659715228597697,
          1.0659715228597697,
          0.915575952868117
         ],
         "xaxis": "x",
         "y": [
          -2052.03125,
          -2052.03125,
          -2102.5,
          -2102.5
         ],
         "yaxis": "y"
        },
        {
         "hoverinfo": "text",
         "marker": {
          "color": "rgb(0,116,217)"
         },
         "mode": "lines",
         "text": [
          "nurses_nurse_hospitals_patients_healthcare",
          "",
          "",
          "mask_masks_face_vaccines_vaccinate"
         ],
         "type": "scatter",
         "x": [
          1.0972132722172216,
          1.1726303405861094,
          1.1726303405861094,
          1.0659715228597697
         ],
         "xaxis": "x",
         "y": [
          -1967.5,
          -1967.5,
          -2077.265625,
          -2077.265625
         ],
         "yaxis": "y"
        },
        {
         "hoverinfo": "text",
         "marker": {
          "color": "rgb(0,116,217)"
         },
         "mode": "lines",
         "text": [
          "driver_drivers_buses_taxis_taxi",
          "",
          "",
          "mask_masks_face_vaccines_vaccinate"
         ],
         "type": "scatter",
         "x": [
          0.8972329387533521,
          1.246904456738158,
          1.246904456738158,
          1.1726303405861094
         ],
         "xaxis": "x",
         "y": [
          -1922.5,
          -1922.5,
          -2022.3828125,
          -2022.3828125
         ],
         "yaxis": "y"
        },
        {
         "hoverinfo": "text",
         "marker": {
          "color": "rgb(61,153,112)"
         },
         "mode": "lines",
         "text": [
          "class_first_poor_third_uppermiddle",
          "",
          "",
          "middleclass_class_bourgeois_rich_classcant"
         ],
         "type": "scatter",
         "x": [
          0,
          0.8109866884954305,
          0.8109866884954305,
          0
         ],
         "xaxis": "x",
         "y": [
          -2125,
          -2125,
          -2135,
          -2135
         ],
         "yaxis": "y"
        },
        {
         "hoverinfo": "text",
         "marker": {
          "color": "rgb(255,65,54)"
         },
         "mode": "lines",
         "text": [
          "billionaire_riches_rich_poor_idiots",
          "",
          "",
          "rich_richest_wealthy_wealth_poor"
         ],
         "type": "scatter",
         "x": [
          0,
          0.7342742819953387,
          0.7342742819953387,
          0
         ],
         "xaxis": "x",
         "y": [
          -2145,
          -2145,
          -2155,
          -2155
         ],
         "yaxis": "y"
        },
        {
         "hoverinfo": "text",
         "marker": {
          "color": "rgb(255,65,54)"
         },
         "mode": "lines",
         "text": [
          "rich_richest_wealthy_wealth_poor",
          "",
          "",
          "donating_donate_donations_donation_donates"
         ],
         "type": "scatter",
         "x": [
          0.7342742819953387,
          0.8473334006820095,
          0.8473334006820095,
          0
         ],
         "xaxis": "x",
         "y": [
          -2150,
          -2150,
          -2165,
          -2165
         ],
         "yaxis": "y"
        },
        {
         "hoverinfo": "text",
         "marker": {
          "color": "rgb(0,116,217)"
         },
         "mode": "lines",
         "text": [
          "class_middleclass_classcant_poor_low",
          "",
          "",
          "rich_richest_wealthy_poor_poverty"
         ],
         "type": "scatter",
         "x": [
          0.8109866884954305,
          1.0379770946065054,
          1.0379770946065054,
          0.8473334006820095
         ],
         "xaxis": "x",
         "y": [
          -2130,
          -2130,
          -2157.5,
          -2157.5
         ],
         "yaxis": "y"
        },
        {
         "hoverinfo": "text",
         "marker": {
          "color": "rgb(35,205,205)"
         },
         "mode": "lines",
         "text": [
          "money_expensive_whack_pocket_budget",
          "",
          "",
          "dollars_cents_dollar_expensive_storage"
         ],
         "type": "scatter",
         "x": [
          0,
          0.8229423519361442,
          0.8229423519361442,
          0
         ],
         "xaxis": "x",
         "y": [
          -2175,
          -2175,
          -2185,
          -2185
         ],
         "yaxis": "y"
        },
        {
         "hoverinfo": "text",
         "marker": {
          "color": "rgb(35,205,205)"
         },
         "mode": "lines",
         "text": [
          "expensive_price_dollars_cost_save",
          "",
          "",
          "20k_2k_50k_6k_money"
         ],
         "type": "scatter",
         "x": [
          0.8229423519361442,
          0.8712332196856463,
          0.8712332196856463,
          0
         ],
         "xaxis": "x",
         "y": [
          -2180,
          -2180,
          -2195,
          -2195
         ],
         "yaxis": "y"
        },
        {
         "hoverinfo": "text",
         "marker": {
          "color": "rgb(35,205,205)"
         },
         "mode": "lines",
         "text": [
          "income_underpaying_salaries_slaverylevel_slavepeasant",
          "",
          "",
          "sell_broker_cash_money_sellmarket"
         ],
         "type": "scatter",
         "x": [
          0,
          0.9011534533066148,
          0.9011534533066148,
          0
         ],
         "xaxis": "x",
         "y": [
          -2215,
          -2215,
          -2225,
          -2225
         ],
         "yaxis": "y"
        },
        {
         "hoverinfo": "text",
         "marker": {
          "color": "rgb(35,205,205)"
         },
         "mode": "lines",
         "text": [
          "salary_earn_earning_earns_6k",
          "",
          "",
          "sell_broker_cash_money_sellmarket"
         ],
         "type": "scatter",
         "x": [
          0,
          0.9444558059825225,
          0.9444558059825225,
          0.9011534533066148
         ],
         "xaxis": "x",
         "y": [
          -2205,
          -2205,
          -2220,
          -2220
         ],
         "yaxis": "y"
        },
        {
         "hoverinfo": "text",
         "marker": {
          "color": "rgb(35,205,205)"
         },
         "mode": "lines",
         "text": [
          "scammers_urgh_scam_refund_bankrupt",
          "",
          "",
          "scammed_scammer_scam_scamming_scammers"
         ],
         "type": "scatter",
         "x": [
          0,
          0.8768105579921839,
          0.8768105579921839,
          0
         ],
         "xaxis": "x",
         "y": [
          -2235,
          -2235,
          -2245,
          -2245
         ],
         "yaxis": "y"
        },
        {
         "hoverinfo": "text",
         "marker": {
          "color": "rgb(35,205,205)"
         },
         "mode": "lines",
         "text": [
          "scammers_urgh_scam_refund_bankrupt",
          "",
          "",
          "jealous_envy_hahahahahha_scams_money"
         ],
         "type": "scatter",
         "x": [
          0.8768105579921839,
          0.9083357292085702,
          0.9083357292085702,
          0
         ],
         "xaxis": "x",
         "y": [
          -2240,
          -2240,
          -2255,
          -2255
         ],
         "yaxis": "y"
        },
        {
         "hoverinfo": "text",
         "marker": {
          "color": "rgb(35,205,205)"
         },
         "mode": "lines",
         "text": [
          "scammers_urgh_scam_refund_bankrupt",
          "",
          "",
          "jealous_envy_hahahahahha_scams_money"
         ],
         "type": "scatter",
         "x": [
          0.9444558059825225,
          0.9603263213821454,
          0.9603263213821454,
          0.9083357292085702
         ],
         "xaxis": "x",
         "y": [
          -2212.5,
          -2212.5,
          -2247.5,
          -2247.5
         ],
         "yaxis": "y"
        },
        {
         "hoverinfo": "text",
         "marker": {
          "color": "rgb(35,205,205)"
         },
         "mode": "lines",
         "text": [
          "buy_bought_expensive_money_buys",
          "",
          "",
          "jealous_envy_hahahahahha_scams_money"
         ],
         "type": "scatter",
         "x": [
          0.8712332196856463,
          0.9781039892625494,
          0.9781039892625494,
          0.9603263213821454
         ],
         "xaxis": "x",
         "y": [
          -2187.5,
          -2187.5,
          -2230,
          -2230
         ],
         "yaxis": "y"
        },
        {
         "hoverinfo": "text",
         "marker": {
          "color": "rgb(133,20,75)"
         },
         "mode": "lines",
         "text": [
          "boss_bossperson_bosses_colleague_office",
          "",
          "",
          "employers_employment_employer_jobs_employees"
         ],
         "type": "scatter",
         "x": [
          0,
          0.6598398980023861,
          0.6598398980023861,
          0
         ],
         "xaxis": "x",
         "y": [
          -2265,
          -2265,
          -2275,
          -2275
         ],
         "yaxis": "y"
        },
        {
         "hoverinfo": "text",
         "marker": {
          "color": "rgb(133,20,75)"
         },
         "mode": "lines",
         "text": [
          "employer_employers_employee_boss_employees",
          "",
          "",
          "ugh_idiot_boss_lool_sht"
         ],
         "type": "scatter",
         "x": [
          0.6598398980023861,
          0.8365321544959157,
          0.8365321544959157,
          0
         ],
         "xaxis": "x",
         "y": [
          -2270,
          -2270,
          -2285,
          -2285
         ],
         "yaxis": "y"
        },
        {
         "hoverinfo": "text",
         "marker": {
          "color": "rgb(0,116,217)"
         },
         "mode": "lines",
         "text": [
          "employer_employers_employee_boss_employees",
          "",
          "",
          "employer_employers_employee_boss_employees"
         ],
         "type": "scatter",
         "x": [
          0.9781039892625494,
          1.0504574823059925,
          1.0504574823059925,
          0.8365321544959157
         ],
         "xaxis": "x",
         "y": [
          -2208.75,
          -2208.75,
          -2277.5,
          -2277.5
         ],
         "yaxis": "y"
        },
        {
         "hoverinfo": "text",
         "marker": {
          "color": "rgb(255,220,0)"
         },
         "mode": "lines",
         "text": [
          "bill_rude_starhub_whymobile_fee",
          "",
          "",
          "customer_clientele_customers_client_httpswwwredditcomrsingaporecommentsmoo8bifoodpanda_support_allegedly_tells_customer_thatgu5ln8l"
         ],
         "type": "scatter",
         "x": [
          0,
          0.8639880724206956,
          0.8639880724206956,
          0
         ],
         "xaxis": "x",
         "y": [
          -2305,
          -2305,
          -2315,
          -2315
         ],
         "yaxis": "y"
        },
        {
         "hoverinfo": "text",
         "marker": {
          "color": "rgb(255,220,0)"
         },
         "mode": "lines",
         "text": [
          "customer_clientele_customers_client_httpswwwredditcomrsingaporecommentsmoo8bifoodpanda_support_allegedly_tells_customer_thatgu5ln8l",
          "",
          "",
          "stalked_tricky_poorly_employers_employer"
         ],
         "type": "scatter",
         "x": [
          0.8639880724206956,
          0.92018182706077,
          0.92018182706077,
          0
         ],
         "xaxis": "x",
         "y": [
          -2310,
          -2310,
          -2325,
          -2325
         ],
         "yaxis": "y"
        },
        {
         "hoverinfo": "text",
         "marker": {
          "color": "rgb(255,220,0)"
         },
         "mode": "lines",
         "text": [
          "peasantssilly_peasants_peasant_farmers_farmer",
          "",
          "",
          "stalked_tricky_poorly_employers_employer"
         ],
         "type": "scatter",
         "x": [
          0,
          0.9446197547817151,
          0.9446197547817151,
          0.92018182706077
         ],
         "xaxis": "x",
         "y": [
          -2295,
          -2295,
          -2317.5,
          -2317.5
         ],
         "yaxis": "y"
        },
        {
         "hoverinfo": "text",
         "marker": {
          "color": "rgb(255,220,0)"
         },
         "mode": "lines",
         "text": [
          "banking_bank_banks_dbs_untrustworthy",
          "",
          "",
          "dbs_dbspb_dbst_shittybank_hsbcs"
         ],
         "type": "scatter",
         "x": [
          0,
          0.7905707069018348,
          0.7905707069018348,
          0
         ],
         "xaxis": "x",
         "y": [
          -2335,
          -2335,
          -2345,
          -2345
         ],
         "yaxis": "y"
        },
        {
         "hoverinfo": "text",
         "marker": {
          "color": "rgb(255,220,0)"
         },
         "mode": "lines",
         "text": [
          "banking_bank_banks_dbs_untrustworthy",
          "",
          "",
          "shittybank_dbs_dbspb_banking_dbsv"
         ],
         "type": "scatter",
         "x": [
          0.9446197547817151,
          0.9973733170572379,
          0.9973733170572379,
          0.7905707069018348
         ],
         "xaxis": "x",
         "y": [
          -2306.25,
          -2306.25,
          -2340,
          -2340
         ],
         "yaxis": "y"
        },
        {
         "hoverinfo": "text",
         "marker": {
          "color": "rgb(0,116,217)"
         },
         "mode": "lines",
         "text": [
          "banking_bank_banks_dbs_untrustworthy",
          "",
          "",
          "shittybank_dbs_dbspb_banking_dbsv"
         ],
         "type": "scatter",
         "x": [
          1.0504574823059925,
          1.1093716626511299,
          1.1093716626511299,
          0.9973733170572379
         ],
         "xaxis": "x",
         "y": [
          -2243.125,
          -2243.125,
          -2323.125,
          -2323.125
         ],
         "yaxis": "y"
        },
        {
         "hoverinfo": "text",
         "marker": {
          "color": "rgb(0,116,217)"
         },
         "mode": "lines",
         "text": [
          "banking_bank_banks_dbs_untrustworthy",
          "",
          "",
          "shittybank_dbs_dbspb_banking_dbsv"
         ],
         "type": "scatter",
         "x": [
          1.0379770946065054,
          1.1653763392769558,
          1.1653763392769558,
          1.1093716626511299
         ],
         "xaxis": "x",
         "y": [
          -2143.75,
          -2143.75,
          -2283.125,
          -2283.125
         ],
         "yaxis": "y"
        },
        {
         "hoverinfo": "text",
         "marker": {
          "color": "rgb(0,116,217)"
         },
         "mode": "lines",
         "text": [
          "banking_bank_banks_dbs_untrustworthy",
          "",
          "",
          "shittybank_dbs_dbspb_banking_dbsv"
         ],
         "type": "scatter",
         "x": [
          1.246904456738158,
          1.2959639144781803,
          1.2959639144781803,
          1.1653763392769558
         ],
         "xaxis": "x",
         "y": [
          -1972.44140625,
          -1972.44140625,
          -2213.4375,
          -2213.4375
         ],
         "yaxis": "y"
        },
        {
         "hoverinfo": "text",
         "marker": {
          "color": "rgb(0,116,217)"
         },
         "mode": "lines",
         "text": [
          "banking_bank_banks_dbs_untrustworthy",
          "",
          "",
          "shittybank_dbs_dbspb_banking_dbsv"
         ],
         "type": "scatter",
         "x": [
          1.397752837651965,
          1.5074670524471232,
          1.5074670524471232,
          1.2959639144781803
         ],
         "xaxis": "x",
         "y": [
          -1786.015625,
          -1786.015625,
          -2092.939453125,
          -2092.939453125
         ],
         "yaxis": "y"
        },
        {
         "hoverinfo": "text",
         "marker": {
          "color": "rgb(0,116,217)"
         },
         "mode": "lines",
         "text": [
          "banking_bank_banks_dbs_untrustworthy",
          "",
          "",
          "shittybank_dbs_dbspb_banking_dbsv"
         ],
         "type": "scatter",
         "x": [
          1.4069912755780296,
          1.5848067353168878,
          1.5848067353168878,
          1.5074670524471232
         ],
         "xaxis": "x",
         "y": [
          -641.5629196166992,
          -641.5629196166992,
          -1939.4775390625,
          -1939.4775390625
         ],
         "yaxis": "y"
        },
        {
         "hoverinfo": "text",
         "hovertext": [
          "comment_commenter_commenting_comments_commented",
          "comment_commenter_commenting_comments_commented",
          "dumbfucks_idiots_stupidity_stupid_dumb",
          "cultural_culturally_culture_cultures_uncultured",
          "nations_countries_world_nation_nationalities",
          "asian_asiatic_asians_asia_japanese",
          "asian_asiatic_asians_asia_japanese",
          "english_englishi_language_languages_accents",
          "black_blackest_blacker_blacks_darkblack",
          "toilet_toilets_bathroom_handicapped_handicap",
          "eat_grabfood_meals_eats_meal",
          "seat_seats_sitting_wheelchair_chair",
          "seat_seats_sitting_wheelchair_chair",
          "adblock_adblocker_ads_advertiser_advert",
          "russia_russian_russians_российской_israeljews",
          "bot_bots_botox_robot_musibot",
          "pm_ready_singapore_singaporean_nonchinese",
          "pm_ready_singapore_singaporean_nonchinese",
          "pm_ready_singapore_singaporean_nonchinese",
          "cringe_cringey_cringefest_retarded_dickfuck",
          "salty_salt_salts_saltiness_sally",
          "salty_salt_salts_saltiness_sally",
          "salty_salt_salts_saltiness_sally",
          "salty_salt_salts_saltiness_sally",
          "army_stalk_serve_survives_life",
          "teachers_teacher_profs_prof_school",
          "castration_castrate_chemical_chemically_vasectomy",
          "toxic_toxicity_disinfectantcant_denigrate_septic",
          "toxic_toxicity_disinfectantcant_denigrate_septic",
          "lawyer_lawyering_lawyers_lawyerskarkia_prosecutor",
          "pigeons_pigeon_birds_cockatoos_owls",
          "pigeons_pigeon_birds_cockatoos_owls",
          "dog_dogs_dogwhistle_puppy_doggos",
          "brain_brains_braincell_braincells_brainwashed",
          "brain_brains_braincell_braincells_brainwashed",
          "gym_gymtoker_fitness_exercise_deadlift",
          "beer_beers_whisky_drinking_alcoholism",
          "beer_beers_whisky_drinking_alcoholism",
          "shoes_shoe_socks_boots_shoebox",
          "shoes_shoe_socks_boots_shoebox",
          "shoes_shoe_socks_boots_shoebox",
          "shoes_shoe_socks_boots_shoebox",
          "fat_overweight_skinny_obesity_obese",
          "fat_overweight_skinny_obesity_obese",
          "pants_panties_underwear_shorts_jeans",
          "pants_panties_underwear_shorts_jeans",
          "pants_panties_underwear_shorts_jeans",
          "pants_panties_underwear_shorts_jeans",
          "pants_panties_underwear_shorts_jeans",
          "shut_hang_gulag_geh_gcse",
          "loser_assholez_asshole_assholes_miserly",
          "selfish_selfrighteous_selfhating_selfesteem_selfdeclared",
          "selfish_selfrighteous_selfhating_selfesteem_selfdeclared",
          "bro_fucking_lol_shitbag_ewww",
          "bro_fucking_lol_shitbag_ewww",
          "desmond_teo_yog_josepine_sjw",
          "clownfuck_clown_clowns_fucking_shitdon",
          "clownfuck_clown_clowns_fucking_shitdon",
          "clownfuck_clown_clowns_fucking_shitdon",
          "lock_key_riddled_hole_tightballspoppingspandexes",
          "lock_key_riddled_hole_tightballspoppingspandexes",
          "sleep_sleeps_sleepy_sleepoverfor_sleeping",
          "homewrecker_home_oh_imh_pussy",
          "homewrecker_home_oh_imh_pussy",
          "homewrecker_home_oh_imh_pussy",
          "crappy_fcked_howunsingaporean_spooktober_punggol",
          "crappy_fcked_howunsingaporean_spooktober_punggol",
          "fear_cheating_loser_shame_cheat",
          "fear_cheating_loser_shame_cheat",
          "lololol_tooooooo_ccp_cocksucker_scs",
          "lololol_tooooooo_ccp_cocksucker_scs",
          "downvote_downvotes_downvoted_downvoter_downvoting",
          "downvote_downvotes_downvoted_downvoter_downvoting",
          "society_social_societiescountries_friendssocial_community",
          "society_social_societiescountries_friendssocial_community",
          "society_social_societiescountries_friendssocial_community",
          "society_social_societiescountries_friendssocial_community",
          "balls_ballsy_bola_balled_dick",
          "balls_ballsy_bola_balled_dick",
          "balls_ballsy_bola_balled_dick",
          "parents_parent_childs_kids_children",
          "boomers_boomer_millennials_millenials_millennial",
          "boomers_boomer_millennials_millenials_millennial",
          "boomers_boomer_millennials_millenials_millennial",
          "women_womens_females_ladies_female",
          "abortion_abortions_abort_maternity_pregnancy",
          "wife_wives_wifemothersister_spouse_mistress",
          "girl_girls_girly_girl²_girlfriends",
          "girl_girls_girly_girl²_girlfriends",
          "suicide_suicidal_depression_depressionthey_depressed",
          "racists_racist_racism_racial_xenophobic",
          "chinese_china_mandarin_taiwan_indians",
          "malaysians_malaysian_malaysia_malays_malaymuslim",
          "nurses_nurse_hospitals_patients_healthcare",
          "nurses_nurse_hospitals_patients_healthcare",
          "driver_drivers_buses_taxis_taxi",
          "rich_richest_wealthy_wealth_poor",
          "class_middleclass_classcant_poor_low",
          "expensive_price_dollars_cost_save",
          "scammers_urgh_scam_refund_bankrupt",
          "scammers_urgh_scam_refund_bankrupt",
          "buy_bought_expensive_money_buys",
          "employer_employers_employee_boss_employees",
          "employer_employers_employee_boss_employees",
          "customer_clientele_customers_client_httpswwwredditcomrsingaporecommentsmoo8bifoodpanda_support_allegedly_tells_customer_thatgu5ln8l",
          "banking_bank_banks_dbs_untrustworthy",
          "banking_bank_banks_dbs_untrustworthy",
          "banking_bank_banks_dbs_untrustworthy",
          "banking_bank_banks_dbs_untrustworthy",
          "banking_bank_banks_dbs_untrustworthy",
          "banking_bank_banks_dbs_untrustworthy"
         ],
         "marker": {
          "color": "black"
         },
         "mode": "markers",
         "showlegend": false,
         "type": "scatter",
         "x": [
          0.8375697056912811,
          0.8717334459673589,
          0.8567373736255535,
          0.8436386108062068,
          0.9240767032906261,
          0.5205391148608262,
          1.060679150310644,
          1.1606090739499482,
          0.5497445692109082,
          0.8878332022384948,
          0.8977851843478482,
          0.7385477376728242,
          1.1526201748557412,
          0.8624007982289879,
          0.9481160711410773,
          0.9844908316854017,
          0.9643813907773334,
          0.9843395104529219,
          1.0079272020095897,
          0.9792883263843372,
          0.9886994558381956,
          1.0151208591275556,
          1.0227891492855272,
          0.8623968658766328,
          0.9023016590933277,
          0.8905839519852768,
          0.9649879028077665,
          0.9471917546616064,
          0.9808327968624779,
          0.8859876341843907,
          0.947369409544189,
          0.9574536837823151,
          1.0013488811668834,
          0.9162240639359613,
          0.9857093142402603,
          0.975518688763695,
          1.0176203377804094,
          1.0298542900809016,
          1.0458063481545177,
          1.0464874150365835,
          1.0575005255422072,
          1.0365075176095064,
          0.9206148028759009,
          0.9738617125954168,
          0.7354313359294313,
          1.1409692575788521,
          1.1804764365099116,
          1.1652853585281775,
          1.2248340471229284,
          0.8823975207246243,
          0.9194298987817229,
          0.8790442612611488,
          0.9487415834708592,
          0.932835782702025,
          0.9851506635928209,
          0.9056581990862949,
          0.8952705570242562,
          0.9494815598407963,
          0.9983225487006171,
          0.8398795639908747,
          1.035487783528836,
          0.9092145894186793,
          1.0639810644275833,
          1.0799367769242205,
          1.0015685401103172,
          0.9040368282147474,
          0.933336952193395,
          0.8328645573765123,
          0.8585060929495387,
          0.8968970453095448,
          0.9559336630426264,
          0.9288021183572046,
          0.9640016057928363,
          0.8504978660071347,
          0.9804562177799654,
          1.145974039121344,
          1.3109129971347955,
          0.5248244235419768,
          1.3584776044055364,
          0.9393863443099223,
          0.9013917814242237,
          0.7373069114517541,
          0.8489651781814989,
          1.0132626702132703,
          0.7898169432530898,
          0.8709067297019786,
          1.0833947046537395,
          0.7917088747534415,
          1.2859521865854449,
          0.9263682347987235,
          0.4936603512023333,
          0.8150437454084427,
          0.9352928146217647,
          1.007538587010692,
          1.0972132722172216,
          0.8972329387533521,
          0.7342742819953387,
          0.8109866884954305,
          0.8229423519361442,
          0.8768105579921839,
          0.9444558059825225,
          0.8712332196856463,
          0.6598398980023861,
          0.9781039892625494,
          0.8639880724206956,
          0.9446197547817151,
          1.0504574823059925,
          1.0379770946065054,
          1.246904456738158,
          1.397752837651965,
          1.4069912755780296
         ],
         "y": [
          -33.75,
          -49.375,
          -10,
          -130,
          -93.75,
          -160,
          -115.625,
          -142.8125,
          -220,
          -292.5,
          -262.5,
          -330,
          -283.125,
          -370,
          -440,
          -436.25,
          -520,
          -492.5,
          -453.125,
          -552.5,
          -602.5,
          -566.25,
          -481.5625,
          -410,
          -690,
          -670,
          -752.5,
          -722.5,
          -683.75,
          -650,
          -870,
          -850,
          -863.75,
          -830,
          -802.5,
          -922.5,
          -937.5,
          -829.21875,
          -893.984375,
          -682.03125,
          -473.203125,
          -380,
          -1072.5,
          -1042.5,
          -1020,
          -511.9287109375,
          -311.5625,
          -230,
          -171.40625,
          -1110,
          -1200,
          -1180,
          -1152.5,
          -1270,
          -1242.5,
          -1310,
          -1340,
          -1317.5,
          -1261.25,
          -1370,
          -1296.875,
          -1413.75,
          -1337.1875,
          -1173.75,
          -1120,
          -1490,
          -1462.5,
          -1530,
          -1537.5,
          -1530.625,
          -1480,
          -1582.5,
          -1513.90625,
          -1620,
          -1553.828125,
          -1197.109375,
          -279.24163818359375,
          -1650,
          -836.5641784667969,
          -36.09375,
          -1683.75,
          -1750,
          -1746.25,
          -1701.875,
          -1862.5,
          -1832.5,
          -1853.125,
          -1802.5,
          -1732.5,
          -1952.5,
          -2030,
          -2026.25,
          -2024.0625,
          -2052.03125,
          -1967.5,
          -1922.5,
          -2150,
          -2130,
          -2180,
          -2240,
          -2212.5,
          -2187.5,
          -2270,
          -2208.75,
          -2310,
          -2306.25,
          -2243.125,
          -2143.75,
          -1972.44140625,
          -1786.015625,
          -641.5629196166992
         ]
        },
        {
         "hoverinfo": "text",
         "hovertext": [
          "dumb_stupid_dumbest_idiot_dumbass",
          "dumb_stupid_idiot_fool_dumbass",
          "butthurt_hahaha_笨蛋_hmmm_stupid",
          "country_africa_countries_countrys_african",
          "africa_african_africans_countries_countrys",
          "colonialists_colonialism_colonialist_colonial_colonialised",
          "japanese_japans_japan_koreans_korean",
          "asian_asians_asia_korean_japan",
          "english_british_language_languages_grammar",
          "police_policeman_cop_cops_polis",
          "food_grabfood_meals_foodpanda_meal",
          "toilet_toilets_bathroom_handicapped_handicap",
          "burns_burn_burnt_fire_flamethrower",
          "train_trains_httpsenmwikipediaorgwikitanjong_pagar_railway_station_station_escalator",
          "seat_seats_wheelchair_sitting_chair",
          "newscasters_newsworthy_news_fox_journalism",
          "nazi_nazis_nazism_nazists_hitler",
          "bot_bots_chatbots_robot_musibot",
          "laws_law_loi_legal_illegality",
          "pm_ready_singapore_singaporean_nonchinese",
          "pm_ready_singapore_singaporean_nonchinese",
          "mods_mod_moderators_moderator_moderatortobe",
          "virgin_virgins_virginity_cry_tears",
          "low_lower_lowincome_loud_louder",
          "cancer_cancerous_cancerously_ebola_testicular",
          "cancer_cancerous_cancerously_ebola_testicular",
          "cancer_cancerous_cancerously_ebola_testicular",
          "cancer_cancerous_cancerously_ebola_testicular",
          "infantry_battalions_commanders_ranks_fights",
          "toxic_toxicity_disinfectantcant_apologetic_onesided",
          "threats_fight_criminalhe_anonymous_intimidate",
          "prostitute_prostitutes_prostitution_nothing_hookers",
          "prostitute_prostitutes_prostitution_nothing_hookers",
          "prostitute_prostitutes_prostitution_nothing_hookers",
          "prostitute_prostitutes_prostitution_nothing_hookers",
          "schizophrenic_schizophrenia_psychiatric_psychotic_psychiatrist",
          "milk_latte_milkshakes_milking_lactose",
          "dogs_dog_puppy_dogwhistle_doggos",
          "dogs_dog_puppy_dogwhistle_doggos",
          "dogs_dog_puppy_dogwhistle_doggos",
          "cardboards_cardboard_cartman_neighbours_neighbour",
          "smell_smelly_smells_smelling_odor",
          "smell_smelly_smells_smelling_odor",
          "coffee_cafe_coffeecareer_starbuck_cafessome",
          "coffee_cafe_coffeecareer_starbuck_cafessome",
          "shoes_shoe_socks_boots_shoebox",
          "shoes_shoe_socks_boots_shoebox",
          "shoes_shoe_socks_boots_shoebox",
          "shoes_shoe_socks_boots_shoebox",
          "boobs_boob_breasts_breast_nipples",
          "fat_fatness_skinny_overweight_fatphobic",
          "fat_skinny_overweight_chubby_obesity",
          "fat_skinny_overweight_chubby_obesity",
          "fat_skinny_overweight_chubby_obesity",
          "fat_skinny_overweight_chubby_obesity",
          "fat_skinny_overweight_chubby_obesity",
          "fat_skinny_overweight_chubby_obesity",
          "death_dying_dead_kill_immortal",
          "cum_cocktease_sucking_deeserved_creampie",
          "pussy_dick_dicks_bitches_cock",
          "pussy_dick_dicks_bitches_cock",
          "pussy_dick_dicks_bitches_cock",
          "ccpee_jerbs_tiongcock_lick_ramitheasshole",
          "leftie_lefthanded_eeeewwwwwwwww_rightwingers_shitstorm",
          "leftie_lefthanded_eeeewwwwwwwww_rightwingers_shitstorm",
          "cb_kp_csm_fk_knncc",
          "cb_kp_csm_fk_knncc",
          "tiaktiaktiaktiak_bkk_tiak_omfg_cheebai",
          "sinkie_sinkies_nuts_slap_pwning",
          "sinkie_sinkies_nuts_slap_pwning",
          "nsf_365_motherfuckers_pofma_pwn",
          "nsf_365_motherfuckers_pofma_pwn",
          "nsf_365_motherfuckers_pofma_pwn",
          "nsf_365_motherfuckers_pofma_pwn",
          "generals_hahahahahahahhahahha_lmao_lol_wfh",
          "link_links_oy_hic_shill",
          "account_apologise_apology_apologize_httpsimgurcoma332guamhttpsimgurcoma332guam",
          "faggort_ufatasian3_martinez_fuckups_martin",
          "populist_fascistic_politicians_politician_political",
          "troll_trolling_trolls_trolled_stupids",
          "society_communities_social_community_friendssocial",
          "society_communities_social_community_friendssocial",
          "society_communities_social_community_friendssocial",
          "balls_ballsy_ball_balled_pussy",
          "balls_ballsy_ball_balled_pussy",
          "parents_parent_families_family_dad",
          "parents_parent_family_childs_dad",
          "momma_mommy_mom_moms_mummy",
          "youths_youth_youngsters_teenagers_adolescent",
          "elderly_retirements_seniors_retirement_old",
          "boomers_millennials_boomer_millenials_millennial",
          "girl_girls_girly_girl²_ladies",
          "abortion_maternity_abort_pregnancy_paternity",
          "sexism_feminism_feminists_sexist_feminist",
          "womens_women_females_ladies_feminists",
          "wife_wives_mistress_spouse_husband",
          "wife_wives_mistress_spouse_husband",
          "wife_wives_mistress_spouse_husband",
          "drivers_driver_cyclists_driving_cyclist",
          "suicide_suicidal_suicides_depression_depressionthey",
          "rapist_rape_rapists_raped_jail",
          "rapist_rape_rapists_raped_jail",
          "chinese_china_mandarin_taiwan_singaporeans",
          "gays_gay_homosexuality_homophobic_homosexual",
          "gays_gay_homosexuality_homophobic_homosexual",
          "families_family_familythey_familyfriendly_marriagekids",
          "mask_masks_face_vaccines_vaccinate",
          "mask_masks_face_vaccines_vaccinate",
          "mask_masks_face_vaccines_vaccinate",
          "mask_masks_face_vaccines_vaccinate",
          "rich_richest_wealthy_poor_poverty",
          "sell_broker_cash_money_sellmarket",
          "jealous_envy_hahahahahha_scams_money",
          "jealous_envy_hahahahahha_scams_money",
          "employer_employers_employee_boss_employees",
          "stalked_tricky_poorly_employers_employer",
          "shittybank_dbs_dbspb_banking_dbsv",
          "shittybank_dbs_dbspb_banking_dbsv",
          "shittybank_dbs_dbspb_banking_dbsv",
          "shittybank_dbs_dbspb_banking_dbsv",
          "shittybank_dbs_dbspb_banking_dbsv",
          "shittybank_dbs_dbspb_banking_dbsv"
         ],
         "marker": {
          "color": "black"
         },
         "mode": "markers",
         "showlegend": false,
         "type": "scatter",
         "x": [
          0.7018083179246339,
          0.7730345581461885,
          0.9034774854087075,
          0.8612012325361055,
          0.9096021960110552,
          0.9459724812888785,
          0.7959248377896138,
          1.0840430026482444,
          0.5250924834843156,
          0.6206176715880226,
          0.7786310686807434,
          0.8476262601979097,
          0.9365087435113041,
          0.7988883335507347,
          1.090507165500226,
          0.8200357639377156,
          0.9706464614607972,
          0.9477780340653692,
          0.9389533167053693,
          0.974918312996204,
          0.9995759788769116,
          0.9589462655098888,
          0.952548593097606,
          0.9189998118741421,
          0.9724257380061717,
          1.0030312665998604,
          1.020909023482675,
          1.0370104906529516,
          0.9506850619645225,
          0.9250478722682207,
          0.950325390957331,
          0.943281336584601,
          0.9922269096043287,
          1.0099326114730365,
          1.0223850317161367,
          0.8858859198176061,
          0.9873819217410048,
          0.9129300510325081,
          1.0138439906793133,
          1.0215107739492562,
          0.9113958792468876,
          0.9145691603542196,
          0.9785113815161547,
          0.8980867053598938,
          1.0306795538507791,
          0.8984761883690531,
          1.0586323494646626,
          1.0679199341903525,
          1.081198690311443,
          0.9305187444986931,
          0.846901357121555,
          0.9734294702523505,
          1.0154098173564137,
          1.0785985498789459,
          1.1852025192644735,
          1.1988390813710812,
          1.3018401999455138,
          0.8277962682222186,
          0.9017984675597005,
          0.8760012264114985,
          0.9691753784531085,
          1.0343922204961988,
          0.9665210365683464,
          0.9315509457666967,
          0.9674255220204102,
          0.9385395925032063,
          0.983188089026868,
          0.8919901646273487,
          0.8006686623262931,
          0.892302438168807,
          0.9251154743460511,
          0.9493277352811227,
          1.0855851590978736,
          1.129183869003102,
          0.9093205128438351,
          0.9183099946085275,
          0.877105623032516,
          0.9170272094164349,
          0.9150851511005982,
          0.9482953548914028,
          0.8707199641301403,
          1.0587091542452125,
          1.167809620069066,
          0.795906575327937,
          1.3989914113090367,
          0.6731376841182934,
          0.788966907382183,
          0.7830321033279075,
          0.8305103027524013,
          0.6979087354806176,
          0.9663369407593568,
          0.6273959207173537,
          0.750076033164351,
          0.6011649926584471,
          0.8778987120859535,
          0.777372489121578,
          1.1159806634534888,
          1.2800008786570145,
          0.5252213907399974,
          0.791641014641087,
          0.6492458672346206,
          0.8842764718121903,
          0.7254712699053806,
          0.779820504708724,
          0.8869031474903707,
          0.8832614297270655,
          0.7901547972342494,
          0.915575952868117,
          1.0659715228597697,
          1.1726303405861094,
          0.8473334006820095,
          0.9011534533066148,
          0.9083357292085702,
          0.9603263213821454,
          0.8365321544959157,
          0.92018182706077,
          0.7905707069018348,
          0.9973733170572379,
          1.1093716626511299,
          1.1653763392769558,
          1.2959639144781803,
          1.5074670524471232
         ],
         "y": [
          -50,
          -42.5,
          -62.1875,
          -110,
          -102.5,
          -137.5,
          -180,
          -170,
          -200,
          -240,
          -270,
          -300,
          -303.75,
          -350,
          -340,
          -390,
          -447.5,
          -470,
          -500,
          -527.5,
          -510,
          -560,
          -580,
          -610,
          -630,
          -616.25,
          -591.25,
          -536.40625,
          -697.5,
          -730,
          -760,
          -780,
          -766.25,
          -744.375,
          -714.0625,
          -810,
          -877.5,
          -900,
          -881.875,
          -855.9375,
          -930,
          -960,
          -952.5,
          -980,
          -958.75,
          -1000,
          -946.9921875,
          -814.51171875,
          -643.857421875,
          -1050,
          -1080,
          -1083.75,
          -1063.125,
          -1041.5625,
          -776.74560546875,
          -544.154052734375,
          -387.0770263671875,
          -1130,
          -1160,
          -1220,
          -1210,
          -1195,
          -1250,
          -1290,
          -1280,
          -1347.5,
          -1332.5,
          -1377.5,
          -1430,
          -1422.5,
          -1429.375,
          -1412.1875,
          -1374.6875,
          -1274.21875,
          -1470,
          -1497.5,
          -1546.25,
          -1547.8125,
          -1590,
          -1593.75,
          -1627.5,
          -1590.6640625,
          -1393.88671875,
          -1657.5,
          -1247.0320892333984,
          -1700,
          -1692.5,
          -1720,
          -1757.5,
          -1780,
          -1763.125,
          -1810,
          -1840,
          -1870,
          -1873.75,
          -1900,
          -1876.5625,
          -1839.53125,
          -1930,
          -1960,
          -1990,
          -1982.5,
          -2037.5,
          -2060,
          -2043.125,
          -2080,
          -2110,
          -2102.5,
          -2077.265625,
          -2022.3828125,
          -2157.5,
          -2220,
          -2247.5,
          -2230,
          -2277.5,
          -2317.5,
          -2340,
          -2323.125,
          -2283.125,
          -2213.4375,
          -2092.939453125,
          -1939.4775390625
         ]
        }
       ],
       "layout": {
        "autosize": false,
        "height": 3725,
        "hoverlabel": {
         "bgcolor": "white",
         "font": {
          "family": "Rockwell",
          "size": 16
         }
        },
        "hovermode": "closest",
        "plot_bgcolor": "#ECEFF1",
        "showlegend": false,
        "template": {
         "data": {
          "bar": [
           {
            "error_x": {
             "color": "#2a3f5f"
            },
            "error_y": {
             "color": "#2a3f5f"
            },
            "marker": {
             "line": {
              "color": "white",
              "width": 0.5
             },
             "pattern": {
              "fillmode": "overlay",
              "size": 10,
              "solidity": 0.2
             }
            },
            "type": "bar"
           }
          ],
          "barpolar": [
           {
            "marker": {
             "line": {
              "color": "white",
              "width": 0.5
             },
             "pattern": {
              "fillmode": "overlay",
              "size": 10,
              "solidity": 0.2
             }
            },
            "type": "barpolar"
           }
          ],
          "carpet": [
           {
            "aaxis": {
             "endlinecolor": "#2a3f5f",
             "gridcolor": "#C8D4E3",
             "linecolor": "#C8D4E3",
             "minorgridcolor": "#C8D4E3",
             "startlinecolor": "#2a3f5f"
            },
            "baxis": {
             "endlinecolor": "#2a3f5f",
             "gridcolor": "#C8D4E3",
             "linecolor": "#C8D4E3",
             "minorgridcolor": "#C8D4E3",
             "startlinecolor": "#2a3f5f"
            },
            "type": "carpet"
           }
          ],
          "choropleth": [
           {
            "colorbar": {
             "outlinewidth": 0,
             "ticks": ""
            },
            "type": "choropleth"
           }
          ],
          "contour": [
           {
            "colorbar": {
             "outlinewidth": 0,
             "ticks": ""
            },
            "colorscale": [
             [
              0,
              "#0d0887"
             ],
             [
              0.1111111111111111,
              "#46039f"
             ],
             [
              0.2222222222222222,
              "#7201a8"
             ],
             [
              0.3333333333333333,
              "#9c179e"
             ],
             [
              0.4444444444444444,
              "#bd3786"
             ],
             [
              0.5555555555555556,
              "#d8576b"
             ],
             [
              0.6666666666666666,
              "#ed7953"
             ],
             [
              0.7777777777777778,
              "#fb9f3a"
             ],
             [
              0.8888888888888888,
              "#fdca26"
             ],
             [
              1,
              "#f0f921"
             ]
            ],
            "type": "contour"
           }
          ],
          "contourcarpet": [
           {
            "colorbar": {
             "outlinewidth": 0,
             "ticks": ""
            },
            "type": "contourcarpet"
           }
          ],
          "heatmap": [
           {
            "colorbar": {
             "outlinewidth": 0,
             "ticks": ""
            },
            "colorscale": [
             [
              0,
              "#0d0887"
             ],
             [
              0.1111111111111111,
              "#46039f"
             ],
             [
              0.2222222222222222,
              "#7201a8"
             ],
             [
              0.3333333333333333,
              "#9c179e"
             ],
             [
              0.4444444444444444,
              "#bd3786"
             ],
             [
              0.5555555555555556,
              "#d8576b"
             ],
             [
              0.6666666666666666,
              "#ed7953"
             ],
             [
              0.7777777777777778,
              "#fb9f3a"
             ],
             [
              0.8888888888888888,
              "#fdca26"
             ],
             [
              1,
              "#f0f921"
             ]
            ],
            "type": "heatmap"
           }
          ],
          "heatmapgl": [
           {
            "colorbar": {
             "outlinewidth": 0,
             "ticks": ""
            },
            "colorscale": [
             [
              0,
              "#0d0887"
             ],
             [
              0.1111111111111111,
              "#46039f"
             ],
             [
              0.2222222222222222,
              "#7201a8"
             ],
             [
              0.3333333333333333,
              "#9c179e"
             ],
             [
              0.4444444444444444,
              "#bd3786"
             ],
             [
              0.5555555555555556,
              "#d8576b"
             ],
             [
              0.6666666666666666,
              "#ed7953"
             ],
             [
              0.7777777777777778,
              "#fb9f3a"
             ],
             [
              0.8888888888888888,
              "#fdca26"
             ],
             [
              1,
              "#f0f921"
             ]
            ],
            "type": "heatmapgl"
           }
          ],
          "histogram": [
           {
            "marker": {
             "pattern": {
              "fillmode": "overlay",
              "size": 10,
              "solidity": 0.2
             }
            },
            "type": "histogram"
           }
          ],
          "histogram2d": [
           {
            "colorbar": {
             "outlinewidth": 0,
             "ticks": ""
            },
            "colorscale": [
             [
              0,
              "#0d0887"
             ],
             [
              0.1111111111111111,
              "#46039f"
             ],
             [
              0.2222222222222222,
              "#7201a8"
             ],
             [
              0.3333333333333333,
              "#9c179e"
             ],
             [
              0.4444444444444444,
              "#bd3786"
             ],
             [
              0.5555555555555556,
              "#d8576b"
             ],
             [
              0.6666666666666666,
              "#ed7953"
             ],
             [
              0.7777777777777778,
              "#fb9f3a"
             ],
             [
              0.8888888888888888,
              "#fdca26"
             ],
             [
              1,
              "#f0f921"
             ]
            ],
            "type": "histogram2d"
           }
          ],
          "histogram2dcontour": [
           {
            "colorbar": {
             "outlinewidth": 0,
             "ticks": ""
            },
            "colorscale": [
             [
              0,
              "#0d0887"
             ],
             [
              0.1111111111111111,
              "#46039f"
             ],
             [
              0.2222222222222222,
              "#7201a8"
             ],
             [
              0.3333333333333333,
              "#9c179e"
             ],
             [
              0.4444444444444444,
              "#bd3786"
             ],
             [
              0.5555555555555556,
              "#d8576b"
             ],
             [
              0.6666666666666666,
              "#ed7953"
             ],
             [
              0.7777777777777778,
              "#fb9f3a"
             ],
             [
              0.8888888888888888,
              "#fdca26"
             ],
             [
              1,
              "#f0f921"
             ]
            ],
            "type": "histogram2dcontour"
           }
          ],
          "mesh3d": [
           {
            "colorbar": {
             "outlinewidth": 0,
             "ticks": ""
            },
            "type": "mesh3d"
           }
          ],
          "parcoords": [
           {
            "line": {
             "colorbar": {
              "outlinewidth": 0,
              "ticks": ""
             }
            },
            "type": "parcoords"
           }
          ],
          "pie": [
           {
            "automargin": true,
            "type": "pie"
           }
          ],
          "scatter": [
           {
            "fillpattern": {
             "fillmode": "overlay",
             "size": 10,
             "solidity": 0.2
            },
            "type": "scatter"
           }
          ],
          "scatter3d": [
           {
            "line": {
             "colorbar": {
              "outlinewidth": 0,
              "ticks": ""
             }
            },
            "marker": {
             "colorbar": {
              "outlinewidth": 0,
              "ticks": ""
             }
            },
            "type": "scatter3d"
           }
          ],
          "scattercarpet": [
           {
            "marker": {
             "colorbar": {
              "outlinewidth": 0,
              "ticks": ""
             }
            },
            "type": "scattercarpet"
           }
          ],
          "scattergeo": [
           {
            "marker": {
             "colorbar": {
              "outlinewidth": 0,
              "ticks": ""
             }
            },
            "type": "scattergeo"
           }
          ],
          "scattergl": [
           {
            "marker": {
             "colorbar": {
              "outlinewidth": 0,
              "ticks": ""
             }
            },
            "type": "scattergl"
           }
          ],
          "scattermapbox": [
           {
            "marker": {
             "colorbar": {
              "outlinewidth": 0,
              "ticks": ""
             }
            },
            "type": "scattermapbox"
           }
          ],
          "scatterpolar": [
           {
            "marker": {
             "colorbar": {
              "outlinewidth": 0,
              "ticks": ""
             }
            },
            "type": "scatterpolar"
           }
          ],
          "scatterpolargl": [
           {
            "marker": {
             "colorbar": {
              "outlinewidth": 0,
              "ticks": ""
             }
            },
            "type": "scatterpolargl"
           }
          ],
          "scatterternary": [
           {
            "marker": {
             "colorbar": {
              "outlinewidth": 0,
              "ticks": ""
             }
            },
            "type": "scatterternary"
           }
          ],
          "surface": [
           {
            "colorbar": {
             "outlinewidth": 0,
             "ticks": ""
            },
            "colorscale": [
             [
              0,
              "#0d0887"
             ],
             [
              0.1111111111111111,
              "#46039f"
             ],
             [
              0.2222222222222222,
              "#7201a8"
             ],
             [
              0.3333333333333333,
              "#9c179e"
             ],
             [
              0.4444444444444444,
              "#bd3786"
             ],
             [
              0.5555555555555556,
              "#d8576b"
             ],
             [
              0.6666666666666666,
              "#ed7953"
             ],
             [
              0.7777777777777778,
              "#fb9f3a"
             ],
             [
              0.8888888888888888,
              "#fdca26"
             ],
             [
              1,
              "#f0f921"
             ]
            ],
            "type": "surface"
           }
          ],
          "table": [
           {
            "cells": {
             "fill": {
              "color": "#EBF0F8"
             },
             "line": {
              "color": "white"
             }
            },
            "header": {
             "fill": {
              "color": "#C8D4E3"
             },
             "line": {
              "color": "white"
             }
            },
            "type": "table"
           }
          ]
         },
         "layout": {
          "annotationdefaults": {
           "arrowcolor": "#2a3f5f",
           "arrowhead": 0,
           "arrowwidth": 1
          },
          "autotypenumbers": "strict",
          "coloraxis": {
           "colorbar": {
            "outlinewidth": 0,
            "ticks": ""
           }
          },
          "colorscale": {
           "diverging": [
            [
             0,
             "#8e0152"
            ],
            [
             0.1,
             "#c51b7d"
            ],
            [
             0.2,
             "#de77ae"
            ],
            [
             0.3,
             "#f1b6da"
            ],
            [
             0.4,
             "#fde0ef"
            ],
            [
             0.5,
             "#f7f7f7"
            ],
            [
             0.6,
             "#e6f5d0"
            ],
            [
             0.7,
             "#b8e186"
            ],
            [
             0.8,
             "#7fbc41"
            ],
            [
             0.9,
             "#4d9221"
            ],
            [
             1,
             "#276419"
            ]
           ],
           "sequential": [
            [
             0,
             "#0d0887"
            ],
            [
             0.1111111111111111,
             "#46039f"
            ],
            [
             0.2222222222222222,
             "#7201a8"
            ],
            [
             0.3333333333333333,
             "#9c179e"
            ],
            [
             0.4444444444444444,
             "#bd3786"
            ],
            [
             0.5555555555555556,
             "#d8576b"
            ],
            [
             0.6666666666666666,
             "#ed7953"
            ],
            [
             0.7777777777777778,
             "#fb9f3a"
            ],
            [
             0.8888888888888888,
             "#fdca26"
            ],
            [
             1,
             "#f0f921"
            ]
           ],
           "sequentialminus": [
            [
             0,
             "#0d0887"
            ],
            [
             0.1111111111111111,
             "#46039f"
            ],
            [
             0.2222222222222222,
             "#7201a8"
            ],
            [
             0.3333333333333333,
             "#9c179e"
            ],
            [
             0.4444444444444444,
             "#bd3786"
            ],
            [
             0.5555555555555556,
             "#d8576b"
            ],
            [
             0.6666666666666666,
             "#ed7953"
            ],
            [
             0.7777777777777778,
             "#fb9f3a"
            ],
            [
             0.8888888888888888,
             "#fdca26"
            ],
            [
             1,
             "#f0f921"
            ]
           ]
          },
          "colorway": [
           "#636efa",
           "#EF553B",
           "#00cc96",
           "#ab63fa",
           "#FFA15A",
           "#19d3f3",
           "#FF6692",
           "#B6E880",
           "#FF97FF",
           "#FECB52"
          ],
          "font": {
           "color": "#2a3f5f"
          },
          "geo": {
           "bgcolor": "white",
           "lakecolor": "white",
           "landcolor": "white",
           "showlakes": true,
           "showland": true,
           "subunitcolor": "#C8D4E3"
          },
          "hoverlabel": {
           "align": "left"
          },
          "hovermode": "closest",
          "mapbox": {
           "style": "light"
          },
          "paper_bgcolor": "white",
          "plot_bgcolor": "white",
          "polar": {
           "angularaxis": {
            "gridcolor": "#EBF0F8",
            "linecolor": "#EBF0F8",
            "ticks": ""
           },
           "bgcolor": "white",
           "radialaxis": {
            "gridcolor": "#EBF0F8",
            "linecolor": "#EBF0F8",
            "ticks": ""
           }
          },
          "scene": {
           "xaxis": {
            "backgroundcolor": "white",
            "gridcolor": "#DFE8F3",
            "gridwidth": 2,
            "linecolor": "#EBF0F8",
            "showbackground": true,
            "ticks": "",
            "zerolinecolor": "#EBF0F8"
           },
           "yaxis": {
            "backgroundcolor": "white",
            "gridcolor": "#DFE8F3",
            "gridwidth": 2,
            "linecolor": "#EBF0F8",
            "showbackground": true,
            "ticks": "",
            "zerolinecolor": "#EBF0F8"
           },
           "zaxis": {
            "backgroundcolor": "white",
            "gridcolor": "#DFE8F3",
            "gridwidth": 2,
            "linecolor": "#EBF0F8",
            "showbackground": true,
            "ticks": "",
            "zerolinecolor": "#EBF0F8"
           }
          },
          "shapedefaults": {
           "line": {
            "color": "#2a3f5f"
           }
          },
          "ternary": {
           "aaxis": {
            "gridcolor": "#DFE8F3",
            "linecolor": "#A2B1C6",
            "ticks": ""
           },
           "baxis": {
            "gridcolor": "#DFE8F3",
            "linecolor": "#A2B1C6",
            "ticks": ""
           },
           "bgcolor": "white",
           "caxis": {
            "gridcolor": "#DFE8F3",
            "linecolor": "#A2B1C6",
            "ticks": ""
           }
          },
          "title": {
           "x": 0.05
          },
          "xaxis": {
           "automargin": true,
           "gridcolor": "#EBF0F8",
           "linecolor": "#EBF0F8",
           "ticks": "",
           "title": {
            "standoff": 15
           },
           "zerolinecolor": "#EBF0F8",
           "zerolinewidth": 2
          },
          "yaxis": {
           "automargin": true,
           "gridcolor": "#EBF0F8",
           "linecolor": "#EBF0F8",
           "ticks": "",
           "title": {
            "standoff": 15
           },
           "zerolinecolor": "#EBF0F8",
           "zerolinewidth": 2
          }
         }
        },
        "title": {
         "font": {
          "color": "Black",
          "size": 22
         },
         "text": "<b>Hierarchical Clustering</b>",
         "x": 0.5,
         "xanchor": "center",
         "yanchor": "top"
        },
        "width": 1000,
        "xaxis": {
         "mirror": "allticks",
         "rangemode": "tozero",
         "showgrid": false,
         "showline": true,
         "showticklabels": true,
         "ticks": "outside",
         "type": "linear",
         "zeroline": false
        },
        "yaxis": {
         "mirror": "allticks",
         "range": [
          -2350,
          0
         ],
         "rangemode": "tozero",
         "showgrid": false,
         "showline": true,
         "showticklabels": true,
         "tickmode": "array",
         "ticks": "outside",
         "ticktext": [
          "166_idiots_fools_idiot",
          "148_dumbfucks_dumb_stupid",
          "71_comment_commenter_commen...",
          "75_research_dumbfck_bitching",
          "132_reply_replying_answer",
          "14_dumb_stupid_idiot",
          "107_intelligent_intelligenc...",
          "168_butthurt_hahaha_笨蛋",
          "103_firstworld_nations_world",
          "98_americans_american_ameri...",
          "42_country_countrymen_count...",
          "122_africa_african_africans",
          "55_flag_flags_flagshttpsmus...",
          "118_western_westerner_weste...",
          "160_colonialists_colonialis...",
          "119_asians_asian_asia",
          "12_asian_asiatic_asians",
          "24_japanese_japans_japanfuc...",
          "59_korean_korea_southkorea",
          "30_english_englishi_language",
          "158_language_languages_engl...",
          "76_black_blacker_darkblack",
          "170_blacks_black_blackest",
          "179_riots_protests_protestors",
          "21_police_policeman_cop",
          "78_river_cry_livestream",
          "54_bread_bakers_baguettesht...",
          "116_pizza_pizzas_混口饭吃",
          "82_dirty_limpeh_watch",
          "17_toilet_toilets_bathroom",
          "232_soap_dishwasher_wash",
          "227_burns_burn_burnt",
          "104_seat_seats_chair",
          "210_seat_seats_sit",
          "194_escalator_escalators_st...",
          "154_train_trains_rail",
          "177_adblock_adblocker_ads",
          "229_propaganda_advertiser_ads",
          "144_fox_newsworthy_newscast...",
          "203_journalists_journalist_...",
          "214_vocabulary_illiterate_b...",
          "135_article_redacted_wrote",
          "182_afghanistan_afghan_afgh...",
          "37_israelis_israeljews_isra...",
          "26_russia_russian_russians",
          "51_nazi_nazis_nazism",
          "178_bot_bots_botox",
          "223_google_googling_search",
          "234_iphone_apple_ipad",
          "44_race_races_raced",
          "149_laws_law_loi",
          "209_pm_ready_nonchinese",
          "70_minority_minorities_mino...",
          "215_liberals_liberalsminori...",
          "101_cringe_cringey_cringefest",
          "72_mods_mod_moderators",
          "191_strawberry_strawberries...",
          "211_tears_cry_crying",
          "202_virgin_virgins_virginity",
          "228_toothpaste_tooth_teeth",
          "128_low_lower_lowincome",
          "200_iq_low_lmaooo",
          "102_salty_salt_salts",
          "111_cancer_cancerous_cancer...",
          "69_lawyer_lawyers_lawyering",
          "217_judiciary_judicial_judges",
          "60_airplane_aeroplane_plane",
          "16_teacher_teachers_profs",
          "108_army_stalk_serve",
          "212_nonmilitary_army_military",
          "146_infantry_battalions_com...",
          "220_friend_bullying_friends",
          "161_disappointedyour_kc2_an...",
          "105_toxic_toxicity_disinfec...",
          "187_scummy_uninterested_smug",
          "230_blaming_victim_victims",
          "183_threats_fight_criminalhe",
          "134_castration_castrate_che...",
          "176_prostitute_prostitutes_...",
          "151_autism_autistic_autists",
          "23_schizophrenic_schizophre...",
          "195_singaporean_singapore_s...",
          "34_braincell_braincells_brain",
          "79_name_names_naming",
          "110_monkey_monkeys_monkeya",
          "46_slaves_slavery_slave",
          "143_pigeons_pigeon_birds",
          "35_chicken_chickens_rice",
          "147_milk_latte_milkshakes",
          "22_dog_dogs_dogwhistle",
          "93_cats_cat_kitty",
          "80_insuranceproperty_insura...",
          "169_aircon_aircons_peasants",
          "216_cardboards_boxes_cardbo...",
          "188_gym_gymtoker_fitness",
          "38_smokers_smoking_cigarettes",
          "33_smell_smellso_smelly",
          "85_beer_beers_whisky",
          "163_coffee_cafe_coffeecareer",
          "192_shoes_shoe_socks",
          "190_leg_legs_ankle",
          "65_pants_panties_underwear",
          "221_shorts_shorties_skirts",
          "94_porno_porn_pornhub",
          "159_barber_barbers_barbershop",
          "133_boobs_boob_breasts",
          "48_energy_weak_strong",
          "50_looks_like_look",
          "11_fat_fatphobic_fatness",
          "138_grandma_grandmother_gra...",
          "66_hush_shut_singh",
          "56_hang_grab_pull",
          "123_death_dying_lethal",
          "121_trashbag_souls_cruel",
          "204_scumbags_scum_disgusting",
          "167_like_cockroach_crush",
          "224_cum_slut_deeserved",
          "162_real_reality_smdh",
          "140_selfish_selfesteem_self...",
          "207_assholes_asshole_assholez",
          "97_loser_losers_asshole",
          "52_dick_pussy_fuckinh",
          "106_pussy_dick_dicks",
          "145_gold_golden_golding",
          "91_back_reboundbackup_backs...",
          "127_ccpee_jerbs_tiongcock",
          "73_bro_shitbag_fucking",
          "165_ewww_sucks_lol",
          "142_wtf_shredded_fucking",
          "125_leftie_lefthanded_eeeew...",
          "197_useless_cant_dw",
          "181_buay_dk_lol",
          "112_time_timeyou_timing",
          "152_fgm_kfc_mccy",
          "77_clownfuck_clown_clowns",
          "198_cb_kp_csm",
          "49_cut_dick_throat",
          "31_lock_lockdown_key",
          "86_tiaktiaktiaktiak_bkk_tiak",
          "186_homewrecker_home_oh",
          "29_sleep_sleeps_sleepy",
          "131_sinkies_sinkie_cheekopek",
          "15_sinkie_sinkies_pukes",
          "41_lmfaooo_fk_lkm",
          "199_nsf_365_motherfuckers",
          "189_milf_stupid_silly",
          "68_cunt_knncb_wfh",
          "87_kao_tcm_khaw",
          "58_crappy_fcked_howunsingap...",
          "96_lmao_fucccccccck_cul",
          "88_link_links_oy",
          "157_lololol_tooooooo_ccp",
          "39_wtf_wow_lol",
          "32_fearlessness_fear_intimi...",
          "67_triggered_lmao_stirred",
          "40_account_apologise_apology",
          "43_faggort_ufatasian3_marti...",
          "36_downvote_downvotes_downv...",
          "155_wahahaha_joke_bro",
          "45_populist_politicians_pol...",
          "90_troll_trolling_trolls",
          "172_social_wtf_community",
          "62_society_social_societies...",
          "92_groups_group_others",
          "120_balls_sperm_dildos",
          "115_balls_ballsy_bola",
          "205_anal_pussy_ass",
          "136_tattoos_tattoo_nerdy",
          "83_childishness_kid_kids",
          "25_parents_parent_family",
          "225_parents_children_kids",
          "171_dad_father_dads",
          "18_momma_moms_mommy",
          "185_age_aged_underaged",
          "156_older_grandma_younger",
          "5_boomers_millennials_boomer",
          "28_youths_youth_youngsters",
          "126_elderly_retirements_sen...",
          "99_elderly_seniors_old",
          "233_girl_girls_prostitute",
          "150_girl_girly_girls",
          "137_girls_gf_girl",
          "201_abortions_abortion_abor...",
          "81_abortion_maternity_abort",
          "193_birthrate_retirement_bi...",
          "129_females_women_girls",
          "3_sexism_feminism_sexist",
          "100_female_woman_females",
          "219_misogyny_misogynist_women",
          "27_wife_wives_wifemothersis...",
          "184_marriage_marrying_marri...",
          "53_bus_buses_busesmrts",
          "8_motorcyclists_cyclists_cy...",
          "164_singaporeans_cars_singa...",
          "218_firearms_airsoft_bullets",
          "84_suicides_suicide_suicidal",
          "141_liew_clh_leon",
          "173_jail_prison_imprisonment",
          "6_rape_rapist_rapists",
          "139_drugs_drug_drugsex",
          "89_banning_banned_ban",
          "13_taxes_tax_taxpayer",
          "2_singaporeans_singaporean_...",
          "0_chinese_china_mandarin",
          "10_voters_voting_ballot",
          "1_religion_religious_religi...",
          "4_gays_gay_homosexuals",
          "153_malaysians_malaysian_ma...",
          "74_families_family_familial",
          "20_nurses_nurse_hospitals",
          "7_vaccines_vaccinations_vac...",
          "95_viruses_virus_virusdenier",
          "63_class_first_poor",
          "208_middleclass_class_bourg...",
          "117_billionaire_riches_rich",
          "61_rich_richest_wealthy",
          "114_donating_donate_donations",
          "206_money_expensive_whack",
          "19_dollars_cents_dollar",
          "130_20k_2k_50k",
          "174_salary_earn_earning",
          "124_income_underpaying_sala...",
          "180_sell_broker_cash",
          "231_scammers_urgh_scam",
          "47_scammed_scammer_scam",
          "196_jealous_envy_hahahahahha",
          "113_boss_bossperson_bosses",
          "9_employers_employment_empl...",
          "175_ugh_idiot_boss",
          "57_peasantssilly_peasants_p...",
          "226_bill_rude_starhub",
          "64_customer_clientele_custo...",
          "222_stalked_tricky_poorly",
          "109_banking_bank_banks",
          "213_dbs_dbspb_dbst"
         ],
         "tickvals": [
          -5,
          -15,
          -25,
          -35,
          -45,
          -55,
          -65,
          -75,
          -85,
          -95,
          -105,
          -115,
          -125,
          -135,
          -145,
          -155,
          -165,
          -175,
          -185,
          -195,
          -205,
          -215,
          -225,
          -235,
          -245,
          -255,
          -265,
          -275,
          -285,
          -295,
          -305,
          -315,
          -325,
          -335,
          -345,
          -355,
          -365,
          -375,
          -385,
          -395,
          -405,
          -415,
          -425,
          -435,
          -445,
          -455,
          -465,
          -475,
          -485,
          -495,
          -505,
          -515,
          -525,
          -535,
          -545,
          -555,
          -565,
          -575,
          -585,
          -595,
          -605,
          -615,
          -625,
          -635,
          -645,
          -655,
          -665,
          -675,
          -685,
          -695,
          -705,
          -715,
          -725,
          -735,
          -745,
          -755,
          -765,
          -775,
          -785,
          -795,
          -805,
          -815,
          -825,
          -835,
          -845,
          -855,
          -865,
          -875,
          -885,
          -895,
          -905,
          -915,
          -925,
          -935,
          -945,
          -955,
          -965,
          -975,
          -985,
          -995,
          -1005,
          -1015,
          -1025,
          -1035,
          -1045,
          -1055,
          -1065,
          -1075,
          -1085,
          -1095,
          -1105,
          -1115,
          -1125,
          -1135,
          -1145,
          -1155,
          -1165,
          -1175,
          -1185,
          -1195,
          -1205,
          -1215,
          -1225,
          -1235,
          -1245,
          -1255,
          -1265,
          -1275,
          -1285,
          -1295,
          -1305,
          -1315,
          -1325,
          -1335,
          -1345,
          -1355,
          -1365,
          -1375,
          -1385,
          -1395,
          -1405,
          -1415,
          -1425,
          -1435,
          -1445,
          -1455,
          -1465,
          -1475,
          -1485,
          -1495,
          -1505,
          -1515,
          -1525,
          -1535,
          -1545,
          -1555,
          -1565,
          -1575,
          -1585,
          -1595,
          -1605,
          -1615,
          -1625,
          -1635,
          -1645,
          -1655,
          -1665,
          -1675,
          -1685,
          -1695,
          -1705,
          -1715,
          -1725,
          -1735,
          -1745,
          -1755,
          -1765,
          -1775,
          -1785,
          -1795,
          -1805,
          -1815,
          -1825,
          -1835,
          -1845,
          -1855,
          -1865,
          -1875,
          -1885,
          -1895,
          -1905,
          -1915,
          -1925,
          -1935,
          -1945,
          -1955,
          -1965,
          -1975,
          -1985,
          -1995,
          -2005,
          -2015,
          -2025,
          -2035,
          -2045,
          -2055,
          -2065,
          -2075,
          -2085,
          -2095,
          -2105,
          -2115,
          -2125,
          -2135,
          -2145,
          -2155,
          -2165,
          -2175,
          -2185,
          -2195,
          -2205,
          -2215,
          -2225,
          -2235,
          -2245,
          -2255,
          -2265,
          -2275,
          -2285,
          -2295,
          -2305,
          -2315,
          -2325,
          -2335,
          -2345
         ],
         "type": "linear",
         "zeroline": false
        }
       }
      }
     },
     "metadata": {},
     "output_type": "display_data"
    }
   ],
   "source": [
    "from scipy.cluster import hierarchy as sch\n",
    "\n",
    "#  Hierarchical topics\n",
    "linkage_function = lambda x: sch.linkage(\n",
    "    x, \"complete\", optimal_ordering=True\n",
    ")  # use either complete or ward\n",
    "hierarchical_topics_1 = topic_model_custom.hierarchical_topics(\n",
    "    text, linkage_function=linkage_function\n",
    ")\n",
    "topic_model_custom.visualize_hierarchy(hierarchical_topics=hierarchical_topics_1)"
   ]
  },
  {
   "cell_type": "code",
   "execution_count": 154,
   "metadata": {},
   "outputs": [
    {
     "name": "stdout",
     "output_type": "stream",
     "text": [
      "Topic -1: singaporean, singapore, race, countries, cant, country, cannot, better, lol, kids\n",
      "Topic 0: chinese, china, mandarin, nonchinese, singaporean, racists, malaysians, taiwanese, racist, taiwan\n",
      "Topic 1: religion, religious, religions, islam, muslim, muslims, islamic, atheist, atheists, christianity\n",
      "Topic 2: singaporeans, singaporean, singapores, singapore, foreigners, foreigner, countries, foreign, country, citizen\n",
      "Topic 3: sexism, feminism, sexist, feminists, feminist, misogynistic, masculinity, genders, gender, patriarchy\n",
      "Topic 4: gays, gay, homosexuals, homos, homophobe, homophobes, homosexual, heterosexuals, homophobic, homophobia\n",
      "Topic 5: boomers, millennials, boomer, millenials, millennial, generations, generation, seniors, elderly, elders\n",
      "Topic 6: rape, rapist, rapists, raped, raping, molested, pedophile, pedophiles, crimes, jail\n",
      "Topic 7: vaccines, vaccinations, vaccination, vaccinate, vaccine, vaccinated, masks, mask, maskers, unvaccinated\n",
      "Topic 8: motorcyclists, cyclists, cyclist, biker, bicycle, bicycles, driver, drivers, cycling, bikes\n",
      "Topic 9: employers, employment, employer, jobs, employees, workers, job, employee, hire, worker\n",
      "Topic 10: voters, voting, ballot, vote, elections, voted, votes, election, candidates, republican\n",
      "Topic 11: fat, fatphobic, fatness, overweight, obesity, skinny, obese, chubby, thin, slim\n",
      "Topic 12: asian, asiatic, asians, asia, japanese, western, east, westerners, southeast, angmohs\n",
      "Topic 13: taxes, tax, taxpayer, taxation, landlords, poors, landlord, income, rents, rentals\n",
      "Topic 14: dumb, stupid, idiot, dumbest, fool, dumbass, stupidity, idiotic, dumbasses, idiots\n",
      "Topic 15: sinkie, sinkies, pukes, nuts, spooning, papno, sostill, fondle, pwn, lumps\n",
      "Topic 16: teacher, teachers, profs, prof, school, lecturer, schools, teaching, instructor, tuition\n",
      "Topic 17: toilet, toilets, bathroom, handicapped, handicap, urinal, urinals, peeing, bath, hygiene\n",
      "Topic 18: momma, moms, mommy, mom, mother, mummy, mothers, mum, mama, 你妈死了\n",
      "Topic 19: dollars, cents, dollar, expensive, storage, money, fck, worth, price, cold\n",
      "Topic 20: nurses, nurse, hospitals, patients, healthcare, hospital, doctors, clinic, medical, hospitalised\n",
      "Topic 21: police, policeman, cop, cops, polis, 我支持河南警察, officer, arrestedsooooooooo, arrested, arrest\n",
      "Topic 22: dog, dogs, dogwhistle, puppy, doggos, bulldogs, lapdog, cane, slumdogs, pet\n",
      "Topic 23: schizophrenic, schizophrenia, psychiatric, psychotic, psychiatrist, psych, mental, mentally, disorder, psychologist\n",
      "Topic 24: japanese, japans, japanfucked, japan, japankoreachina, 日本第一, asian, japs, sushi, kimono\n",
      "Topic 25: parents, parent, family, dad, daughters, father, sibling, offspring, kids, mother\n",
      "Topic 26: russia, russian, russians, российской, ukrainian, ukrainerussia, ukrainians, ukranians, ukraine, stalin\n",
      "Topic 27: wife, wives, wifemothersister, spouse, mistress, husband, married, husbands, divorce, marriage\n",
      "Topic 28: youths, youth, youngsters, teenagers, adolescent, teens, teenagehood, young, teenager, teenage\n",
      "Topic 29: sleep, sleeps, sleepy, sleepoverfor, sleeping, asleep, noc, nightfucker, insomniac, night\n",
      "Topic 30: english, englishi, language, languages, accents, accent, fluent, speak, grammar, american\n",
      "Topic 31: lock, lockdown, key, hole, lifeskill, reeeeeeeeeeeeeeeeeeeeeeeeeeally, edmw, clawback, pogggggg, c0cks\n",
      "Topic 32: fearlessness, fear, intimidates, shame, missing, losers, 吃饱没事做, humble, uncivilised, threatened\n",
      "Topic 33: smell, smellso, smelly, smells, smelling, odor, stink, fragrance, smelled, deodorant\n",
      "Topic 34: braincell, braincells, brain, brains, 脑残, brainwashed, brainwash, brainiacs, brainless, brainer\n",
      "Topic 35: chicken, chickens, rice, chili, meat, fish, soup, eggstop, egg, eggs\n",
      "Topic 36: downvote, downvotes, downvoted, downvoter, downvoting, downvoters, upvote, upvotes, upvoted, upvoting\n",
      "Topic 37: israelis, israeljews, israeli, israels, palestines, palestine, israel, palestinians, palestinian, antisemitism\n",
      "Topic 38: smokers, smoking, cigarettes, cigarette, smoker, tobacco, smokes, smoke, smokefree, vaping\n",
      "Topic 39: wtf, wow, lol, aptly, ohh, apologetic, whoop, sickos, bully, slob\n",
      "Topic 40: account, apologise, apology, apologize, httpsimgurcoma332guamhttpsimgurcoma332guam, fknnn, apologies, httpsiimgurcom09ogc9lpnghttpsiimgurcom09ogc9lpng, httpsiibbcowpw39wrimagepng, cucklod\n",
      "Topic 41: lmfaooo, fk, lkm, oneshttpsiimgurcom51xq7hjpng, nab, bro, hahahaha, ahyuk, edmw, ah\n",
      "Topic 42: country, countrymen, countries, nation, patriot, 愛國, internationally, rmilitary, germanyswiss, redneck\n",
      "Topic 43: faggort, ufatasian3, martinez, fuckups, martin, harijan, addflair, dicks, mj, uhidingcat\n",
      "Topic 44: race, races, raced, sprint, issue, httpswwwredditcomrsingaporerawcommentspdtygknational_day_rally_2021_all_races_treated_equallyhasp05u, feud, matter, pasir, civilized\n",
      "Topic 45: populist, politicians, politician, political, politically, politics, trump, politiks, socialist, socialism\n",
      "Topic 46: slaves, slavery, slave, slaveowners, slavelike, slaver, enslave, slaverytype, labour, africanamericans\n",
      "Topic 47: scammed, scammer, scam, scamming, scammers, scammercreep, gethack, stupid, woah, sell\n",
      "Topic 48: energy, weak, strong, small, eyes, eyecancer, dick, eye, blind, eyeball\n",
      "Topic 49: cut, dick, throat, chuck, smack, tightballspoppingspandexes, chug, suck, culled, cunning\n",
      "Topic 50: looks, like, look, looking, fuckable, horlick, cute, hum, wospec, virgin\n",
      "Topic 51: nazi, nazis, nazism, nazists, hitler, hitlersaf, hitlerjugend, hitlers, holocaust, swastika\n",
      "Topic 52: dick, pussy, fuckinh, cock, suck, big, gross, huge_, huge, shite\n",
      "Topic 53: bus, buses, busesmrts, minibus, busses, driver, drivers, passenger, blameless, carstaxis\n",
      "Topic 54: bread, bakers, baguetteshttpswwwstraitstimescomworldeuropeletthemeatbreadfrenchhoardbaguettesincoronaviruslockdown, baker, bake, cookieswell, cookies, butter, waffles, cupcakes\n",
      "Topic 55: flag, flags, flagshttpsmustsharenewscomsingaporeflagburjkhalifa, cultural, culturally, culture, uncultured, cultures, culturehttpswwwwsjcomarticleshappychinesenewyearnowpleaseappropriatemyculture11579909279, cancelsjwsnowflake\n",
      "Topic 56: hang, grab, pull, put, fica, get, caned, take, stab, tposing\n",
      "Topic 57: peasantssilly, peasants, peasant, farmers, farmer, us, estates, whiners, safos, peter\n",
      "Topic 58: crappy, fcked, howunsingaporean, spooktober, punggol, shady, hmmm, stalking, goddddd, twats\n",
      "Topic 59: korean, korea, southkorea, sgchinakorea, koreans, koreajapan, kpop, asian, kimchi, httpsrollingstoneindiacommeetsriyathefirstindiankpopstar\n",
      "Topic 60: airplane, aeroplane, plane, airline, stewardesses, airlines, stewardess, flight, pilot, airport\n",
      "Topic 61: rich, richest, wealthy, wealth, poor, poors, bourgeoisie, fame, money, classy\n",
      "Topic 62: society, social, societiescountries, sociable, friendssocial, fucknestle, scum, wowwwww, citizenspr, shamelessly\n",
      "Topic 63: class, first, poor, third, uppermiddle, low, retardedly, beggar, upper, brother\n",
      "Topic 64: customer, clientele, customers, client, httpswwwredditcomrsingaporecommentsmoo8bifoodpanda_support_allegedly_tells_customer_thatgu5ln8l, service, server, rude, retards, servehave\n",
      "Topic 65: pants, panties, underwear, jeans, shorts, thongs, wore, pantyfully, naked, clothes\n",
      "Topic 66: hush, shut, singh, geh, sh, hannah, koh, brah, wh3y, smu\n",
      "Topic 67: triggered, lmao, stirred, ragehead, wusg, cucks, dispel, miserable, haf, unliked\n",
      "Topic 68: cunt, knncb, wfh, fkn, kkj, lol, hate, shhh, stupidest, ki\n",
      "Topic 69: lawyer, lawyers, lawyering, lawyerskarkia, consultants, advisory, law, consultancy, judge, counsel\n",
      "Topic 70: minority, minorities, minoritiiiessss, majority, less, generalize, small, mostly, lower, generalise\n",
      "Topic 71: comment, commenter, commenting, comments, commented, replying, reply, lol, postswith, retarded\n",
      "Topic 72: mods, mod, moderators, moderator, moderatortobe, modus, banned, moderation, modi, trolled\n",
      "Topic 73: bro, shitbag, fucking, wow, cuck, fo, hell, omg, mate, bock\n",
      "Topic 74: families, family, familial, familythey, familyfriendly, parents, father, condolences, mourning, birthright\n",
      "Topic 75: research, dumbfck, bitching, dumb, idiocy, idiot, seekin, stupid, zzzzzzzzzzzzzzzzzz, btch\n",
      "Topic 76: black, blacker, darkblack, blackpink, blacklisted, blackstool, blacklisting, blackcock, blackshirts, det\n",
      "Topic 77: clownfuck, clown, clowns, fucking, comedian, wahaha, shabuing, shabu, damn, fang\n",
      "Topic 78: river, cry, livestream, swallow, lured, ashame, lures, calm, ohhhh, singkee\n",
      "Topic 79: name, names, naming, named, namecalling, surname, shame, badfuck, motherfuckers, woa\n",
      "Topic 80: insuranceproperty, insurance, insurers, insuranceinvestmentfinancial, assurance, agents, agent, coverage, scam, assholes\n",
      "Topic 81: abortion, maternity, abort, pregnancies, pregnancy, paternity, pregnant, contraceptives, babysitting, birth\n",
      "Topic 82: dirty, limpeh, watch, wipe, watches, clean, wtf, eww, clear, clock\n",
      "Topic 83: childishness, kid, kids, childs, child, children, crybabies, immaturity, pathetic, cunt\n",
      "Topic 84: suicides, suicide, suicidal, depression, depressionthey, depressed, murdered, killing, mental, fucking\n",
      "Topic 85: beer, beers, whisky, drinking, alcoholism, alcoholic, alcohol, drunken, drinks, drink\n",
      "Topic 86: tiaktiaktiaktiak, bkk, tiak, omfg, cheebai, bish, qipao, plh, chut, huggers\n",
      "Topic 87: kao, tcm, khaw, qian, wahhh, cq, hahahahahahahhahahha, quack, wusg, beh\n",
      "Topic 88: link, links, oy, hic, shill, heehee, ah, errr, fags, ass\n",
      "Topic 89: banning, banned, ban, indians, indian, india, flights, allowed, flying, tourists\n",
      "Topic 90: troll, trolling, trolls, trolled, stupids, stupid, insult, dude, ragequit, shitstirrer\n",
      "Topic 91: back, reboundbackup, backside, retake, reversed, reboot, go, bta, rpap, pls\n",
      "Topic 92: groups, group, others, peopleforeignersexpats, friends, hippies, cringecunt, fb, gossip, phds\n",
      "Topic 93: cats, cat, kitty, kitten, kittens, tortures, pets, kill, rodents, killers\n",
      "Topic 94: porno, porn, pornhub, hentai, henta, nudes, masturbating, dick, naked, mastubating\n",
      "Topic 95: viruses, virus, virusdenier, infected, flu, herpes, plague, hiv, unhygienic, computers\n",
      "Topic 96: lmao, fucccccccck, cul, reply, dk, af, mc, zzzzz, qn, whiner\n",
      "Topic 97: loser, losers, asshole, jealous, lmao, shaming, bitter, worse, hahaahahah, slut\n",
      "Topic 98: americans, american, americas, america, usa, europeans, ignorant, country, nationalist, butthurts\n",
      "Topic 99: elderly, seniors, old, senior, aunties, oldexperienced, age, cleaners, benefits, disabled\n",
      "Topic 100: female, woman, females, women, ladies, ladyboys, lady, male, genders, girl\n",
      "Topic 101: cringe, cringey, cringefest, embarrassment, retarded, jokes, fake, humour, laughter, bozo\n",
      "Topic 102: salty, salt, salts, saltiness, sally, lolz, plp, aaww, frag, owhh\n",
      "Topic 103: firstworld, nations, world, countries, nation, third, citizens, country, humanity, 3rd\n",
      "Topic 104: seat, seats, chair, chairs, wheelchair, sitting, sit, armchair, sofa, chairforce\n",
      "Topic 105: toxic, toxicity, disinfectantcant, apologetic, onesided, denigrate, septic, genshit, nsfw, wokes\n",
      "Topic 106: pussy, dick, dicks, bitches, cock, mockery, cucking, mooove, piak, buttcrack\n",
      "Topic 107: intelligent, intelligence, intellect, smart, dumb, idiots, stupid, educated, surrogacyhttpswwwredditcomrunpopularopinioncommentsu5ro4dsurrogacy_is_totally_unethical_to_me, uneducated\n",
      "Topic 108: army, stalk, serve, survives, life, allthat, noob, kill, ppl, idk\n",
      "Topic 109: banking, bank, banks, dbs, untrustworthy, dbsv, unreliable, authentication, fraudulent, ocbcs\n",
      "Topic 110: monkey, monkeys, monkeya, monkeypox, donkeys, donkey, macaque, muz, moneky, peanuts\n",
      "Topic 111: cancer, cancerous, cancerously, ebola, testicular, cure, cures, selfdiagnosed, hiv, lung\n",
      "Topic 112: time, timeyou, timing, waste, timeline, epoch, useless, wastes, wasted, mmtf\n",
      "Topic 113: boss, bossperson, bosses, colleague, office, dumb, staff, jobless, fuckshit, manager\n",
      "Topic 114: donating, donate, donations, donation, donates, donated, fundraiser, donors, charity, crowdfund\n",
      "Topic 115: balls, ballsy, bola, ball, balled, dick, cock, sucking, sperm, butts\n",
      "Topic 116: pizza, pizzas, 混口饭吃, grabfood, foodpanda, food, meals, meal, eat, chefrestauranter\n",
      "Topic 117: billionaire, riches, rich, poor, idiots, investment, investments, money, investor, dumbshit\n",
      "Topic 118: western, westerner, westernized, westerners, west, antiwestern, westies, easties, europeans, bullshit\n",
      "Topic 119: asians, asian, asia, caucasian, womanwhite, white, manwhite, dating, colonialismdictators, men\n",
      "Topic 120: balls, sperm, dildos, genitals, ironically, butthole, lick, boohoo, pierces, mmtf\n",
      "Topic 121: trashbag, souls, cruel, shat, scorch, keys, inhumane, slash, hishers, allen\n",
      "Topic 122: africa, african, africans, nigeria, continent, countries, country, continental, nation, nationality\n",
      "Topic 123: death, dying, lethal, dead, kill, immortal, killing, everybody, everyone, everyones\n",
      "Topic 124: income, underpaying, salaries, slaverylevel, slavepeasant, eff, socialists, mediocre, employees, goodwills\n",
      "Topic 125: leftie, lefthanded, eeeewwwwwwwww, rightwingers, shitstorm, wokes, right, furiously, nsfw, brag\n",
      "Topic 126: elderly, retirements, seniors, older, old, retirement, millennials, ageing, age, boomers\n",
      "Topic 127: ccpee, jerbs, tiongcock, lick, ramitheasshole, jinping, cork, kekw, cheapo, sdas\n",
      "Topic 128: low, lower, lowincome, loud, louder, voice, voices, sess, high, speakers\n",
      "Topic 129: females, women, girls, dating, female, men, depopulating, male, girl, woman\n",
      "Topic 130: 20k, 2k, 50k, 6k, money, kiachenghu, cash, kias, kiabor, okonomiyaki\n",
      "Topic 131: sinkies, sinkie, cheekopek, tiktoksgs, simps, neckline, nut, sucking, chopped, scots\n",
      "Topic 132: reply, replying, answer, dumb, answers, retarded, replied, dumber, lol, idiot\n",
      "Topic 133: boobs, boob, breasts, breast, nipples, tits, bra, chest, bras, cleavage\n",
      "Topic 134: castration, castrate, chemical, chemically, vasectomy, ejaculate, genitals, sex, massage, reproduce\n",
      "Topic 135: article, redacted, wrote, censored, read, bullshit, offend, reads, write, reading\n",
      "Topic 136: tattoos, tattoo, nerdy, naked, ahaha, wow, patriotism, foolery, impurity, ahahaa\n",
      "Topic 137: girls, gf, girl, ugly, guys, msg, creep, stalking, uw, sm\n",
      "Topic 138: grandma, grandmother, granny, grandmothers, grandparents, aunty, auntiesque, grandpa, auntie, grandfather\n",
      "Topic 139: drugs, drug, drugsex, legalization, drugschaos, antidrug, heroin, narco, singaporeans, singapores\n",
      "Topic 140: selfish, selfesteem, selfrighteous, selfhating, selfdeclared, selfaggrandising, self, ego, selfie, selfpromotion\n",
      "Topic 141: liew, clh, leon, leong, lone, yat, singhs, damnnnn, diu, nicole\n",
      "Topic 142: wtf, shredded, fucking, fck, smlj, stfu, sch, dick, nsfw, yikes\n",
      "Topic 143: pigeons, pigeon, birds, cockatoos, owls, crows, bird, crow, birdbrained, birdkeeper\n",
      "Topic 144: fox, newsworthy, newscasters, news, journalismblogging, journalism, journalist, reporters, bullshit, fker\n",
      "Topic 145: gold, golden, golding, golds, platinum, diamond, medal, nigga, goers, frm\n",
      "Topic 146: infantry, battalions, commanders, ranks, fights, hates, dishonourable, units, asshats, infighting\n",
      "Topic 147: milk, latte, milkshakes, milking, lactose, cows, udders, breast, bovine, almond\n",
      "Topic 148: dumbfucks, dumb, stupid, stupidity, idiot, dumbasses, crazies, condescending, humiliating, slobs\n",
      "Topic 149: laws, law, loi, legal, illegality, illegal, justice, penal, république, enforced\n",
      "Topic 150: girl, girly, girls, boy, girl², ladies, women, womens, sons, chio\n",
      "Topic 151: autism, autistic, autists, autist, narcissistic, narcissism, egoistic, retarded, mentally, intelligent\n",
      "Topic 152: fgm, kfc, mccy, mgm, cnb, mcd, wmcr, bt, kpi, hw\n",
      "Topic 153: malaysians, malaysian, malaysia, malays, malaymuslim, singaporeans, singapore, indonesian, indonesias, indonesia\n",
      "Topic 154: train, trains, rail, httpsenmwikipediaorgwikitanjong_pagar_railway_station, station, commute, sorrow, pity, boohoo, bmw\n",
      "Topic 155: wahahaha, joke, bro, ahahaha, motherfuckshit, tbh, wayyyyyy, fuckery, dumbest, joe\n",
      "Topic 156: older, grandma, younger, oldest, grandmother, age, old, olds, 40yo, aunty\n",
      "Topic 157: lololol, tooooooo, ccp, cocksucker, scs, jokers, fks, junk, cowardice, sht\n",
      "Topic 158: language, languages, english, anglo, accents, fluently, tongues, accent, tongue, speak\n",
      "Topic 159: barber, barbers, barbershop, beard, shave, shaver, haircut, moustache, 毛hair, razor\n",
      "Topic 160: colonialists, colonialism, colonialist, colonial, colonialised, colonising, colonisers, colonized, colonizers, colonies\n",
      "Topic 161: disappointedyour, kc2, ankles, kneeling, motherfucker, sarcastic, ungrateful, crap, arh, fail\n",
      "Topic 162: real, reality, smdh, selfhating, gfy, ownself, xboxifuckedyourmom, self, miw, amdog\n",
      "Topic 163: coffee, cafe, coffeecareer, starbuck, cafessome, starbucks, coffeeshops, coffeeshop, cup, coke\n",
      "Topic 164: singaporeans, cars, singaporean, drivers, singapore, driver, vehicles, car, driving, drive\n",
      "Topic 165: ewww, sucks, lol, fucking, wtf, goddamn, bruh, damn, hahah, hahaha\n",
      "Topic 166: idiots, fools, idiot, stupid, dumber, dumb, dumbasses, dumbest, ignorant, smartass\n",
      "Topic 167: like, cockroach, crush, cocktease, pussy, curry, equivalent, bitches, kosh, sinkie\n",
      "Topic 168: butthurt, hahaha, 笨蛋, hmmm, stupid, woah, insult, dude, dick, sarcasms\n",
      "Topic 169: aircon, aircons, peasants, weather, homeless, neighbours, voucher, gen贱国一代, homeowners, neighbor\n",
      "Topic 170: blacks, black, blackest, blackface, faggot, darker, insulting, dark, vulgar, pigmentation\n",
      "Topic 171: dad, father, dads, baba, parents, birthday, orphanage, whack, fck, mom\n",
      "Topic 172: social, wtf, community, societies, 4channer, censored, hate, tw, sincere, fanfare\n",
      "Topic 173: jail, prison, imprisonment, prisoners, penalty, punishment, torturing, crime, justice, theft\n",
      "Topic 174: salary, earn, earning, earns, 6k, 700k, 200k, earned, paid, 25k\n",
      "Topic 175: ugh, idiot, boss, lool, sht, soo, coy, managers, sibeh, whyy\n",
      "Topic 176: prostitute, prostitutes, prostitution, nothing, hookers, virgins, nuns, nus, dickwhat, sex\n",
      "Topic 177: adblock, adblocker, ads, advertising, advert, ad, propaganda, spammed, annoyed, bother\n",
      "Topic 178: bot, bots, botox, robot, musibot, uamputatorbothttpswwwredditcomramputatorbotcommentscchly3you_can_now_summon_amputatorbot, abouthttpswwwredditcomramputatorbotcommentsehrq3zwhy_did_i_build_amputatorbot, autocorrect, webhttpswwwredditcomramputatorbotcommentsehrq3zwhy_did_i_build_amputatorbot, shakespearebot\n",
      "Topic 179: riots, protests, protestors, protesters, police, policemen, policeman, racist, violence, vandalism\n",
      "Topic 180: sell, broker, cash, money, sellmarket, buyback, market, pck, bullshit, whoops\n",
      "Topic 181: buay, dk, lol, ppls, smug, simp, nvr, teo, fav, livestream\n",
      "Topic 182: afghanistan, afghan, afghanistanpalestinepyongyang, taliban, talibans, talibancontrolled, armenian, httpswwwcbsnewscomnews3sistersfounddeadwithchildrendowryviolenceindia, islamic, iraqis\n",
      "Topic 183: threats, fight, criminalhe, anonymous, intimidate, abusers, junjie, rules, seriousness, abuses\n",
      "Topic 184: marriage, marrying, marriages, marry, married, marital, wedding, divorce, husband, wives\n",
      "Topic 185: age, aged, underaged, 20s, adult, old, olden, teen, young, teenagers\n",
      "Topic 186: homewrecker, home, oh, imh, pussy, hor, cock, sucker, botak, cher\n",
      "Topic 187: scummy, uninterested, smug, outmuhahaha, dazzle, whoring, zhut, csgo, hawking, betrayed\n",
      "Topic 188: gym, gymtoker, fitness, exercise, deadlift, lifting, exercising, trained, bench, martial\n",
      "Topic 189: milf, stupid, silly, bum, goddamn, dota, ms, shits, humiliating, psd\n",
      "Topic 190: leg, legs, ankle, feet, ankles, toes, toe, knees, knee, kneeling\n",
      "Topic 191: strawberry, strawberries, dingleberry, generation, generations, boomers, millennials, gen, boomer, millennial\n",
      "Topic 192: shoes, shoe, socks, boots, shoebox, feet, barefoot, foot, slippers, adidas\n",
      "Topic 193: birthrate, retirement, birthing, women, offspring, pregnancy, age, widows, birth, childcare\n",
      "Topic 194: escalator, escalators, stairs, ladders, climb, lifts, walk, train, railings, rushing\n",
      "Topic 195: singaporean, singapore, singaporeans, cruel, malicious, abuser, mindlessly, crazy, terribly, mental\n",
      "Topic 196: jealous, envy, hahahahahha, scams, money, retarded, ippt, yikes, show, mha\n",
      "Topic 197: useless, cant, dw, desmond, teo, sdas, josephine, laobu, yog, hatred\n",
      "Topic 198: cb, kp, csm, fk, knncc, cannot, fcuk, knn, fkers, deaf\n",
      "Topic 199: nsf, 365, motherfuckers, pofma, pwn, swear, shitting, cannot, nasty, slp\n",
      "Topic 200: iq, low, lmaooo, minus, slightly, harsh, shill, intelligibly, orhhhh, wow\n",
      "Topic 201: abortions, abortion, abortionist, abort, pregnancy, contraceptives, pregnant, adoption, 韭菜生而被割生生不息, born\n",
      "Topic 202: virgin, virgins, virginity, cry, sad, pussy, sexless, pathetic, abandoned, castrate\n",
      "Topic 203: journalists, journalist, journalism, reporters, reporter, newspaper, news, media, press, headline\n",
      "Topic 204: scumbags, scum, disgusting, pofmaed, dicks, hypocritical, assholes, parasites, suck, retard\n",
      "Topic 205: anal, pussy, ass, shitting, dick, cucked, wah, horny, bang, bunks\n",
      "Topic 206: money, expensive, whack, pocket, budget, dollar, suck, fuckers, shd, kek\n",
      "Topic 207: assholes, asshole, assholez, bully, stalker, ewhatever, fkers, wtf, bastard, dick\n",
      "Topic 208: middleclass, class, bourgeois, rich, classcant, middle, low, income, lowermiddle, lower\n",
      "Topic 209: pm, ready, nonchinese, chinese, singapore, singaporean, singaporeans, mp, wong, tinpeilingforpm\n",
      "Topic 210: seat, seats, sit, old, aunties, retired, stands, isnt, ignore, butt\n",
      "Topic 211: tears, cry, crying, bitching, wtf, laugh, screaming, singh, woke, zoe\n",
      "Topic 212: nonmilitary, army, military, soldiersits, soldiers, battlefield, fighter, armed, chaos, forces\n",
      "Topic 213: dbs, dbspb, dbst, shittybank, hsbcs, bank, ocbc, bankrolled, bcos, app\n",
      "Topic 214: vocabulary, illiterate, buzzwords, words, word, read, lee, nword, readers, incoherent\n",
      "Topic 215: liberals, liberalsminorities, liberal, conservatives, conservativeanti, leftists, libtard, conservatism, conservative, leftist\n",
      "Topic 216: cardboards, boxes, cardboard, collecting, collectors, toys, neighbours, lobby, cartman, neighbour\n",
      "Topic 217: judiciary, judicial, judges, judge, prosecutor, prisonerpatientsiavejunkie, court, courts, scumbags, unreasonableunfair\n",
      "Topic 218: firearms, airsoft, bullets, ammo, bomb, badass, damn, armskote, lithium, ghetto\n",
      "Topic 219: misogyny, misogynist, women, nsmen, woman, blaming, misdeeds, victim, men, flatisjustice\n",
      "Topic 220: friend, bullying, friends, insulted, wfh, mmtf, brigadier, bullies, brat, alsagoff\n",
      "Topic 221: shorts, shorties, skirts, outfits, lesbians, shorter, panties, underwear, short, wears\n",
      "Topic 222: stalked, tricky, poorly, employers, employer, coder, corporations, bofhmadlad, wondered, unfriendly\n",
      "Topic 223: google, googling, search, lols, yucks, smlj, milo, dude, swear, httpswwwsecgovarchivesedgardata1326801000132680122000018fb20211231htm\n",
      "Topic 224: cum, slut, deeserved, creampie, armpit, sinkie, nuts, clamp, fuckers, dribble\n",
      "Topic 225: parents, children, kids, family, child, kid, convictions, offenders, evicted, scums\n",
      "Topic 226: bill, rude, starhub, whymobile, fee, bills, price, bump, wah, bullshit\n",
      "Topic 227: burns, burn, burnt, fire, flamethrower, burning, acidburn, lighter, hairspray, wtf\n",
      "Topic 228: toothpaste, tooth, teeth, dental, dentist, dentists, dentures, jaw, mouth, brush\n",
      "Topic 229: propaganda, advertiser, ads, satire, tabloidsized, newspaper, 2020httpswwwredditcomrsingaporecommentsg4uvcffull_screenshot_of_ho_chings_rant_for_posterity, media, vulgarity, fuckwits\n",
      "Topic 230: blaming, victim, victims, pity, complaining, accidents, harassment, embarrassed, bully, forgive\n",
      "Topic 231: scammers, urgh, scam, refund, bankrupt, shithole, scums, harass, shout, cushysounding\n",
      "Topic 232: soap, dishwasher, wash, launder, wipe, dont, dirty, spraying, laundry, drop\n",
      "Topic 233: girl, girls, prostitute, girlfriends, whore, mothersistergirlfriend, swallow, cringy, friends, loudly\n",
      "Topic 234: iphone, apple, ipad, apples, ipads, android, scumbag, haram, trolls, devices\n"
     ]
    }
   ],
   "source": [
    "final_topic_keywords = {}\n",
    "\n",
    "# Assuming 'topic_model_custom' is your topic model object\n",
    "for topic_num in sorted(topic_model_custom.get_topics()):\n",
    "    try:\n",
    "        words, _ = zip(*topic_model_custom.get_topic(topic_num))\n",
    "        final_topic_keywords[topic_num] = \", \".join(words)\n",
    "    except ValueError:\n",
    "        # Handle topics without keywords (if any)\n",
    "        final_topic_keywords[topic_num] = \"No relevant words\"\n",
    "\n",
    "# Optionally print the keywords to verify\n",
    "for topic_num, keywords in final_topic_keywords.items():\n",
    "    print(f\"Topic {topic_num}: {keywords}\")"
   ]
  },
  {
   "cell_type": "code",
   "execution_count": 155,
   "metadata": {},
   "outputs": [],
   "source": [
    "filtered_df[\"Updated_Topic\"] = updated_topics"
   ]
  },
  {
   "cell_type": "code",
   "execution_count": 156,
   "metadata": {},
   "outputs": [],
   "source": [
    "def get_keywords_for_topic(topic):\n",
    "    return final_topic_keywords.get(topic, \"No relevant words\")\n",
    "\n",
    "\n",
    "# Map the updated topics to keywords\n",
    "filtered_df[\"Final Topic Keywords\"] = filtered_df[\"Updated_Topic\"].apply(\n",
    "    get_keywords_for_topic\n",
    ")"
   ]
  },
  {
   "cell_type": "code",
   "execution_count": 158,
   "metadata": {},
   "outputs": [
    {
     "name": "stdout",
     "output_type": "stream",
     "text": [
      "Count of entries with missing keywords: 0\n",
      "Empty DataFrame\n",
      "Columns: [text, timestamp, username, link, link_id, parent_id, id, subreddit_id, moderation, year, word_count, Sensitive Group, Classification, clean_text, custom_topic, Topic_Words, Updated_Topic, Final Topic, Final Topic Name, Final Topic Keywords]\n",
      "Index: []\n"
     ]
    }
   ],
   "source": [
    "# Checking for any missing keywords entries\n",
    "missing_keywords_count = (\n",
    "    filtered_df[\"Final Topic Keywords\"] == \"No relevant words\"\n",
    ").sum()\n",
    "print(f\"Count of entries with missing keywords: {missing_keywords_count}\")\n",
    "\n",
    "# Display rows with missing keywords to understand the issue\n",
    "print(filtered_df[filtered_df[\"Final Topic Keywords\"] == \"Keywords missing\"])"
   ]
  },
  {
   "cell_type": "code",
   "execution_count": 164,
   "metadata": {},
   "outputs": [
    {
     "name": "stdout",
     "output_type": "stream",
     "text": [
      "        Updated_Topic  Final Topic Final Topic Name\n",
      "15                 66         <NA>             None\n",
      "29                 10            8       Government\n",
      "45                 -1         <NA>             None\n",
      "50                 -1         <NA>             None\n",
      "74                  7            6         COVID-19\n",
      "...               ...          ...              ...\n",
      "399963             -1         <NA>             None\n",
      "399964              0            1           Racism\n",
      "399978             -1         <NA>             None\n",
      "399988              2            1           Racism\n",
      "399990              2            1           Racism\n",
      "\n",
      "[44921 rows x 3 columns]\n"
     ]
    }
   ],
   "source": [
    "topic_mapping = {\n",
    "    0: (1, \"Racism\"),\n",
    "    1: (2, \"Religion\"),\n",
    "    2: (1, \"Racism\"),\n",
    "    3: (7, \"Gender\"),\n",
    "    4: (4, \"LGBTQ+\"),\n",
    "    5: (3, \"Generational\"),\n",
    "    6: (9, \"Crimes\"),\n",
    "    7: (6, \"COVID-19\"),\n",
    "    8: (11, \"Transportation\"),\n",
    "    9: (5, \"Work\"),\n",
    "    10: (8, \"Government\"),\n",
    "    11: (13, \"Body Image\"),\n",
    "    13: (10, \"Housing\"),\n",
    "    16: (12, \"Education\"),\n",
    "}\n",
    "\n",
    "\n",
    "def map_final_topics(updated_topic):\n",
    "    if updated_topic in topic_mapping:\n",
    "        final_topic_num, final_topic_name = topic_mapping[updated_topic]\n",
    "        return final_topic_num, final_topic_name\n",
    "    else:\n",
    "        return None, None  # Return None for topics that do not map\n",
    "\n",
    "\n",
    "# Apply the mapping to create new columns for Final Topic and Final Topic Name\n",
    "filtered_df[\"Final Topic\"], filtered_df[\"Final Topic Name\"] = zip(\n",
    "    *filtered_df[\"Updated_Topic\"].apply(map_final_topics).tolist()\n",
    ")\n",
    "filtered_df[\"Final Topic\"] = filtered_df[\"Final Topic\"].astype(\"Int64\")\n",
    "\n",
    "# Display the DataFrame to verify the results\n",
    "print(filtered_df[[\"Updated_Topic\", \"Final Topic\", \"Final Topic Name\"]])"
   ]
  },
  {
   "cell_type": "code",
   "execution_count": 165,
   "metadata": {},
   "outputs": [],
   "source": [
    "filtered_df.to_csv(\"final_topics_redistribute.csv\", index=False)"
   ]
  },
  {
   "cell_type": "code",
   "execution_count": 89,
   "metadata": {},
   "outputs": [],
   "source": [
    "existing_df = pd.read_csv(\"final_topics_redistribute.csv\")\n",
    "neg_one_df = pd.read_csv(\n",
    "    \"/Users/sarahSTACS/Downloads/Telegram Lite/topics_-1_redistribute.csv\"\n",
    ")"
   ]
  },
  {
   "cell_type": "code",
   "execution_count": 90,
   "metadata": {},
   "outputs": [
    {
     "name": "stdout",
     "output_type": "stream",
     "text": [
      "Duplicate 'text' entries in final_df:\n",
      "                                                    text            timestamp  \\\n",
      "3565                         You are a retard fat cibai.  2021-07-18 17:07:21   \n",
      "3593                                   I bet u look dyel       20/1/2022 7:11   \n",
      "3644                              How about you be a man       4/17/2023 8:44   \n",
      "3686             there are white people outside my house        31/7/22 12:31   \n",
      "3827   Congrats for what You mean one less foreign th...       21/8/2023 5:07   \n",
      "3987   So tilted you have decided to stalk me Ask me ...      22/6/2023 14:34   \n",
      "4183   You gonna cry little pathetic abandoned virgin :D       8/1/2022 10:20   \n",
      "5218   You gonna cry little pathetic abandoned virgin :D       8/1/2022 10:21   \n",
      "5492   And here I thought city folks are educated. Bu...         19/4/20 1:59   \n",
      "6448   Whats the difference between a police officer ...       20/9/2023 8:42   \n",
      "8188                      This is your brain on religion      3/26/2022 20:16   \n",
      "8563   you must be female. Wouldn't surprise me In th...  2023-03-11 12:43:13   \n",
      "8698    The beatings will continue until morale improves      11/7/2022 13:02   \n",
      "9327   The damn thing I never understood about Indian...         27/6/22 2:29   \n",
      "10095  Wow. Never has rSingapore's main age demograph...        5/2/2020 0:00   \n",
      "11492                                HOW CAN DIS B ALLOW          3/5/22 8:03   \n",
      "11576  Thanks for the suggestion! My team has posted ...       18/1/2022 1:07   \n",
      "13303  yOu SeEm To Be TrYiNg YoUr BeSt To UnDeRsTaNd ...       3/7/2023 16:49   \n",
      "13397  yOu SeEm To Be TrYiNg YoUr BeSt To UnDeRsTaNd ...  2023-07-06 07:06:04   \n",
      "14268  Thanks for the suggestion! My team has posted ...         18/1/22 1:08   \n",
      "14382                              HOW CAN DIS B ALLOW!!       10/2/2020 8:59   \n",
      "14629  So tilted you have decided to stalk me Ask me ...      22/6/2023 14:35   \n",
      "14945  You gonna cry little pathetic abandoned virgin :D       1/8/2022 10:21   \n",
      "15110  yOu SeEm To Be TrYiNg YoUr BeSt To UnDeRsTaNd ...       7/5/2023 16:13   \n",
      "15299  Wow. Never has rSingapore's main age demograph...       1/5/2020 23:55   \n",
      "15302  Congrats for what You mean one less foreign th...  2023-08-21 05:06:42   \n",
      "16308                     This is your brain on religion        7/1/2022 9:28   \n",
      "16787                                  I bet u look dyel       11/12/21 11:38   \n",
      "17235  Then it make sense, you will deal with lots of...         15/9/20 0:36   \n",
      "17850                  No homo please, this is Singapore  2022-07-24 01:42:24   \n",
      "18039  yOu SeEm To Be TrYiNg YoUr BeSt To UnDeRsTaNd ...         3/7/23 14:46   \n",
      "18764  Sinel is also shit and more expensive lol . Th...      11/16/2022 0:34   \n",
      "26214                                HOW CAN DIS B ALLOW      11/17/2020 7:24   \n",
      "26242  I support two state solution but not what Hama...  2023-10-14 06:12:02   \n",
      "28196                 When did you choose to be straight      12/10/2021 8:36   \n",
      "28410  You gonna cry little pathetic abandoned virgin :D        1/8/2022 9:46   \n",
      "29000  Limpeh got 2 girls want to bang but limpeh sca...  2020-05-29 04:21:43   \n",
      "29182  Why do kids on public transport have to be scr...  2020-03-11 01:35:41   \n",
      "29366  And here I thought city folks are educated. Bu...  2020-04-19 01:59:59   \n",
      "29385                  No homo please, this is Singapore         25/7/22 9:20   \n",
      "31587  Unfortunately there is no reservation for Chin...        1/9/2023 5:17   \n",
      "32263                              HOW CAN DIS B ALLOW!!     22/10/2020 15:08   \n",
      "32688  Why do kids on public transport have to be scr...       11/3/2020 1:24   \n",
      "33709                             How about you be a man       4/17/2023 8:45   \n",
      "33859  Whats the difference between a police officer ...       20/9/2023 3:18   \n",
      "34088   The beatings will continue until morale improves        9/5/2021 4:50   \n",
      "34803                 When did you choose to be straight       7/30/2022 6:14   \n",
      "35343            there are white people outside my house  2022-07-31 10:12:51   \n",
      "36777  You gonna cry little pathetic abandoned virgin :D        8/1/2022 9:45   \n",
      "36874  Limpeh got 2 girls want to bang but limpeh sca...       29/5/2020 4:21   \n",
      "37466                  No homo please, this is Singapore        7/7/2022 1:21   \n",
      "37841  I support two state solution but not what Hama...  2023-10-14 06:11:48   \n",
      "37938  Then it make sense, you will deal with lots of...      9/14/2020 22:27   \n",
      "39674  you must be female. Wouldn't surprise me In th...      11/3/2023 12:10   \n",
      "40000  Unfortunately there is no reservation for Chin...  2023-09-01 05:17:16   \n",
      "42208                        You are a retard fat cibai.      7/18/2021 17:06   \n",
      "42264  Sinel is also shit and more expensive lol . Th...        16/11/22 0:37   \n",
      "44454  You gonna cry little pathetic abandoned virgin :D        1/8/2022 9:43   \n",
      "44636  The damn thing I never understood about Indian...       27/6/2022 2:29   \n",
      "\n",
      "                   username  \\\n",
      "3565               KJting98   \n",
      "3593         Doraemonhacker   \n",
      "3644            lostbutokay   \n",
      "3686      spore_fact_genius   \n",
      "3827             sinkieborn   \n",
      "3987            ELSI_Aggron   \n",
      "4183             mizzery123   \n",
      "5218             mizzery123   \n",
      "5492               lord2528   \n",
      "6448          Only-Alarm545   \n",
      "8188    I_SNIFF_FARTS_DAILY   \n",
      "8563               heeroena   \n",
      "8698   uncomfortablehistory   \n",
      "9327              Illoyonex   \n",
      "10095                wyngit   \n",
      "11492     SimpleReadingSG90   \n",
      "11576           M2MResearch   \n",
      "13303              cuckIory   \n",
      "13397              cuckIory   \n",
      "14268           M2MResearch   \n",
      "14382           tom-slacker   \n",
      "14629           ELSI_Aggron   \n",
      "14945            mizzery123   \n",
      "15110              cuckIory   \n",
      "15299                wyngit   \n",
      "15302            sinkieborn   \n",
      "16308   I_SNIFF_FARTS_DAILY   \n",
      "16787        Doraemonhacker   \n",
      "17235      loveforlandlords   \n",
      "17850    AyamBrandCurryTuna   \n",
      "18039           KeenStudent   \n",
      "18764  EconomyIndependence2   \n",
      "26214           tom-slacker   \n",
      "26242           tigerkingsg   \n",
      "28196          tegeusCromis   \n",
      "28410            mizzery123   \n",
      "29000         ArmedSweeping   \n",
      "29182   donteatmycheesecake   \n",
      "29366              lord2528   \n",
      "29385    AyamBrandCurryTuna   \n",
      "31587              ZXcvk123   \n",
      "32263          blackwoodsix   \n",
      "32688   donteatmycheesecake   \n",
      "33709           lostbutokay   \n",
      "33859         Only-Alarm545   \n",
      "34088      interesting_user   \n",
      "34803                jkohlc   \n",
      "35343     spore_fact_genius   \n",
      "36777            mizzery123   \n",
      "36874         ArmedSweeping   \n",
      "37466    AyamBrandCurryTuna   \n",
      "37841           tigerkingsg   \n",
      "37938      I_will_take_that   \n",
      "39674              heeroena   \n",
      "40000              ZXcvk123   \n",
      "42208              KJting98   \n",
      "42264  EconomyIndependence2   \n",
      "44454            mizzery123   \n",
      "44636             Illoyonex   \n",
      "\n",
      "                                                    link     link_id  \\\n",
      "3565   /r/SingaporeRaw/comments/ommo1f/actual_footage...   t3_ommo1f   \n",
      "3593   /r/singapore/comments/s81tat/rsingapore_random...   t3_s81tat   \n",
      "3644   /r/SingaporeRaw/comments/12p6p11/what_should_i...  t3_12p6p11   \n",
      "3686        /r/SingaporeRaw/comments/wcjf6p/psa/iidi3i1/   t3_wcjf6p   \n",
      "3827   /r/SingaporeRaw/comments/15wd7v6/singaporeans_...  t3_15wd7v6   \n",
      "3987   /r/SingaporeRaw/comments/14d1n23/jocelyn_chia_...  t3_14d1n23   \n",
      "4183   /r/singapore/comments/ryp2oh/i_just_want_my_li...   t3_ryp2oh   \n",
      "5218   /r/singapore/comments/ryp2oh/i_just_want_my_li...   t3_ryp2oh   \n",
      "5492   /r/singapore/comments/g3m60f/sporean_msian_stu...   t3_g3m60f   \n",
      "6448   /r/SingaporeRaw/comments/16nfcif/woman_admits_...  t3_16nfcif   \n",
      "8188   /r/singapore/comments/tohnf8/explainer_how_is_...   t3_tohnf8   \n",
      "8563   /r/SingaporeRaw/comments/11nisqo/sinkies_if_yo...  t3_11nisqo   \n",
      "8698   /r/singapore/comments/yol9q5/singapores_gst_hi...   t3_yol9q5   \n",
      "9327   /r/SingaporeRaw/comments/vl0nuu/indian_incel_c...   t3_vl0nuu   \n",
      "10095        /r/singapore/comments/gbj5gx/青春123/fp7u90e/   t3_gbj5gx   \n",
      "11492  /r/singapore/comments/uh8km2/hdb_neighbor_has_...   t3_uh8km2   \n",
      "11576  /r/singapore/comments/s5mssi/rsingapore_random...   t3_s5mssi   \n",
      "13303  /r/SingaporeRaw/comments/14mxrwb/why_we_should...  t3_14mxrwb   \n",
      "13397  /r/SingaporeRaw/comments/14mxrwb/why_we_should...  t3_14mxrwb   \n",
      "14268  /r/singapore/comments/s5mssi/rsingapore_random...   t3_s5mssi   \n",
      "14382  /r/singapore/comments/j3b5du/when_the_value_do...   t3_j3b5du   \n",
      "14629  /r/singaporehappenings/comments/14d1o7m/jocely...  t3_14d1o7m   \n",
      "14945  /r/singapore/comments/ryp2oh/i_just_want_my_li...   t3_ryp2oh   \n",
      "15110  /r/SingaporeRaw/comments/14mxrwb/why_we_should...  t3_14mxrwb   \n",
      "15299        /r/singapore/comments/gbj5gx/青春123/fp7t9br/   t3_gbj5gx   \n",
      "15302  /r/SingaporeRaw/comments/15wd7v6/singaporeans_...  t3_15wd7v6   \n",
      "16308  /r/SingaporeRaw/comments/votvbt/academic_gaps_...   t3_votvbt   \n",
      "16787  /r/singapore/comments/rdju3s/rsingapore_random...   t3_rdju3s   \n",
      "17235  /r/singapore/comments/isicas/so_i_went_for_an_...   t3_isicas   \n",
      "17850  /r/SingaporeRaw/comments/w5x6d4/yesterday_i_as...   t3_w5x6d4   \n",
      "18039  /r/SingaporeRaw/comments/14mxrwb/why_we_should...  t3_14mxrwb   \n",
      "18764  /r/singapore/comments/yw0118/starhub_received_...   t3_yw0118   \n",
      "26214  /r/singapore/comments/jvnvc0/samurai_beef_burg...   t3_jvnvc0   \n",
      "26242  /r/singaporehappenings/comments/177hvqf/palest...  t3_177hvqf   \n",
      "28196  /r/singapore/comments/q6dp5b/i_like_guys_are_y...   t3_q6dp5b   \n",
      "28410  /r/singapore/comments/ryp2oh/i_just_want_my_li...   t3_ryp2oh   \n",
      "29000  /r/singapore/comments/gsfwu8/rsingapore_random...   t3_gsfwu8   \n",
      "29182  /r/singapore/comments/fgm1es/rsingapore_random...   t3_fgm1es   \n",
      "29366  /r/singapore/comments/g3m60f/sporean_msian_stu...   t3_g3m60f   \n",
      "29385  /r/SingaporeRaw/comments/w7hutb/national_secur...   t3_w7hutb   \n",
      "31587  /r/SingaporeRaw/comments/pqghsr/is_reserving_p...   t3_pqghsr   \n",
      "32263  /r/singapore/comments/jfv2vt/sporean_couple_go...   t3_jfv2vt   \n",
      "32688  /r/singapore/comments/fgm1es/rsingapore_random...   t3_fgm1es   \n",
      "33709  /r/SingaporeRaw/comments/12p6p11/what_should_i...  t3_12p6p11   \n",
      "33859  /r/SingaporeRaw/comments/16n95uo/over_900_for_...  t3_16n95uo   \n",
      "34088  /r/singapore/comments/pi4uyz/my_mental_health_...   t3_pi4uyz   \n",
      "34803  /r/SingaporeRaw/comments/waszat/curious_about_...   t3_waszat   \n",
      "35343       /r/SingaporeRaw/comments/wcjf6p/psa/iid6kv4/   t3_wcjf6p   \n",
      "36777  /r/singapore/comments/ryp2oh/i_just_want_my_li...   t3_ryp2oh   \n",
      "36874  /r/singapore/comments/gn4e53/rsingapore_keepin...   t3_gn4e53   \n",
      "37466  /r/SingaporeRaw/comments/vsyag4/abandoned_as_a...   t3_vsyag4   \n",
      "37841  /r/singaporehappenings/comments/177hvqf/palest...  t3_177hvqf   \n",
      "37938  /r/singapore/comments/isicas/so_i_went_for_an_...   t3_isicas   \n",
      "39674  /r/SingaporeRaw/comments/11nisqo/sinkies_if_yo...  t3_11nisqo   \n",
      "40000  /r/SingaporeRaw/comments/pqghsr/is_reserving_p...   t3_pqghsr   \n",
      "42208  /r/SingaporeRaw/comments/ommo1f/actual_footage...   t3_ommo1f   \n",
      "42264  /r/singapore/comments/yw0118/starhub_received_...   t3_yw0118   \n",
      "44454  /r/singapore/comments/ryp2oh/i_just_want_my_li...   t3_ryp2oh   \n",
      "44636  /r/SingaporeRaw/comments/vl0nuu/indian_incel_c...   t3_vl0nuu   \n",
      "\n",
      "        parent_id       id subreddit_id  \\\n",
      "3565   t1_h5m4x9x  h5ng9wx     t5_xnx04   \n",
      "3593   t1_htfhdot  htfijqe     t5_2qh8c   \n",
      "3644   t3_12p6p11  jgl7z7o     t5_xnx04   \n",
      "3686   t1_iidhymw  iidi3i1     t5_xnx04   \n",
      "3827   t1_jx3e5aa  jx3eem8     t5_xnx04   \n",
      "3987   t1_jp2zway  jp3i1cs     t5_xnx04   \n",
      "4183   t1_hrrbu7i  hrrgdri     t5_2qh8c   \n",
      "5218   t1_hrrdsnd  hrrgg17     t5_2qh8c   \n",
      "5492   t1_fnufgaq  fnugkvs     t5_2qh8c   \n",
      "6448   t3_16nfcif  k1e34nu     t5_xnx04   \n",
      "8188   t1_i26x5bl  i28derz     t5_2qh8c   \n",
      "8563   t1_jbsqlbk  jbsrcny     t5_xnx04   \n",
      "8698   t1_iven0s3  iveqgcp     t5_2qh8c   \n",
      "9327   t1_idsh6wy  idvrxvx     t5_xnx04   \n",
      "10095   t3_gbj5gx  fp7u90e     t5_2qh8c   \n",
      "11492   t3_uh8km2  i74vb84     t5_2qh8c   \n",
      "11576  t1_ht28xei  ht457fx     t5_2qh8c   \n",
      "13303  t1_jqies10  jqiwq64     t5_xnx04   \n",
      "13397  t1_jquz307  jqv02tp     t5_xnx04   \n",
      "14268  t1_ht28f98  ht45ai2     t5_2qh8c   \n",
      "14382   t3_j3b5du  g7dtsxq     t5_2qh8c   \n",
      "14629  t1_jp3a5zc  jp3i2vx    t5_70s6ew   \n",
      "14945  t1_hrrbu7i  hrrghq3     t5_2qh8c   \n",
      "15110  t1_jqrsqjb  jqrt3ls     t5_xnx04   \n",
      "15299   t3_gbj5gx  fp7t9br     t5_2qh8c   \n",
      "15302  t1_jx3e5aa  jx3edlj     t5_xnx04   \n",
      "16308  t1_ief7jeq  iefk2ov     t5_xnx04   \n",
      "16787  t1_ho3yswc  ho3zolo     t5_2qh8c   \n",
      "17235  t1_g59ymvt  g5b1ux8     t5_2qh8c   \n",
      "17850   t3_w5x6d4  ihe9gyj     t5_xnx04   \n",
      "18039  t1_jqdwe3g  jqies10     t5_xnx04   \n",
      "18764   t3_yw0118  iwj4zg2     t5_2qh8c   \n",
      "26214   t3_jvnvc0  gcl8z5b     t5_2qh8c   \n",
      "26242  t3_177hvqf  k4t73so    t5_70s6ew   \n",
      "28196  t1_hgbyitu  hgbzm0q     t5_2qh8c   \n",
      "28410  t1_hrrcpty  hrrdvnm     t5_2qh8c   \n",
      "29000   t3_gsfwu8  fs60c60     t5_2qh8c   \n",
      "29182  t1_fk5ywru  fk5z29v     t5_2qh8c   \n",
      "29366  t1_fnufdn9  fnugkvn     t5_2qh8c   \n",
      "29385   t3_w7hutb  ihk2834     t5_xnx04   \n",
      "31587  t1_hdbdth0  jymlc4h     t5_xnx04   \n",
      "32263  t1_g9mnokm  g9njlr7     t5_2qh8c   \n",
      "32688  t1_fk5v8f0  fk5xrpl     t5_2qh8c   \n",
      "33709  t3_12p6p11  jgl80ks     t5_xnx04   \n",
      "33859  t3_16n95uo  k1d9mjk     t5_xnx04   \n",
      "34088  t1_hbnh40k  hbnje0o     t5_2qh8c   \n",
      "34803   t3_waszat  ii88b0j     t5_xnx04   \n",
      "35343  t1_iid67z1  iid6kv4     t5_xnx04   \n",
      "36777  t1_hrrbwa5  hrrdrj2     t5_2qh8c   \n",
      "36874   t3_gn4e53  fs60ba8     t5_2qh8c   \n",
      "37466   t3_vsyag4  if5fg7g     t5_xnx04   \n",
      "37841  t1_k4t5s3l  k4t7340    t5_70s6ew   \n",
      "37938  t1_g59ymvt  g5amown     t5_2qh8c   \n",
      "39674  t1_jbsmob1  jbsoj2t     t5_xnx04   \n",
      "40000  t1_hdb78pt  jymlbgs     t5_xnx04   \n",
      "42208  t1_h5m0fco  h5ng4vz     t5_xnx04   \n",
      "42264   t3_yw0118  iwj5b60     t5_2qh8c   \n",
      "44454  t1_hrrbwa5  hrrdm7y     t5_2qh8c   \n",
      "44636  t1_idsh6wy  idvrzkc     t5_xnx04   \n",
      "\n",
      "                                              moderation  year  word_count  \\\n",
      "3565   {'collapsed_reason_code': None, 'collapsed_rea...  2021         6.0   \n",
      "3593   {'controversiality': 0, 'collapsed_reason_code...  2022         5.0   \n",
      "3644   {'banned_at_utc': None, 'mod_reason_by': None,...  2023         6.0   \n",
      "3686   {'controversiality': 0, 'collapsed_reason_code...  2022         7.0   \n",
      "3827   {'banned_at_utc': None, 'mod_reason_by': None,...  2023        14.0   \n",
      "3987   {'banned_at_utc': None, 'mod_reason_by': None,...  2023        30.0   \n",
      "4183   {'controversiality': 0, 'collapsed_reason_code...  2022         8.0   \n",
      "5218   {'controversiality': 0, 'collapsed_reason_code...  2022         8.0   \n",
      "5492   {'removal_reason': None, 'collapsed': False, '...  2020        37.0   \n",
      "6448   {'banned_at_utc': None, 'mod_reason_by': None,...  2023        21.0   \n",
      "8188   {'controversiality': 0, 'collapsed_reason_code...  2022         6.0   \n",
      "8563   {'controversiality': 0, 'collapsed_reason_code...  2023        12.0   \n",
      "8698   {'controversiality': 0, 'collapsed_reason_code...  2022         7.0   \n",
      "9327   {'controversiality': 0, 'collapsed_reason_code...  2022        43.0   \n",
      "10095  {'removal_reason': None, 'collapsed': True, 'c...  2020        10.0   \n",
      "11492  {'controversiality': 1, 'collapsed_reason_code...  2022         5.0   \n",
      "11576  {'controversiality': 0, 'collapsed_reason_code...  2022        45.0   \n",
      "13303  {'banned_at_utc': None, 'mod_reason_by': None,...  2023        11.0   \n",
      "13397  {'banned_at_utc': None, 'mod_reason_by': None,...  2023        11.0   \n",
      "14268  {'controversiality': 0, 'collapsed_reason_code...  2022        45.0   \n",
      "14382  {'removal_reason': None, 'collapsed': False, '...  2020         5.0   \n",
      "14629  {'banned_at_utc': None, 'mod_reason_by': None,...  2023        30.0   \n",
      "14945  {'controversiality': 0, 'collapsed_reason_code...  2022         8.0   \n",
      "15110  {'banned_at_utc': None, 'mod_reason_by': None,...  2023        11.0   \n",
      "15299  {'removal_reason': None, 'collapsed': False, '...  2020        10.0   \n",
      "15302  {'banned_at_utc': None, 'mod_reason_by': None,...  2023        14.0   \n",
      "16308  {'controversiality': 0, 'collapsed_reason_code...  2022         6.0   \n",
      "16787  {'collapsed_reason_code': None, 'collapsed_rea...  2021         5.0   \n",
      "17235  {'removal_reason': None, 'collapsed': True, 'c...  2020        21.0   \n",
      "17850  {'controversiality': 0, 'collapsed_reason_code...  2022         6.0   \n",
      "18039  {'banned_at_utc': None, 'mod_reason_by': None,...  2023        11.0   \n",
      "18764  {'controversiality': 0, 'collapsed_reason_code...  2022        45.0   \n",
      "26214  {'removal_reason': None, 'collapsed': False, '...  2020         5.0   \n",
      "26242  {'banned_at_utc': None, 'mod_reason_by': None,...  2023        33.0   \n",
      "28196  {'collapsed_reason_code': None, 'collapsed_rea...  2021         7.0   \n",
      "28410  {'controversiality': 0, 'collapsed_reason_code...  2022         8.0   \n",
      "29000  {'removal_reason': None, 'collapsed': True, 'c...  2020        16.0   \n",
      "29182  {'removal_reason': None, 'collapsed': False, '...  2020        13.0   \n",
      "29366  {'removal_reason': None, 'collapsed': True, 'c...  2020        37.0   \n",
      "29385  {'controversiality': 0, 'collapsed_reason_code...  2022         6.0   \n",
      "31587  {'banned_at_utc': None, 'mod_reason_by': None,...  2023        16.0   \n",
      "32263  {'removal_reason': None, 'collapsed': False, '...  2020         5.0   \n",
      "32688  {'removal_reason': None, 'collapsed': False, '...  2020        13.0   \n",
      "33709  {'banned_at_utc': None, 'mod_reason_by': None,...  2023         6.0   \n",
      "33859  {'banned_at_utc': None, 'mod_reason_by': None,...  2023        21.0   \n",
      "34088  {'collapsed_reason_code': None, 'collapsed_rea...  2021         7.0   \n",
      "34803  {'controversiality': 0, 'collapsed_reason_code...  2022         7.0   \n",
      "35343  {'controversiality': 0, 'collapsed_reason_code...  2022         7.0   \n",
      "36777  {'controversiality': 0, 'collapsed_reason_code...  2022         8.0   \n",
      "36874  {'removal_reason': None, 'collapsed': True, 'c...  2020        16.0   \n",
      "37466  {'controversiality': 0, 'collapsed_reason_code...  2022         6.0   \n",
      "37841  {'banned_at_utc': None, 'mod_reason_by': None,...  2023        33.0   \n",
      "37938  {'removal_reason': None, 'collapsed': False, '...  2020        21.0   \n",
      "39674  {'controversiality': 0, 'collapsed_reason_code...  2023        12.0   \n",
      "40000  {'banned_at_utc': None, 'mod_reason_by': None,...  2023        16.0   \n",
      "42208  {'collapsed_reason_code': None, 'collapsed_rea...  2021         6.0   \n",
      "42264  {'controversiality': 1, 'collapsed_reason_code...  2022        45.0   \n",
      "44454  {'controversiality': 0, 'collapsed_reason_code...  2022         8.0   \n",
      "44636  {'controversiality': 0, 'collapsed_reason_code...  2022        43.0   \n",
      "\n",
      "      Sensitive Group Classification  \\\n",
      "3565               No        Toxic 2   \n",
      "3593               No        Toxic 2   \n",
      "3644               No        Toxic 1   \n",
      "3686              Yes         Hate 1   \n",
      "3827              Yes         Hate 2   \n",
      "3987               No        Toxic 1   \n",
      "4183               No        Toxic 2   \n",
      "5218               No        Toxic 2   \n",
      "5492              Yes         Hate 1   \n",
      "6448               No        Toxic 2   \n",
      "8188              Yes         Hate 1   \n",
      "8563              Yes         Hate 1   \n",
      "8698               No        Toxic 2   \n",
      "9327              Yes         Hate 1   \n",
      "10095             Yes         Hate 1   \n",
      "11492             Yes         Hate 1   \n",
      "11576             Yes         Hate 1   \n",
      "13303              No        Toxic 2   \n",
      "13397              No        Toxic 2   \n",
      "14268             Yes         Hate 1   \n",
      "14382              No        Toxic 1   \n",
      "14629              No        Toxic 2   \n",
      "14945              No        Toxic 2   \n",
      "15110              No        Toxic 2   \n",
      "15299             Yes         Hate 1   \n",
      "15302             Yes         Hate 1   \n",
      "16308             Yes         Hate 1   \n",
      "16787              No        Toxic 2   \n",
      "17235             Yes         Hate 1   \n",
      "17850             Yes         Hate 1   \n",
      "18039              No        Toxic 2   \n",
      "18764              No        Toxic 1   \n",
      "26214              No        Toxic 1   \n",
      "26242             Yes         Hate 1   \n",
      "28196             Yes         Hate 1   \n",
      "28410              No        Toxic 2   \n",
      "29000              No        Toxic 1   \n",
      "29182              No        Toxic 1   \n",
      "29366             Yes         Hate 1   \n",
      "29385             Yes         Hate 1   \n",
      "31587             Yes         Hate 1   \n",
      "32263              No        Toxic 1   \n",
      "32688              No        Toxic 1   \n",
      "33709             Yes         Hate 1   \n",
      "33859              No        Toxic 2   \n",
      "34088              No        Toxic 1   \n",
      "34803             Yes         Hate 1   \n",
      "35343             Yes         Hate 1   \n",
      "36777              No        Toxic 1   \n",
      "36874              No        Toxic 1   \n",
      "37466             Yes         Hate 1   \n",
      "37841             Yes         Hate 1   \n",
      "37938             Yes         Hate 1   \n",
      "39674             Yes         Hate 1   \n",
      "40000             Yes         Hate 1   \n",
      "42208              No        Toxic 2   \n",
      "42264              No        Toxic 1   \n",
      "44454              No        Toxic 2   \n",
      "44636             Yes         Hate 1   \n",
      "\n",
      "                                              clean_text  custom_topic  \\\n",
      "3565                                    retard fat cibai            24   \n",
      "3593                                     bet u look dyel            65   \n",
      "3644                                                 man            73   \n",
      "3686                          white people outside house            14   \n",
      "3827   congrats mean one less foreign thrash singapor...             2   \n",
      "3987   tilted decided stalk ask get life maybe one ge...           130   \n",
      "4183          gonna cry little pathetic abandoned virgin           236   \n",
      "5218          gonna cry little pathetic abandoned virgin           236   \n",
      "5492   thought city folks educated expect country for...             3   \n",
      "6448   whats difference police officer bullet bullet ...            32   \n",
      "8188                                      brain religion             1   \n",
      "8563   must female wouldnt surprise gynocentric femin...             4   \n",
      "8698                   beatings continue morale improves            -1   \n",
      "9327   damn thing never understood indians worship we...             8   \n",
      "10095  wow never rsingapores main age demographic app...             7   \n",
      "11492                                        dis b allow            -1   \n",
      "11576  thanks suggestion team posted back success rat...             5   \n",
      "13303           seem trying best understand simple words            -1   \n",
      "13397           seem trying best understand simple words            -1   \n",
      "14268  thanks suggestion team posted back success rat...             5   \n",
      "14382                                        dis b allow            -1   \n",
      "14629  tilted decided stalk ask get life maybe one ge...           130   \n",
      "14945         gonna cry little pathetic abandoned virgin           236   \n",
      "15110           seem trying best understand simple words            -1   \n",
      "15299  wow never rsingapores main age demographic app...             7   \n",
      "15302  congrats mean one less foreign thrash singapor...             2   \n",
      "16308                                     brain religion             1   \n",
      "16787                                    bet u look dyel            65   \n",
      "17235  make sense deal lots chinese towkays terrible ...             0   \n",
      "17850                              homo please singapore           171   \n",
      "18039           seem trying best understand simple words            -1   \n",
      "18764  sinel also expensive lol put kinds rubbish con...            -1   \n",
      "26214                                        dis b allow            -1   \n",
      "26242  support two state solution hamas war hamas rig...            51   \n",
      "28196                                    choose straight            -1   \n",
      "28410         gonna cry little pathetic abandoned virgin           236   \n",
      "29000  limpeh got 2 girls want bang limpeh scared ken...            -1   \n",
      "29182               kids public transport screaming time            -1   \n",
      "29366  thought city folks educated expect country for...             3   \n",
      "29385                              homo please singapore           171   \n",
      "31587  unfortunately reservation chinese pm copium mi...             0   \n",
      "32263                                        dis b allow            -1   \n",
      "32688               kids public transport screaming time            -1   \n",
      "33709                                                man            73   \n",
      "33859  whats difference police officer bullet bullet ...            32   \n",
      "34088                  beatings continue morale improves            -1   \n",
      "34803                                    choose straight            -1   \n",
      "35343                         white people outside house            14   \n",
      "36777         gonna cry little pathetic abandoned virgin           236   \n",
      "36874  limpeh got 2 girls want bang limpeh scared ken...            -1   \n",
      "37466                              homo please singapore           171   \n",
      "37841  support two state solution hamas war hamas rig...            51   \n",
      "37938  make sense deal lots chinese towkays terrible ...             0   \n",
      "39674  must female wouldnt surprise gynocentric femin...             4   \n",
      "40000  unfortunately reservation chinese pm copium mi...             0   \n",
      "42208                                   retard fat cibai            24   \n",
      "42264  sinel also expensive lol put kinds rubbish con...            -1   \n",
      "44454         gonna cry little pathetic abandoned virgin           236   \n",
      "44636  damn thing never understood indians worship we...             8   \n",
      "\n",
      "                                             Topic_Words  Updated_Topic  \\\n",
      "3565   fat, fats, fatness, fatphobic, overweight, ski...             11   \n",
      "3593   looks, like, look, looking, fuckable, horlick,...             50   \n",
      "3644   hang, grab, pull, put, fica, get, caned, take,...             56   \n",
      "3686   whiteness, whites, caucasians, caucasian, whit...              0   \n",
      "3827   singaporeans, singaporean, singapores, singapo...              2   \n",
      "3987   stalk, life, army, survives, allthat, kill, fu...            108   \n",
      "4183   virgin, virgins, virginity, cry, sad, pussy, s...            202   \n",
      "5218   virgin, virgins, virginity, cry, sad, pussy, s...            202   \n",
      "5492   foreigners, foreigner, immigrants, foreign, im...              0   \n",
      "6448   police, policeman, cop, cops, polis, 我支持河南警察, ...             21   \n",
      "8188   muslims, christians, muslim, islamic, christia...              1   \n",
      "8563   feminism, sexism, feminists, feminist, sexist,...              3   \n",
      "8698   singaporean, singapore, race, countries, cant,...             -1   \n",
      "9327   indian, indias, indians, india, hindu, hindi, ...              0   \n",
      "10095  boomers, boomer, millennials, millenials, mill...              5   \n",
      "11492  singaporean, singapore, race, countries, cant,...             -1   \n",
      "11576  racist, racists, racism, racial, racially, int...              0   \n",
      "13303  singaporean, singapore, race, countries, cant,...             -1   \n",
      "13397  singaporean, singapore, race, countries, cant,...             -1   \n",
      "14268  racist, racists, racism, racial, racially, int...              0   \n",
      "14382  singaporean, singapore, race, countries, cant,...             -1   \n",
      "14629  stalk, life, army, survives, allthat, kill, fu...            108   \n",
      "14945  virgin, virgins, virginity, cry, sad, pussy, s...            202   \n",
      "15110  singaporean, singapore, race, countries, cant,...             -1   \n",
      "15299  boomers, boomer, millennials, millenials, mill...              5   \n",
      "15302  singaporeans, singaporean, singapores, singapo...              2   \n",
      "16308  muslims, christians, muslim, islamic, christia...              1   \n",
      "16787  looks, like, look, looking, fuckable, horlick,...             50   \n",
      "17235  chinese, china, chinas, nonchinese, mandarin, ...              0   \n",
      "17850  homophobia, homosexuality, homophobics, homoph...              4   \n",
      "18039  singaporean, singapore, race, countries, cant,...             -1   \n",
      "18764  singaporean, singapore, race, countries, cant,...             -1   \n",
      "26214  singaporean, singapore, race, countries, cant,...             -1   \n",
      "26242  israelis, israeljews, israeli, israels, palest...             37   \n",
      "28196  singaporean, singapore, race, countries, cant,...             -1   \n",
      "28410  virgin, virgins, virginity, cry, sad, pussy, s...            202   \n",
      "29000  singaporean, singapore, race, countries, cant,...             -1   \n",
      "29182  singaporean, singapore, race, countries, cant,...             -1   \n",
      "29366  foreigners, foreigner, immigrants, foreign, im...              0   \n",
      "29385  homophobia, homosexuality, homophobics, homoph...              4   \n",
      "31587  chinese, china, chinas, nonchinese, mandarin, ...              0   \n",
      "32263  singaporean, singapore, race, countries, cant,...             -1   \n",
      "32688  singaporean, singapore, race, countries, cant,...             -1   \n",
      "33709  hang, grab, pull, put, fica, get, caned, take,...             56   \n",
      "33859  police, policeman, cop, cops, polis, 我支持河南警察, ...             21   \n",
      "34088  singaporean, singapore, race, countries, cant,...             -1   \n",
      "34803  singaporean, singapore, race, countries, cant,...             -1   \n",
      "35343  whiteness, whites, caucasians, caucasian, whit...              0   \n",
      "36777  virgin, virgins, virginity, cry, sad, pussy, s...            202   \n",
      "36874  singaporean, singapore, race, countries, cant,...             -1   \n",
      "37466  homophobia, homosexuality, homophobics, homoph...              4   \n",
      "37841  israelis, israeljews, israeli, israels, palest...             37   \n",
      "37938  chinese, china, chinas, nonchinese, mandarin, ...              0   \n",
      "39674  feminism, sexism, feminists, feminist, sexist,...              3   \n",
      "40000  chinese, china, chinas, nonchinese, mandarin, ...              0   \n",
      "42208  fat, fats, fatness, fatphobic, overweight, ski...             11   \n",
      "42264  singaporean, singapore, race, countries, cant,...             -1   \n",
      "44454  virgin, virgins, virginity, cry, sad, pussy, s...            202   \n",
      "44636  indian, indias, indians, india, hindu, hindi, ...              0   \n",
      "\n",
      "       Final Topic Final Topic Name  \\\n",
      "3565          13.0       Body Image   \n",
      "3593           NaN              NaN   \n",
      "3644           NaN              NaN   \n",
      "3686           1.0           Racism   \n",
      "3827           1.0           Racism   \n",
      "3987           NaN              NaN   \n",
      "4183           NaN              NaN   \n",
      "5218           NaN              NaN   \n",
      "5492           1.0           Racism   \n",
      "6448           NaN              NaN   \n",
      "8188           2.0         Religion   \n",
      "8563           7.0           Gender   \n",
      "8698           NaN              NaN   \n",
      "9327           1.0           Racism   \n",
      "10095          3.0     Generational   \n",
      "11492          NaN              NaN   \n",
      "11576          1.0           Racism   \n",
      "13303          NaN              NaN   \n",
      "13397          NaN              NaN   \n",
      "14268          1.0           Racism   \n",
      "14382          NaN              NaN   \n",
      "14629          NaN              NaN   \n",
      "14945          NaN              NaN   \n",
      "15110          NaN              NaN   \n",
      "15299          3.0     Generational   \n",
      "15302          1.0           Racism   \n",
      "16308          2.0         Religion   \n",
      "16787          NaN              NaN   \n",
      "17235          1.0           Racism   \n",
      "17850          4.0           LGBTQ+   \n",
      "18039          NaN              NaN   \n",
      "18764          NaN              NaN   \n",
      "26214          NaN              NaN   \n",
      "26242          NaN              NaN   \n",
      "28196          NaN              NaN   \n",
      "28410          NaN              NaN   \n",
      "29000          NaN              NaN   \n",
      "29182          NaN              NaN   \n",
      "29366          1.0           Racism   \n",
      "29385          4.0           LGBTQ+   \n",
      "31587          1.0           Racism   \n",
      "32263          NaN              NaN   \n",
      "32688          NaN              NaN   \n",
      "33709          NaN              NaN   \n",
      "33859          NaN              NaN   \n",
      "34088          NaN              NaN   \n",
      "34803          NaN              NaN   \n",
      "35343          1.0           Racism   \n",
      "36777          NaN              NaN   \n",
      "36874          NaN              NaN   \n",
      "37466          4.0           LGBTQ+   \n",
      "37841          NaN              NaN   \n",
      "37938          1.0           Racism   \n",
      "39674          7.0           Gender   \n",
      "40000          1.0           Racism   \n",
      "42208         13.0       Body Image   \n",
      "42264          NaN              NaN   \n",
      "44454          NaN              NaN   \n",
      "44636          1.0           Racism   \n",
      "\n",
      "                                    Final Topic Keywords  \n",
      "3565   fat, fatphobic, fatness, overweight, obesity, ...  \n",
      "3593   looks, like, look, looking, fuckable, horlick,...  \n",
      "3644   hang, grab, pull, put, fica, get, caned, take,...  \n",
      "3686   chinese, china, mandarin, nonchinese, singapor...  \n",
      "3827   singaporeans, singaporean, singapores, singapo...  \n",
      "3987   army, stalk, serve, survives, life, allthat, n...  \n",
      "4183   virgin, virgins, virginity, cry, sad, pussy, s...  \n",
      "5218   virgin, virgins, virginity, cry, sad, pussy, s...  \n",
      "5492   chinese, china, mandarin, nonchinese, singapor...  \n",
      "6448   police, policeman, cop, cops, polis, 我支持河南警察, ...  \n",
      "8188   religion, religious, religions, islam, muslim,...  \n",
      "8563   sexism, feminism, sexist, feminists, feminist,...  \n",
      "8698   singaporean, singapore, race, countries, cant,...  \n",
      "9327   chinese, china, mandarin, nonchinese, singapor...  \n",
      "10095  boomers, millennials, boomer, millenials, mill...  \n",
      "11492  singaporean, singapore, race, countries, cant,...  \n",
      "11576  chinese, china, mandarin, nonchinese, singapor...  \n",
      "13303  singaporean, singapore, race, countries, cant,...  \n",
      "13397  singaporean, singapore, race, countries, cant,...  \n",
      "14268  chinese, china, mandarin, nonchinese, singapor...  \n",
      "14382  singaporean, singapore, race, countries, cant,...  \n",
      "14629  army, stalk, serve, survives, life, allthat, n...  \n",
      "14945  virgin, virgins, virginity, cry, sad, pussy, s...  \n",
      "15110  singaporean, singapore, race, countries, cant,...  \n",
      "15299  boomers, millennials, boomer, millenials, mill...  \n",
      "15302  singaporeans, singaporean, singapores, singapo...  \n",
      "16308  religion, religious, religions, islam, muslim,...  \n",
      "16787  looks, like, look, looking, fuckable, horlick,...  \n",
      "17235  chinese, china, mandarin, nonchinese, singapor...  \n",
      "17850  gays, gay, homosexuals, homos, homophobe, homo...  \n",
      "18039  singaporean, singapore, race, countries, cant,...  \n",
      "18764  singaporean, singapore, race, countries, cant,...  \n",
      "26214  singaporean, singapore, race, countries, cant,...  \n",
      "26242  israelis, israeljews, israeli, israels, palest...  \n",
      "28196  singaporean, singapore, race, countries, cant,...  \n",
      "28410  virgin, virgins, virginity, cry, sad, pussy, s...  \n",
      "29000  singaporean, singapore, race, countries, cant,...  \n",
      "29182  singaporean, singapore, race, countries, cant,...  \n",
      "29366  chinese, china, mandarin, nonchinese, singapor...  \n",
      "29385  gays, gay, homosexuals, homos, homophobe, homo...  \n",
      "31587  chinese, china, mandarin, nonchinese, singapor...  \n",
      "32263  singaporean, singapore, race, countries, cant,...  \n",
      "32688  singaporean, singapore, race, countries, cant,...  \n",
      "33709  hang, grab, pull, put, fica, get, caned, take,...  \n",
      "33859  police, policeman, cop, cops, polis, 我支持河南警察, ...  \n",
      "34088  singaporean, singapore, race, countries, cant,...  \n",
      "34803  singaporean, singapore, race, countries, cant,...  \n",
      "35343  chinese, china, mandarin, nonchinese, singapor...  \n",
      "36777  virgin, virgins, virginity, cry, sad, pussy, s...  \n",
      "36874  singaporean, singapore, race, countries, cant,...  \n",
      "37466  gays, gay, homosexuals, homos, homophobe, homo...  \n",
      "37841  israelis, israeljews, israeli, israels, palest...  \n",
      "37938  chinese, china, mandarin, nonchinese, singapor...  \n",
      "39674  sexism, feminism, sexist, feminists, feminist,...  \n",
      "40000  chinese, china, mandarin, nonchinese, singapor...  \n",
      "42208  fat, fatphobic, fatness, overweight, obesity, ...  \n",
      "42264  singaporean, singapore, race, countries, cant,...  \n",
      "44454  virgin, virgins, virginity, cry, sad, pussy, s...  \n",
      "44636  chinese, china, mandarin, nonchinese, singapor...  \n"
     ]
    }
   ],
   "source": [
    "print(\"Duplicate 'text' entries in final_df:\")\n",
    "print(existing_df[existing_df[\"text\"].duplicated(keep=False)])"
   ]
  },
  {
   "cell_type": "code",
   "execution_count": 77,
   "metadata": {},
   "outputs": [],
   "source": [
    "# Load existing CSV file\n",
    "existing_df = pd.read_csv(\n",
    "    \"/Users/sarahSTACS/DSA4264-Detoxify/model-2/final_topics_no_-1_redistribute.csv\"\n",
    ")\n",
    "neg_one_df = pd.read_csv(\n",
    "    \"/Users/sarahSTACS/Downloads/Telegram Lite/topics_-1_redistribute.csv\"\n",
    ")\n",
    "\n",
    "# Ensure that 'filtered_df' contains all necessary columns\n",
    "if \"Updated_Topic\" not in neg_one_df.columns:\n",
    "    filtered_df[\"updated_Topic\"] = (\n",
    "        None  # Adjust according to how you want to handle missing data\n",
    "    )\n",
    "\n",
    "if \"Final Topic Keywords\" not in neg_one_df.columns:\n",
    "    filtered_df[\"Final Topic Keywords\"] = (\n",
    "        None  # Adjust according to how you want to handle missing data\n",
    "    )\n",
    "\n",
    "# Append 'filtered_df' to 'existing_df'\n",
    "combined_final_df = pd.concat([existing_df, neg_one_df], ignore_index=True)\n",
    "\n",
    "# Replace -1.0 in 'Final Topic' with NaN and 'Outlier' in 'Final Topic Name' with NaN\n",
    "combined_final_df[\"Final Topic\"] = (\n",
    "    combined_final_df[\"Final Topic\"].replace(-1.0, pd.NA).astype(\"Int64\")\n",
    ")\n",
    "combined_final_df[\"Final Topic Name\"] = combined_final_df[\"Final Topic Name\"].replace(\n",
    "    \"Outlier\", pd.NA\n",
    ")\n",
    "combined_final_df[\"Updated_Topic\"] = combined_final_df[\"Updated_Topic\"].astype(\"Int64\")\n",
    "# Save the combined DataFrame to a new CSV file\n",
    "final_topic_df = combined_final_df.copy()\n",
    "final_topic_df.drop(\n",
    "    columns=[\"Updated_Topic\", \"Final Topic Keywords\"], errors=\"ignore\", inplace=True\n",
    ")\n",
    "\n",
    "# Save the adjusted combined DataFrame to a new CSV file\n",
    "final_topic_df.to_csv(\"final_topic_df.csv\", index=False)"
   ]
  },
  {
   "cell_type": "code",
   "execution_count": 78,
   "metadata": {},
   "outputs": [
    {
     "name": "stdout",
     "output_type": "stream",
     "text": [
      "Number of duplicate rows: 0\n"
     ]
    }
   ],
   "source": [
    "num_duplicates = final_topic_df.duplicated().sum()\n",
    "\n",
    "# Print the number of duplicate rows\n",
    "print(f\"Number of duplicate rows: {num_duplicates}\")"
   ]
  },
  {
   "cell_type": "code",
   "execution_count": 166,
   "metadata": {},
   "outputs": [],
   "source": [
    "filtered_df = filtered_df[filtered_df[\"custom_topic\"] != -1]\n",
    "\n",
    "# Save the filtered DataFrame to a CSV file\n",
    "filtered_df.to_csv(\"final_topics_no_-1_redistribute.csv\", index=False)"
   ]
  },
  {
   "cell_type": "markdown",
   "metadata": {},
   "source": [
    "merging df for original and -1 topic"
   ]
  },
  {
   "cell_type": "code",
   "execution_count": 127,
   "metadata": {},
   "outputs": [
    {
     "name": "stdout",
     "output_type": "stream",
     "text": [
      "Number of duplicate rows: 0\n"
     ]
    }
   ],
   "source": [
    "final_df = pd.read_csv(\"/Users/sarahSTACS/DSA4264-Detoxify/model-2/final_topic_df.csv\")\n",
    "neg_one_df = pd.read_csv(\"/Users/sarahSTACS/DSA4264-Detoxify/model-2/topic_-1_rep.csv\")\n",
    "# Function to clean topic words by removing numbers and underscores\n",
    "\n",
    "\n",
    "def clean_topic_words(topic):\n",
    "    # Remove leading -number_ or number_, then replace underscores with commas\n",
    "    cleaned_topic = re.sub(r\"^[-]?\\d+_\", \"\", topic)\n",
    "    return cleaned_topic.replace(\"_\", \", \")\n",
    "\n",
    "\n",
    "# Apply the cleaning function to the 'Topic Words' column in neg_one_df\n",
    "neg_one_df[\"Topic Words\"] = neg_one_df[\"Topic Words\"].apply(clean_topic_words)\n",
    "neg_one_df = neg_one_df.loc[:, ~neg_one_df.columns.str.contains(\"^Unnamed\")]\n",
    "num_duplicates = final_df.duplicated().sum()\n",
    "final_df = final_df.drop_duplicates()\n",
    "# Print the number of duplicate rows\n",
    "print(f\"Number of duplicate rows: {num_duplicates}\")\n",
    "filtered_no_neg_one = final_df[final_df[\"custom_topic\"] != -1]\n",
    "neg_one_df_for_append = (\n",
    "    neg_one_df.drop(columns=[\"Topic_Words\"])\n",
    "    .rename(columns={\"Topic Words\": \"Topic_Words\"})\n",
    "    .drop(columns=[\"Title_Words\", \"title_words_str\", \"Topic Representation\"])\n",
    ")\n",
    "# Append neg_one_df to final_df\n",
    "combined_df = pd.concat([filtered_no_neg_one, neg_one_df_for_append], ignore_index=True)\n",
    "combined_df = combined_df.rename(columns={\"Topic\": \"Topic Num\"})\n",
    "combined_df[\"Final Topic Name\"] = combined_df[\"Final Topic Name\"].replace(\n",
    "    \"Romanian\", \"Racism\"\n",
    ")\n",
    "combined_df.to_csv(\"combined_df.csv\", index=False)"
   ]
  }
 ],
 "metadata": {
  "kernelspec": {
   "display_name": "penv",
   "language": "python",
   "name": "python3"
  },
  "language_info": {
   "codemirror_mode": {
    "name": "ipython",
    "version": 3
   },
   "file_extension": ".py",
   "mimetype": "text/x-python",
   "name": "python",
   "nbconvert_exporter": "python",
   "pygments_lexer": "ipython3",
   "version": "3.12.7"
  }
 },
 "nbformat": 4,
 "nbformat_minor": 2
}
