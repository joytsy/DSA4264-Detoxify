{
 "cells": [
  {
   "cell_type": "code",
   "execution_count": 1,
   "metadata": {},
   "outputs": [],
   "source": [
    "import csv\n",
    "import itertools\n",
    "import random\n",
    "from datetime import datetime, timedelta"
   ]
  },
  {
   "cell_type": "code",
   "execution_count": 2,
   "metadata": {},
   "outputs": [],
   "source": [
    "# Define templates for Hate 1 sentences (25 templates)\n",
    "hate_1_templates = [\n",
    "    \"{group} are always {action}.\",\n",
    "    \"Its typical for {group} to {action}.\",\n",
    "    \"{group} are known for {action}.\",\n",
    "    \"Im tired of {group} always {action}.\",\n",
    "    \"{group} tend to {action} more than anyone else.\",\n",
    "    \"What is it with {group} always {action}?\",\n",
    "    \"Its annoying how {group} keep {action}.\",\n",
    "    \"You can always count on {group} to {action}.\",\n",
    "    \"{group} are constantly {action}, it never ends.\",\n",
    "    \"Why do {group} always {action}?\",\n",
    "    \"Im so fed up with {group} {action}.\",\n",
    "    \"{group} are always so predictable when they {action}.\",\n",
    "    \"No one should be surprised when {group} {action}.\",\n",
    "    \"{group} love to {action}, and its getting old.\",\n",
    "    \"Everywhere you go, {group} are {action}.\",\n",
    "    \"Its exhausting how {group} just cant stop {action}.\",\n",
    "    \"Its frustrating to deal with {group} who {action}.\",\n",
    "    \"{group} always {action}, and its so annoying.\",\n",
    "    \"Why cant {group} stop {action}?\",\n",
    "    \"I cant stand how {group} are constantly {action}.\",\n",
    "    \"{group} always manage to find a way to {action}.\",\n",
    "    \"Its no surprise that {group} are always {action}.\",\n",
    "    \"People are sick of how {group} keep {action}.\",\n",
    "    \"You cant go anywhere without seeing {group} {action}.\",\n",
    "    \"{group} just can't stop themselves from {action}.\",\n",
    "]\n",
    "\n",
    "# Define potential actions for Hate 1 (20 actions)\n",
    "hate_1_actions = [\n",
    "    \"complaining\",\n",
    "    \"demanding attention\",\n",
    "    \"pushing their views\",\n",
    "    \"playing the victim\",\n",
    "    \"acting superior\",\n",
    "    \"whining about everything\",\n",
    "    \"trying to take over\",\n",
    "    \"thinking they're better than us\",\n",
    "    \"causing unnecessary drama\",\n",
    "    \"forcing their beliefs on others\",\n",
    "    \"acting entitled\",\n",
    "    \"getting special treatment\",\n",
    "    \"taking over the conversation\",\n",
    "    \"talking too loudly\",\n",
    "    \"making everything about themselves\",\n",
    "    \"pretending to be oppressed\",\n",
    "    \"asking for more than they deserve\",\n",
    "    \"blaming others for their problems\",\n",
    "    \"trying to change the rules\",\n",
    "    \"never being satisfied with anything\",\n",
    "]\n",
    "\n",
    "# Expanded groups list (10 groups)\n",
    "groups = [\n",
    "    \"refugees\",\n",
    "    \"atheists\",\n",
    "    \"poor people\",\n",
    "    \"immigrants\",\n",
    "    \"religious extremists\",\n",
    "    \"environmentalists\",\n",
    "    \"vegans\",\n",
    "    \"meat-eaters\",\n",
    "    \"non-binary people\",\n",
    "    \"feminists\",\n",
    "]"
   ]
  },
  {
   "cell_type": "code",
   "execution_count": 3,
   "metadata": {},
   "outputs": [],
   "source": [
    "# Generate the Cartesian product of all combinations for Hate 1\n",
    "def generate_deterministic_hate_1_comments():\n",
    "    combinations = itertools.product(hate_1_templates, groups, hate_1_actions)\n",
    "    comments = [\n",
    "        template.format(group=group, action=action)\n",
    "        for template, group, action in combinations\n",
    "    ]\n",
    "\n",
    "    return comments"
   ]
  },
  {
   "cell_type": "code",
   "execution_count": 4,
   "metadata": {},
   "outputs": [],
   "source": [
    "# Generate a unique comment ID without prefix, following a 7-character length\n",
    "def generate_unique_comment_id():\n",
    "    return \"\".join(random.choices(\"abcdefghijklmnopqrstuvwxyz0123456789\", k=7))"
   ]
  },
  {
   "cell_type": "code",
   "execution_count": 5,
   "metadata": {},
   "outputs": [],
   "source": [
    "# Generate a unique link ID (e.g., \"t3_\" followed by 7 characters)\n",
    "def generate_unique_link_id():\n",
    "    return \"t3_\" + \"\".join(random.choices(\"abcdefghijklmnopqrstuvwxyz0123456789\", k=7))"
   ]
  },
  {
   "cell_type": "code",
   "execution_count": 6,
   "metadata": {},
   "outputs": [],
   "source": [
    "# Generate a random 6-letter username (alphabets only)\n",
    "def generate_username():\n",
    "    return \"\".join(random.choices(\"abcdefghijklmnopqrstuvwxyz\", k=6))"
   ]
  },
  {
   "cell_type": "code",
   "execution_count": 7,
   "metadata": {},
   "outputs": [],
   "source": [
    "# Generate a random timestamp (date and time) in 2021\n",
    "def generate_random_timestamp(year=2021):\n",
    "    start_date = datetime(year, 1, 1)\n",
    "    end_date = datetime(year, 12, 31)\n",
    "    random_date = start_date + timedelta(\n",
    "        days=random.randint(0, (end_date - start_date).days)\n",
    "    )\n",
    "    random_time = timedelta(\n",
    "        hours=random.randint(0, 23),\n",
    "        minutes=random.randint(0, 59),\n",
    "        seconds=random.randint(0, 59),\n",
    "    )\n",
    "    full_random_datetime = random_date + random_time\n",
    "    return full_random_datetime.strftime(\"%m/%d/%Y %I:%M:%S %p\")"
   ]
  },
  {
   "cell_type": "code",
   "execution_count": 8,
   "metadata": {},
   "outputs": [],
   "source": [
    "# Generate enough comments to hit 5000 rows by looping through combinations\n",
    "hate_1_data = generate_deterministic_hate_1_comments()"
   ]
  },
  {
   "cell_type": "code",
   "execution_count": 9,
   "metadata": {},
   "outputs": [],
   "source": [
    "# Prepare rows for CSV\n",
    "csv_data_hate_1 = []\n",
    "for i in range(5000):\n",
    "    text = hate_1_data[\n",
    "        i % len(hate_1_data)\n",
    "    ]  # Repeat combinations if fewer than 5000 unique rows\n",
    "    timestamp = generate_random_timestamp()\n",
    "    username = generate_username()  # Random 6-letter username\n",
    "    link_id = generate_unique_link_id()\n",
    "    parent_id = link_id  # Same within each row\n",
    "    comment_id = generate_unique_comment_id()  # No prefix, just a 7-character ID\n",
    "    link = f\"/r/singapore/comments/13c3mt8/riduculous_people_in_the_mall/{comment_id}/\"\n",
    "\n",
    "    # Create a row for the CSV\n",
    "    row = {\n",
    "        \"text\": text,\n",
    "        \"timestamp\": timestamp,\n",
    "        \"username\": username,  # Random 6-letter username\n",
    "        \"link\": link,\n",
    "        \"link_id\": link_id,\n",
    "        \"parent_id\": parent_id,\n",
    "        \"id\": comment_id,  # No prefix, short 7-char ID\n",
    "        \"subreddit_id\": \"t5_2qh8c\",\n",
    "        \"moderation\": \"{'controversiality': 0, 'collapsed_reason_code': None, 'collapsed': False, 'collapsed_reason': None}\",\n",
    "        \"year\": 2021,\n",
    "        \"concatenated_count\": 1,\n",
    "        \"complete_thread\": 1,  # Set to 1 for Hate 1\n",
    "        \"gold_label\": \"Hate 1\",  # Set to Hate 1\n",
    "        \"generated_data\": True,\n",
    "    }\n",
    "\n",
    "    csv_data_hate_1.append(row)"
   ]
  },
  {
   "cell_type": "code",
   "execution_count": 10,
   "metadata": {},
   "outputs": [
    {
     "name": "stdout",
     "output_type": "stream",
     "text": [
      "CSV file 'hate_1_comments.csv' generated successfully.\n"
     ]
    }
   ],
   "source": [
    "# Shuffle the rows\n",
    "random.shuffle(csv_data_hate_1)\n",
    "\n",
    "# Writing the shuffled Hate 1 data to a CSV file\n",
    "csv_file_hate_1 = \"hate_1_comments.csv\"\n",
    "with open(csv_file_hate_1, mode=\"w\", newline=\"\", encoding=\"utf-8\") as file:\n",
    "    writer = csv.DictWriter(file, fieldnames=csv_data_hate_1[0].keys())\n",
    "    writer.writeheader()\n",
    "    writer.writerows(csv_data_hate_1)\n",
    "\n",
    "print(f\"CSV file '{csv_file_hate_1}' generated successfully.\")"
   ]
  }
 ],
 "metadata": {
  "kernelspec": {
   "display_name": "penv",
   "language": "python",
   "name": "python3"
  },
  "language_info": {
   "codemirror_mode": {
    "name": "ipython",
    "version": 3
   },
   "file_extension": ".py",
   "mimetype": "text/x-python",
   "name": "python",
   "nbconvert_exporter": "python",
   "pygments_lexer": "ipython3",
   "version": "3.12.7"
  }
 },
 "nbformat": 4,
 "nbformat_minor": 2
}
