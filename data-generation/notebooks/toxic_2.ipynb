{
 "cells": [
  {
   "cell_type": "code",
   "execution_count": 121,
   "metadata": {},
   "outputs": [],
   "source": [
    "import csv\n",
    "import itertools\n",
    "import random\n",
    "from datetime import datetime, timedelta"
   ]
  },
  {
   "cell_type": "code",
   "execution_count": 122,
   "metadata": {},
   "outputs": [],
   "source": [
    "# Define templates for Toxic 2 sentences (25 templates)\n",
    "toxic_2_templates = [\n",
    "    \"{person}, it is quite impressive how consistently you manage to be such a {insult}.\",\n",
    "    \"You truly outdid yourself this time, {person}. What a {insult} you are.\",\n",
    "    \"Honestly, {person}, you must take pride in being such a {insult}.\",\n",
    "    \"It is a remarkable talent, {person}, to be such a {insult} and remain unaware.\",\n",
    "    \"Every time {person} speaks, I cannot help but think, 'What a {insult}.'\",\n",
    "    \"Why does {person} always choose to behave like a {insult}? It is baffling.\",\n",
    "    \"I did not think it was possible, but {person} proves that being a {insult} can be a full-time occupation.\",\n",
    "    \"{person}, keep it up! Your dedication to being a {insult} is truly something remarkable.\",\n",
    "    \"It is astonishing how {person} manages to maintain such a {insult} demeanor every single day.\",\n",
    "    \"I admire {person}'s commitment to being a {insult} at all times.\",\n",
    "    \"You know, {person}, being a {insult} seems to be your specialty.\",\n",
    "    \"It is almost impressive how {person} always finds a way to be a {insult}.\",\n",
    "    \"Do not worry, {person}, we all need a {insult} in our lives from time to time.\",\n",
    "    \"I cannot believe how much of a {insult} you continue to be, {person}.\",\n",
    "    \"Why does {person} even try? It would be better to embrace being a {insult}.\",\n",
    "    \"{person}, do you ever get tired of being such a {insult}?\",\n",
    "    \"Every encounter with {person} serves as a reminder of what a {insult} looks like.\",\n",
    "    \"It is fascinating how {person} keeps redefining what it means to be a {insult}.\",\n",
    "    \"Seriously, {person}, is being a {insult} a goal of yours?\",\n",
    "    \"{person}, I genuinely wonder how you manage to be such a {insult}.\",\n",
    "    \"You are setting new records for being a {insult}, {person}.\",\n",
    "    \"If being a {insult} were an Olympic sport, you would surely win gold, {person}.\",\n",
    "    \"I cannot help but laugh when I see how {insult} you can be, {person}.\",\n",
    "    \"Keep being yourself, {person}, but please try not to be such a {insult}.\",\n",
    "    \"It is not easy being a {insult}, but {person} makes it seem effortless.\",\n",
    "    \"{person}, if only you were aware of how {insult} you truly are.\",\n",
    "]\n",
    "\n",
    "# Define potential toxic insults (17 insults)\n",
    "insult = [\n",
    "    \"clown\",\n",
    "    \"joke\",\n",
    "    \"failure\",\n",
    "    \"mess\",\n",
    "    \"drama queen\",\n",
    "    \"whiner\",\n",
    "    \"loser\",\n",
    "    \"nobody\",\n",
    "    \"faux expert\",\n",
    "    \"underachiever\",\n",
    "    \"disappointment\",\n",
    "    \"simpleton\",\n",
    "    \"nuisance\",\n",
    "    \"drama magnet\",\n",
    "]\n",
    "\n",
    "# Define potential person (13 person)\n",
    "person = [\n",
    "    \"he\",\n",
    "    \"she\",\n",
    "    \"my colleague\",\n",
    "    \"that guy\",\n",
    "    \"that girl\",\n",
    "    \"the manager\",\n",
    "    \"my friend\",\n",
    "    \"the client\",\n",
    "    \"the supervisor\",\n",
    "    \"the director\",\n",
    "    \"my boss\",\n",
    "    \"that customer\",\n",
    "    \"the intern\",\n",
    "]"
   ]
  },
  {
   "cell_type": "code",
   "execution_count": 123,
   "metadata": {},
   "outputs": [],
   "source": [
    "# Generate the Cartesian product of all combinations\n",
    "\n",
    "\n",
    "def generate_deterministic_toxic_2_comments():\n",
    "    combinations = itertools.product(toxic_2_templates, insult, person)\n",
    "    comments = [\n",
    "        template.format(insult=insult, person=person)\n",
    "        for template, insult, person in combinations\n",
    "    ]\n",
    "\n",
    "    # Slice to 5000 rows\n",
    "    return comments[:4495]"
   ]
  },
  {
   "cell_type": "code",
   "execution_count": 124,
   "metadata": {},
   "outputs": [],
   "source": [
    "# Generate a unique ID (e.g., comment id)\n",
    "\n",
    "\n",
    "def generate_unique_comment_id():\n",
    "    return \"\".join(random.choices(\"abcdefghijklmnopqrstuvwxyz0123456789\", k=7))"
   ]
  },
  {
   "cell_type": "code",
   "execution_count": 125,
   "metadata": {},
   "outputs": [],
   "source": [
    "# Generate a unique link ID (e.g., \"t3_\" followed by 6 characters)\n",
    "\n",
    "\n",
    "def generate_unique_link_id():\n",
    "    return \"t3_\" + \"\".join(random.choices(\"abcdefghijklmnopqrstuvwxyz0123456789\", k=7))"
   ]
  },
  {
   "cell_type": "code",
   "execution_count": 126,
   "metadata": {},
   "outputs": [],
   "source": [
    "# Generate a random timestamp (date and time) in 2023\n",
    "\n",
    "\n",
    "def generate_random_timestamp(year=2023):\n",
    "    start_date = datetime(year, 1, 1)\n",
    "    end_date = datetime(year, 12, 31)\n",
    "    random_date = start_date + timedelta(\n",
    "        days=random.randint(0, (end_date - start_date).days)\n",
    "    )\n",
    "\n",
    "    # Generate random hours, minutes, and seconds\n",
    "    random_time = timedelta(\n",
    "        hours=random.randint(0, 23),\n",
    "        minutes=random.randint(0, 59),\n",
    "        seconds=random.randint(0, 59),\n",
    "    )\n",
    "\n",
    "    # Combine the random date with the random time\n",
    "    full_random_datetime = random_date + random_time\n",
    "\n",
    "    # Return in the desired format\n",
    "    return full_random_datetime.strftime(\"%m/%d/%Y %I:%M:%S %p\")"
   ]
  },
  {
   "cell_type": "code",
   "execution_count": 127,
   "metadata": {},
   "outputs": [],
   "source": [
    "# Generate a random 6-letter username (alphabets only)\n",
    "\n",
    "\n",
    "def generate_username():\n",
    "    return \"\".join(random.choices(\"abcdefghijklmnopqrstuvwxyz\", k=6))"
   ]
  },
  {
   "cell_type": "code",
   "execution_count": 128,
   "metadata": {},
   "outputs": [],
   "source": [
    "# Generate 5000 deterministic comments\n",
    "toxic_2_data = generate_deterministic_toxic_2_comments()"
   ]
  },
  {
   "cell_type": "code",
   "execution_count": 129,
   "metadata": {},
   "outputs": [],
   "source": [
    "# CSV file columns\n",
    "csv_columns = [\n",
    "    \"text\",\n",
    "    \"timestamp\",\n",
    "    \"username\",\n",
    "    \"link\",\n",
    "    \"link_id\",\n",
    "    \"parent_id\",\n",
    "    \"id\",\n",
    "    \"subreddit_id\",\n",
    "    \"moderation\",\n",
    "    \"year\",\n",
    "    \"concatenated_count\",\n",
    "    \"complete_thread\",\n",
    "    \"gold_label\",\n",
    "    \"generated_data\",\n",
    "]"
   ]
  },
  {
   "cell_type": "code",
   "execution_count": 130,
   "metadata": {},
   "outputs": [],
   "source": [
    "# Constant values\n",
    "subreddit_id = \"t5_2qh8c\"\n",
    "moderation = \"{'controversiality': 0, 'collapsed_reason_code': None, 'collapsed': False, 'collapsed_reason': None}\"\n",
    "year = \"2022\"\n",
    "concatenated_count = 1\n",
    "complete_thread = True\n",
    "gold_label = \"Toxic 2\"\n",
    "generated_data = True"
   ]
  },
  {
   "cell_type": "code",
   "execution_count": 131,
   "metadata": {},
   "outputs": [],
   "source": [
    "# Prepare rows for CSV\n",
    "csv_data = []\n",
    "for i in range(4495):\n",
    "    text = toxic_2_data[i]\n",
    "    timestamp = generate_random_timestamp()\n",
    "    username = generate_username()\n",
    "    link_id = generate_unique_link_id()\n",
    "    parent_id = link_id  # Same within each row\n",
    "    comment_id = generate_unique_comment_id()\n",
    "    link = f\"/r/singapore/comments/13c3mt8/Strict_appearance_and_grooming_standards_for_Singapore_Airlines_cabin_crew/{comment_id}/\"\n",
    "\n",
    "    # Create a row for the CSV\n",
    "    row = {\n",
    "        \"text\": text,\n",
    "        \"timestamp\": timestamp,\n",
    "        \"username\": username,\n",
    "        \"link\": link,\n",
    "        \"link_id\": link_id,\n",
    "        \"parent_id\": parent_id,\n",
    "        \"id\": comment_id,\n",
    "        \"subreddit_id\": subreddit_id,\n",
    "        \"moderation\": moderation,\n",
    "        \"year\": year,\n",
    "        \"concatenated_count\": concatenated_count,\n",
    "        \"complete_thread\": complete_thread,\n",
    "        \"gold_label\": gold_label,\n",
    "        \"generated_data\": generated_data,\n",
    "    }\n",
    "\n",
    "    csv_data.append(row)"
   ]
  },
  {
   "cell_type": "code",
   "execution_count": 132,
   "metadata": {},
   "outputs": [
    {
     "name": "stdout",
     "output_type": "stream",
     "text": [
      "CSV file 'toxic_2_comments.csv' generated successfully.\n"
     ]
    }
   ],
   "source": [
    "# After generating all the rows in csv_data, shuffle them\n",
    "random.shuffle(csv_data)\n",
    "\n",
    "# Writing the shuffled data to a CSV file\n",
    "csv_file = \"toxic_2_comments.csv\"\n",
    "with open(csv_file, mode=\"w\", newline=\"\", encoding=\"utf-8\") as file:\n",
    "    writer = csv.DictWriter(file, fieldnames=csv_columns)\n",
    "    writer.writeheader()\n",
    "    writer.writerows(csv_data)\n",
    "\n",
    "print(f\"CSV file '{csv_file}' generated successfully.\")"
   ]
  }
 ],
 "metadata": {
  "kernelspec": {
   "display_name": "penv",
   "language": "python",
   "name": "python3"
  },
  "language_info": {
   "codemirror_mode": {
    "name": "ipython",
    "version": 3
   },
   "file_extension": ".py",
   "mimetype": "text/x-python",
   "name": "python",
   "nbconvert_exporter": "python",
   "pygments_lexer": "ipython3",
   "version": "3.12.7"
  }
 },
 "nbformat": 4,
 "nbformat_minor": 2
}
