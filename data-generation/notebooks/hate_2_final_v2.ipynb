{
 "cells": [
  {
   "cell_type": "code",
   "execution_count": 28,
   "metadata": {},
   "outputs": [],
   "source": [
    "import csv\n",
    "import itertools\n",
    "import random\n",
    "from datetime import datetime, timedelta"
   ]
  },
  {
   "cell_type": "code",
   "execution_count": 29,
   "metadata": {},
   "outputs": [],
   "source": [
    "# Expanded templates for Hate 2 sentences (50 templates)\n",
    "hate_2_templates = [\n",
    "    \"Why are {sensitive_groups} allowed to {action} at hawker centres? Not cool lah.\",\n",
    "    \"Every time I see {sensitive_groups} {action}, I just want to shake my head.\",\n",
    "    \"Can {sensitive_groups} stop {action} during MRT rides? Its so inconsiderate.\",\n",
    "    \"I really dont understand why {sensitive_groups} think its okay to {action} in public.\",\n",
    "    \"Why must {sensitive_groups} always {action} when were just trying to enjoy our kopi?\",\n",
    "    \"{sensitive_groups} who {action} at events make things so awkward, please dont.\",\n",
    "    \"I cant stand how {sensitive_groups} think they can {action} anywhere, its not right.\",\n",
    "    \"Can we please address how {sensitive_groups} keep {action} at our neighbourhood parks?\",\n",
    "    \"Its time {sensitive_groups} realize that {action} isnt welcome in our society.\",\n",
    "    \"Why do {sensitive_groups} always feel entitled to {action} during public gatherings?\",\n",
    "    \"I find it hard to respect {sensitive_groups} who {action} without thinking of others.\",\n",
    "    \"Every time {sensitive_groups} {action}, it just adds to the frustration in our community.\",\n",
    "    \"We really need to talk about how {sensitive_groups} keep {action} at our events.\",\n",
    "    \"Can {sensitive_groups} not see how their {action} is affecting our community vibes?\",\n",
    "    \"Its so frustrating when {sensitive_groups} {action} without any regard for others.\",\n",
    "    \"People have had enough of {sensitive_groups} {action} in our shared spaces.\",\n",
    "    \"I wish {sensitive_groups} would just think twice before {action} in public.\",\n",
    "    \"Why do {sensitive_groups} always think its fine to {action} in front of everyone?\",\n",
    "    \"Its disappointing that {sensitive_groups} persist in {action} when weve already complained.\",\n",
    "    \"How can {sensitive_groups} not realize that their {action} impacts the rest of us?\",\n",
    "    \"When will {sensitive_groups} understand that {action} is just not okay in Singapore?\",\n",
    "    \"Its really embarrassing to see {sensitive_groups} {action} during our festivals.\",\n",
    "    \"Can we just agree that {sensitive_groups} who {action} should be more considerate?\",\n",
    "    \"I dont get why {sensitive_groups} always feel they can {action} without facing backlash.\",\n",
    "    \"Why cant {sensitive_groups} see that their {action} disrupts our harmony?\",\n",
    "    \"Its tiring to see {sensitive_groups} constantly {action} without learning from it.\",\n",
    "    \"Why are {sensitive_groups} always {action} at the worst possible times?\",\n",
    "    \"When will {sensitive_groups} learn that {action} is not acceptable in our community?\",\n",
    "    \"Can {sensitive_groups} stop {action} at our neighbourhood kopitiams? Its so disruptive!\",\n",
    "    \"How can we tolerate {sensitive_groups} who {action} in our public spaces?\",\n",
    "    \"Every time I see {sensitive_groups} {action}, it just makes my blood boil.\",\n",
    "]\n",
    "\n",
    "\n",
    "# Expanded actions for Hate 2 (20 actions)\n",
    "hate_2_actions = [\n",
    "    \"taking up space\",\n",
    "    \"disrupting our peace\",\n",
    "    \"acting superior\",\n",
    "    \"complaining loudly\",\n",
    "    \"not respecting our norms\",\n",
    "    \"refusing to adapt\",\n",
    "    \"pushing their culture on us\",\n",
    "    \"making a scene\",\n",
    "    \"being inconsiderate\",\n",
    "    \"causing discomfort\",\n",
    "    \"spreading negativity\",\n",
    "    \"belittling others\",\n",
    "    \"invading personal space\",\n",
    "    \"disregarding boundaries\",\n",
    "    \"showing hostility\",\n",
    "    \"fostering division\",\n",
    "    \"mocking differences\",\n",
    "    \"ignoring our values\",\n",
    "    \"exhibiting entitlement\",\n",
    "    \"creating tension\",\n",
    "]\n",
    "\n",
    "\n",
    "# Expanded groups list (15 groups)\n",
    "sensitive_groups = [\n",
    "    \"British\",\n",
    "    \"Chinese\",\n",
    "    \"Malays\",\n",
    "    \"Indians\",\n",
    "    \"Black-skinned\",\n",
    "    \"Buddhist\",\n",
    "    \"Muslim\",\n",
    "    \"LGBTQ+\",\n",
    "    \"Transgender\",\n",
    "    \"Foreigners\",\n",
    "    \"Refugees\",\n",
    "    \"Disabled\",\n",
    "    \"Elderly\",\n",
    "    \"Non-binary\",\n",
    "    \"Low-income\",\n",
    "]"
   ]
  },
  {
   "cell_type": "code",
   "execution_count": 30,
   "metadata": {},
   "outputs": [],
   "source": [
    "# Generate the Cartesian product of all combinations for Hate 2\n",
    "\n",
    "\n",
    "def generate_deterministic_hate_2_comments():\n",
    "    combinations = itertools.product(hate_2_templates, sensitive_groups, hate_2_actions)\n",
    "    comments = [\n",
    "        template.format(sensitive_groups=sensitive_groups, action=action)\n",
    "        for template, sensitive_groups, action in combinations\n",
    "    ]\n",
    "\n",
    "    return comments"
   ]
  },
  {
   "cell_type": "code",
   "execution_count": 31,
   "metadata": {},
   "outputs": [],
   "source": [
    "# Generate a unique comment ID without prefix, following a 7-character length\n",
    "\n",
    "\n",
    "def generate_unique_comment_id():\n",
    "    return \"\".join(random.choices(\"abcdefghijklmnopqrstuvwxyz0123456789\", k=7))\n",
    "\n",
    "\n",
    "# Generate a unique link ID (e.g., \"t3_\" followed by 7 characters)\n",
    "\n",
    "\n",
    "def generate_unique_link_id():\n",
    "    return \"t3_\" + \"\".join(random.choices(\"abcdefghijklmnopqrstuvwxyz0123456789\", k=7))"
   ]
  },
  {
   "cell_type": "code",
   "execution_count": 32,
   "metadata": {},
   "outputs": [],
   "source": [
    "# Generate a random 6-letter username (alphabets only)\n",
    "\n",
    "\n",
    "def generate_username():\n",
    "    return \"\".join(random.choices(\"abcdefghijklmnopqrstuvwxyz\", k=6))"
   ]
  },
  {
   "cell_type": "code",
   "execution_count": 33,
   "metadata": {},
   "outputs": [],
   "source": [
    "# Generate a random timestamp (date and time) in 2022\n",
    "\n",
    "\n",
    "def generate_random_timestamp(year=2022):\n",
    "    start_date = datetime(year, 1, 1)\n",
    "    end_date = datetime(year, 12, 31)\n",
    "    random_date = start_date + timedelta(\n",
    "        days=random.randint(0, (end_date - start_date).days)\n",
    "    )\n",
    "    random_time = timedelta(\n",
    "        hours=random.randint(0, 23),\n",
    "        minutes=random.randint(0, 59),\n",
    "        seconds=random.randint(0, 59),\n",
    "    )\n",
    "    full_random_datetime = random_date + random_time\n",
    "    return full_random_datetime.strftime(\"%m/%d/%Y %I:%M:%S %p\")"
   ]
  },
  {
   "cell_type": "code",
   "execution_count": 34,
   "metadata": {},
   "outputs": [],
   "source": [
    "# Generate enough comments to hit 5000 rows by looping through combinations\n",
    "hate_2_data = generate_deterministic_hate_2_comments()"
   ]
  },
  {
   "cell_type": "code",
   "execution_count": 35,
   "metadata": {},
   "outputs": [],
   "source": [
    "# Ensure there are 5000 rows by looping through the generated combinations\n",
    "csv_data_hate_2 = []\n",
    "for i in range(15000):\n",
    "    text = hate_2_data[\n",
    "        i % len(hate_2_data)\n",
    "    ]  # Repeat combinations if fewer than 5000 unique rows\n",
    "    timestamp = generate_random_timestamp()\n",
    "    username = generate_username()  # Random 6-letter username\n",
    "    link_id = generate_unique_link_id()\n",
    "    parent_id = link_id  # Same within each row\n",
    "    comment_id = generate_unique_comment_id()  # No prefix, just a 7-character ID\n",
    "    link = f\"/r/singapore/comments/13c3mt8/stupid_people_on_the_streets/{comment_id}/\"\n",
    "\n",
    "    # Create a row for the CSV with columns matching balanced_data\n",
    "    row = {\n",
    "        \"text\": text,\n",
    "        \"timestamp\": timestamp,\n",
    "        \"username\": username,\n",
    "        \"link\": link,\n",
    "        \"link_id\": link_id,\n",
    "        \"parent_id\": parent_id,\n",
    "        \"id\": comment_id,\n",
    "        \"subreddit_id\": \"t5_2qh8c\",\n",
    "        \"moderation\": \"{'controversiality': 0, 'collapsed_reason_code': None, 'collapsed': False, 'collapsed_reason': None}\",\n",
    "        \"year\": 2022,\n",
    "        \"word_count\": len(text.split()),  # Calculate word count from text\n",
    "        \"Sensitive Group\": None,  # Or provide a value if needed\n",
    "        \"Classification\": \"Hate 2\",  # Set to Hate 2\n",
    "    }\n",
    "\n",
    "    csv_data_hate_2.append(row)"
   ]
  },
  {
   "cell_type": "code",
   "execution_count": 36,
   "metadata": {},
   "outputs": [
    {
     "name": "stdout",
     "output_type": "stream",
     "text": [
      "CSV file 'hate_2_comments.csv' generated successfully.\n"
     ]
    }
   ],
   "source": [
    "# Shuffle the rows\n",
    "random.shuffle(csv_data_hate_2)\n",
    "\n",
    "# Sample 4033 rows\n",
    "selected_data = csv_data_hate_2[:14033]\n",
    "\n",
    "# Writing the shuffled and sampled Hate 2 data to a CSV file\n",
    "csv_file_hate_2 = \"hate_2_comments.csv\"\n",
    "with open(csv_file_hate_2, mode=\"w\", newline=\"\", encoding=\"utf-8\") as file:\n",
    "    writer = csv.DictWriter(file, fieldnames=csv_data_hate_2[0].keys())\n",
    "    writer.writeheader()\n",
    "    writer.writerows(selected_data)  # Use selected_data instead of csv_data_hate_2\n",
    "\n",
    "print(f\"CSV file '{csv_file_hate_2}' generated successfully.\")"
   ]
  }
 ],
 "metadata": {
  "kernelspec": {
   "display_name": "penv",
   "language": "python",
   "name": "python3"
  },
  "language_info": {
   "codemirror_mode": {
    "name": "ipython",
    "version": 3
   },
   "file_extension": ".py",
   "mimetype": "text/x-python",
   "name": "python",
   "nbconvert_exporter": "python",
   "pygments_lexer": "ipython3",
   "version": "3.12.7"
  }
 },
 "nbformat": 4,
 "nbformat_minor": 2
}
