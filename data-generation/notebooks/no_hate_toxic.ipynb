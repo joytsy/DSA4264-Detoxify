{
 "cells": [
  {
   "cell_type": "code",
   "execution_count": 1,
   "metadata": {},
   "outputs": [],
   "source": [
    "import csv\n",
    "import random\n",
    "from datetime import datetime, timedelta"
   ]
  },
  {
   "cell_type": "code",
   "execution_count": 2,
   "metadata": {},
   "outputs": [],
   "source": [
    "# Define 50 templates for No Hate/Toxic sentences (mix of neutral and action-based)\n",
    "no_hate_toxic_templates = [\n",
    "    \"I really appreciate your perspective on this, {person}.\",\n",
    "    \"{person}, that was a very insightful comment, thank you!\",\n",
    "    \"You made a great point, {person}. This is definitely something to think about.\",\n",
    "    \"{person}, I agree with you completely, well said!\",\n",
    "    \"Thank you for sharing your thoughts, {person}. Its refreshing to hear something positive.\",\n",
    "    \"{person}, I think your suggestion is really constructive and helpful.\",\n",
    "    \"Thats a very interesting idea, {person}. I think we should explore it further.\",\n",
    "    \"I appreciate the way you articulated that, {person}. Very thoughtful!\",\n",
    "    \"Youre spot on, {person}, that was very well put.\",\n",
    "    \"Its always nice to see a comment like yours, {person}. Great job!\",\n",
    "    \"{person}, your reasoning here is very solid. I think you are onto something!\",\n",
    "    \"What you said makes a lot of sense, {person}. Thanks for contributing.\",\n",
    "    \"{person}, your comment really resonates with me. Excellent work!\",\n",
    "    \"Great input, {person}. Its people like you who make the discussion better.\",\n",
    "    \"Your positivity is infectious, {person}. Thanks for sharing that!\",\n",
    "    \"Very insightful, {person}. I think we could all benefit from your viewpoint.\",\n",
    "    \"Thanks for that, {person}. Its important to have a balanced discussion.\",\n",
    "    \"That was a very thoughtful comment, {person}. Well done!\",\n",
    "    \"{person}, I think youre absolutely right. Thanks for bringing this up!\",\n",
    "    \"Such a constructive contribution, {person}. Keep it up!\",\n",
    "    \"Youre absolutely right, {person}, its good to see this perspective.\",\n",
    "    \"{person}, that was a well-articulated point. Keep contributing!\",\n",
    "    \"I love seeing comments like yours, {person}. It really elevates the discussion.\",\n",
    "    \"This is a great take, {person}. Youve made it a lot clearer for everyone.\",\n",
    "    \"Thanks for keeping things civil, {person}. Your comment is appreciated.\",\n",
    "    \"This was well thought out, {person}. Youre making a positive difference.\",\n",
    "    \"{person}, you make this community a better place with your input.\",\n",
    "    \"Great thoughts, {person}. This is the kind of conversation we need.\",\n",
    "    \"{person}, youve really shed some light on this issue. Keep up the good work!\",\n",
    "    \"That was a very detailed and helpful comment, {person}. Thank you!\",\n",
    "    \"{person}, this is the kind of input that brings real value to discussions.\",\n",
    "    \"We need more people like you, {person}. Thanks for being thoughtful.\",\n",
    "    \"Keep up the great work, {person}. Youre making a real difference!\",\n",
    "    \"{person}, your efforts are really paying off. Kudos to you!\",\n",
    "    \"Thank you for taking the time to help out, {person}. Its really appreciated.\",\n",
    "    \"{person}, youre doing an amazing job! Please continue contributing.\",\n",
    "    \"Youre a star, {person}. Your actions are positively impacting the community.\",\n",
    "    \"{person}, your dedication is truly admirable. Great job!\",\n",
    "    \"Its clear how much effort youre putting in, {person}. Keep it up!\",\n",
    "    \"Youre really setting an example here, {person}. Awesome work!\",\n",
    "    \"Thank you for leading by example, {person}. Keep inspiring others!\",\n",
    "    \"{person}, your contributions are valuable to everyone here. Well done!\",\n",
    "    \"Your calm approach is refreshing, {person}. Keep contributing!\",\n",
    "    \"{person}, its always a pleasure to see thoughtful contributions like yours.\",\n",
    "    \"We need more constructive discussions like this, {person}. Youre doing great.\",\n",
    "    \"{person}, your well-reasoned comment stands out. Thanks for sharing.\",\n",
    "    \"That was very kind of you, {person}, to offer such insight.\",\n",
    "    \"You really helped clear things up, {person}. Thank you!\",\n",
    "    \"{person}, you always bring something constructive to the conversation. Thanks!\",\n",
    "    \"Your contributions never go unnoticed, {person}. Thanks for that!\",\n",
    "]\n",
    "\n",
    "# Define potential persons (10 persons)\n",
    "person = [\n",
    "    \"you\",\n",
    "    \"this user\",\n",
    "    \"the commenter\",\n",
    "    \"everyone\",\n",
    "    \"the author\",\n",
    "    \"the poster\",\n",
    "    \"this participant\",\n",
    "    \"the reader\",\n",
    "    \"the speaker\",\n",
    "    \"this member\",\n",
    "]"
   ]
  },
  {
   "cell_type": "code",
   "execution_count": 3,
   "metadata": {},
   "outputs": [],
   "source": [
    "# Generate a unique ID (e.g., comment id)\n",
    "\n",
    "\n",
    "def generate_unique_comment_id():\n",
    "    return \"\".join(random.choices(\"abcdefghijklmnopqrstuvwxyz0123456789\", k=7))"
   ]
  },
  {
   "cell_type": "code",
   "execution_count": 4,
   "metadata": {},
   "outputs": [],
   "source": [
    "# Generate a unique link ID (e.g., \"t3_\" followed by 6 characters)\n",
    "\n",
    "\n",
    "def generate_unique_link_id():\n",
    "    return \"t3_\" + \"\".join(random.choices(\"abcdefghijklmnopqrstuvwxyz0123456789\", k=7))"
   ]
  },
  {
   "cell_type": "code",
   "execution_count": 5,
   "metadata": {},
   "outputs": [],
   "source": [
    "# Generate a random timestamp (date and time) in 2023\n",
    "\n",
    "\n",
    "def generate_random_timestamp(year=2023):\n",
    "    start_date = datetime(year, 1, 1)\n",
    "    end_date = datetime(year, 12, 31)\n",
    "    random_date = start_date + timedelta(\n",
    "        days=random.randint(0, (end_date - start_date).days)\n",
    "    )\n",
    "\n",
    "    # Generate random hours, minutes, and seconds\n",
    "    random_time = timedelta(\n",
    "        hours=random.randint(0, 23),\n",
    "        minutes=random.randint(0, 59),\n",
    "        seconds=random.randint(0, 59),\n",
    "    )\n",
    "\n",
    "    # Combine the random date with the random time\n",
    "    full_random_datetime = random_date + random_time\n",
    "\n",
    "    # Return in the desired format\n",
    "    return full_random_datetime.strftime(\"%m/%d/%Y %I:%M:%S %p\")"
   ]
  },
  {
   "cell_type": "code",
   "execution_count": 6,
   "metadata": {},
   "outputs": [],
   "source": [
    "# Generate a random 6-letter username (alphabets only)\n",
    "\n",
    "\n",
    "def generate_username():\n",
    "    return \"\".join(random.choices(\"abcdefghijklmnopqrstuvwxyz\", k=6))"
   ]
  },
  {
   "cell_type": "code",
   "execution_count": 7,
   "metadata": {},
   "outputs": [],
   "source": [
    "# Generate 5000 No Hate/Toxic comments with 50 templates and 10 persons\n",
    "\n",
    "\n",
    "def generate_no_hate_toxic_comments():\n",
    "    comments = [\n",
    "        random.choice(no_hate_toxic_templates).format(person=random.choice(person))\n",
    "        for _ in range(5000)\n",
    "    ]\n",
    "    return comments"
   ]
  },
  {
   "cell_type": "code",
   "execution_count": 8,
   "metadata": {},
   "outputs": [],
   "source": [
    "# CSV file columns\n",
    "csv_columns = [\n",
    "    \"text\",\n",
    "    \"timestamp\",\n",
    "    \"username\",\n",
    "    \"link\",\n",
    "    \"link_id\",\n",
    "    \"parent_id\",\n",
    "    \"id\",\n",
    "    \"subreddit_id\",\n",
    "    \"moderation\",\n",
    "    \"year\",\n",
    "    \"concatenated_count\",\n",
    "    \"complete_thread\",\n",
    "    \"gold_label\",\n",
    "    \"generated_data\",\n",
    "]"
   ]
  },
  {
   "cell_type": "code",
   "execution_count": 9,
   "metadata": {},
   "outputs": [],
   "source": [
    "# Constant values\n",
    "subreddit_id = \"t5_2qh8c\"\n",
    "moderation = \"{'controversiality': 0, 'collapsed_reason_code': None, 'collapsed': False, 'collapsed_reason': None}\"\n",
    "year = \"2023\"\n",
    "concatenated_count = 1\n",
    "complete_thread = True\n",
    "gold_label = \"No Hate/Toxic\"\n",
    "generated_data = True"
   ]
  },
  {
   "cell_type": "code",
   "execution_count": 10,
   "metadata": {},
   "outputs": [],
   "source": [
    "# Prepare rows for CSV\n",
    "csv_data = []\n",
    "no_hate_toxic_data = generate_no_hate_toxic_comments()\n",
    "\n",
    "for i in range(5000):\n",
    "    text = no_hate_toxic_data[i]\n",
    "    timestamp = generate_random_timestamp()\n",
    "    username = generate_username()\n",
    "    link_id = generate_unique_link_id()\n",
    "    parent_id = link_id  # Same within each row\n",
    "    comment_id = generate_unique_comment_id()\n",
    "    link = f\"/r/wholesome/comments/13c3mt8/Positive_discussion_on_topic/{comment_id}/\"\n",
    "\n",
    "    # Create a row for the CSV\n",
    "    row = {\n",
    "        \"text\": text,\n",
    "        \"timestamp\": timestamp,\n",
    "        \"username\": username,\n",
    "        \"link\": link,\n",
    "        \"link_id\": link_id,\n",
    "        \"parent_id\": parent_id,\n",
    "        \"id\": comment_id,\n",
    "        \"subreddit_id\": subreddit_id,\n",
    "        \"moderation\": moderation,\n",
    "        \"year\": year,\n",
    "        \"concatenated_count\": concatenated_count,\n",
    "        \"complete_thread\": complete_thread,\n",
    "        \"gold_label\": gold_label,\n",
    "        \"generated_data\": generated_data,\n",
    "    }\n",
    "\n",
    "    csv_data.append(row)"
   ]
  },
  {
   "cell_type": "code",
   "execution_count": null,
   "metadata": {},
   "outputs": [
    {
     "name": "stdout",
     "output_type": "stream",
     "text": [
      "CSV file 'no_hate_toxic_comments.csv' generated successfully.\n"
     ]
    }
   ],
   "source": [
    "# Writing the data to a CSV file\n",
    "csv_file = \"no_hate_toxic_comments.csv\"\n",
    "with open(csv_file, mode=\"w\", newline=\"\", encoding=\"utf-8\") as file:\n",
    "    writer = csv.DictWriter(file, fieldnames=csv_columns)\n",
    "    writer.writeheader()\n",
    "    writer.writerows(csv_data)\n",
    "\n",
    "print(f\"CSV file '{csv_file}' generated successfully.\")"
   ]
  }
 ],
 "metadata": {
  "kernelspec": {
   "display_name": "penv",
   "language": "python",
   "name": "python3"
  },
  "language_info": {
   "codemirror_mode": {
    "name": "ipython",
    "version": 3
   },
   "file_extension": ".py",
   "mimetype": "text/x-python",
   "name": "python",
   "nbconvert_exporter": "python",
   "pygments_lexer": "ipython3",
   "version": "3.12.7"
  }
 },
 "nbformat": 4,
 "nbformat_minor": 2
}
