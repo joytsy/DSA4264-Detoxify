{
 "cells": [
  {
   "cell_type": "code",
   "execution_count": 173,
   "metadata": {},
   "outputs": [],
   "source": [
    "import csv\n",
    "import itertools\n",
    "import random\n",
    "from datetime import datetime, timedelta"
   ]
  },
  {
   "cell_type": "code",
   "execution_count": 174,
   "metadata": {},
   "outputs": [],
   "source": [
    "# Define templates for Toxic 1 sentences (28 templates)\n",
    "toxic_1_templates = [\n",
    "    \"This is so {complaint}, I do not get why {person} even bothers.\",\n",
    "    \"Honestly, {person} is just making it {complaint}, and it is frustrating.\",\n",
    "    \"It is ridiculous how {person} always finds a way to make things {complaint}.\",\n",
    "    \"Why does {person} always have to make everything so {complaint}?\",\n",
    "    \"This situation with {person} is just {complaint}, and I cannot understand it.\",\n",
    "    \"The way things are going makes everything feel {complaint} lately.\",\n",
    "    \"It is hard to believe that {person} thinks this is acceptable when it is {complaint}.\",\n",
    "    \"Every time I see {person}, it feels like everything is just {complaint}.\",\n",
    "    \"Why must {person} insist on making things so {complaint}?\",\n",
    "    \"Honestly, I find it {complaint} how {person} handles situations.\",\n",
    "    \"It feels like {person} is trying to make everything {complaint}.\",\n",
    "    \"Why is it that {person} always makes a simple task feel {complaint}?\",\n",
    "    \"The way {person} approaches this is just {complaint}.\",\n",
    "    \"Can someone explain why {person} thinks this is not {complaint}?\",\n",
    "    \"It is disappointing to see how {person} manages to make everything {complaint}.\",\n",
    "    \"I do not understand how {person} can be so {complaint}.\",\n",
    "    \"It baffles me that {person} has not figured out that this is {complaint}.\",\n",
    "    \"Every time {person} is involved, it just becomes {complaint}.\",\n",
    "    \"I do not get how {person} can make things feel so {complaint}.\",\n",
    "    \"Why does it seem like {person} thrives on making things {complaint}?\",\n",
    "    \"This situation just goes to show how {person} makes it {complaint}.\",\n",
    "    \"How is it possible that {person} is unaware of how {complaint} things are?\",\n",
    "    \"It is beyond me why {person} chooses to act this way, given how {complaint} it is.\",\n",
    "    \"I cannot fathom why {person} is okay with this being {complaint}.\",\n",
    "    \"It is frustrating that {person} has not recognized this as {complaint}.\",\n",
    "    \"Why does {person} think it is fine to make everything so {complaint}?\",\n",
    "    \"I wish {person} would see how {complaint} their actions are.\",\n",
    "    \"The level of {complaint} in {person}'s approach is astonishing.\",\n",
    "    \"Can {person} not see how {complaint} their actions are?\",\n",
    "    \"Every interaction with {person} feels like a step toward {complaint}.\",\n",
    "    \"Why does {person} seem to enjoy making things {complaint}?\",\n",
    "]\n",
    "\n",
    "# Define potential complaints (30 complaints)\n",
    "complaint = [\n",
    "    \"pointless\",\n",
    "    \"a waste of time\",\n",
    "    \"unnecessary\",\n",
    "    \"ridiculous\",\n",
    "    \"confusing\",\n",
    "    \"overly complicated\",\n",
    "    \"frustrating\",\n",
    "    \"annoying\",\n",
    "    \"inconvenient\",\n",
    "    \"meaningless\",\n",
    "    \"unproductive\",\n",
    "    \"unhelpful\",\n",
    "    \"time-consuming\",\n",
    "    \"disorganized\",\n",
    "    \"difficult\",\n",
    "    \"exhausting\",\n",
    "    \"misguided\",\n",
    "    \"infuriating\",\n",
    "    \"disappointing\",\n",
    "    \"stupid\",\n",
    "    \"nonsense\",\n",
    "    \"tedious\",\n",
    "    \"unreasonable\",\n",
    "    \"unacceptable\",\n",
    "    \"insulting\",\n",
    "    \"overwhelming\",\n",
    "    \"unfair\",\n",
    "    \"unjustified\",\n",
    "    \"excessive\",\n",
    "    \"unwarranted\",\n",
    "]\n",
    "\n",
    "# Define potential persons (6 persons)\n",
    "person = [\n",
    "    \"he\",\n",
    "    \"she\",\n",
    "    \"this person\",\n",
    "    \"my colleague\",\n",
    "    \"that guy\",\n",
    "    \"my friend\",\n",
    "]"
   ]
  },
  {
   "cell_type": "code",
   "execution_count": 175,
   "metadata": {},
   "outputs": [],
   "source": [
    "# Generate the Cartesian product of all combinations\n",
    "\n",
    "\n",
    "def generate_deterministic_toxic_1_comments():\n",
    "    combinations = itertools.product(toxic_1_templates, person, complaint)\n",
    "    comments = [\n",
    "        template.format(person=person, complaint=complaint)\n",
    "        for template, person, complaint in combinations\n",
    "    ]\n",
    "\n",
    "    # Slice to 5000 rows\n",
    "    return comments[:5040]"
   ]
  },
  {
   "cell_type": "code",
   "execution_count": 176,
   "metadata": {},
   "outputs": [],
   "source": [
    "# Generate a unique ID (e.g., comment id)\n",
    "\n",
    "\n",
    "def generate_unique_comment_id():\n",
    "    return \"\".join(random.choices(\"abcdefghijklmnopqrstuvwxyz0123456789\", k=7))"
   ]
  },
  {
   "cell_type": "code",
   "execution_count": 177,
   "metadata": {},
   "outputs": [],
   "source": [
    "# Generate a unique link ID (e.g., \"t3_\" followed by 6 characters)\n",
    "\n",
    "\n",
    "def generate_unique_link_id():\n",
    "    return \"t3_\" + \"\".join(random.choices(\"abcdefghijklmnopqrstuvwxyz0123456789\", k=7))"
   ]
  },
  {
   "cell_type": "code",
   "execution_count": 178,
   "metadata": {},
   "outputs": [],
   "source": [
    "# Generate a random timestamp (date and time) in 2023\n",
    "\n",
    "\n",
    "def generate_random_timestamp(year=2023):\n",
    "    start_date = datetime(year, 1, 1)\n",
    "    end_date = datetime(year, 12, 31)\n",
    "    random_date = start_date + timedelta(\n",
    "        days=random.randint(0, (end_date - start_date).days)\n",
    "    )\n",
    "\n",
    "    # Generate random hours, minutes, and seconds\n",
    "    random_time = timedelta(\n",
    "        hours=random.randint(0, 23),\n",
    "        minutes=random.randint(0, 59),\n",
    "        seconds=random.randint(0, 59),\n",
    "    )\n",
    "\n",
    "    # Combine the random date with the random time\n",
    "    full_random_datetime = random_date + random_time\n",
    "\n",
    "    # Return in the desired format\n",
    "    return full_random_datetime.strftime(\"%m/%d/%Y %I:%M:%S %p\")"
   ]
  },
  {
   "cell_type": "code",
   "execution_count": 179,
   "metadata": {},
   "outputs": [],
   "source": [
    "# Generate a random 6-letter username (alphabets only)\n",
    "\n",
    "\n",
    "def generate_username():\n",
    "    return \"\".join(random.choices(\"abcdefghijklmnopqrstuvwxyz\", k=6))"
   ]
  },
  {
   "cell_type": "code",
   "execution_count": 180,
   "metadata": {},
   "outputs": [],
   "source": [
    "# Generate 5000 deterministic comments\n",
    "toxic_1_data = generate_deterministic_toxic_1_comments()"
   ]
  },
  {
   "cell_type": "code",
   "execution_count": 181,
   "metadata": {},
   "outputs": [],
   "source": [
    "# CSV file columns\n",
    "csv_columns = [\n",
    "    \"text\",\n",
    "    \"timestamp\",\n",
    "    \"username\",\n",
    "    \"link\",\n",
    "    \"link_id\",\n",
    "    \"parent_id\",\n",
    "    \"id\",\n",
    "    \"subreddit_id\",\n",
    "    \"moderation\",\n",
    "    \"year\",\n",
    "    \"concatenated_count\",\n",
    "    \"complete_thread\",\n",
    "    \"gold_label\",\n",
    "    \"generated_data\",\n",
    "]"
   ]
  },
  {
   "cell_type": "code",
   "execution_count": 182,
   "metadata": {},
   "outputs": [],
   "source": [
    "# Constant values\n",
    "subreddit_id = \"t5_2qh8c\"\n",
    "moderation = \"{'controversiality': 0, 'collapsed_reason_code': None, 'collapsed': False, 'collapsed_reason': None}\"\n",
    "year = \"2021\"\n",
    "concatenated_count = 1\n",
    "complete_thread = True\n",
    "gold_label = \"Toxic 1\"\n",
    "generated_data = True"
   ]
  },
  {
   "cell_type": "code",
   "execution_count": 183,
   "metadata": {},
   "outputs": [],
   "source": [
    "# Prepare rows for CSV\n",
    "csv_data = []\n",
    "for i in range(5040):\n",
    "    text = toxic_1_data[i]\n",
    "    timestamp = generate_random_timestamp()\n",
    "    username = generate_username()\n",
    "    link_id = generate_unique_link_id()\n",
    "    parent_id = link_id  # Same within each row\n",
    "    comment_id = generate_unique_comment_id()\n",
    "    link = f\"/r/singapore/comments/13c3mt8/Strict_appearance_and_grooming_standards_for_Singapore_Airlines_cabin_crew/{comment_id}/\"\n",
    "\n",
    "    # Create a row for the CSV\n",
    "    row = {\n",
    "        \"text\": text,\n",
    "        \"timestamp\": timestamp,\n",
    "        \"username\": username,\n",
    "        \"link\": link,\n",
    "        \"link_id\": link_id,\n",
    "        \"parent_id\": parent_id,\n",
    "        \"id\": comment_id,\n",
    "        \"subreddit_id\": subreddit_id,\n",
    "        \"moderation\": moderation,\n",
    "        \"year\": year,\n",
    "        \"concatenated_count\": concatenated_count,\n",
    "        \"complete_thread\": complete_thread,\n",
    "        \"gold_label\": gold_label,\n",
    "        \"generated_data\": generated_data,\n",
    "    }\n",
    "\n",
    "    csv_data.append(row)"
   ]
  },
  {
   "cell_type": "code",
   "execution_count": 184,
   "metadata": {},
   "outputs": [
    {
     "name": "stdout",
     "output_type": "stream",
     "text": [
      "CSV file 'toxic_1_comments.csv' generated successfully.\n"
     ]
    }
   ],
   "source": [
    "# After generating all the rows in csv_data, shuffle them\n",
    "random.shuffle(csv_data)\n",
    "\n",
    "# Writing the shuffled data to a CSV file\n",
    "csv_file = \"toxic_1_comments.csv\"\n",
    "with open(csv_file, mode=\"w\", newline=\"\", encoding=\"utf-8\") as file:\n",
    "    writer = csv.DictWriter(file, fieldnames=csv_columns)\n",
    "    writer.writeheader()\n",
    "    writer.writerows(csv_data)\n",
    "\n",
    "print(f\"CSV file '{csv_file}' generated successfully.\")"
   ]
  }
 ],
 "metadata": {
  "kernelspec": {
   "display_name": "penv",
   "language": "python",
   "name": "python3"
  },
  "language_info": {
   "codemirror_mode": {
    "name": "ipython",
    "version": 3
   },
   "file_extension": ".py",
   "mimetype": "text/x-python",
   "name": "python",
   "nbconvert_exporter": "python",
   "pygments_lexer": "ipython3",
   "version": "3.12.7"
  }
 },
 "nbformat": 4,
 "nbformat_minor": 2
}
