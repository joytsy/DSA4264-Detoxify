{
 "cells": [
  {
   "cell_type": "code",
   "execution_count": 98,
   "metadata": {},
   "outputs": [],
   "source": [
    "import csv\n",
    "import itertools\n",
    "import random\n",
    "from datetime import datetime, timedelta"
   ]
  },
  {
   "cell_type": "code",
   "execution_count": 99,
   "metadata": {},
   "outputs": [],
   "source": [
    "# Define templates for Toxic 1 sentences (6 templates)\n",
    "toxic_1_templates = [\n",
    "    \"This is so {complaint}, I don't get why {person} even bothers.\",\n",
    "    \"Honestly, {person} is just {complaint}, and it is frustrating.\",\n",
    "    \"It is ridiculous how {complaint} {person} is acting.\",\n",
    "    \"Why is {person} always so {complaint}?\",\n",
    "    \"This situation with {person} is just {complaint}, such a waste of time.\",\n",
    "    \"The way things are going is leading to a lot of {complaint} lately.\",\n",
    "]\n",
    "\n",
    "# Define potential complaints (30 complaints)\n",
    "complaint = [\n",
    "    \"pointless\",\n",
    "    \"a waste of time\",\n",
    "    \"useless\",\n",
    "    \"frustrating\",\n",
    "    \"annoying\",\n",
    "    \"irrelevant\",\n",
    "    \"unnecessary\",\n",
    "    \"ridiculous\",\n",
    "    \"boring\",\n",
    "    \"meaningless\",\n",
    "    \"unproductive\",\n",
    "    \"exhausting\",\n",
    "    \"infuriating\",\n",
    "    \"unhelpful\",\n",
    "    \"time-consuming\",\n",
    "    \"confusing\",\n",
    "    \"unfair\",\n",
    "    \"overwhelming\",\n",
    "    \"disappointing\",\n",
    "    \"stupid\",\n",
    "    \"nonsense\",\n",
    "    \"tedious\",\n",
    "    \"unreasonable\",\n",
    "    \"unacceptable\",\n",
    "    \"insulting\",\n",
    "    \"difficult\",\n",
    "    \"disorganized\",\n",
    "    \"poorly executed\",\n",
    "    \"misguided\",\n",
    "    \"inconsistent\",\n",
    "]\n",
    "\n",
    "# Define potential persons (28 persons)\n",
    "person = [\n",
    "    \"he\",\n",
    "    \"she\",\n",
    "    \"this person\",\n",
    "    \"my colleague\",\n",
    "    \"that guy\",\n",
    "    \"that girl\",\n",
    "    \"the manager\",\n",
    "    \"my friend\",\n",
    "    \"the client\",\n",
    "    \"the supervisor\",\n",
    "    \"the director\",\n",
    "    \"the employee\",\n",
    "    \"the staff\",\n",
    "    \"my boss\",\n",
    "    \"that team member\",\n",
    "    \"the intern\",\n",
    "    \"that customer\",\n",
    "    \"that consultant\",\n",
    "    \"the analyst\",\n",
    "    \"the assistant\",\n",
    "    \"the team leader\",\n",
    "    \"someone\",\n",
    "    \"this colleague\",\n",
    "    \"that associate\",\n",
    "    \"that team member\",\n",
    "    \"the individual\",\n",
    "    \"that worker\",\n",
    "    \"the team member\",\n",
    "    \"the participant\",\n",
    "]"
   ]
  },
  {
   "cell_type": "code",
   "execution_count": 100,
   "metadata": {},
   "outputs": [],
   "source": [
    "# Generate the Cartesian product of all combinations\n",
    "\n",
    "\n",
    "def generate_deterministic_toxic_1_comments():\n",
    "    combinations = itertools.product(toxic_1_templates, person, complaint)\n",
    "    comments = [\n",
    "        template.format(person=person, complaint=complaint)\n",
    "        for template, person, complaint in combinations\n",
    "    ]\n",
    "\n",
    "    # Slice to 5000 rows\n",
    "    return comments[:5040]"
   ]
  },
  {
   "cell_type": "code",
   "execution_count": 101,
   "metadata": {},
   "outputs": [],
   "source": [
    "# Generate a unique ID (e.g., comment id)\n",
    "\n",
    "\n",
    "def generate_unique_comment_id():\n",
    "    return \"\".join(random.choices(\"abcdefghijklmnopqrstuvwxyz0123456789\", k=7))"
   ]
  },
  {
   "cell_type": "code",
   "execution_count": 102,
   "metadata": {},
   "outputs": [],
   "source": [
    "# Generate a unique link ID (e.g., \"t3_\" followed by 6 characters)\n",
    "\n",
    "\n",
    "def generate_unique_link_id():\n",
    "    return \"t3_\" + \"\".join(random.choices(\"abcdefghijklmnopqrstuvwxyz0123456789\", k=7))"
   ]
  },
  {
   "cell_type": "code",
   "execution_count": 103,
   "metadata": {},
   "outputs": [],
   "source": [
    "# Generate a random timestamp (date and time) in 2023\n",
    "\n",
    "\n",
    "def generate_random_timestamp(year=2023):\n",
    "    start_date = datetime(year, 1, 1)\n",
    "    end_date = datetime(year, 12, 31)\n",
    "    random_date = start_date + timedelta(\n",
    "        days=random.randint(0, (end_date - start_date).days)\n",
    "    )\n",
    "\n",
    "    # Generate random hours, minutes, and seconds\n",
    "    random_time = timedelta(\n",
    "        hours=random.randint(0, 23),\n",
    "        minutes=random.randint(0, 59),\n",
    "        seconds=random.randint(0, 59),\n",
    "    )\n",
    "\n",
    "    # Combine the random date with the random time\n",
    "    full_random_datetime = random_date + random_time\n",
    "\n",
    "    # Return in the desired format\n",
    "    return full_random_datetime.strftime(\"%m/%d/%Y %I:%M:%S %p\")"
   ]
  },
  {
   "cell_type": "code",
   "execution_count": 104,
   "metadata": {},
   "outputs": [],
   "source": [
    "# Generate a random 6-letter username (alphabets only)\n",
    "\n",
    "\n",
    "def generate_username():\n",
    "    return \"\".join(random.choices(\"abcdefghijklmnopqrstuvwxyz\", k=6))"
   ]
  },
  {
   "cell_type": "code",
   "execution_count": 105,
   "metadata": {},
   "outputs": [],
   "source": [
    "# Generate 5000 deterministic comments\n",
    "toxic_1_data = generate_deterministic_toxic_1_comments()"
   ]
  },
  {
   "cell_type": "code",
   "execution_count": 106,
   "metadata": {},
   "outputs": [],
   "source": [
    "# CSV file columns\n",
    "csv_columns = [\n",
    "    \"text\",\n",
    "    \"timestamp\",\n",
    "    \"username\",\n",
    "    \"link\",\n",
    "    \"link_id\",\n",
    "    \"parent_id\",\n",
    "    \"id\",\n",
    "    \"subreddit_id\",\n",
    "    \"moderation\",\n",
    "    \"year\",\n",
    "    \"concatenated_count\",\n",
    "    \"complete_thread\",\n",
    "    \"gold_label\",\n",
    "]"
   ]
  },
  {
   "cell_type": "code",
   "execution_count": 107,
   "metadata": {},
   "outputs": [],
   "source": [
    "# Constant values\n",
    "subreddit_id = \"t5_2qh8c\"\n",
    "moderation = \"{'controversiality': 0, 'collapsed_reason_code': None, 'collapsed': False, 'collapsed_reason': None}\"\n",
    "year = \"2021\"\n",
    "concatenated_count = 1\n",
    "complete_thread = True\n",
    "gold_label = \"Toxic 1\""
   ]
  },
  {
   "cell_type": "code",
   "execution_count": 108,
   "metadata": {},
   "outputs": [],
   "source": [
    "# Prepare rows for CSV\n",
    "csv_data = []\n",
    "for i in range(5040):\n",
    "    text = toxic_1_data[i]\n",
    "    timestamp = generate_random_timestamp()\n",
    "    username = generate_username()\n",
    "    link_id = generate_unique_link_id()\n",
    "    parent_id = link_id  # Same within each row\n",
    "    comment_id = generate_unique_comment_id()\n",
    "    link = f\"/r/singapore/comments/13c3mt8/Strict_appearance_and_grooming_standards_for_Singapore_Airlines_cabin_crew/{comment_id}/\"\n",
    "\n",
    "    # Create a row for the CSV\n",
    "    row = {\n",
    "        \"text\": text,\n",
    "        \"timestamp\": timestamp,\n",
    "        \"username\": username,\n",
    "        \"link\": link,\n",
    "        \"link_id\": link_id,\n",
    "        \"parent_id\": parent_id,\n",
    "        \"id\": comment_id,\n",
    "        \"subreddit_id\": subreddit_id,\n",
    "        \"moderation\": moderation,\n",
    "        \"year\": year,\n",
    "        \"concatenated_count\": concatenated_count,\n",
    "        \"complete_thread\": complete_thread,\n",
    "        \"gold_label\": gold_label,\n",
    "    }\n",
    "\n",
    "    csv_data.append(row)"
   ]
  },
  {
   "cell_type": "code",
   "execution_count": 109,
   "metadata": {},
   "outputs": [
    {
     "name": "stdout",
     "output_type": "stream",
     "text": [
      "5040\n"
     ]
    }
   ],
   "source": [
    "print(len(toxic_1_data))  # Check how many items are in the list"
   ]
  },
  {
   "cell_type": "code",
   "execution_count": 110,
   "metadata": {},
   "outputs": [
    {
     "name": "stdout",
     "output_type": "stream",
     "text": [
      "CSV file 'toxic_1_comments.csv' generated successfully.\n"
     ]
    }
   ],
   "source": [
    "# After generating all the rows in csv_data, shuffle them\n",
    "random.shuffle(csv_data)\n",
    "\n",
    "# Writing the shuffled data to a CSV file\n",
    "csv_file = \"toxic_1_comments.csv\"\n",
    "with open(csv_file, mode=\"w\", newline=\"\", encoding=\"utf-8\") as file:\n",
    "    writer = csv.DictWriter(file, fieldnames=csv_columns)\n",
    "    writer.writeheader()\n",
    "    writer.writerows(csv_data)\n",
    "\n",
    "print(f\"CSV file '{csv_file}' generated successfully.\")"
   ]
  }
 ],
 "metadata": {
  "kernelspec": {
   "display_name": "penv",
   "language": "python",
   "name": "python3"
  },
  "language_info": {
   "codemirror_mode": {
    "name": "ipython",
    "version": 3
   },
   "file_extension": ".py",
   "mimetype": "text/x-python",
   "name": "python",
   "nbconvert_exporter": "python",
   "pygments_lexer": "ipython3",
   "version": "3.12.7"
  }
 },
 "nbformat": 4,
 "nbformat_minor": 2
}
