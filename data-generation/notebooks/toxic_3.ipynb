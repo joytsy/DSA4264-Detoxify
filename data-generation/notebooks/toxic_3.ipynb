{
 "cells": [
  {
   "cell_type": "code",
   "execution_count": 40,
   "metadata": {},
   "outputs": [],
   "source": [
    "import csv\n",
    "import itertools\n",
    "import random\n",
    "from datetime import datetime, timedelta"
   ]
  },
  {
   "cell_type": "code",
   "execution_count": 41,
   "metadata": {},
   "outputs": [],
   "source": [
    "# Define templates for Toxic 3 sentences (20 templates)\n",
    "toxic_3_templates = [\n",
    "    \"{person}, you are such a {insult}. Just wait until I {threat}.\",\n",
    "    \"Honestly, nobody likes {person}. I will {threat} if you keep acting this way.\",\n",
    "    \"{person}, you really need to stop being such a {insult}, or I might just {threat}.\",\n",
    "    \"{person}, you are the worst! I swear I will {threat} if you do not change your behavior.\",\n",
    "    \"{person}, you make me sick. If you do not back off, I will {threat}.\",\n",
    "    \"{person}, you are a total {insult}. You better watch out because I could easily {threat}.\",\n",
    "    \"{person}, you think you are so clever, but you are just a {insult}. I might {threat} if you keep this up.\",\n",
    "    \"Do not test me, {person}. You might just find that I will {threat} at any moment.\",\n",
    "    \"{person}, you are pathetic. If you keep talking like that, I will {threat}.\",\n",
    "    \"{person}, you should be careful. I can easily {threat} if you continue this nonsense.\",\n",
    "    \"{person}, you deserve every bit of this. I will {threat} if you do not stop.\",\n",
    "    \"It is infuriating how {insult} you are, {person}. You should really fear that I might {threat}.\",\n",
    "    \"I cannot stand you, {person}. Do not be surprised if I decide to {threat}.\",\n",
    "    \"Your stupidity knows no bounds, {person}. I might just {threat} one day.\",\n",
    "    \"{person}, you are such a {insult}. Just remember, I could always {threat} if you keep this up.\",\n",
    "    \"{person}, you think you can get away with this? I will {threat} if you continue.\",\n",
    "    \"It is amazing how annoying you are, {person}. I may {threat} before this is over.\",\n",
    "    \"Your presence is a joke, {person}. I will {threat} if you do not leave me alone.\",\n",
    "    \"{person}, you are a complete {insult}. I would not hesitate to {threat} if this continues.\",\n",
    "    \"{person}, I have had enough of your nonsense. You should know that I might {threat} soon.\",\n",
    "    \"Maybe you should just {threat}, {person}, it would be better for everyone.\",\n",
    "]\n",
    "\n",
    "# Define potential persons (5 persons)\n",
    "person = [\"this idiot\", \"that coward\", \"you\", \"the rude coworker\", \"the drama queen\"]\n",
    "\n",
    "# Define potential insults (10 insults)\n",
    "insult = [\n",
    "    \"loser\",\n",
    "    \"idiot\",\n",
    "    \"fool\",\n",
    "    \"coward\",\n",
    "    \"jerk\",\n",
    "    \"hypocrite\",\n",
    "    \"drama queen\",\n",
    "    \"failure\",\n",
    "    \"nobody\",\n",
    "    \"clown\",\n",
    "]\n",
    "\n",
    "# Define potential threats (10 threats including self-harm or targeted harassment)\n",
    "threat = [\n",
    "    \"make your life miserable\",\n",
    "    \"come after you\",\n",
    "    \"report you\",\n",
    "    \"expose you\",\n",
    "    \"ruin you\",\n",
    "    \"take you down\",\n",
    "    \"hurt you\",\n",
    "    \"make you regret this\",\n",
    "    \"show you what pain feels like\",\n",
    "    \"get revenge on you\",\n",
    "    \"make you wish you were never born\",\n",
    "    \"destroy your reputation\",\n",
    "    \"ensure you feel real fear\",\n",
    "    \"break you down\",\n",
    "    \"just end it all\",\n",
    "]"
   ]
  },
  {
   "cell_type": "code",
   "execution_count": 42,
   "metadata": {},
   "outputs": [],
   "source": [
    "# Generate the Cartesian product of all combinations\n",
    "\n",
    "\n",
    "def generate_deterministic_toxic_3_comments():\n",
    "    combinations = itertools.product(toxic_3_templates, insult, person, threat)\n",
    "    comments = [\n",
    "        template.format(insult=insult, person=person, threat=threat)\n",
    "        for template, insult, person, threat in combinations\n",
    "    ]\n",
    "\n",
    "    # Slice to 10000 rows\n",
    "    return comments[:10000]"
   ]
  },
  {
   "cell_type": "code",
   "execution_count": 43,
   "metadata": {},
   "outputs": [],
   "source": [
    "# Generate a unique ID (e.g., comment id)\n",
    "\n",
    "\n",
    "def generate_unique_comment_id():\n",
    "    return \"\".join(random.choices(\"abcdefghijklmnopqrstuvwxyz0123456789\", k=7))"
   ]
  },
  {
   "cell_type": "code",
   "execution_count": 44,
   "metadata": {},
   "outputs": [],
   "source": [
    "# Generate a unique link ID (e.g., \"t3_\" followed by 6 characters)\n",
    "\n",
    "\n",
    "def generate_unique_link_id():\n",
    "    return \"t3_\" + \"\".join(random.choices(\"abcdefghijklmnopqrstuvwxyz0123456789\", k=7))"
   ]
  },
  {
   "cell_type": "code",
   "execution_count": 45,
   "metadata": {},
   "outputs": [],
   "source": [
    "# Generate a random timestamp (date and time) in 2023\n",
    "\n",
    "\n",
    "def generate_random_timestamp(year=2023):\n",
    "    start_date = datetime(year, 1, 1)\n",
    "    end_date = datetime(year, 12, 31)\n",
    "    random_date = start_date + timedelta(\n",
    "        days=random.randint(0, (end_date - start_date).days)\n",
    "    )\n",
    "\n",
    "    # Generate random hours, minutes, and seconds\n",
    "    random_time = timedelta(\n",
    "        hours=random.randint(0, 23),\n",
    "        minutes=random.randint(0, 59),\n",
    "        seconds=random.randint(0, 59),\n",
    "    )\n",
    "\n",
    "    # Combine the random date with the random time\n",
    "    full_random_datetime = random_date + random_time\n",
    "\n",
    "    # Return in the desired format\n",
    "    return full_random_datetime.strftime(\"%m/%d/%Y %I:%M:%S %p\")"
   ]
  },
  {
   "cell_type": "code",
   "execution_count": 46,
   "metadata": {},
   "outputs": [],
   "source": [
    "# Generate a random 6-letter username (alphabets only)\n",
    "\n",
    "\n",
    "def generate_username():\n",
    "    return \"\".join(random.choices(\"abcdefghijklmnopqrstuvwxyz\", k=6))"
   ]
  },
  {
   "cell_type": "code",
   "execution_count": 47,
   "metadata": {},
   "outputs": [],
   "source": [
    "# Generate 5000 deterministic comments\n",
    "toxic_3_data = generate_deterministic_toxic_3_comments()"
   ]
  },
  {
   "cell_type": "code",
   "execution_count": 48,
   "metadata": {},
   "outputs": [],
   "source": [
    "# CSV file columns\n",
    "csv_columns = [\n",
    "    \"text\",\n",
    "    \"timestamp\",\n",
    "    \"username\",\n",
    "    \"link\",\n",
    "    \"link_id\",\n",
    "    \"parent_id\",\n",
    "    \"id\",\n",
    "    \"subreddit_id\",\n",
    "    \"moderation\",\n",
    "    \"year\",\n",
    "    \"concatenated_count\",\n",
    "    \"complete_thread\",\n",
    "    \"gold_label\",\n",
    "    \"generated_data\",\n",
    "]"
   ]
  },
  {
   "cell_type": "code",
   "execution_count": 49,
   "metadata": {},
   "outputs": [],
   "source": [
    "# Constant values\n",
    "subreddit_id = \"t5_2qh8c\"\n",
    "moderation = \"{'controversiality': 0, 'collapsed_reason_code': None, 'collapsed': False, 'collapsed_reason': None}\"\n",
    "year = \"2023\"\n",
    "concatenated_count = 1\n",
    "complete_thread = True\n",
    "gold_label = \"Toxic 3\"\n",
    "generated_data = True"
   ]
  },
  {
   "cell_type": "code",
   "execution_count": 50,
   "metadata": {},
   "outputs": [],
   "source": [
    "# Prepare rows for CSV\n",
    "csv_data = []\n",
    "for i in range(10000):\n",
    "    text = toxic_3_data[i]\n",
    "    timestamp = generate_random_timestamp()\n",
    "    username = generate_username()\n",
    "    link_id = generate_unique_link_id()\n",
    "    parent_id = link_id  # Same within each row\n",
    "    comment_id = generate_unique_comment_id()\n",
    "    link = f\"/r/singapore/comments/13c3mt8/Strict_appearance_and_grooming_standards_for_Singapore_Airlines_cabin_crew/{comment_id}/\"\n",
    "\n",
    "    # Create a row for the CSV\n",
    "    row = {\n",
    "        \"text\": text,\n",
    "        \"timestamp\": timestamp,\n",
    "        \"username\": username,\n",
    "        \"link\": link,\n",
    "        \"link_id\": link_id,\n",
    "        \"parent_id\": parent_id,\n",
    "        \"id\": comment_id,\n",
    "        \"subreddit_id\": subreddit_id,\n",
    "        \"moderation\": moderation,\n",
    "        \"year\": year,\n",
    "        \"concatenated_count\": concatenated_count,\n",
    "        \"complete_thread\": complete_thread,\n",
    "        \"gold_label\": gold_label,\n",
    "        \"generated_data\": generated_data,\n",
    "    }\n",
    "\n",
    "    csv_data.append(row)"
   ]
  },
  {
   "cell_type": "code",
   "execution_count": 51,
   "metadata": {},
   "outputs": [
    {
     "name": "stdout",
     "output_type": "stream",
     "text": [
      "CSV file 'toxic_3_comments.csv' generated successfully.\n"
     ]
    }
   ],
   "source": [
    "# After generating all the rows in csv_data, shuffle them\n",
    "random.shuffle(csv_data)\n",
    "selected_data = csv_data[:9860]\n",
    "\n",
    "\n",
    "# Writing the shuffled data to a CSV file\n",
    "csv_file = \"toxic_3_comments.csv\"\n",
    "with open(csv_file, mode=\"w\", newline=\"\", encoding=\"utf-8\") as file:\n",
    "    writer = csv.DictWriter(file, fieldnames=csv_columns)\n",
    "    writer.writeheader()\n",
    "    writer.writerows(selected_data)\n",
    "\n",
    "print(f\"CSV file '{csv_file}' generated successfully.\")"
   ]
  }
 ],
 "metadata": {
  "kernelspec": {
   "display_name": "penv",
   "language": "python",
   "name": "python3"
  },
  "language_info": {
   "codemirror_mode": {
    "name": "ipython",
    "version": 3
   },
   "file_extension": ".py",
   "mimetype": "text/x-python",
   "name": "python",
   "nbconvert_exporter": "python",
   "pygments_lexer": "ipython3",
   "version": "3.12.7"
  }
 },
 "nbformat": 4,
 "nbformat_minor": 2
}
