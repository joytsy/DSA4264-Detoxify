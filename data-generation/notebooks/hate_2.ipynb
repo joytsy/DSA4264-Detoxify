{
 "cells": [
  {
   "cell_type": "code",
   "execution_count": 1,
   "metadata": {},
   "outputs": [],
   "source": [
    "import csv\n",
    "import itertools\n",
    "import random\n",
    "from datetime import datetime, timedelta"
   ]
  },
  {
   "cell_type": "code",
   "execution_count": 2,
   "metadata": {},
   "outputs": [],
   "source": [
    "# Expanded templates for Hate 2 sentences (25 templates)\n",
    "hate_2_templates = [\n",
    "    \"{group} shouldn't be allowed to {action}.\",\n",
    "    \"Its time to stop {group} from {action}.\",\n",
    "    \"I dont like {group} who {action}, and they should be stopped.\",\n",
    "    \"We need to do something about {group} who {action}.\",\n",
    "    \"{group} must be prevented from {action}.\",\n",
    "    \"I prefer not to deal with {group} because they {action}.\",\n",
    "    \"It bothers me that {group} are still allowed to {action}.\",\n",
    "    \"Those {group} who {action} should be excluded from society.\",\n",
    "    \"Why do we allow {group} to continue {action}?\",\n",
    "    \"{group} who {action} dont belong here.\",\n",
    "    \"{group} should face consequences for {action}.\",\n",
    "    \"Its unacceptable that {group} keep {action}.\",\n",
    "    \"I have no patience for {group} who {action}.\",\n",
    "    \"It frustrates me that {group} always {action}.\",\n",
    "    \"{group} must be stopped from {action} before its too late.\",\n",
    "    \"People like {group} shouldnt {action}.\",\n",
    "    \"{group} need to be held accountable for {action}.\",\n",
    "    \"The way {group} keep {action} is unacceptable, and it must end.\",\n",
    "    \"If {group} keep {action}, we need stricter rules.\",\n",
    "    \"When {group} {action}, it only creates problems for everyone else.\",\n",
    "    \"How can we tolerate {group} who {action}?\",\n",
    "    \"Is it just me, or are {group} always {action}?\",\n",
    "    \"No one likes {group} who {action}.\",\n",
    "    \"{group} are a nuisance when they {action}.\",\n",
    "    \"Its frustrating how {group} always {action}.\",\n",
    "]\n",
    "\n",
    "# Expanded actions for Hate 2 (20 actions)\n",
    "hate_2_actions = [\n",
    "    \"taking up space\",\n",
    "    \"stealing jobs\",\n",
    "    \"acting entitled\",\n",
    "    \"pushing their beliefs on us\",\n",
    "    \"being lazy\",\n",
    "    \"refusing to integrate\",\n",
    "    \"creating trouble\",\n",
    "    \"complaining about everything\",\n",
    "    \"taking advantage of the system\",\n",
    "    \"bringing down property values\",\n",
    "    \"disrupting the community\",\n",
    "    \"not respecting our culture\",\n",
    "    \"ignoring local customs\",\n",
    "    \"causing problems\",\n",
    "    \"bringing their issues here\",\n",
    "    \"speaking their language\",\n",
    "    \"rejecting our traditions\",\n",
    "    \"overcrowding our cities\",\n",
    "    \"not contributing to society\",\n",
    "    \"failing to assimilate\",\n",
    "]\n",
    "\n",
    "# Define groups targeted in hate speech (10 groups)\n",
    "groups = [\n",
    "    \"LGBTQ+ people\",\n",
    "    \"Jews\",\n",
    "    \"disabled people\",\n",
    "    \"Black people\",\n",
    "    \"Asians\",\n",
    "    \"political opponents\",\n",
    "    \"men\",\n",
    "    \"white people\",\n",
    "    \"liberals\",\n",
    "    \"conservatives\",\n",
    "]"
   ]
  },
  {
   "cell_type": "code",
   "execution_count": 3,
   "metadata": {},
   "outputs": [],
   "source": [
    "# Generate the Cartesian product of all combinations for Hate 2\n",
    "\n",
    "\n",
    "def generate_deterministic_hate_2_comments():\n",
    "    combinations = itertools.product(hate_2_templates, groups, hate_2_actions)\n",
    "    comments = [\n",
    "        template.format(group=group, action=action)\n",
    "        for template, group, action in combinations\n",
    "    ]\n",
    "\n",
    "    return comments"
   ]
  },
  {
   "cell_type": "code",
   "execution_count": 4,
   "metadata": {},
   "outputs": [],
   "source": [
    "# Generate a unique comment ID without prefix, following a 7-character length\n",
    "\n",
    "\n",
    "def generate_unique_comment_id():\n",
    "    return \"\".join(random.choices(\"abcdefghijklmnopqrstuvwxyz0123456789\", k=7))\n",
    "\n",
    "\n",
    "# Generate a unique link ID (e.g., \"t3_\" followed by 7 characters)\n",
    "\n",
    "\n",
    "def generate_unique_link_id():\n",
    "    return \"t3_\" + \"\".join(random.choices(\"abcdefghijklmnopqrstuvwxyz0123456789\", k=7))"
   ]
  },
  {
   "cell_type": "code",
   "execution_count": 5,
   "metadata": {},
   "outputs": [],
   "source": [
    "# Generate a random 6-letter username (alphabets only)\n",
    "\n",
    "\n",
    "def generate_username():\n",
    "    return \"\".join(random.choices(\"abcdefghijklmnopqrstuvwxyz\", k=6))"
   ]
  },
  {
   "cell_type": "code",
   "execution_count": 6,
   "metadata": {},
   "outputs": [],
   "source": [
    "# Generate a random timestamp (date and time) in 2022\n",
    "\n",
    "\n",
    "def generate_random_timestamp(year=2022):\n",
    "    start_date = datetime(year, 1, 1)\n",
    "    end_date = datetime(year, 12, 31)\n",
    "    random_date = start_date + timedelta(\n",
    "        days=random.randint(0, (end_date - start_date).days)\n",
    "    )\n",
    "    random_time = timedelta(\n",
    "        hours=random.randint(0, 23),\n",
    "        minutes=random.randint(0, 59),\n",
    "        seconds=random.randint(0, 59),\n",
    "    )\n",
    "    full_random_datetime = random_date + random_time\n",
    "    return full_random_datetime.strftime(\"%m/%d/%Y %I:%M:%S %p\")"
   ]
  },
  {
   "cell_type": "code",
   "execution_count": 7,
   "metadata": {},
   "outputs": [],
   "source": [
    "# Generate enough comments to hit 5000 rows by looping through combinations\n",
    "hate_2_data = generate_deterministic_hate_2_comments()"
   ]
  },
  {
   "cell_type": "code",
   "execution_count": 8,
   "metadata": {},
   "outputs": [],
   "source": [
    "# Ensure there are 5000 rows by looping through the generated combinations\n",
    "csv_data_hate_2 = []\n",
    "for i in range(5000):\n",
    "    text = hate_2_data[\n",
    "        i % len(hate_2_data)\n",
    "    ]  # Repeat combinations if fewer than 5000 unique rows\n",
    "    timestamp = generate_random_timestamp()\n",
    "    username = generate_username()  # Random 6-letter username\n",
    "    link_id = generate_unique_link_id()\n",
    "    parent_id = link_id  # Same within each row\n",
    "    comment_id = generate_unique_comment_id()  # No prefix, just a 7-character ID\n",
    "    link = f\"/r/singapore/comments/13c3mt8/stupid_people_on_the_streets/{comment_id}/\"\n",
    "\n",
    "    # Create a row for the CSV\n",
    "    row = {\n",
    "        \"text\": text,\n",
    "        \"timestamp\": timestamp,\n",
    "        \"username\": username,  # Random 6-letter username\n",
    "        \"link\": link,\n",
    "        \"link_id\": link_id,\n",
    "        \"parent_id\": parent_id,\n",
    "        \"id\": comment_id,  # No prefix, short 7-char ID\n",
    "        \"subreddit_id\": \"t5_2qh8c\",\n",
    "        \"moderation\": \"{'controversiality': 0, 'collapsed_reason_code': None, 'collapsed': False, 'collapsed_reason': None}\",\n",
    "        \"year\": 2022,\n",
    "        \"concatenated_count\": 1,\n",
    "        \"complete_thread\": True,\n",
    "        \"gold_label\": \"Hate 2\",  # Set to Hate 2\n",
    "        \"generated_data\": True,\n",
    "    }\n",
    "\n",
    "    csv_data_hate_2.append(row)"
   ]
  },
  {
   "cell_type": "code",
   "execution_count": 9,
   "metadata": {},
   "outputs": [
    {
     "name": "stdout",
     "output_type": "stream",
     "text": [
      "CSV file 'hate_2_comments.csv' generated successfully.\n"
     ]
    }
   ],
   "source": [
    "# Shuffle the rows\n",
    "random.shuffle(csv_data_hate_2)\n",
    "\n",
    "# Writing the shuffled Hate 2 data to a CSV file\n",
    "csv_file_hate_2 = \"hate_2_comments.csv\"\n",
    "with open(csv_file_hate_2, mode=\"w\", newline=\"\", encoding=\"utf-8\") as file:\n",
    "    writer = csv.DictWriter(file, fieldnames=csv_data_hate_2[0].keys())\n",
    "    writer.writeheader()\n",
    "    writer.writerows(csv_data_hate_2)\n",
    "\n",
    "print(f\"CSV file '{csv_file_hate_2}' generated successfully.\")"
   ]
  }
 ],
 "metadata": {
  "kernelspec": {
   "display_name": "penv",
   "language": "python",
   "name": "python3"
  },
  "language_info": {
   "codemirror_mode": {
    "name": "ipython",
    "version": 3
   },
   "file_extension": ".py",
   "mimetype": "text/x-python",
   "name": "python",
   "nbconvert_exporter": "python",
   "pygments_lexer": "ipython3",
   "version": "3.12.7"
  }
 },
 "nbformat": 4,
 "nbformat_minor": 2
}
