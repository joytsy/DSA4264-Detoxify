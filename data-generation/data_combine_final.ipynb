{
 "cells": [
  {
   "cell_type": "code",
   "execution_count": 1,
   "metadata": {},
   "outputs": [],
   "source": [
    "import re\n",
    "import string\n",
    "\n",
    "import nltk\n",
    "import pandas as pd\n",
    "from nltk.corpus import stopwords"
   ]
  },
  {
   "cell_type": "code",
   "execution_count": 2,
   "metadata": {},
   "outputs": [
    {
     "name": "stdout",
     "output_type": "stream",
     "text": [
      "(156000, 14)\n",
      "['No Hate/Toxic']\n"
     ]
    }
   ],
   "source": [
    "data = pd.read_csv(\"./notebooks/no_hate_toxic_comments.csv\")\n",
    "print(data.shape)\n",
    "print(data[\"gold_label\"].unique())"
   ]
  },
  {
   "cell_type": "code",
   "execution_count": 3,
   "metadata": {},
   "outputs": [
    {
     "name": "stdout",
     "output_type": "stream",
     "text": [
      "(156000, 14)\n",
      "['Hate 1']\n"
     ]
    }
   ],
   "source": [
    "data1 = pd.read_csv(\"./notebooks/hate_1_comments.csv\")\n",
    "print(data1.shape)\n",
    "print(data1[\"gold_label\"].unique())"
   ]
  },
  {
   "cell_type": "code",
   "execution_count": 4,
   "metadata": {},
   "outputs": [
    {
     "name": "stdout",
     "output_type": "stream",
     "text": [
      "(156000, 14)\n",
      "['Hate 2']\n"
     ]
    }
   ],
   "source": [
    "data2 = pd.read_csv(\"./notebooks/hate_2_comments.csv\")\n",
    "print(data2.shape)\n",
    "print(data2[\"gold_label\"].unique())"
   ]
  },
  {
   "cell_type": "code",
   "execution_count": 5,
   "metadata": {},
   "outputs": [
    {
     "name": "stdout",
     "output_type": "stream",
     "text": [
      "(156000, 14)\n",
      "['Hate 3']\n"
     ]
    }
   ],
   "source": [
    "data3 = pd.read_csv(\"./notebooks/hate_3_comments.csv\")\n",
    "print(data3.shape)\n",
    "print(data3[\"gold_label\"].unique())"
   ]
  },
  {
   "cell_type": "code",
   "execution_count": 6,
   "metadata": {},
   "outputs": [
    {
     "name": "stdout",
     "output_type": "stream",
     "text": [
      "(156000, 14)\n",
      "['Toxic 1']\n"
     ]
    }
   ],
   "source": [
    "data4 = pd.read_csv(\"./notebooks/toxic_1_comments.csv\")\n",
    "print(data4.shape)\n",
    "print(data4[\"gold_label\"].unique())"
   ]
  },
  {
   "cell_type": "code",
   "execution_count": 7,
   "metadata": {},
   "outputs": [
    {
     "name": "stdout",
     "output_type": "stream",
     "text": [
      "(156000, 14)\n",
      "['Toxic 2']\n"
     ]
    }
   ],
   "source": [
    "data5 = pd.read_csv(\"./notebooks/toxic_2_comments.csv\")\n",
    "print(data5.shape)\n",
    "print(data5[\"gold_label\"].unique())"
   ]
  },
  {
   "cell_type": "code",
   "execution_count": 8,
   "metadata": {},
   "outputs": [
    {
     "name": "stdout",
     "output_type": "stream",
     "text": [
      "(156000, 14)\n",
      "['Toxic 3']\n"
     ]
    }
   ],
   "source": [
    "data6 = pd.read_csv(\"./notebooks/toxic_3_comments.csv\")\n",
    "print(data6.shape)\n",
    "print(data6[\"gold_label\"].unique())"
   ]
  },
  {
   "cell_type": "code",
   "execution_count": 9,
   "metadata": {},
   "outputs": [],
   "source": [
    "# Concatenate all datasets into one DataFrame\n",
    "merged_data = pd.concat([data, data1, data2, data3, data4, data5, data6])"
   ]
  },
  {
   "cell_type": "code",
   "execution_count": 10,
   "metadata": {},
   "outputs": [
    {
     "name": "stdout",
     "output_type": "stream",
     "text": [
      "Merged and shuffled data saved to './notebooks/new_final_data.csv'.\n"
     ]
    }
   ],
   "source": [
    "# Shuffle the merged data\n",
    "shuffled_data = merged_data.sample(frac=1, random_state=42).reset_index(drop=True)\n",
    "\n",
    "# Save the shuffled data to a new CSV file\n",
    "shuffled_data_file = \"./notebooks/new_final_data.csv\"\n",
    "shuffled_data.to_csv(shuffled_data_file, index=False)\n",
    "\n",
    "print(f\"Merged and shuffled data saved to '{shuffled_data_file}'.\")"
   ]
  },
  {
   "cell_type": "code",
   "execution_count": 11,
   "metadata": {},
   "outputs": [
    {
     "name": "stderr",
     "output_type": "stream",
     "text": [
      "[nltk_data] Downloading package stopwords to\n",
      "[nltk_data]     C:\\Users\\richm\\AppData\\Roaming\\nltk_data...\n",
      "[nltk_data]   Package stopwords is already up-to-date!\n"
     ]
    }
   ],
   "source": [
    "# Download the stopwords from nltk\n",
    "nltk.download(\"stopwords\")\n",
    "\n",
    "# Load the stop words\n",
    "stop_words = set(stopwords.words(\"english\"))"
   ]
  },
  {
   "cell_type": "code",
   "execution_count": 12,
   "metadata": {},
   "outputs": [
    {
     "data": {
      "text/plain": [
       "(1092000, 14)"
      ]
     },
     "execution_count": 12,
     "metadata": {},
     "output_type": "execute_result"
    }
   ],
   "source": [
    "final_read = pd.read_csv(\"./notebooks/new_final_data.csv\")\n",
    "final_read.shape"
   ]
  }
 ],
 "metadata": {
  "kernelspec": {
   "display_name": "penv",
   "language": "python",
   "name": "python3"
  },
  "language_info": {
   "codemirror_mode": {
    "name": "ipython",
    "version": 3
   },
   "file_extension": ".py",
   "mimetype": "text/x-python",
   "name": "python",
   "nbconvert_exporter": "python",
   "pygments_lexer": "ipython3",
   "version": "3.12.7"
  }
 },
 "nbformat": 4,
 "nbformat_minor": 2
}
