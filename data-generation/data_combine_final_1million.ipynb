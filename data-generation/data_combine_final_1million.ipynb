{
 "cells": [
  {
   "cell_type": "code",
   "execution_count": 12,
   "metadata": {},
   "outputs": [],
   "source": [
    "import nltk\n",
    "import pandas as pd\n",
    "from nltk.corpus import stopwords"
   ]
  },
  {
   "cell_type": "code",
   "execution_count": 13,
   "metadata": {},
   "outputs": [
    {
     "ename": "FileNotFoundError",
     "evalue": "[Errno 2] No such file or directory: '/Users/richmondsin/Desktop/DSA4264/DSA4264-Detoxify/data-generation/1million_subset_part_1.csv'",
     "output_type": "error",
     "traceback": [
      "\u001b[0;31m---------------------------------------------------------------------------\u001b[0m",
      "\u001b[0;31mFileNotFoundError\u001b[0m                         Traceback (most recent call last)",
      "Cell \u001b[0;32mIn[13], line 1\u001b[0m\n\u001b[0;32m----> 1\u001b[0m data1 \u001b[38;5;241m=\u001b[39m \u001b[43mpd\u001b[49m\u001b[38;5;241;43m.\u001b[39;49m\u001b[43mread_csv\u001b[49m\u001b[43m(\u001b[49m\u001b[38;5;124;43m\"\u001b[39;49m\u001b[38;5;124;43m/Users/richmondsin/Desktop/DSA4264/DSA4264-Detoxify/data-generation/1million_subset_part_1.csv\u001b[39;49m\u001b[38;5;124;43m\"\u001b[39;49m\u001b[43m)\u001b[49m\n\u001b[1;32m      2\u001b[0m \u001b[38;5;28mprint\u001b[39m(data1\u001b[38;5;241m.\u001b[39mshape)\n\u001b[1;32m      3\u001b[0m \u001b[38;5;66;03m# Check if there are any NaN values in the 'Classification' column\u001b[39;00m\n",
      "File \u001b[0;32m~/Desktop/DSA4264/DSA4264-Detoxify/penv/lib/python3.12/site-packages/pandas/io/parsers/readers.py:1026\u001b[0m, in \u001b[0;36mread_csv\u001b[0;34m(filepath_or_buffer, sep, delimiter, header, names, index_col, usecols, dtype, engine, converters, true_values, false_values, skipinitialspace, skiprows, skipfooter, nrows, na_values, keep_default_na, na_filter, verbose, skip_blank_lines, parse_dates, infer_datetime_format, keep_date_col, date_parser, date_format, dayfirst, cache_dates, iterator, chunksize, compression, thousands, decimal, lineterminator, quotechar, quoting, doublequote, escapechar, comment, encoding, encoding_errors, dialect, on_bad_lines, delim_whitespace, low_memory, memory_map, float_precision, storage_options, dtype_backend)\u001b[0m\n\u001b[1;32m   1013\u001b[0m kwds_defaults \u001b[38;5;241m=\u001b[39m _refine_defaults_read(\n\u001b[1;32m   1014\u001b[0m     dialect,\n\u001b[1;32m   1015\u001b[0m     delimiter,\n\u001b[0;32m   (...)\u001b[0m\n\u001b[1;32m   1022\u001b[0m     dtype_backend\u001b[38;5;241m=\u001b[39mdtype_backend,\n\u001b[1;32m   1023\u001b[0m )\n\u001b[1;32m   1024\u001b[0m kwds\u001b[38;5;241m.\u001b[39mupdate(kwds_defaults)\n\u001b[0;32m-> 1026\u001b[0m \u001b[38;5;28;01mreturn\u001b[39;00m \u001b[43m_read\u001b[49m\u001b[43m(\u001b[49m\u001b[43mfilepath_or_buffer\u001b[49m\u001b[43m,\u001b[49m\u001b[43m \u001b[49m\u001b[43mkwds\u001b[49m\u001b[43m)\u001b[49m\n",
      "File \u001b[0;32m~/Desktop/DSA4264/DSA4264-Detoxify/penv/lib/python3.12/site-packages/pandas/io/parsers/readers.py:620\u001b[0m, in \u001b[0;36m_read\u001b[0;34m(filepath_or_buffer, kwds)\u001b[0m\n\u001b[1;32m    617\u001b[0m _validate_names(kwds\u001b[38;5;241m.\u001b[39mget(\u001b[38;5;124m\"\u001b[39m\u001b[38;5;124mnames\u001b[39m\u001b[38;5;124m\"\u001b[39m, \u001b[38;5;28;01mNone\u001b[39;00m))\n\u001b[1;32m    619\u001b[0m \u001b[38;5;66;03m# Create the parser.\u001b[39;00m\n\u001b[0;32m--> 620\u001b[0m parser \u001b[38;5;241m=\u001b[39m \u001b[43mTextFileReader\u001b[49m\u001b[43m(\u001b[49m\u001b[43mfilepath_or_buffer\u001b[49m\u001b[43m,\u001b[49m\u001b[43m \u001b[49m\u001b[38;5;241;43m*\u001b[39;49m\u001b[38;5;241;43m*\u001b[39;49m\u001b[43mkwds\u001b[49m\u001b[43m)\u001b[49m\n\u001b[1;32m    622\u001b[0m \u001b[38;5;28;01mif\u001b[39;00m chunksize \u001b[38;5;129;01mor\u001b[39;00m iterator:\n\u001b[1;32m    623\u001b[0m     \u001b[38;5;28;01mreturn\u001b[39;00m parser\n",
      "File \u001b[0;32m~/Desktop/DSA4264/DSA4264-Detoxify/penv/lib/python3.12/site-packages/pandas/io/parsers/readers.py:1620\u001b[0m, in \u001b[0;36mTextFileReader.__init__\u001b[0;34m(self, f, engine, **kwds)\u001b[0m\n\u001b[1;32m   1617\u001b[0m     \u001b[38;5;28mself\u001b[39m\u001b[38;5;241m.\u001b[39moptions[\u001b[38;5;124m\"\u001b[39m\u001b[38;5;124mhas_index_names\u001b[39m\u001b[38;5;124m\"\u001b[39m] \u001b[38;5;241m=\u001b[39m kwds[\u001b[38;5;124m\"\u001b[39m\u001b[38;5;124mhas_index_names\u001b[39m\u001b[38;5;124m\"\u001b[39m]\n\u001b[1;32m   1619\u001b[0m \u001b[38;5;28mself\u001b[39m\u001b[38;5;241m.\u001b[39mhandles: IOHandles \u001b[38;5;241m|\u001b[39m \u001b[38;5;28;01mNone\u001b[39;00m \u001b[38;5;241m=\u001b[39m \u001b[38;5;28;01mNone\u001b[39;00m\n\u001b[0;32m-> 1620\u001b[0m \u001b[38;5;28mself\u001b[39m\u001b[38;5;241m.\u001b[39m_engine \u001b[38;5;241m=\u001b[39m \u001b[38;5;28;43mself\u001b[39;49m\u001b[38;5;241;43m.\u001b[39;49m\u001b[43m_make_engine\u001b[49m\u001b[43m(\u001b[49m\u001b[43mf\u001b[49m\u001b[43m,\u001b[49m\u001b[43m \u001b[49m\u001b[38;5;28;43mself\u001b[39;49m\u001b[38;5;241;43m.\u001b[39;49m\u001b[43mengine\u001b[49m\u001b[43m)\u001b[49m\n",
      "File \u001b[0;32m~/Desktop/DSA4264/DSA4264-Detoxify/penv/lib/python3.12/site-packages/pandas/io/parsers/readers.py:1880\u001b[0m, in \u001b[0;36mTextFileReader._make_engine\u001b[0;34m(self, f, engine)\u001b[0m\n\u001b[1;32m   1878\u001b[0m     \u001b[38;5;28;01mif\u001b[39;00m \u001b[38;5;124m\"\u001b[39m\u001b[38;5;124mb\u001b[39m\u001b[38;5;124m\"\u001b[39m \u001b[38;5;129;01mnot\u001b[39;00m \u001b[38;5;129;01min\u001b[39;00m mode:\n\u001b[1;32m   1879\u001b[0m         mode \u001b[38;5;241m+\u001b[39m\u001b[38;5;241m=\u001b[39m \u001b[38;5;124m\"\u001b[39m\u001b[38;5;124mb\u001b[39m\u001b[38;5;124m\"\u001b[39m\n\u001b[0;32m-> 1880\u001b[0m \u001b[38;5;28mself\u001b[39m\u001b[38;5;241m.\u001b[39mhandles \u001b[38;5;241m=\u001b[39m \u001b[43mget_handle\u001b[49m\u001b[43m(\u001b[49m\n\u001b[1;32m   1881\u001b[0m \u001b[43m    \u001b[49m\u001b[43mf\u001b[49m\u001b[43m,\u001b[49m\n\u001b[1;32m   1882\u001b[0m \u001b[43m    \u001b[49m\u001b[43mmode\u001b[49m\u001b[43m,\u001b[49m\n\u001b[1;32m   1883\u001b[0m \u001b[43m    \u001b[49m\u001b[43mencoding\u001b[49m\u001b[38;5;241;43m=\u001b[39;49m\u001b[38;5;28;43mself\u001b[39;49m\u001b[38;5;241;43m.\u001b[39;49m\u001b[43moptions\u001b[49m\u001b[38;5;241;43m.\u001b[39;49m\u001b[43mget\u001b[49m\u001b[43m(\u001b[49m\u001b[38;5;124;43m\"\u001b[39;49m\u001b[38;5;124;43mencoding\u001b[39;49m\u001b[38;5;124;43m\"\u001b[39;49m\u001b[43m,\u001b[49m\u001b[43m \u001b[49m\u001b[38;5;28;43;01mNone\u001b[39;49;00m\u001b[43m)\u001b[49m\u001b[43m,\u001b[49m\n\u001b[1;32m   1884\u001b[0m \u001b[43m    \u001b[49m\u001b[43mcompression\u001b[49m\u001b[38;5;241;43m=\u001b[39;49m\u001b[38;5;28;43mself\u001b[39;49m\u001b[38;5;241;43m.\u001b[39;49m\u001b[43moptions\u001b[49m\u001b[38;5;241;43m.\u001b[39;49m\u001b[43mget\u001b[49m\u001b[43m(\u001b[49m\u001b[38;5;124;43m\"\u001b[39;49m\u001b[38;5;124;43mcompression\u001b[39;49m\u001b[38;5;124;43m\"\u001b[39;49m\u001b[43m,\u001b[49m\u001b[43m \u001b[49m\u001b[38;5;28;43;01mNone\u001b[39;49;00m\u001b[43m)\u001b[49m\u001b[43m,\u001b[49m\n\u001b[1;32m   1885\u001b[0m \u001b[43m    \u001b[49m\u001b[43mmemory_map\u001b[49m\u001b[38;5;241;43m=\u001b[39;49m\u001b[38;5;28;43mself\u001b[39;49m\u001b[38;5;241;43m.\u001b[39;49m\u001b[43moptions\u001b[49m\u001b[38;5;241;43m.\u001b[39;49m\u001b[43mget\u001b[49m\u001b[43m(\u001b[49m\u001b[38;5;124;43m\"\u001b[39;49m\u001b[38;5;124;43mmemory_map\u001b[39;49m\u001b[38;5;124;43m\"\u001b[39;49m\u001b[43m,\u001b[49m\u001b[43m \u001b[49m\u001b[38;5;28;43;01mFalse\u001b[39;49;00m\u001b[43m)\u001b[49m\u001b[43m,\u001b[49m\n\u001b[1;32m   1886\u001b[0m \u001b[43m    \u001b[49m\u001b[43mis_text\u001b[49m\u001b[38;5;241;43m=\u001b[39;49m\u001b[43mis_text\u001b[49m\u001b[43m,\u001b[49m\n\u001b[1;32m   1887\u001b[0m \u001b[43m    \u001b[49m\u001b[43merrors\u001b[49m\u001b[38;5;241;43m=\u001b[39;49m\u001b[38;5;28;43mself\u001b[39;49m\u001b[38;5;241;43m.\u001b[39;49m\u001b[43moptions\u001b[49m\u001b[38;5;241;43m.\u001b[39;49m\u001b[43mget\u001b[49m\u001b[43m(\u001b[49m\u001b[38;5;124;43m\"\u001b[39;49m\u001b[38;5;124;43mencoding_errors\u001b[39;49m\u001b[38;5;124;43m\"\u001b[39;49m\u001b[43m,\u001b[49m\u001b[43m \u001b[49m\u001b[38;5;124;43m\"\u001b[39;49m\u001b[38;5;124;43mstrict\u001b[39;49m\u001b[38;5;124;43m\"\u001b[39;49m\u001b[43m)\u001b[49m\u001b[43m,\u001b[49m\n\u001b[1;32m   1888\u001b[0m \u001b[43m    \u001b[49m\u001b[43mstorage_options\u001b[49m\u001b[38;5;241;43m=\u001b[39;49m\u001b[38;5;28;43mself\u001b[39;49m\u001b[38;5;241;43m.\u001b[39;49m\u001b[43moptions\u001b[49m\u001b[38;5;241;43m.\u001b[39;49m\u001b[43mget\u001b[49m\u001b[43m(\u001b[49m\u001b[38;5;124;43m\"\u001b[39;49m\u001b[38;5;124;43mstorage_options\u001b[39;49m\u001b[38;5;124;43m\"\u001b[39;49m\u001b[43m,\u001b[49m\u001b[43m \u001b[49m\u001b[38;5;28;43;01mNone\u001b[39;49;00m\u001b[43m)\u001b[49m\u001b[43m,\u001b[49m\n\u001b[1;32m   1889\u001b[0m \u001b[43m\u001b[49m\u001b[43m)\u001b[49m\n\u001b[1;32m   1890\u001b[0m \u001b[38;5;28;01massert\u001b[39;00m \u001b[38;5;28mself\u001b[39m\u001b[38;5;241m.\u001b[39mhandles \u001b[38;5;129;01mis\u001b[39;00m \u001b[38;5;129;01mnot\u001b[39;00m \u001b[38;5;28;01mNone\u001b[39;00m\n\u001b[1;32m   1891\u001b[0m f \u001b[38;5;241m=\u001b[39m \u001b[38;5;28mself\u001b[39m\u001b[38;5;241m.\u001b[39mhandles\u001b[38;5;241m.\u001b[39mhandle\n",
      "File \u001b[0;32m~/Desktop/DSA4264/DSA4264-Detoxify/penv/lib/python3.12/site-packages/pandas/io/common.py:873\u001b[0m, in \u001b[0;36mget_handle\u001b[0;34m(path_or_buf, mode, encoding, compression, memory_map, is_text, errors, storage_options)\u001b[0m\n\u001b[1;32m    868\u001b[0m \u001b[38;5;28;01melif\u001b[39;00m \u001b[38;5;28misinstance\u001b[39m(handle, \u001b[38;5;28mstr\u001b[39m):\n\u001b[1;32m    869\u001b[0m     \u001b[38;5;66;03m# Check whether the filename is to be opened in binary mode.\u001b[39;00m\n\u001b[1;32m    870\u001b[0m     \u001b[38;5;66;03m# Binary mode does not support 'encoding' and 'newline'.\u001b[39;00m\n\u001b[1;32m    871\u001b[0m     \u001b[38;5;28;01mif\u001b[39;00m ioargs\u001b[38;5;241m.\u001b[39mencoding \u001b[38;5;129;01mand\u001b[39;00m \u001b[38;5;124m\"\u001b[39m\u001b[38;5;124mb\u001b[39m\u001b[38;5;124m\"\u001b[39m \u001b[38;5;129;01mnot\u001b[39;00m \u001b[38;5;129;01min\u001b[39;00m ioargs\u001b[38;5;241m.\u001b[39mmode:\n\u001b[1;32m    872\u001b[0m         \u001b[38;5;66;03m# Encoding\u001b[39;00m\n\u001b[0;32m--> 873\u001b[0m         handle \u001b[38;5;241m=\u001b[39m \u001b[38;5;28;43mopen\u001b[39;49m\u001b[43m(\u001b[49m\n\u001b[1;32m    874\u001b[0m \u001b[43m            \u001b[49m\u001b[43mhandle\u001b[49m\u001b[43m,\u001b[49m\n\u001b[1;32m    875\u001b[0m \u001b[43m            \u001b[49m\u001b[43mioargs\u001b[49m\u001b[38;5;241;43m.\u001b[39;49m\u001b[43mmode\u001b[49m\u001b[43m,\u001b[49m\n\u001b[1;32m    876\u001b[0m \u001b[43m            \u001b[49m\u001b[43mencoding\u001b[49m\u001b[38;5;241;43m=\u001b[39;49m\u001b[43mioargs\u001b[49m\u001b[38;5;241;43m.\u001b[39;49m\u001b[43mencoding\u001b[49m\u001b[43m,\u001b[49m\n\u001b[1;32m    877\u001b[0m \u001b[43m            \u001b[49m\u001b[43merrors\u001b[49m\u001b[38;5;241;43m=\u001b[39;49m\u001b[43merrors\u001b[49m\u001b[43m,\u001b[49m\n\u001b[1;32m    878\u001b[0m \u001b[43m            \u001b[49m\u001b[43mnewline\u001b[49m\u001b[38;5;241;43m=\u001b[39;49m\u001b[38;5;124;43m\"\u001b[39;49m\u001b[38;5;124;43m\"\u001b[39;49m\u001b[43m,\u001b[49m\n\u001b[1;32m    879\u001b[0m \u001b[43m        \u001b[49m\u001b[43m)\u001b[49m\n\u001b[1;32m    880\u001b[0m     \u001b[38;5;28;01melse\u001b[39;00m:\n\u001b[1;32m    881\u001b[0m         \u001b[38;5;66;03m# Binary mode\u001b[39;00m\n\u001b[1;32m    882\u001b[0m         handle \u001b[38;5;241m=\u001b[39m \u001b[38;5;28mopen\u001b[39m(handle, ioargs\u001b[38;5;241m.\u001b[39mmode)\n",
      "\u001b[0;31mFileNotFoundError\u001b[0m: [Errno 2] No such file or directory: '/Users/richmondsin/Desktop/DSA4264/DSA4264-Detoxify/data-generation/1million_subset_part_1.csv'"
     ]
    }
   ],
   "source": [
    "data1 = pd.read_csv(\n",
    "    \"/Users/richmondsin/Desktop/DSA4264/DSA4264-Detoxify/data-generation/1million_subset_part_1.csv\"\n",
    ")\n",
    "print(data1.shape)\n",
    "# Check if there are any NaN values in the 'Classification' column\n",
    "na_count = data1[\"Classification\"].isna().sum()\n",
    "if na_count == 0:\n",
    "    print(\"The 'Classification' column has no missing values.\")\n",
    "else:\n",
    "    print(f\"The 'Classification' column has {na_count} missing values.\")"
   ]
  },
  {
   "cell_type": "code",
   "execution_count": 3,
   "metadata": {},
   "outputs": [
    {
     "name": "stdout",
     "output_type": "stream",
     "text": [
      "(80000, 13)\n",
      "The 'Classification' column has no missing values.\n"
     ]
    }
   ],
   "source": [
    "data2 = pd.read_csv(\n",
    "    \"/Users/richmondsin/Desktop/DSA4264/DSA4264-Detoxify/data-generation/1million_subset_part_2.csv\"\n",
    ")\n",
    "print(data2.shape)\n",
    "# Check if there are any NaN values in the 'Classification' column\n",
    "na_count = data2[\"Classification\"].isna().sum()\n",
    "if na_count == 0:\n",
    "    print(\"The 'Classification' column has no missing values.\")\n",
    "else:\n",
    "    print(f\"The 'Classification' column has {na_count} missing values.\")"
   ]
  },
  {
   "cell_type": "code",
   "execution_count": 4,
   "metadata": {},
   "outputs": [
    {
     "name": "stdout",
     "output_type": "stream",
     "text": [
      "(80000, 13)\n",
      "The 'Classification' column has no missing values.\n"
     ]
    }
   ],
   "source": [
    "data3 = pd.read_csv(\n",
    "    \"/Users/richmondsin/Desktop/DSA4264/DSA4264-Detoxify/data-generation/1million_subset_part_3.csv\"\n",
    ")\n",
    "print(data3.shape)\n",
    "# Check if there are any NaN values in the 'Classification' column\n",
    "na_count = data3[\"Classification\"].isna().sum()\n",
    "if na_count == 0:\n",
    "    print(\"The 'Classification' column has no missing values.\")\n",
    "else:\n",
    "    print(f\"The 'Classification' column has {na_count} missing values.\")"
   ]
  },
  {
   "cell_type": "code",
   "execution_count": 5,
   "metadata": {},
   "outputs": [
    {
     "name": "stdout",
     "output_type": "stream",
     "text": [
      "(80000, 13)\n",
      "The 'Classification' column has no missing values.\n"
     ]
    }
   ],
   "source": [
    "data4 = pd.read_csv(\n",
    "    \"/Users/richmondsin/Desktop/DSA4264/DSA4264-Detoxify/data-generation/1million_subset_part_4.csv\"\n",
    ")\n",
    "print(data4.shape)\n",
    "# Check if there are any NaN values in the 'Classification' column\n",
    "na_count = data4[\"Classification\"].isna().sum()\n",
    "if na_count == 0:\n",
    "    print(\"The 'Classification' column has no missing values.\")\n",
    "else:\n",
    "    print(f\"The 'Classification' column has {na_count} missing values.\")"
   ]
  },
  {
   "cell_type": "code",
   "execution_count": 6,
   "metadata": {},
   "outputs": [
    {
     "name": "stdout",
     "output_type": "stream",
     "text": [
      "(80000, 13)\n",
      "The 'Classification' column has no missing values.\n"
     ]
    }
   ],
   "source": [
    "data5 = pd.read_csv(\n",
    "    \"/Users/richmondsin/Desktop/DSA4264/DSA4264-Detoxify/data-generation/1million_subset_part_5.csv\"\n",
    ")\n",
    "print(data5.shape)\n",
    "# Check if there are any NaN values in the 'Classification' column\n",
    "na_count = data4[\"Classification\"].isna().sum()\n",
    "if na_count == 0:\n",
    "    print(\"The 'Classification' column has no missing values.\")\n",
    "else:\n",
    "    print(f\"The 'Classification' column has {na_count} missing values.\")"
   ]
  },
  {
   "cell_type": "code",
   "execution_count": 7,
   "metadata": {},
   "outputs": [],
   "source": [
    "# Concatenate all datasets into one DataFrame\n",
    "merged_data = pd.concat([data1, data2, data3, data4, data5])"
   ]
  },
  {
   "cell_type": "code",
   "execution_count": 8,
   "metadata": {},
   "outputs": [
    {
     "name": "stdout",
     "output_type": "stream",
     "text": [
      "Merged and shuffled data saved to '/Users/richmondsin/Desktop/DSA4264/DSA4264-Detoxify/data-generation/final_data.csv'.\n"
     ]
    }
   ],
   "source": [
    "# Shuffle the merged data\n",
    "shuffled_data = merged_data.sample(frac=1, random_state=42).reset_index(drop=True)\n",
    "\n",
    "# Save the shuffled data to a new CSV file\n",
    "shuffled_data_file = (\n",
    "    \"/Users/richmondsin/Desktop/DSA4264/DSA4264-Detoxify/data-generation/final_data.csv\"\n",
    ")\n",
    "shuffled_data.to_csv(shuffled_data_file, index=False)\n",
    "\n",
    "print(f\"Merged and shuffled data saved to '{shuffled_data_file}'.\")"
   ]
  },
  {
   "cell_type": "code",
   "execution_count": 9,
   "metadata": {},
   "outputs": [
    {
     "name": "stderr",
     "output_type": "stream",
     "text": [
      "[nltk_data] Downloading package stopwords to\n",
      "[nltk_data]     /Users/richmondsin/nltk_data...\n",
      "[nltk_data]   Package stopwords is already up-to-date!\n"
     ]
    },
    {
     "data": {
      "text/plain": [
       "True"
      ]
     },
     "execution_count": 9,
     "metadata": {},
     "output_type": "execute_result"
    }
   ],
   "source": [
    "import nltk\n",
    "\n",
    "# Download the stopwords from nltk\n",
    "nltk.download(\"stopwords\")"
   ]
  },
  {
   "cell_type": "code",
   "execution_count": 10,
   "metadata": {},
   "outputs": [
    {
     "name": "stdout",
     "output_type": "stream",
     "text": [
      "Processed data with stopwords removed saved to '/Users/richmondsin/Desktop/DSA4264/DSA4264-Detoxify/data-generation/training_data.csv'.\n"
     ]
    }
   ],
   "source": [
    "# Load the stop words\n",
    "stop_words = set(stopwords.words(\"english\"))\n",
    "\n",
    "# Assuming 'text_column' is the name of the column from which you want to remove stopwords\n",
    "text_column = \"text\"  # Replace with your actual text column name\n",
    "\n",
    "# Define a function to remove stopwords\n",
    "\n",
    "\n",
    "def remove_stopwords(text):\n",
    "    return \" \".join([word for word in text.split() if word.lower() not in stop_words])\n",
    "\n",
    "\n",
    "# Apply the function to the specified column\n",
    "shuffled_data[text_column] = shuffled_data[text_column].apply(remove_stopwords)\n",
    "\n",
    "# Save the new DataFrame with stopwords removed to a new CSV file\n",
    "processed_data_file = \"/Users/richmondsin/Desktop/DSA4264/DSA4264-Detoxify/data-generation/training_data.csv\"\n",
    "shuffled_data.to_csv(processed_data_file, index=False)\n",
    "\n",
    "print(f\"Processed data with stopwords removed saved to '{processed_data_file}'.\")"
   ]
  },
  {
   "cell_type": "code",
   "execution_count": 3,
   "metadata": {},
   "outputs": [
    {
     "name": "stdout",
     "output_type": "stream",
     "text": [
      "(400000, 13)\n",
      "Classification\n",
      "No Hate/Toxic    355079\n",
      "Hate 1            22641\n",
      "Toxic 1           15097\n",
      "Toxic 2            5563\n",
      "Hate 2              967\n",
      "Toxic 3             432\n",
      "Hate 3              221\n",
      "Name: count, dtype: int64\n"
     ]
    }
   ],
   "source": [
    "final_read = pd.read_csv(\n",
    "    \"/Users/richmondsin/Desktop/DSA4264/DSA4264-Detoxify/data-generation/final_data.csv\"\n",
    ")\n",
    "# Get the shape of the DataFrame\n",
    "print(final_read.shape)\n",
    "\n",
    "# Get the unique value counts in the 'Classification' column\n",
    "classification_counts = final_read[\"Classification\"].value_counts()\n",
    "\n",
    "# Display the unique value counts\n",
    "print(classification_counts)"
   ]
  },
  {
   "cell_type": "code",
   "execution_count": 6,
   "metadata": {},
   "outputs": [
    {
     "name": "stdout",
     "output_type": "stream",
     "text": [
      "Classification\n",
      "Hate 1           22641\n",
      "Toxic 1          15097\n",
      "No Hate/Toxic    15079\n",
      "Toxic 2           5563\n",
      "Hate 2             967\n",
      "Toxic 3            432\n",
      "Hate 3             221\n",
      "Name: count, dtype: int64\n",
      "Balanced training data saved to '/Users/richmondsin/Desktop/DSA4264/DSA4264-Detoxify/data-generation/training_data.csv'.\n"
     ]
    }
   ],
   "source": [
    "# Load your data\n",
    "final_read = pd.read_csv(\n",
    "    \"/Users/richmondsin/Desktop/DSA4264/DSA4264-Detoxify/data-generation/final_data.csv\"\n",
    ")\n",
    "\n",
    "# Define the target distribution\n",
    "target_counts = {\n",
    "    \"No Hate/Toxic\": 15079,  # Adjust this number as needed\n",
    "    \"Hate 1\": 22641,\n",
    "    \"Toxic 1\": 15097,\n",
    "    \"Toxic 2\": 5563,\n",
    "    \"Hate 2\": 967,\n",
    "    \"Toxic 3\": 432,\n",
    "    \"Hate 3\": 221,\n",
    "}\n",
    "\n",
    "# Downsample the \"No Hate/Toxic\" class\n",
    "no_hate_toxic_sampled = final_read[\n",
    "    final_read[\"Classification\"] == \"No Hate/Toxic\"\n",
    "].sample(n=target_counts[\"No Hate/Toxic\"], random_state=42)\n",
    "\n",
    "# Combine with the other classes\n",
    "balanced_data = pd.concat(\n",
    "    [no_hate_toxic_sampled, final_read[final_read[\"Classification\"] != \"No Hate/Toxic\"]]\n",
    ")\n",
    "\n",
    "# Shuffle the balanced dataset\n",
    "balanced_data = balanced_data.sample(frac=1, random_state=42).reset_index(drop=True)\n",
    "\n",
    "# Check the new distribution\n",
    "print(balanced_data[\"Classification\"].value_counts())\n",
    "\n",
    "# Save the balanced dataset to a new CSV file\n",
    "training_data_file = \"/Users/richmondsin/Desktop/DSA4264/DSA4264-Detoxify/data-generation/training_data.csv\"\n",
    "balanced_data.to_csv(training_data_file, index=False)\n",
    "\n",
    "print(f\"Balanced training data saved to '{training_data_file}'.\")"
   ]
  },
  {
   "cell_type": "code",
   "execution_count": 7,
   "metadata": {},
   "outputs": [
    {
     "data": {
      "text/plain": [
       "(60000, 13)"
      ]
     },
     "execution_count": 7,
     "metadata": {},
     "output_type": "execute_result"
    }
   ],
   "source": [
    "final2_read = pd.read_csv(\n",
    "    \"/Users/richmondsin/Desktop/DSA4264/DSA4264-Detoxify/data-generation/training_data.csv\"\n",
    ")\n",
    "final2_read.shape"
   ]
  },
  {
   "cell_type": "code",
   "execution_count": 14,
   "metadata": {},
   "outputs": [
    {
     "name": "stdout",
     "output_type": "stream",
     "text": [
      "Classification\n",
      "Hate 1           22641\n",
      "Toxic 1          15097\n",
      "No Hate/Toxic    15079\n",
      "Toxic 2           5563\n",
      "Hate 2             967\n",
      "Toxic 3            432\n",
      "Hate 3             221\n",
      "Name: count, dtype: int64\n"
     ]
    }
   ],
   "source": [
    "import pandas as pd\n",
    "\n",
    "# Define the file path\n",
    "training_data_file = \"/Users/richmondsin/Desktop/DSA4264/DSA4264-Detoxify/data-generation/training_data.csv\"\n",
    "\n",
    "# Read the CSV file into a DataFrame\n",
    "balanced_data = pd.read_csv(training_data_file)\n",
    "\n",
    "# Get the unique class counts in the 'Classification' column\n",
    "unique_classes_count = balanced_data[\"Classification\"].value_counts()\n",
    "\n",
    "# Display the unique classes and their counts\n",
    "print(unique_classes_count)"
   ]
  },
  {
   "cell_type": "code",
   "execution_count": 15,
   "metadata": {},
   "outputs": [
    {
     "name": "stdout",
     "output_type": "stream",
     "text": [
      "Sampled data CSV file '/Users/richmondsin/Desktop/DSA4264/DSA4264-Detoxify/data-generation/sampled_data.csv' generated successfully.\n",
      "Classification\n",
      "Hate 1           15000\n",
      "Toxic 1          15000\n",
      "No Hate/Toxic    15000\n",
      "Toxic 2          15000\n",
      "Hate 3           15000\n",
      "Hate 2           15000\n",
      "Toxic 3          15000\n",
      "Name: count, dtype: int64\n"
     ]
    }
   ],
   "source": [
    "# Read the CSV files into DataFrames\n",
    "balanced_data = pd.read_csv(training_data_file)\n",
    "data1 = pd.read_csv(\n",
    "    \"/Users/richmondsin/Desktop/DSA4264/DSA4264-Detoxify/data-generation/notebooks/toxic_3_comments.csv\"\n",
    ")\n",
    "data2 = pd.read_csv(\n",
    "    \"/Users/richmondsin/Desktop/DSA4264/DSA4264-Detoxify/data-generation/notebooks/hate_3_comments.csv\"\n",
    ")\n",
    "data3 = pd.read_csv(\n",
    "    \"/Users/richmondsin/Desktop/DSA4264/DSA4264-Detoxify/data-generation/notebooks/hate_2_comments.csv\"\n",
    ")\n",
    "data4 = pd.read_csv(\n",
    "    \"/Users/richmondsin/Desktop/DSA4264/DSA4264-Detoxify/data-generation/notebooks/toxic_2_comments.csv\"\n",
    ")\n",
    "# Merge all DataFrames\n",
    "merged_data = pd.concat([balanced_data, data1, data2, data3, data4], ignore_index=True)\n",
    "\n",
    "# Function to randomly sample rows from specific classes\n",
    "\n",
    "\n",
    "def random_sample_and_keep_others(df, class_column, classes_to_sample, sample_size):\n",
    "    sampled_data = []\n",
    "\n",
    "    # Sample specified classes\n",
    "    for cls in classes_to_sample:\n",
    "        class_data = df[df[class_column] == cls]\n",
    "        if len(class_data) > sample_size:\n",
    "            sampled_data.append(class_data.sample(n=sample_size, random_state=1))\n",
    "        else:\n",
    "            sampled_data.append(class_data)  # If less than sample_size, take all\n",
    "\n",
    "    # Get the rest of the classes that are not being sampled\n",
    "    other_classes_data = df[~df[class_column].isin(classes_to_sample)]\n",
    "    sampled_data.append(other_classes_data)  # Keep all other classes\n",
    "\n",
    "    return pd.concat(sampled_data, ignore_index=True)\n",
    "\n",
    "\n",
    "# Define the classes to sample from\n",
    "classes_to_sample = [\"Hate 1\", \"Toxic 1\", \"No Hate/Toxic\"]\n",
    "sampled_data = random_sample_and_keep_others(\n",
    "    merged_data, \"Classification\", classes_to_sample, 15000\n",
    ")\n",
    "\n",
    "# Save the sampled data to a new CSV file\n",
    "sampled_data_file = \"/Users/richmondsin/Desktop/DSA4264/DSA4264-Detoxify/data-generation/sampled_data.csv\"\n",
    "sampled_data.to_csv(sampled_data_file, index=False)\n",
    "\n",
    "print(f\"Sampled data CSV file '{sampled_data_file}' generated successfully.\")\n",
    "\n",
    "# Get the count of each class in the sampled data\n",
    "sampled_class_counts = sampled_data[\"Classification\"].value_counts()\n",
    "\n",
    "# Display the counts\n",
    "print(sampled_class_counts)"
   ]
  }
 ],
 "metadata": {
  "kernelspec": {
   "display_name": "penv",
   "language": "python",
   "name": "python3"
  },
  "language_info": {
   "codemirror_mode": {
    "name": "ipython",
    "version": 3
   },
   "file_extension": ".py",
   "mimetype": "text/x-python",
   "name": "python",
   "nbconvert_exporter": "python",
   "pygments_lexer": "ipython3",
   "version": "3.12.7"
  }
 },
 "nbformat": 4,
 "nbformat_minor": 2
}
