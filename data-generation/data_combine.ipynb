{
 "cells": [
  {
   "cell_type": "code",
   "execution_count": 15,
   "metadata": {},
   "outputs": [],
   "source": [
    "import re\n",
    "import string\n",
    "\n",
    "import nltk\n",
    "import pandas as pd\n",
    "from nltk.corpus import stopwords"
   ]
  },
  {
   "cell_type": "code",
   "execution_count": 2,
   "metadata": {},
   "outputs": [
    {
     "data": {
      "text/plain": [
       "(10000, 14)"
      ]
     },
     "execution_count": 2,
     "metadata": {},
     "output_type": "execute_result"
    }
   ],
   "source": [
    "data = pd.read_csv(\"no_hate_toxic_data.csv\")\n",
    "data.shape"
   ]
  },
  {
   "cell_type": "code",
   "execution_count": 3,
   "metadata": {},
   "outputs": [
    {
     "data": {
      "text/plain": [
       "(10000, 14)"
      ]
     },
     "execution_count": 3,
     "metadata": {},
     "output_type": "execute_result"
    }
   ],
   "source": [
    "data1 = pd.read_csv(\"hate_1.csv\")\n",
    "data1.shape"
   ]
  },
  {
   "cell_type": "code",
   "execution_count": 4,
   "metadata": {},
   "outputs": [
    {
     "data": {
      "text/plain": [
       "(10000, 14)"
      ]
     },
     "execution_count": 4,
     "metadata": {},
     "output_type": "execute_result"
    }
   ],
   "source": [
    "data2 = pd.read_csv(\"hate_2.csv\")\n",
    "data2.shape"
   ]
  },
  {
   "cell_type": "code",
   "execution_count": 5,
   "metadata": {},
   "outputs": [
    {
     "data": {
      "text/plain": [
       "(10000, 14)"
      ]
     },
     "execution_count": 5,
     "metadata": {},
     "output_type": "execute_result"
    }
   ],
   "source": [
    "data3 = pd.read_csv(\"hate_3.csv\")\n",
    "data3.shape"
   ]
  },
  {
   "cell_type": "code",
   "execution_count": 6,
   "metadata": {},
   "outputs": [
    {
     "data": {
      "text/plain": [
       "(10000, 14)"
      ]
     },
     "execution_count": 6,
     "metadata": {},
     "output_type": "execute_result"
    }
   ],
   "source": [
    "data4 = pd.read_csv(\"toxic_1.csv\")\n",
    "data4.shape"
   ]
  },
  {
   "cell_type": "code",
   "execution_count": 7,
   "metadata": {},
   "outputs": [
    {
     "data": {
      "text/plain": [
       "(10000, 14)"
      ]
     },
     "execution_count": 7,
     "metadata": {},
     "output_type": "execute_result"
    }
   ],
   "source": [
    "data5 = pd.read_csv(\"toxic_2.csv\")\n",
    "data5.shape"
   ]
  },
  {
   "cell_type": "code",
   "execution_count": 8,
   "metadata": {},
   "outputs": [
    {
     "data": {
      "text/plain": [
       "(10000, 14)"
      ]
     },
     "execution_count": 8,
     "metadata": {},
     "output_type": "execute_result"
    }
   ],
   "source": [
    "data6 = pd.read_csv(\"toxic_3.csv\")\n",
    "data6.shape"
   ]
  },
  {
   "cell_type": "code",
   "execution_count": 9,
   "metadata": {},
   "outputs": [],
   "source": [
    "# Concatenate all datasets into one DataFrame\n",
    "merged_data = pd.concat([data, data1, data2, data3, data4, data5, data6])"
   ]
  },
  {
   "cell_type": "code",
   "execution_count": 10,
   "metadata": {},
   "outputs": [
    {
     "name": "stdout",
     "output_type": "stream",
     "text": [
      "Merged and shuffled data saved to 'final_data.csv'.\n"
     ]
    }
   ],
   "source": [
    "# Shuffle the merged data\n",
    "shuffled_data = merged_data.sample(frac=1, random_state=42).reset_index(drop=True)\n",
    "\n",
    "# Save the shuffled data to a new CSV file\n",
    "shuffled_data_file = \"final_data.csv\"\n",
    "shuffled_data.to_csv(shuffled_data_file, index=False)\n",
    "\n",
    "print(f\"Merged and shuffled data saved to '{shuffled_data_file}'.\")"
   ]
  },
  {
   "cell_type": "code",
   "execution_count": 13,
   "metadata": {},
   "outputs": [
    {
     "name": "stderr",
     "output_type": "stream",
     "text": [
      "[nltk_data] Downloading package stopwords to\n",
      "[nltk_data]     C:\\Users\\richm\\AppData\\Roaming\\nltk_data...\n",
      "[nltk_data]   Unzipping corpora\\stopwords.zip.\n"
     ]
    }
   ],
   "source": [
    "# Download the stopwords from nltk\n",
    "nltk.download(\"stopwords\")\n",
    "\n",
    "# Load the stop words\n",
    "stop_words = set(stopwords.words(\"english\"))"
   ]
  },
  {
   "cell_type": "code",
   "execution_count": 19,
   "metadata": {},
   "outputs": [
    {
     "data": {
      "text/plain": [
       "(70000, 14)"
      ]
     },
     "execution_count": 19,
     "metadata": {},
     "output_type": "execute_result"
    }
   ],
   "source": [
    "final_read = pd.read_csv(\"final_data.csv\")\n",
    "final_read.shape"
   ]
  },
  {
   "cell_type": "code",
   "execution_count": 20,
   "metadata": {},
   "outputs": [
    {
     "name": "stdout",
     "output_type": "stream",
     "text": [
      "(70000, 14)\n",
      "Templates removed, stopwords cleaned, and cleaned data saved as 'final_data_cleaned.csv'.\n"
     ]
    }
   ],
   "source": [
    "# Define a function to clean the text and remove the templates\n",
    "\n",
    "\n",
    "def clean_text(text):\n",
    "    # Remove the \"id of ____ said this:\" and \"id of ____ replied to id of ____:\" templates using regex\n",
    "    text = re.sub(r\"id of \\w+ (said this|replied to id of \\w+): \", \"\", text)\n",
    "\n",
    "    # Tokenize the text and remove stop words and punctuation\n",
    "    words = text.split()\n",
    "    filtered_words = [\n",
    "        word\n",
    "        for word in words\n",
    "        if word.lower() not in stop_words and word not in string.punctuation\n",
    "    ]\n",
    "\n",
    "    # Join the filtered words back into a single string\n",
    "    return \" \".join(filtered_words)\n",
    "\n",
    "\n",
    "# Apply the function to the \"text\" column to remove templates and clean the content\n",
    "final_read[\"text\"] = final_read[\"text\"].apply(clean_text)\n",
    "\n",
    "# Display the shape of the dataset to verify\n",
    "print(final_read.shape)\n",
    "\n",
    "# Optionally, save the cleaned dataset to a new CSV file\n",
    "final_read.to_csv(\"final_data_cleaned.csv\", index=False)\n",
    "\n",
    "print(\n",
    "    \"Templates removed, stopwords cleaned, and cleaned data saved as 'final_data_cleaned.csv'.\"\n",
    ")"
   ]
  }
 ],
 "metadata": {
  "kernelspec": {
   "display_name": "penv",
   "language": "python",
   "name": "python3"
  },
  "language_info": {
   "codemirror_mode": {
    "name": "ipython",
    "version": 3
   },
   "file_extension": ".py",
   "mimetype": "text/x-python",
   "name": "python",
   "nbconvert_exporter": "python",
   "pygments_lexer": "ipython3",
   "version": "3.12.7"
  }
 },
 "nbformat": 4,
 "nbformat_minor": 2
}
