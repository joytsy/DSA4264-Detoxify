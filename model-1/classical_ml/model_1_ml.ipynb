{
 "cells": [
  {
   "cell_type": "code",
   "execution_count": 1,
   "metadata": {},
   "outputs": [],
   "source": [
    "import pickle\n",
    "\n",
    "import numpy as np\n",
    "import pandas as pd\n",
    "from sklearn.ensemble import RandomForestClassifier\n",
    "from sklearn.feature_extraction.text import TfidfVectorizer\n",
    "from sklearn.linear_model import LogisticRegression\n",
    "from sklearn.metrics import accuracy_score, classification_report, f1_score\n",
    "from sklearn.model_selection import GridSearchCV, train_test_split\n",
    "from sklearn.preprocessing import LabelEncoder\n",
    "from sklearn.svm import SVC\n",
    "from tqdm import tqdm"
   ]
  },
  {
   "cell_type": "code",
   "execution_count": 2,
   "metadata": {},
   "outputs": [],
   "source": [
    "# Load the dataset\n",
    "df = pd.read_csv(\n",
    "    r\"C:\\Users\\richm\\OneDrive\\Desktop\\DSA4264\\DSA4264-Detoxify\\final_data.csv\"\n",
    ")  # Assuming your data is in 'final_data.csv'"
   ]
  },
  {
   "cell_type": "code",
   "execution_count": 3,
   "metadata": {},
   "outputs": [],
   "source": [
    "# Preprocess the data\n",
    "X = df[\"text\"]\n",
    "y = df[\"gold_label\"]"
   ]
  },
  {
   "cell_type": "code",
   "execution_count": 4,
   "metadata": {},
   "outputs": [],
   "source": [
    "# Convert text to numerical data (TF-IDF)\n",
    "tfidf = TfidfVectorizer(max_features=5000)\n",
    "X_tfidf = tfidf.fit_transform(X)"
   ]
  },
  {
   "cell_type": "code",
   "execution_count": 5,
   "metadata": {},
   "outputs": [],
   "source": [
    "# Encode the labels\n",
    "label_encoder = LabelEncoder()\n",
    "y_encoded = label_encoder.fit_transform(y)"
   ]
  },
  {
   "cell_type": "code",
   "execution_count": 6,
   "metadata": {},
   "outputs": [],
   "source": [
    "# Train-Test Split with Stratification to maintain class balance\n",
    "X_train, X_test, y_train, y_test = train_test_split(\n",
    "    X_tfidf, y_encoded, test_size=0.2, random_state=42, stratify=y_encoded\n",
    ")"
   ]
  },
  {
   "cell_type": "code",
   "execution_count": 7,
   "metadata": {},
   "outputs": [],
   "source": [
    "# Define your parameter grids\n",
    "param_grid_logreg = {\n",
    "    \"C\": [0.01, 0.1, 1, 10, 100],\n",
    "    \"penalty\": [\"l1\", \"l2\"],\n",
    "    \"solver\": [\"liblinear\"],\n",
    "}\n",
    "\n",
    "param_grid_rf = {\"n_estimators\": [100, 200], \"max_depth\": [10, 20, None]}\n",
    "\n",
    "param_grid_svm = {\n",
    "    \"C\": [0.1, 1, 10],\n",
    "    \"kernel\": [\"linear\", \"rbf\", \"poly\"],\n",
    "    \"gamma\": [\"scale\", \"auto\"],\n",
    "}\n",
    "\n",
    "# Initialize a dictionary to store models and their F1 scores\n",
    "model_f1_scores = {}"
   ]
  },
  {
   "cell_type": "code",
   "execution_count": 8,
   "metadata": {},
   "outputs": [
    {
     "name": "stderr",
     "output_type": "stream",
     "text": [
      "Tuning Logistic Regression: 100%|██████████| 30/30 [00:22<00:00,  1.36it/s]"
     ]
    },
    {
     "name": "stdout",
     "output_type": "stream",
     "text": [
      "Logistic Regression Classification Report:\n",
      "               precision    recall  f1-score   support\n",
      "\n",
      "       Hate 1       0.96      0.91      0.93      2000\n",
      "       Hate 2       0.98      0.96      0.97      2000\n",
      "       Hate 3       1.00      0.99      0.99      2000\n",
      "No Hate/Toxic       0.59      0.82      0.69      2000\n",
      "      Toxic 1       0.79      0.64      0.71      2000\n",
      "      Toxic 2       0.77      0.70      0.73      2000\n",
      "      Toxic 3       1.00      0.99      0.99      2000\n",
      "\n",
      "     accuracy                           0.86     14000\n",
      "    macro avg       0.87      0.86      0.86     14000\n",
      " weighted avg       0.87      0.86      0.86     14000\n",
      "\n"
     ]
    },
    {
     "name": "stderr",
     "output_type": "stream",
     "text": [
      "\n"
     ]
    }
   ],
   "source": [
    "# Logistic Regression\n",
    "grid_search_logreg = GridSearchCV(\n",
    "    LogisticRegression(max_iter=1000), param_grid_logreg, cv=3, n_jobs=-1\n",
    ")\n",
    "grid_search_logreg.fit(X_train, y_train)"
   ]
  },
  {
   "cell_type": "code",
   "execution_count": null,
   "metadata": {},
   "outputs": [],
   "source": [
    "# Get the best Logistic Regression model\n",
    "best_logreg_model = grid_search_logreg.best_estimator_\n",
    "y_pred_best_logreg = best_logreg_model.predict(X_test)\n",
    "logreg_accuracy = accuracy_score(y_test, y_pred_best_logreg)\n",
    "logreg_f1 = f1_score(y_test, y_pred_best_logreg, average=\"weighted\")\n",
    "model_f1_scores[\"Logistic Regression\"] = logreg_f1\n",
    "print(\"Logistic Regression Classification Report:\")\n",
    "print(\n",
    "    classification_report(\n",
    "        y_test, y_pred_best_logreg, target_names=label_encoder.classes_\n",
    "    )\n",
    ")"
   ]
  },
  {
   "cell_type": "code",
   "execution_count": 9,
   "metadata": {},
   "outputs": [
    {
     "name": "stderr",
     "output_type": "stream",
     "text": [
      "Tuning Random Forest: 100%|██████████| 18/18 [02:32<00:00,  8.47s/it]\n"
     ]
    },
    {
     "name": "stdout",
     "output_type": "stream",
     "text": [
      "Random Forest Classification Report:\n",
      "               precision    recall  f1-score   support\n",
      "\n",
      "       Hate 1       0.98      0.89      0.93      2000\n",
      "       Hate 2       0.99      0.97      0.98      2000\n",
      "       Hate 3       1.00      0.99      0.99      2000\n",
      "No Hate/Toxic       0.51      0.92      0.65      2000\n",
      "      Toxic 1       0.90      0.56      0.69      2000\n",
      "      Toxic 2       0.83      0.59      0.69      2000\n",
      "      Toxic 3       1.00      0.99      0.99      2000\n",
      "\n",
      "     accuracy                           0.84     14000\n",
      "    macro avg       0.89      0.84      0.85     14000\n",
      " weighted avg       0.89      0.84      0.85     14000\n",
      "\n"
     ]
    }
   ],
   "source": [
    "# Random Forest\n",
    "grid_search_rf = GridSearchCV(RandomForestClassifier(), param_grid_rf, cv=3, n_jobs=-1)\n",
    "grid_search_rf.fit(X_train, y_train)"
   ]
  },
  {
   "cell_type": "code",
   "execution_count": null,
   "metadata": {},
   "outputs": [],
   "source": [
    "# Get the best Random Forest model\n",
    "best_rf_model = grid_search_rf.best_estimator_\n",
    "y_pred_best_rf = best_rf_model.predict(X_test)\n",
    "rf_accuracy = accuracy_score(y_test, y_pred_best_rf)\n",
    "rf_f1 = f1_score(y_test, y_pred_best_rf, average=\"weighted\")\n",
    "model_f1_scores[\"Random Forest\"] = rf_f1\n",
    "print(\"Random Forest Classification Report:\")\n",
    "print(\n",
    "    classification_report(y_test, y_pred_best_rf, target_names=label_encoder.classes_)\n",
    ")"
   ]
  },
  {
   "cell_type": "code",
   "execution_count": null,
   "metadata": {},
   "outputs": [],
   "source": [
    "# # SVM\n",
    "# grid_search_svm = GridSearchCV(SVC(), param_grid_svm, cv=3, n_jobs=-1)\n",
    "# grid_search_svm.fit(X_train, y_train)"
   ]
  },
  {
   "cell_type": "code",
   "execution_count": 11,
   "metadata": {},
   "outputs": [
    {
     "name": "stdout",
     "output_type": "stream",
     "text": [
      "SVM Classification Report:\n",
      "               precision    recall  f1-score   support\n",
      "\n",
      "       Hate 1       0.98      0.91      0.94      2000\n",
      "       Hate 2       0.99      0.97      0.98      2000\n",
      "       Hate 3       1.00      0.99      0.99      2000\n",
      "No Hate/Toxic       0.59      0.86      0.70      2000\n",
      "      Toxic 1       0.82      0.63      0.71      2000\n",
      "      Toxic 2       0.79      0.69      0.74      2000\n",
      "      Toxic 3       1.00      0.99      0.99      2000\n",
      "\n",
      "     accuracy                           0.86     14000\n",
      "    macro avg       0.88      0.86      0.87     14000\n",
      " weighted avg       0.88      0.86      0.87     14000\n",
      "\n"
     ]
    }
   ],
   "source": [
    "# # Get the best SVM model\n",
    "# best_svm_model = grid_search_svm.best_estimator_\n",
    "# y_pred_best_svm = best_svm_model.predict(X_test)\n",
    "# svm_accuracy = accuracy_score(y_test, y_pred_best_svm)\n",
    "# svm_f1 = f1_score(y_test, y_pred_best_svm, average='weighted')\n",
    "# model_f1_scores['SVM'] = svm_f1\n",
    "# print(\"SVM Classification Report:\")\n",
    "# print(classification_report(y_test, y_pred_best_svm, target_names=label_encoder.classes_))\n",
    "\n",
    "# SVM with default settings (no tuning)\n",
    "svm_model = SVC()  # Default parameters for SVM\n",
    "svm_model.fit(X_train, y_train)\n",
    "\n",
    "# Get predictions for the test set\n",
    "y_pred_best_svm = svm_model.predict(X_test)\n",
    "\n",
    "# Evaluate the SVM model\n",
    "svm_accuracy = accuracy_score(y_test, y_pred_best_svm)\n",
    "svm_f1 = f1_score(y_test, y_pred_best_svm, average=\"weighted\")\n",
    "model_f1_scores[\"SVM\"] = svm_f1\n",
    "\n",
    "# Print the classification report for SVM\n",
    "print(\"SVM Classification Report:\")\n",
    "print(\n",
    "    classification_report(y_test, y_pred_best_svm, target_names=label_encoder.classes_)\n",
    ")"
   ]
  },
  {
   "cell_type": "code",
   "execution_count": 13,
   "metadata": {},
   "outputs": [
    {
     "name": "stdout",
     "output_type": "stream",
     "text": [
      "\n",
      "The best model based on weighted F1-score is: SVM with F1-score: 0.8661\n",
      "Best model 'SVM' saved to C:\\Users\\richm\\OneDrive\\Desktop\\DSA4264\\DSA4264-Detoxify\\model-1\\model\\model.pkl\n",
      "TF-IDF vectorizer saved to C:\\Users\\richm\\OneDrive\\Desktop\\DSA4264\\DSA4264-Detoxify\\model-1\\model\\tfidf_vectorizer.pkl\n"
     ]
    }
   ],
   "source": [
    "# Compare the models based on weighted F1-score and select the best one\n",
    "best_model_name, best_f1_score = max(model_f1_scores.items(), key=lambda x: x[1])\n",
    "print(\n",
    "    f\"\\nThe best model based on weighted F1-score is: {best_model_name} with F1-score: {best_f1_score:.4f}\"\n",
    ")\n",
    "\n",
    "# Save the best model and the TF-IDF vectorizer\n",
    "if best_model_name == \"Logistic Regression\":\n",
    "    best_model = best_logreg_model\n",
    "elif best_model_name == \"Random Forest\":\n",
    "    best_model = best_rf_model\n",
    "else:\n",
    "    best_model = svm_model\n",
    "\n",
    "# Save the fine-tuned best model\n",
    "model_save_path = r\"C:\\Users\\richm\\OneDrive\\Desktop\\DSA4264\\DSA4264-Detoxify\\model-1\\classical_ml\\model\\model.pkl\"\n",
    "vectorizer_save_path = r\"C:\\Users\\richm\\OneDrive\\Desktop\\DSA4264\\DSA4264-Detoxify\\model-1\\classical_ml\\model\\tfidf_vectorizer.pkl\"\n",
    "label_save_path = r\"C:\\Users\\richm\\OneDrive\\Desktop\\DSA4264\\DSA4264-Detoxify\\model-1\\classical_ml\\model\\label_encoder.pkl\"\n",
    "\n",
    "with open(model_save_path, \"wb\") as model_file:\n",
    "    pickle.dump(best_model, model_file)\n",
    "\n",
    "with open(vectorizer_save_path, \"wb\") as vectorizer_file:\n",
    "    pickle.dump(tfidf, vectorizer_file)\n",
    "\n",
    "# After fitting the LabelEncoder\n",
    "with open(label_save_path, \"wb\") as le_file:\n",
    "    pickle.dump(label_encoder, le_file)\n",
    "\n",
    "print(f\"Best model '{best_model_name}' saved to {model_save_path}\")\n",
    "print(f\"TF-IDF vectorizer saved to {vectorizer_save_path}\")"
   ]
  }
 ],
 "metadata": {
  "kernelspec": {
   "display_name": "penv",
   "language": "python",
   "name": "python3"
  },
  "language_info": {
   "codemirror_mode": {
    "name": "ipython",
    "version": 3
   },
   "file_extension": ".py",
   "mimetype": "text/x-python",
   "name": "python",
   "nbconvert_exporter": "python",
   "pygments_lexer": "ipython3",
   "version": "3.12.7"
  }
 },
 "nbformat": 4,
 "nbformat_minor": 2
}
