{
 "cells": [
  {
   "cell_type": "code",
   "execution_count": 7,
   "metadata": {},
   "outputs": [],
   "source": [
    "import pandas as pd\n",
    "import torch\n",
    "from sklearn.metrics import classification_report\n",
    "from tqdm import tqdm\n",
    "from transformers import DistilBertForSequenceClassification, DistilBertTokenizer"
   ]
  },
  {
   "cell_type": "code",
   "execution_count": 8,
   "metadata": {},
   "outputs": [],
   "source": [
    "# Load the test CSV\n",
    "test_csv_path = (\n",
    "    \"/Users/richmondsin/Desktop/DSA4264/DSA4264-Detoxify/model-1/distilbert/test.csv\"\n",
    ")\n",
    "df = pd.read_csv(test_csv_path)"
   ]
  },
  {
   "cell_type": "code",
   "execution_count": 9,
   "metadata": {},
   "outputs": [],
   "source": [
    "# Set the column names\n",
    "text_column = \"text\"  # Column containing the text data\n",
    "true_labels_column = \"Classification\"  # Column containing the true labels\n",
    "\n",
    "# Ensure data is on GPU if available\n",
    "if torch.cuda.is_available():\n",
    "    device = torch.device(\"cuda\")\n",
    "elif torch.backends.mps.is_built() and torch.backends.mps.is_available():\n",
    "    device = torch.device(\"mps\")\n",
    "else:\n",
    "    device = torch.device(\"cpu\")\n",
    "\n",
    "# Define model paths\n",
    "model_paths = [\n",
    "    \"/Users/richmondsin/Desktop/DSA4264/DSA4264-Detoxify/model-1/distilbert/model/multilingual_distilbert_model.pth\",  # Replace with actual path for model 1\n",
    "    \"/Users/richmondsin/Desktop/DSA4264/DSA4264-Detoxify/model-1/distilbert/model/multilingual_distilbert_model_5k.pth\",  # Replace with actual path for model 2\n",
    "    \"/Users/richmondsin/Desktop/DSA4264/DSA4264-Detoxify/model-1/distilbert/model/multilingual_distilbert_model_15k.pth\",  # Replace with actual path for model 3\n",
    "]\n",
    "\n",
    "# Load tokenizer\n",
    "tokenizer = DistilBertTokenizer.from_pretrained(\"distilbert-base-multilingual-cased\")"
   ]
  },
  {
   "cell_type": "code",
   "execution_count": 10,
   "metadata": {},
   "outputs": [
    {
     "name": "stdout",
     "output_type": "stream",
     "text": [
      "Evaluating Model 1...\n"
     ]
    },
    {
     "name": "stderr",
     "output_type": "stream",
     "text": [
      "Some weights of DistilBertForSequenceClassification were not initialized from the model checkpoint at distilbert-base-multilingual-cased and are newly initialized: ['classifier.bias', 'classifier.weight', 'pre_classifier.bias', 'pre_classifier.weight']\n",
      "You should probably TRAIN this model on a down-stream task to be able to use it for predictions and inference.\n",
      "/var/folders/dj/ph12jwsx1tlgrcwbvx_f6dzw0000gn/T/ipykernel_7735/3432904603.py:38: FutureWarning: You are using `torch.load` with `weights_only=False` (the current default value), which uses the default pickle module implicitly. It is possible to construct malicious pickle data which will execute arbitrary code during unpickling (See https://github.com/pytorch/pytorch/blob/main/SECURITY.md#untrusted-models for more details). In a future release, the default value for `weights_only` will be flipped to `True`. This limits the functions that could be executed during unpickling. Arbitrary objects will no longer be allowed to be loaded via this mode unless they are explicitly allowlisted by the user via `torch.serialization.add_safe_globals`. We recommend you start setting `weights_only=True` for any use case where you don't have full control of the loaded file. Please open an issue on GitHub for any issues related to this experimental feature.\n",
      "  model.load_state_dict(torch.load(model_path, map_location=device))\n",
      "Predicting: 100%|██████████| 15750/15750 [04:19<00:00, 60.71text/s]\n"
     ]
    },
    {
     "name": "stdout",
     "output_type": "stream",
     "text": [
      "\n",
      "Classification Report for Model 1:\n",
      "\n",
      "               precision    recall  f1-score   support\n",
      "\n",
      "No Hate/Toxic       0.45      0.45      0.45      2250\n",
      "      Toxic 1       0.20      0.22      0.21      2250\n",
      "      Toxic 2       0.24      0.57      0.34      2250\n",
      "      Toxic 3       0.81      0.04      0.08      2250\n",
      "       Hate 1       0.47      0.38      0.42      2250\n",
      "       Hate 2       0.54      0.67      0.60      2250\n",
      "       Hate 3       0.98      0.40      0.57      2250\n",
      "\n",
      "     accuracy                           0.39     15750\n",
      "    macro avg       0.53      0.39      0.38     15750\n",
      " weighted avg       0.53      0.39      0.38     15750\n",
      "\n",
      "Evaluating Model 2...\n"
     ]
    },
    {
     "name": "stderr",
     "output_type": "stream",
     "text": [
      "Some weights of DistilBertForSequenceClassification were not initialized from the model checkpoint at distilbert-base-multilingual-cased and are newly initialized: ['classifier.bias', 'classifier.weight', 'pre_classifier.bias', 'pre_classifier.weight']\n",
      "You should probably TRAIN this model on a down-stream task to be able to use it for predictions and inference.\n",
      "/var/folders/dj/ph12jwsx1tlgrcwbvx_f6dzw0000gn/T/ipykernel_7735/3432904603.py:38: FutureWarning: You are using `torch.load` with `weights_only=False` (the current default value), which uses the default pickle module implicitly. It is possible to construct malicious pickle data which will execute arbitrary code during unpickling (See https://github.com/pytorch/pytorch/blob/main/SECURITY.md#untrusted-models for more details). In a future release, the default value for `weights_only` will be flipped to `True`. This limits the functions that could be executed during unpickling. Arbitrary objects will no longer be allowed to be loaded via this mode unless they are explicitly allowlisted by the user via `torch.serialization.add_safe_globals`. We recommend you start setting `weights_only=True` for any use case where you don't have full control of the loaded file. Please open an issue on GitHub for any issues related to this experimental feature.\n",
      "  model.load_state_dict(torch.load(model_path, map_location=device))\n",
      "Predicting: 100%|██████████| 15750/15750 [04:13<00:00, 62.17text/s]\n"
     ]
    },
    {
     "name": "stdout",
     "output_type": "stream",
     "text": [
      "\n",
      "Classification Report for Model 2:\n",
      "\n",
      "               precision    recall  f1-score   support\n",
      "\n",
      "No Hate/Toxic       0.57      0.70      0.63      2250\n",
      "      Toxic 1       0.39      0.33      0.36      2250\n",
      "      Toxic 2       0.40      0.38      0.39      2250\n",
      "      Toxic 3       0.99      0.98      0.98      2250\n",
      "       Hate 1       0.77      0.78      0.77      2250\n",
      "       Hate 2       0.94      0.94      0.94      2250\n",
      "       Hate 3       0.99      0.99      0.99      2250\n",
      "\n",
      "     accuracy                           0.73     15750\n",
      "    macro avg       0.72      0.73      0.72     15750\n",
      " weighted avg       0.72      0.73      0.72     15750\n",
      "\n",
      "Evaluating Model 3...\n"
     ]
    },
    {
     "name": "stderr",
     "output_type": "stream",
     "text": [
      "Some weights of DistilBertForSequenceClassification were not initialized from the model checkpoint at distilbert-base-multilingual-cased and are newly initialized: ['classifier.bias', 'classifier.weight', 'pre_classifier.bias', 'pre_classifier.weight']\n",
      "You should probably TRAIN this model on a down-stream task to be able to use it for predictions and inference.\n",
      "/var/folders/dj/ph12jwsx1tlgrcwbvx_f6dzw0000gn/T/ipykernel_7735/3432904603.py:38: FutureWarning: You are using `torch.load` with `weights_only=False` (the current default value), which uses the default pickle module implicitly. It is possible to construct malicious pickle data which will execute arbitrary code during unpickling (See https://github.com/pytorch/pytorch/blob/main/SECURITY.md#untrusted-models for more details). In a future release, the default value for `weights_only` will be flipped to `True`. This limits the functions that could be executed during unpickling. Arbitrary objects will no longer be allowed to be loaded via this mode unless they are explicitly allowlisted by the user via `torch.serialization.add_safe_globals`. We recommend you start setting `weights_only=True` for any use case where you don't have full control of the loaded file. Please open an issue on GitHub for any issues related to this experimental feature.\n",
      "  model.load_state_dict(torch.load(model_path, map_location=device))\n",
      "Predicting: 100%|██████████| 15750/15750 [04:06<00:00, 63.79text/s]"
     ]
    },
    {
     "name": "stdout",
     "output_type": "stream",
     "text": [
      "\n",
      "Classification Report for Model 3:\n",
      "\n",
      "               precision    recall  f1-score   support\n",
      "\n",
      "No Hate/Toxic       0.73      0.70      0.72      2250\n",
      "      Toxic 1       0.56      0.68      0.61      2250\n",
      "      Toxic 2       0.88      0.71      0.79      2250\n",
      "      Toxic 3       0.99      0.98      0.98      2250\n",
      "       Hate 1       0.76      0.83      0.79      2250\n",
      "       Hate 2       1.00      0.94      0.97      2250\n",
      "       Hate 3       0.99      0.99      0.99      2250\n",
      "\n",
      "     accuracy                           0.83     15750\n",
      "    macro avg       0.84      0.83      0.84     15750\n",
      " weighted avg       0.84      0.83      0.84     15750\n",
      "\n"
     ]
    },
    {
     "name": "stderr",
     "output_type": "stream",
     "text": [
      "\n"
     ]
    }
   ],
   "source": [
    "# Function for predicting text with tqdm progress bar\n",
    "\n",
    "\n",
    "def predict_texts(texts, model, tokenizer, device):\n",
    "    model.eval()\n",
    "    predicted_classes = []\n",
    "\n",
    "    # Use tqdm to show progress bar\n",
    "    for text in tqdm(texts, desc=\"Predicting\", unit=\"text\"):\n",
    "        inputs = tokenizer(\n",
    "            text, return_tensors=\"pt\", truncation=True, padding=True, max_length=128\n",
    "        ).to(device)\n",
    "        with torch.no_grad():\n",
    "            outputs = model(**inputs)\n",
    "            logits = outputs.logits\n",
    "            predicted_class = torch.argmax(logits, dim=1).item()\n",
    "        predicted_classes.append(predicted_class)\n",
    "\n",
    "    return predicted_classes\n",
    "\n",
    "\n",
    "# Define class labels\n",
    "class_labels = [\n",
    "    \"No Hate/Toxic\",\n",
    "    \"Toxic 1\",\n",
    "    \"Toxic 2\",\n",
    "    \"Toxic 3\",\n",
    "    \"Hate 1\",\n",
    "    \"Hate 2\",\n",
    "    \"Hate 3\",\n",
    "]\n",
    "\n",
    "# Evaluate with each model and print the classification report\n",
    "for i, model_path in enumerate(model_paths, start=1):\n",
    "    print(f\"Evaluating Model {i}...\")\n",
    "\n",
    "    # Load the model\n",
    "    model = DistilBertForSequenceClassification.from_pretrained(\n",
    "        \"distilbert-base-multilingual-cased\", num_labels=7\n",
    "    )\n",
    "    model.load_state_dict(torch.load(model_path, map_location=device))\n",
    "    model.to(device)\n",
    "\n",
    "    # Predict labels\n",
    "    df[f\"predicted_labels_model_{i}\"] = predict_texts(\n",
    "        df[text_column].tolist(), model, tokenizer, device\n",
    "    )\n",
    "\n",
    "    # Generate and print classification report\n",
    "    print(f\"\\nClassification Report for Model {i}:\\n\")\n",
    "    print(\n",
    "        classification_report(\n",
    "            df[true_labels_column],\n",
    "            df[f\"predicted_labels_model_{i}\"],\n",
    "            target_names=class_labels,\n",
    "        )\n",
    "    )"
   ]
  }
 ],
 "metadata": {
  "kernelspec": {
   "display_name": "penv",
   "language": "python",
   "name": "python3"
  },
  "language_info": {
   "codemirror_mode": {
    "name": "ipython",
    "version": 3
   },
   "file_extension": ".py",
   "mimetype": "text/x-python",
   "name": "python",
   "nbconvert_exporter": "python",
   "pygments_lexer": "ipython3",
   "version": "3.12.7"
  }
 },
 "nbformat": 4,
 "nbformat_minor": 2
}
