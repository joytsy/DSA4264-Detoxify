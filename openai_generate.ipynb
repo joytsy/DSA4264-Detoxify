{
 "cells": [
  {
   "cell_type": "code",
   "execution_count": 1,
   "metadata": {},
   "outputs": [],
   "source": [
    "import csv\n",
    "import json\n",
    "import os\n",
    "\n",
    "import pandas as pd\n",
    "from dotenv import load_dotenv\n",
    "from openai import OpenAI\n"
   ]
  },
  {
   "cell_type": "markdown",
   "metadata": {},
   "source": [
    "#### Function to generate batch data"
   ]
  },
  {
   "cell_type": "code",
   "execution_count": 2,
   "metadata": {},
   "outputs": [],
   "source": [
    "openai=OpenAI()\n",
    "# Load environment variables from .env file\n",
    "load_dotenv()\n",
    "\n",
    "# Get the API key from the environment variable\n",
    "api_key = os.getenv(\"OPENAI_API_KEY\")\n",
    "\n",
    "# Set the OpenAI API key\n",
    "openai.api_key = api_key"
   ]
  },
  {
   "cell_type": "code",
   "execution_count": 7,
   "metadata": {},
   "outputs": [],
   "source": [
    "\n",
    "def generate_openai_batch_requests_json(\n",
    "    output_file, num_samples, batch_size\n",
    "):\n",
    "    system_prompt = \"\"\"\n",
    "    You are an expert in generating synthetic text. Please generate examples of comments that fit into the following categories:\n",
    "    1. No Hate/Toxic: The comment contains no hate or toxic speech.\n",
    "    2. Hate 1: Bias and prejudice (e.g., attitudes or beliefs about a group).\n",
    "    3. Hate 2: Discrimination (expressing dislike or exclusion but without a call to action).\n",
    "    4. Hate 3: Threats and violence (contains direct threats, incitement to violence, or serious harm).\n",
    "    5. Toxic 1: Baseless complaints (complaints or frustrations without direct harm).\n",
    "    6. Toxic 2: Insults or sarcasm directed at someone (humiliation or belittling without inciting violence).\n",
    "    7. Toxic 3: Insults with high level of hostility, aggressive, harassment, or threats of harm (incitement to self-harm or targeted harassment).\n",
    "    \n",
    "    - Hate speech targets a group (e.g., ethnicity, gender, nationality).\n",
    "    - Toxic speech targets an individual.\n",
    "    Please create realistic examples based on this description.\n",
    "\n",
    "    Examples:\n",
    "    Example 1:\n",
    "    \"Foreigners are taking all our jobs.\"\n",
    "    Hate 1\n",
    "    Example 2:\n",
    "    \"If they don’t go back to their own country, I will make their lives miserable\"\n",
    "    Hate 3\n",
    "    Example 3:\n",
    "    \"I refuse to serve Black people in my restaurant.\"\n",
    "    Hate 2\n",
    "    Example 4:\n",
    "    \"Go end your life, no one cares about you.\"\n",
    "    Toxic 3\n",
    "    \"\"\"\n",
    "\n",
    "    comments = []\n",
    "\n",
    "    for i in range(0, num_samples, batch_size):\n",
    "        requests = []\n",
    "        \n",
    "        for j in range(batch_size):\n",
    "            if i + j >= num_samples:\n",
    "                break\n",
    "            user_prompt = \"Generate a new synthetic comment specifically for the Hate 3 category, focusing on threats or incitement to violence against a particular group.\" ##CHANGE\n",
    "            requests.append({\n",
    "                \"role\": \"system\",\n",
    "                \"content\": system_prompt,\n",
    "            })\n",
    "            requests.append({\n",
    "                \"role\": \"user\",\n",
    "                \"content\": user_prompt,\n",
    "            })\n",
    "        \n",
    "        try:\n",
    "            response = openai.chat.completions.create(\n",
    "                model=\"gpt-4o-mini\",  # Specify your model here\n",
    "                messages=requests,\n",
    "                max_tokens=100,\n",
    "                n=batch_size\n",
    "            )\n",
    "\n",
    "            for choice in response.choices:\n",
    "                comment = choice.message.content.replace(\"Hate 3\", \"\").strip() #CHANGE category\n",
    "                comments.append(f'{comment}, Hate 3') # CHANGE category\n",
    "\n",
    "        except Exception as e:\n",
    "            print(f\"Error processing batch starting with request {i + 1}: {e}\")\n",
    "\n",
    "    # Write comments to the output file\n",
    "    with open(output_file, mode=\"w\", encoding=\"utf-8\", newline=\"\") as output:\n",
    "        for comment in comments:\n",
    "            output.write(f'{comment}\\n') "
   ]
  },
  {
   "cell_type": "markdown",
   "metadata": {},
   "source": [
    "#### Creating the batch data"
   ]
  },
  {
   "cell_type": "code",
   "execution_count": 8,
   "metadata": {},
   "outputs": [],
   "source": [
    "## run this\n",
    "output_file = \"hate3_comments.csv\" ## Change File name\n",
    "num_samples = 4 # CHANGE\n",
    "batch_size = 2 # CHANGE\n",
    "\n",
    "generate_openai_batch_requests_json(output_file, num_samples, batch_size)"
   ]
  }
 ],
 "metadata": {
  "kernelspec": {
   "display_name": "DSA4264-Detoxify",
   "language": "python",
   "name": "python3"
  },
  "language_info": {
   "codemirror_mode": {
    "name": "ipython",
    "version": 3
   },
   "file_extension": ".py",
   "mimetype": "text/x-python",
   "name": "python",
   "nbconvert_exporter": "python",
   "pygments_lexer": "ipython3",
   "version": "3.12.4"
  }
 },
 "nbformat": 4,
 "nbformat_minor": 2
}
