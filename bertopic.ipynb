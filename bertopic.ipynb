{
 "cells": [
  {
   "cell_type": "code",
   "execution_count": 14,
   "metadata": {},
   "outputs": [
    {
     "name": "stdout",
     "output_type": "stream",
     "text": [
      "                                                text            timestamp  \\\n",
      "0                 id of j2gwp5d said this: The best.  2023-01-01 04:51:28   \n",
      "1  id of j2i2mtw said this: Wah heart pain.\\nid o...  2023-01-01 14:17:49   \n",
      "2  id of j2h2alh said this: HNY DT where to go to...  2023-01-01 05:48:18   \n",
      "3  id of j2hpea5 said this: Clubbing shenanigans ...  2023-01-01 11:08:43   \n",
      "4  id of j2hewei said this: Oooffwas supposed to ...  2023-01-01 10:55:13   \n",
      "\n",
      "            username                                               link  \\\n",
      "0       MisoMesoMilo  /r/singapore/comments/1004s1o/rsingapore_rando...   \n",
      "1           crisseur  /r/singapore/comments/1004s1o/rsingapore_rando...   \n",
      "2             dazark  /r/singapore/comments/1004s1o/rsingapore_rando...   \n",
      "3  N1_Procrastinator  /r/singapore/comments/1004s1o/rsingapore_rando...   \n",
      "4    EaeleButEeelier  /r/singapore/comments/1004s1o/rsingapore_rando...   \n",
      "\n",
      "      link_id   parent_id       id subreddit_id  \\\n",
      "0  t3_1004s1o  t1_j2gje0f  j2gwp5d     t5_2qh8c   \n",
      "1  t3_1004s1o  t1_j2i2mtw  j2i42d5     t5_2qh8c   \n",
      "2  t3_1004s1o  t3_1004s1o  j2h2alh     t5_2qh8c   \n",
      "3  t3_1004s1o  t1_j2ho0m4  j2hpea5     t5_2qh8c   \n",
      "4  t3_1004s1o  t1_j2hnf0r  j2hoilc     t5_2qh8c   \n",
      "\n",
      "                                          moderation  year  \\\n",
      "0  {'controversiality': 0, 'collapsed_reason_code...  2023   \n",
      "1  {'controversiality': 0, 'collapsed_reason_code...  2023   \n",
      "2  {'controversiality': 0, 'collapsed_reason_code...  2023   \n",
      "3  {'controversiality': 0, 'collapsed_reason_code...  2023   \n",
      "4  {'controversiality': 0, 'collapsed_reason_code...  2023   \n",
      "\n",
      "   concatenated_count  complete_thread  \n",
      "0                   1            False  \n",
      "1                   2            False  \n",
      "2                   1             True  \n",
      "3                   1            False  \n",
      "4                   6             True  \n"
     ]
    }
   ],
   "source": [
    "import pandas as pd\n",
    "\n",
    "data_path = \"/Users/sarahSTACS/DSA4264-Detoxify/kedro-data/data/03_primary/concatenated_texts_data.csv/2024-10-08T12.08.08.170Z/concatenated_texts_data.csv\"\n",
    "df = pd.read_csv(data_path)\n",
    "\n",
    "# Display the first few rows\n",
    "print(df.head())"
   ]
  },
  {
   "cell_type": "code",
   "execution_count": 28,
   "metadata": {},
   "outputs": [],
   "source": [
    "# Take a random sample of 100 rows for experimentation\n",
    "subset_df = df.sample(n=10000, random_state=42)\n",
    "subset_df = df.head(100)\n",
    "subset_df.to_csv(\"/Users/sarahSTACS/Desktop/concatenated_texts_subset.csv\", index=False)"
   ]
  },
  {
   "cell_type": "code",
   "execution_count": 29,
   "metadata": {},
   "outputs": [
    {
     "name": "stdout",
     "output_type": "stream",
     "text": [
      "                                                text  \\\n",
      "0                 id of j2gwp5d said this: The best.   \n",
      "1  id of j2i2mtw said this: Wah heart pain.\\nid o...   \n",
      "2  id of j2h2alh said this: HNY DT where to go to...   \n",
      "3  id of j2hpea5 said this: Clubbing shenanigans ...   \n",
      "4  id of j2hewei said this: Oooffwas supposed to ...   \n",
      "\n",
      "                                          clean_text  \n",
      "0                                          The best.  \n",
      "1                                    Wah heart pain.  \n",
      "2  HNY DT where to go to repair or rewire a porta...  \n",
      "3  Clubbing shenanigans some trips abroad and new...  \n",
      "4  Oooffwas supposed to have a date today Think I...  \n"
     ]
    }
   ],
   "source": [
    "import re\n",
    "\n",
    "\n",
    "def clean_text(text):\n",
    "    match = re.search(r\"this:(.*)\", text)\n",
    "    if match:\n",
    "        return match.group(1).strip()\n",
    "    return \"\"\n",
    "\n",
    "\n",
    "subset_df[\"clean_text\"] = subset_df[\"text\"].apply(clean_text)\n",
    "print(subset_df[[\"text\", \"clean_text\"]].head())\n",
    "subset_df.to_csv(\n",
    "    \"/Users/sarahSTACS/DSA4264-Detoxify/kedro-data/data/03_primary/concatenated_texts_clean.csv\",\n",
    "    index=False,\n",
    ")"
   ]
  },
  {
   "cell_type": "code",
   "execution_count": 30,
   "metadata": {},
   "outputs": [
    {
     "name": "stdout",
     "output_type": "stream",
     "text": [
      "[-1, 0, -1, 1, 0, 0, -1, -1, -1, -1, -1, 1, -1, -1, -1, -1, 1, 0, -1, 0, -1, 0, -1, -1, -1, -1, 0, 0, -1, -1, 0, -1, -1, -1, -1, 0, 0, -1, -1, -1, 0, -1, 0, 0, -1, -1, -1, -1, 0, 0, 0, -1, -1, -1, -1, -1, -1, 1, -1, -1, -1, 1, 0, -1, -1, -1, -1, -1, 1, -1, -1, -1, -1, -1, 1, -1, -1, 0, 0, 1, -1, 0, -1, 0, 1, -1, -1, -1, -1, 0, 0, -1, -1, 1, -1, 0, -1, -1, -1, 0]\n"
     ]
    }
   ],
   "source": [
    "texts = subset_df[\"clean_text\"].tolist()\n",
    "from bertopic import BERTopic\n",
    "\n",
    "# Initialize BERTopic model\n",
    "topic_model = BERTopic()\n",
    "\n",
    "# Fit and transform the subset of texts\n",
    "topics, probs = topic_model.fit_transform(texts)\n",
    "\n",
    "# Print the topics\n",
    "print(topics)"
   ]
  },
  {
   "cell_type": "code",
   "execution_count": 31,
   "metadata": {},
   "outputs": [
    {
     "data": {
      "text/plain": [
       "[('year', np.float64(0.10479980336451349)),\n",
       " ('to', np.float64(0.1033162090776176)),\n",
       " ('you', np.float64(0.0982231788266198)),\n",
       " ('new', np.float64(0.09121540950912217)),\n",
       " ('the', np.float64(0.06345091978322862)),\n",
       " ('and', np.float64(0.06304140692510626)),\n",
       " ('so', np.float64(0.053150910313292506)),\n",
       " ('for', np.float64(0.050531723116544906)),\n",
       " ('thank', np.float64(0.0476831721653735)),\n",
       " ('but', np.float64(0.045607704754561086))]"
      ]
     },
     "execution_count": 31,
     "metadata": {},
     "output_type": "execute_result"
    }
   ],
   "source": [
    "topic_model.get_topic_info()\n",
    "topic_model.get_topic(0)"
   ]
  },
  {
   "cell_type": "code",
   "execution_count": 33,
   "metadata": {},
   "outputs": [
    {
     "name": "stdout",
     "output_type": "stream",
     "text": [
      "[-1, 0, -1, 1, -1, 0, 1, -1, -1, -1, -1, 1, 1, -1, 1, -1, -1, 0, -1, 0, -1, 0, -1, -1, -1, 1, 0, 0, -1, 1, 0, 1, -1, -1, 0, -1, 0, 1, -1, -1, 0, 1, 0, 0, -1, -1, 0, -1, -1, 0, -1, -1, -1, 1, 1, -1, -1, -1, -1, -1, -1, 1, 0, -1, -1, 1, -1, -1, 1, -1, -1, -1, -1, -1, 1, -1, -1, 0, 0, 1, 0, 0, 1, 0, -1, -1, 1, -1, 1, 0, -1, -1, -1, 1, -1, 0, 1, -1, -1, 0]\n"
     ]
    }
   ],
   "source": [
    "## increase coherence, reduce stopwords\n",
    "from bertopic.representation import KeyBERTInspired\n",
    "\n",
    "# Fine-tune your topic representations\n",
    "representation_model = KeyBERTInspired()\n",
    "topic_model = BERTopic(representation_model=representation_model)\n",
    "\n",
    "# Fit and transform the subset of texts\n",
    "topics, probs = topic_model.fit_transform(texts)\n",
    "\n",
    "# Print the topics\n",
    "print(topics)"
   ]
  },
  {
   "cell_type": "code",
   "execution_count": 36,
   "metadata": {},
   "outputs": [
    {
     "data": {
      "text/plain": [
       "[('yourself', np.float32(0.3406423)),\n",
       " ('wishing', np.float32(0.31482232)),\n",
       " ('myself', np.float32(0.31322408)),\n",
       " ('feel', np.float32(0.29367647)),\n",
       " ('mute', np.float32(0.27056736)),\n",
       " ('thankful', np.float32(0.27039632)),\n",
       " ('happy', np.float32(0.25804138)),\n",
       " ('selfreflection', np.float32(0.2413726)),\n",
       " ('hope', np.float32(0.23538871)),\n",
       " ('being', np.float32(0.23393749))]"
      ]
     },
     "execution_count": 36,
     "metadata": {},
     "output_type": "execute_result"
    }
   ],
   "source": [
    "topic_model.get_topic_info()\n",
    "topic_model.get_topic(0)"
   ]
  }
 ],
 "metadata": {
  "kernelspec": {
   "display_name": "penv",
   "language": "python",
   "name": "python3"
  },
  "language_info": {
   "codemirror_mode": {
    "name": "ipython",
    "version": 3
   },
   "file_extension": ".py",
   "mimetype": "text/x-python",
   "name": "python",
   "nbconvert_exporter": "python",
   "pygments_lexer": "ipython3",
   "version": "3.12.7"
  }
 },
 "nbformat": 4,
 "nbformat_minor": 2
}
